{
 "cells": [
  {
   "cell_type": "markdown",
   "id": "a3395d13-7871-413e-8249-e403f522bbce",
   "metadata": {},
   "source": [
    "# 10 Minutes Pandas [link](https://pandas.pydata.org/docs/user_guide/10min.html#min)"
   ]
  },
  {
   "cell_type": "code",
   "execution_count": 1,
   "id": "eeb4246a-9ed5-4184-bffd-3cbc86adc63a",
   "metadata": {
    "tags": []
   },
   "outputs": [],
   "source": [
    "import pandas as pd\n",
    "import numpy as np"
   ]
  },
  {
   "cell_type": "code",
   "execution_count": 8,
   "id": "9fb91b2c-f0d9-4782-99a8-27cf72fe90e6",
   "metadata": {
    "tags": []
   },
   "outputs": [
    {
     "name": "stdout",
     "output_type": "stream",
     "text": [
      "0    1.0\n",
      "1    3.0\n",
      "2    5.0\n",
      "3    NaN\n",
      "4    6.0\n",
      "5    8.0\n",
      "dtype: float64\n"
     ]
    }
   ],
   "source": [
    "# series\n",
    "s = pd.Series([1, 3, 5, np.nan, 6, 8])\n",
    "print(s)"
   ]
  },
  {
   "cell_type": "code",
   "execution_count": 14,
   "id": "09dec82c-dd16-4f0b-b6e7-c903671e67bc",
   "metadata": {
    "tags": []
   },
   "outputs": [
    {
     "name": "stdout",
     "output_type": "stream",
     "text": [
      "DatetimeIndex(['2013-01-01', '2013-01-02', '2013-01-03', '2013-01-04',\n",
      "               '2013-01-05', '2013-01-06'],\n",
      "              dtype='datetime64[ns]', freq='D')\n",
      "\n"
     ]
    },
    {
     "data": {
      "text/html": [
       "<div>\n",
       "<style scoped>\n",
       "    .dataframe tbody tr th:only-of-type {\n",
       "        vertical-align: middle;\n",
       "    }\n",
       "\n",
       "    .dataframe tbody tr th {\n",
       "        vertical-align: top;\n",
       "    }\n",
       "\n",
       "    .dataframe thead th {\n",
       "        text-align: right;\n",
       "    }\n",
       "</style>\n",
       "<table border=\"1\" class=\"dataframe\">\n",
       "  <thead>\n",
       "    <tr style=\"text-align: right;\">\n",
       "      <th></th>\n",
       "      <th>A</th>\n",
       "      <th>B</th>\n",
       "      <th>C</th>\n",
       "      <th>D</th>\n",
       "    </tr>\n",
       "  </thead>\n",
       "  <tbody>\n",
       "    <tr>\n",
       "      <th>2013-01-01</th>\n",
       "      <td>-1.249903</td>\n",
       "      <td>0.969349</td>\n",
       "      <td>0.247641</td>\n",
       "      <td>1.412217</td>\n",
       "    </tr>\n",
       "    <tr>\n",
       "      <th>2013-01-02</th>\n",
       "      <td>-0.130585</td>\n",
       "      <td>-0.913925</td>\n",
       "      <td>-1.218588</td>\n",
       "      <td>-0.215834</td>\n",
       "    </tr>\n",
       "    <tr>\n",
       "      <th>2013-01-03</th>\n",
       "      <td>-0.004108</td>\n",
       "      <td>0.202386</td>\n",
       "      <td>-0.058036</td>\n",
       "      <td>0.258611</td>\n",
       "    </tr>\n",
       "    <tr>\n",
       "      <th>2013-01-04</th>\n",
       "      <td>-0.485900</td>\n",
       "      <td>0.377014</td>\n",
       "      <td>0.130194</td>\n",
       "      <td>1.053947</td>\n",
       "    </tr>\n",
       "    <tr>\n",
       "      <th>2013-01-05</th>\n",
       "      <td>-0.760518</td>\n",
       "      <td>0.042109</td>\n",
       "      <td>-0.441259</td>\n",
       "      <td>0.023702</td>\n",
       "    </tr>\n",
       "    <tr>\n",
       "      <th>2013-01-06</th>\n",
       "      <td>0.228507</td>\n",
       "      <td>-0.115093</td>\n",
       "      <td>0.484268</td>\n",
       "      <td>-0.785581</td>\n",
       "    </tr>\n",
       "  </tbody>\n",
       "</table>\n",
       "</div>"
      ],
      "text/plain": [
       "                   A         B         C         D\n",
       "2013-01-01 -1.249903  0.969349  0.247641  1.412217\n",
       "2013-01-02 -0.130585 -0.913925 -1.218588 -0.215834\n",
       "2013-01-03 -0.004108  0.202386 -0.058036  0.258611\n",
       "2013-01-04 -0.485900  0.377014  0.130194  1.053947\n",
       "2013-01-05 -0.760518  0.042109 -0.441259  0.023702\n",
       "2013-01-06  0.228507 -0.115093  0.484268 -0.785581"
      ]
     },
     "execution_count": 14,
     "metadata": {},
     "output_type": "execute_result"
    }
   ],
   "source": [
    "# dataframs (index are the keyes)  (columns are the titles)\n",
    "dates = pd.date_range('20130101', periods=6) #year-month-day\n",
    "print(dates)\n",
    "\n",
    "print()\n",
    "df = pd.DataFrame(np.random.randn(6, 4), index=dates, columns=['A', 'B', 'C', 'D'])\n",
    "df"
   ]
  },
  {
   "cell_type": "code",
   "execution_count": 19,
   "id": "06d77dee-e3b9-46ec-897c-d75e774f5b2a",
   "metadata": {
    "tags": []
   },
   "outputs": [
    {
     "name": "stdout",
     "output_type": "stream",
     "text": [
      "A           float64\n",
      "B    datetime64[ns]\n",
      "C           float32\n",
      "D             int32\n",
      "E          category\n",
      "F            object\n",
      "dtype: object\n"
     ]
    },
    {
     "data": {
      "text/html": [
       "<div>\n",
       "<style scoped>\n",
       "    .dataframe tbody tr th:only-of-type {\n",
       "        vertical-align: middle;\n",
       "    }\n",
       "\n",
       "    .dataframe tbody tr th {\n",
       "        vertical-align: top;\n",
       "    }\n",
       "\n",
       "    .dataframe thead th {\n",
       "        text-align: right;\n",
       "    }\n",
       "</style>\n",
       "<table border=\"1\" class=\"dataframe\">\n",
       "  <thead>\n",
       "    <tr style=\"text-align: right;\">\n",
       "      <th></th>\n",
       "      <th>A</th>\n",
       "      <th>B</th>\n",
       "      <th>C</th>\n",
       "      <th>D</th>\n",
       "      <th>E</th>\n",
       "      <th>F</th>\n",
       "    </tr>\n",
       "  </thead>\n",
       "  <tbody>\n",
       "    <tr>\n",
       "      <th>0</th>\n",
       "      <td>1.0</td>\n",
       "      <td>2013-01-02</td>\n",
       "      <td>1.0</td>\n",
       "      <td>3</td>\n",
       "      <td>test</td>\n",
       "      <td>foo</td>\n",
       "    </tr>\n",
       "    <tr>\n",
       "      <th>1</th>\n",
       "      <td>1.0</td>\n",
       "      <td>2013-01-02</td>\n",
       "      <td>1.0</td>\n",
       "      <td>3</td>\n",
       "      <td>train</td>\n",
       "      <td>foo</td>\n",
       "    </tr>\n",
       "    <tr>\n",
       "      <th>2</th>\n",
       "      <td>1.0</td>\n",
       "      <td>2013-01-02</td>\n",
       "      <td>1.0</td>\n",
       "      <td>3</td>\n",
       "      <td>test</td>\n",
       "      <td>foo</td>\n",
       "    </tr>\n",
       "    <tr>\n",
       "      <th>3</th>\n",
       "      <td>1.0</td>\n",
       "      <td>2013-01-02</td>\n",
       "      <td>1.0</td>\n",
       "      <td>3</td>\n",
       "      <td>train</td>\n",
       "      <td>foo</td>\n",
       "    </tr>\n",
       "  </tbody>\n",
       "</table>\n",
       "</div>"
      ],
      "text/plain": [
       "     A          B    C  D      E    F\n",
       "0  1.0 2013-01-02  1.0  3   test  foo\n",
       "1  1.0 2013-01-02  1.0  3  train  foo\n",
       "2  1.0 2013-01-02  1.0  3   test  foo\n",
       "3  1.0 2013-01-02  1.0  3  train  foo"
      ]
     },
     "execution_count": 19,
     "metadata": {},
     "output_type": "execute_result"
    }
   ],
   "source": [
    "# creating data frame form dictionary\n",
    "df2 = pd.DataFrame(\n",
    "    {\n",
    "        'A': 1.0,\n",
    "        'B': pd.Timestamp('20130102'),\n",
    "        'C': pd.Series(1, index=list(range(4)), dtype='float32'),\n",
    "        'D': np.array([3]*4, dtype=np.int32),\n",
    "        'E': pd.Categorical(['test', 'train', 'test', 'train']),\n",
    "        'F': 'foo'\n",
    "    }\n",
    ")\n",
    "#datafram columns type\n",
    "print(df2.dtypes)\n",
    "df2"
   ]
  },
  {
   "cell_type": "code",
   "execution_count": 54,
   "id": "12665ff7-42a0-457b-b1a9-99e7c8c31ae0",
   "metadata": {
    "tags": []
   },
   "outputs": [
    {
     "name": "stdout",
     "output_type": "stream",
     "text": [
      "0    1.0\n",
      "1    1.0\n",
      "2    1.0\n",
      "3    1.0\n",
      "Name: C, dtype: float32\n",
      "0    1.0\n",
      "1    1.0\n",
      "2    1.0\n",
      "3    1.0\n",
      "Name: C, dtype: float32\n",
      "\n",
      " Int64Index([0, 1, 2, 3], dtype='int64')\n",
      "[0, 1, 2, 3]\n",
      "\n",
      " Index(['A', 'B', 'C', 'D', 'E', 'F'], dtype='object')\n",
      "['A', 'B', 'C', 'D', 'E', 'F']\n"
     ]
    }
   ],
   "source": [
    "# accessing a column returning a series\n",
    "print(df2.C)\n",
    "print(df2['C'])\n",
    "\n",
    "#displaying index (keys)\n",
    "print('\\n', df2.index)\n",
    "print(list(df2.index))\n",
    "\n",
    "#displaying columns\n",
    "print('\\n', df2.columns)\n",
    "print(list(df2.columns))"
   ]
  },
  {
   "cell_type": "code",
   "execution_count": 55,
   "id": "695b16de-4026-44ac-aa53-b07f0490e88c",
   "metadata": {
    "tags": []
   },
   "outputs": [
    {
     "name": "stdout",
     "output_type": "stream",
     "text": [
      "[[-1.24990261  0.96934885  0.24764072  1.41221738]\n",
      " [-0.13058489 -0.913925   -1.21858786 -0.2158337 ]\n",
      " [-0.00410828  0.20238575 -0.05803597  0.25861126]\n",
      " [-0.48590023  0.37701357  0.13019446  1.05394663]\n",
      " [-0.76051751  0.04210866 -0.44125856  0.02370169]\n",
      " [ 0.22850748 -0.1150933   0.48426831 -0.78558056]]\n"
     ]
    },
    {
     "data": {
      "text/plain": [
       "pandas._libs.tslibs.timestamps.Timestamp"
      ]
     },
     "execution_count": 55,
     "metadata": {},
     "output_type": "execute_result"
    }
   ],
   "source": [
    "# converting data frame to numpy\n",
    "'''\n",
    "    if all data types are the same pandas will return a numpy array with the save datatype\n",
    "    if columns are not the same datatype will return them as object and we nedd to cast every column in order to use it\n",
    "        in addition it is heavy operatoin\n",
    "'''\n",
    "print(df.to_numpy())\n",
    "np_object = df2.to_numpy() # array of objects\n",
    "type(np_object[0][1])"
   ]
  },
  {
   "cell_type": "code",
   "execution_count": 56,
   "id": "0ee4767d-4113-42b4-ae39-612bf342a5d0",
   "metadata": {
    "tags": []
   },
   "outputs": [
    {
     "data": {
      "text/html": [
       "<div>\n",
       "<style scoped>\n",
       "    .dataframe tbody tr th:only-of-type {\n",
       "        vertical-align: middle;\n",
       "    }\n",
       "\n",
       "    .dataframe tbody tr th {\n",
       "        vertical-align: top;\n",
       "    }\n",
       "\n",
       "    .dataframe thead th {\n",
       "        text-align: right;\n",
       "    }\n",
       "</style>\n",
       "<table border=\"1\" class=\"dataframe\">\n",
       "  <thead>\n",
       "    <tr style=\"text-align: right;\">\n",
       "      <th></th>\n",
       "      <th>A</th>\n",
       "      <th>B</th>\n",
       "      <th>C</th>\n",
       "      <th>D</th>\n",
       "    </tr>\n",
       "  </thead>\n",
       "  <tbody>\n",
       "    <tr>\n",
       "      <th>count</th>\n",
       "      <td>6.000000</td>\n",
       "      <td>6.000000</td>\n",
       "      <td>6.000000</td>\n",
       "      <td>6.000000</td>\n",
       "    </tr>\n",
       "    <tr>\n",
       "      <th>mean</th>\n",
       "      <td>-0.400418</td>\n",
       "      <td>0.093640</td>\n",
       "      <td>-0.142630</td>\n",
       "      <td>0.291177</td>\n",
       "    </tr>\n",
       "    <tr>\n",
       "      <th>std</th>\n",
       "      <td>0.544797</td>\n",
       "      <td>0.619743</td>\n",
       "      <td>0.612171</td>\n",
       "      <td>0.815796</td>\n",
       "    </tr>\n",
       "    <tr>\n",
       "      <th>min</th>\n",
       "      <td>-1.249903</td>\n",
       "      <td>-0.913925</td>\n",
       "      <td>-1.218588</td>\n",
       "      <td>-0.785581</td>\n",
       "    </tr>\n",
       "    <tr>\n",
       "      <th>25%</th>\n",
       "      <td>-0.691863</td>\n",
       "      <td>-0.075793</td>\n",
       "      <td>-0.345453</td>\n",
       "      <td>-0.155950</td>\n",
       "    </tr>\n",
       "    <tr>\n",
       "      <th>50%</th>\n",
       "      <td>-0.308243</td>\n",
       "      <td>0.122247</td>\n",
       "      <td>0.036079</td>\n",
       "      <td>0.141156</td>\n",
       "    </tr>\n",
       "    <tr>\n",
       "      <th>75%</th>\n",
       "      <td>-0.035727</td>\n",
       "      <td>0.333357</td>\n",
       "      <td>0.218279</td>\n",
       "      <td>0.855113</td>\n",
       "    </tr>\n",
       "    <tr>\n",
       "      <th>max</th>\n",
       "      <td>0.228507</td>\n",
       "      <td>0.969349</td>\n",
       "      <td>0.484268</td>\n",
       "      <td>1.412217</td>\n",
       "    </tr>\n",
       "  </tbody>\n",
       "</table>\n",
       "</div>"
      ],
      "text/plain": [
       "              A         B         C         D\n",
       "count  6.000000  6.000000  6.000000  6.000000\n",
       "mean  -0.400418  0.093640 -0.142630  0.291177\n",
       "std    0.544797  0.619743  0.612171  0.815796\n",
       "min   -1.249903 -0.913925 -1.218588 -0.785581\n",
       "25%   -0.691863 -0.075793 -0.345453 -0.155950\n",
       "50%   -0.308243  0.122247  0.036079  0.141156\n",
       "75%   -0.035727  0.333357  0.218279  0.855113\n",
       "max    0.228507  0.969349  0.484268  1.412217"
      ]
     },
     "execution_count": 56,
     "metadata": {},
     "output_type": "execute_result"
    }
   ],
   "source": [
    "# describing the data\n",
    "df.describe()"
   ]
  },
  {
   "cell_type": "code",
   "execution_count": 57,
   "id": "cf5746f5-6df1-417d-acb1-d11788edc6ee",
   "metadata": {
    "tags": []
   },
   "outputs": [
    {
     "data": {
      "text/html": [
       "<div>\n",
       "<style scoped>\n",
       "    .dataframe tbody tr th:only-of-type {\n",
       "        vertical-align: middle;\n",
       "    }\n",
       "\n",
       "    .dataframe tbody tr th {\n",
       "        vertical-align: top;\n",
       "    }\n",
       "\n",
       "    .dataframe thead th {\n",
       "        text-align: right;\n",
       "    }\n",
       "</style>\n",
       "<table border=\"1\" class=\"dataframe\">\n",
       "  <thead>\n",
       "    <tr style=\"text-align: right;\">\n",
       "      <th></th>\n",
       "      <th>2013-01-01</th>\n",
       "      <th>2013-01-02</th>\n",
       "      <th>2013-01-03</th>\n",
       "      <th>2013-01-04</th>\n",
       "      <th>2013-01-05</th>\n",
       "      <th>2013-01-06</th>\n",
       "    </tr>\n",
       "  </thead>\n",
       "  <tbody>\n",
       "    <tr>\n",
       "      <th>A</th>\n",
       "      <td>-1.249903</td>\n",
       "      <td>-0.130585</td>\n",
       "      <td>-0.004108</td>\n",
       "      <td>-0.485900</td>\n",
       "      <td>-0.760518</td>\n",
       "      <td>0.228507</td>\n",
       "    </tr>\n",
       "    <tr>\n",
       "      <th>B</th>\n",
       "      <td>0.969349</td>\n",
       "      <td>-0.913925</td>\n",
       "      <td>0.202386</td>\n",
       "      <td>0.377014</td>\n",
       "      <td>0.042109</td>\n",
       "      <td>-0.115093</td>\n",
       "    </tr>\n",
       "    <tr>\n",
       "      <th>C</th>\n",
       "      <td>0.247641</td>\n",
       "      <td>-1.218588</td>\n",
       "      <td>-0.058036</td>\n",
       "      <td>0.130194</td>\n",
       "      <td>-0.441259</td>\n",
       "      <td>0.484268</td>\n",
       "    </tr>\n",
       "    <tr>\n",
       "      <th>D</th>\n",
       "      <td>1.412217</td>\n",
       "      <td>-0.215834</td>\n",
       "      <td>0.258611</td>\n",
       "      <td>1.053947</td>\n",
       "      <td>0.023702</td>\n",
       "      <td>-0.785581</td>\n",
       "    </tr>\n",
       "  </tbody>\n",
       "</table>\n",
       "</div>"
      ],
      "text/plain": [
       "   2013-01-01  2013-01-02  2013-01-03  2013-01-04  2013-01-05  2013-01-06\n",
       "A   -1.249903   -0.130585   -0.004108   -0.485900   -0.760518    0.228507\n",
       "B    0.969349   -0.913925    0.202386    0.377014    0.042109   -0.115093\n",
       "C    0.247641   -1.218588   -0.058036    0.130194   -0.441259    0.484268\n",
       "D    1.412217   -0.215834    0.258611    1.053947    0.023702   -0.785581"
      ]
     },
     "execution_count": 57,
     "metadata": {},
     "output_type": "execute_result"
    }
   ],
   "source": [
    "# transposing\n",
    "df.T"
   ]
  },
  {
   "cell_type": "code",
   "execution_count": 58,
   "id": "f1de89a3-8f74-4f20-acb2-4786e16639a5",
   "metadata": {
    "tags": []
   },
   "outputs": [
    {
     "data": {
      "text/html": [
       "<div>\n",
       "<style scoped>\n",
       "    .dataframe tbody tr th:only-of-type {\n",
       "        vertical-align: middle;\n",
       "    }\n",
       "\n",
       "    .dataframe tbody tr th {\n",
       "        vertical-align: top;\n",
       "    }\n",
       "\n",
       "    .dataframe thead th {\n",
       "        text-align: right;\n",
       "    }\n",
       "</style>\n",
       "<table border=\"1\" class=\"dataframe\">\n",
       "  <thead>\n",
       "    <tr style=\"text-align: right;\">\n",
       "      <th></th>\n",
       "      <th>D</th>\n",
       "      <th>C</th>\n",
       "      <th>B</th>\n",
       "      <th>A</th>\n",
       "    </tr>\n",
       "  </thead>\n",
       "  <tbody>\n",
       "    <tr>\n",
       "      <th>2013-01-01</th>\n",
       "      <td>1.412217</td>\n",
       "      <td>0.247641</td>\n",
       "      <td>0.969349</td>\n",
       "      <td>-1.249903</td>\n",
       "    </tr>\n",
       "    <tr>\n",
       "      <th>2013-01-02</th>\n",
       "      <td>-0.215834</td>\n",
       "      <td>-1.218588</td>\n",
       "      <td>-0.913925</td>\n",
       "      <td>-0.130585</td>\n",
       "    </tr>\n",
       "    <tr>\n",
       "      <th>2013-01-03</th>\n",
       "      <td>0.258611</td>\n",
       "      <td>-0.058036</td>\n",
       "      <td>0.202386</td>\n",
       "      <td>-0.004108</td>\n",
       "    </tr>\n",
       "    <tr>\n",
       "      <th>2013-01-04</th>\n",
       "      <td>1.053947</td>\n",
       "      <td>0.130194</td>\n",
       "      <td>0.377014</td>\n",
       "      <td>-0.485900</td>\n",
       "    </tr>\n",
       "    <tr>\n",
       "      <th>2013-01-05</th>\n",
       "      <td>0.023702</td>\n",
       "      <td>-0.441259</td>\n",
       "      <td>0.042109</td>\n",
       "      <td>-0.760518</td>\n",
       "    </tr>\n",
       "    <tr>\n",
       "      <th>2013-01-06</th>\n",
       "      <td>-0.785581</td>\n",
       "      <td>0.484268</td>\n",
       "      <td>-0.115093</td>\n",
       "      <td>0.228507</td>\n",
       "    </tr>\n",
       "  </tbody>\n",
       "</table>\n",
       "</div>"
      ],
      "text/plain": [
       "                   D         C         B         A\n",
       "2013-01-01  1.412217  0.247641  0.969349 -1.249903\n",
       "2013-01-02 -0.215834 -1.218588 -0.913925 -0.130585\n",
       "2013-01-03  0.258611 -0.058036  0.202386 -0.004108\n",
       "2013-01-04  1.053947  0.130194  0.377014 -0.485900\n",
       "2013-01-05  0.023702 -0.441259  0.042109 -0.760518\n",
       "2013-01-06 -0.785581  0.484268 -0.115093  0.228507"
      ]
     },
     "execution_count": 58,
     "metadata": {},
     "output_type": "execute_result"
    }
   ],
   "source": [
    "# sort by index of column\n",
    "'''\n",
    "axis=0 sort raws by index(keys)\n",
    "axis=1 sort columns by column's mean value\n",
    "'''\n",
    "df.sort_index(axis=1, ascending=False)"
   ]
  },
  {
   "cell_type": "code",
   "execution_count": 59,
   "id": "3e4ed753-aaa3-4882-9746-ed0a87333362",
   "metadata": {
    "tags": []
   },
   "outputs": [
    {
     "data": {
      "text/html": [
       "<div>\n",
       "<style scoped>\n",
       "    .dataframe tbody tr th:only-of-type {\n",
       "        vertical-align: middle;\n",
       "    }\n",
       "\n",
       "    .dataframe tbody tr th {\n",
       "        vertical-align: top;\n",
       "    }\n",
       "\n",
       "    .dataframe thead th {\n",
       "        text-align: right;\n",
       "    }\n",
       "</style>\n",
       "<table border=\"1\" class=\"dataframe\">\n",
       "  <thead>\n",
       "    <tr style=\"text-align: right;\">\n",
       "      <th></th>\n",
       "      <th>A</th>\n",
       "      <th>B</th>\n",
       "      <th>C</th>\n",
       "      <th>D</th>\n",
       "    </tr>\n",
       "  </thead>\n",
       "  <tbody>\n",
       "    <tr>\n",
       "      <th>2013-01-02</th>\n",
       "      <td>-0.130585</td>\n",
       "      <td>-0.913925</td>\n",
       "      <td>-1.218588</td>\n",
       "      <td>-0.215834</td>\n",
       "    </tr>\n",
       "    <tr>\n",
       "      <th>2013-01-06</th>\n",
       "      <td>0.228507</td>\n",
       "      <td>-0.115093</td>\n",
       "      <td>0.484268</td>\n",
       "      <td>-0.785581</td>\n",
       "    </tr>\n",
       "    <tr>\n",
       "      <th>2013-01-05</th>\n",
       "      <td>-0.760518</td>\n",
       "      <td>0.042109</td>\n",
       "      <td>-0.441259</td>\n",
       "      <td>0.023702</td>\n",
       "    </tr>\n",
       "    <tr>\n",
       "      <th>2013-01-03</th>\n",
       "      <td>-0.004108</td>\n",
       "      <td>0.202386</td>\n",
       "      <td>-0.058036</td>\n",
       "      <td>0.258611</td>\n",
       "    </tr>\n",
       "    <tr>\n",
       "      <th>2013-01-04</th>\n",
       "      <td>-0.485900</td>\n",
       "      <td>0.377014</td>\n",
       "      <td>0.130194</td>\n",
       "      <td>1.053947</td>\n",
       "    </tr>\n",
       "    <tr>\n",
       "      <th>2013-01-01</th>\n",
       "      <td>-1.249903</td>\n",
       "      <td>0.969349</td>\n",
       "      <td>0.247641</td>\n",
       "      <td>1.412217</td>\n",
       "    </tr>\n",
       "  </tbody>\n",
       "</table>\n",
       "</div>"
      ],
      "text/plain": [
       "                   A         B         C         D\n",
       "2013-01-02 -0.130585 -0.913925 -1.218588 -0.215834\n",
       "2013-01-06  0.228507 -0.115093  0.484268 -0.785581\n",
       "2013-01-05 -0.760518  0.042109 -0.441259  0.023702\n",
       "2013-01-03 -0.004108  0.202386 -0.058036  0.258611\n",
       "2013-01-04 -0.485900  0.377014  0.130194  1.053947\n",
       "2013-01-01 -1.249903  0.969349  0.247641  1.412217"
      ]
     },
     "execution_count": 59,
     "metadata": {},
     "output_type": "execute_result"
    }
   ],
   "source": [
    "# sort by a specific columns\n",
    "df.sort_values(by='B')"
   ]
  },
  {
   "cell_type": "markdown",
   "id": "b4f421e9-9789-47d9-80ce-04f56d0e3667",
   "metadata": {},
   "source": [
    "# Selection"
   ]
  },
  {
   "cell_type": "code",
   "execution_count": 60,
   "id": "ae3fc9fe-4b3a-4e1f-86b7-5e2c3c4f4104",
   "metadata": {
    "tags": []
   },
   "outputs": [
    {
     "name": "stdout",
     "output_type": "stream",
     "text": [
      "2013-01-01   -1.249903\n",
      "2013-01-02   -0.130585\n",
      "2013-01-03   -0.004108\n",
      "2013-01-04   -0.485900\n",
      "2013-01-05   -0.760518\n",
      "2013-01-06    0.228507\n",
      "Freq: D, Name: A, dtype: float64\n",
      "2013-01-01   -1.249903\n",
      "2013-01-02   -0.130585\n",
      "2013-01-03   -0.004108\n",
      "2013-01-04   -0.485900\n",
      "2013-01-05   -0.760518\n",
      "2013-01-06    0.228507\n",
      "Freq: D, Name: A, dtype: float64\n"
     ]
    }
   ],
   "source": [
    "# get a column -> return a series\n",
    "print(df['A'])\n",
    "print(df.A)"
   ]
  },
  {
   "cell_type": "code",
   "execution_count": 66,
   "id": "f802d913-2887-45c4-b8d8-051bc2f6d299",
   "metadata": {
    "tags": []
   },
   "outputs": [
    {
     "data": {
      "text/html": [
       "<div>\n",
       "<style scoped>\n",
       "    .dataframe tbody tr th:only-of-type {\n",
       "        vertical-align: middle;\n",
       "    }\n",
       "\n",
       "    .dataframe tbody tr th {\n",
       "        vertical-align: top;\n",
       "    }\n",
       "\n",
       "    .dataframe thead th {\n",
       "        text-align: right;\n",
       "    }\n",
       "</style>\n",
       "<table border=\"1\" class=\"dataframe\">\n",
       "  <thead>\n",
       "    <tr style=\"text-align: right;\">\n",
       "      <th></th>\n",
       "      <th>A</th>\n",
       "      <th>B</th>\n",
       "      <th>C</th>\n",
       "      <th>D</th>\n",
       "    </tr>\n",
       "  </thead>\n",
       "  <tbody>\n",
       "    <tr>\n",
       "      <th>2013-01-01</th>\n",
       "      <td>-1.249903</td>\n",
       "      <td>0.969349</td>\n",
       "      <td>0.247641</td>\n",
       "      <td>1.412217</td>\n",
       "    </tr>\n",
       "    <tr>\n",
       "      <th>2013-01-02</th>\n",
       "      <td>-0.130585</td>\n",
       "      <td>-0.913925</td>\n",
       "      <td>-1.218588</td>\n",
       "      <td>-0.215834</td>\n",
       "    </tr>\n",
       "    <tr>\n",
       "      <th>2013-01-03</th>\n",
       "      <td>-0.004108</td>\n",
       "      <td>0.202386</td>\n",
       "      <td>-0.058036</td>\n",
       "      <td>0.258611</td>\n",
       "    </tr>\n",
       "  </tbody>\n",
       "</table>\n",
       "</div>"
      ],
      "text/plain": [
       "                   A         B         C         D\n",
       "2013-01-01 -1.249903  0.969349  0.247641  1.412217\n",
       "2013-01-02 -0.130585 -0.913925 -1.218588 -0.215834\n",
       "2013-01-03 -0.004108  0.202386 -0.058036  0.258611"
      ]
     },
     "execution_count": 66,
     "metadata": {},
     "output_type": "execute_result"
    }
   ],
   "source": [
    "# selection of raws -> return a Dataframe NOTE df[0] is not allowed use df.loc\n",
    "df[0:3] #using normal python indexing (end=3 is not includes)\n",
    "df['20130101':'20130103'] #from start until end (end in includes unlike python indexing)"
   ]
  },
  {
   "cell_type": "code",
   "execution_count": 68,
   "id": "8ce96f40-9944-4d9c-9345-b44c0572b903",
   "metadata": {
    "tags": []
   },
   "outputs": [
    {
     "data": {
      "text/html": [
       "<div>\n",
       "<style scoped>\n",
       "    .dataframe tbody tr th:only-of-type {\n",
       "        vertical-align: middle;\n",
       "    }\n",
       "\n",
       "    .dataframe tbody tr th {\n",
       "        vertical-align: top;\n",
       "    }\n",
       "\n",
       "    .dataframe thead th {\n",
       "        text-align: right;\n",
       "    }\n",
       "</style>\n",
       "<table border=\"1\" class=\"dataframe\">\n",
       "  <thead>\n",
       "    <tr style=\"text-align: right;\">\n",
       "      <th></th>\n",
       "      <th>A</th>\n",
       "      <th>B</th>\n",
       "      <th>C</th>\n",
       "      <th>D</th>\n",
       "    </tr>\n",
       "  </thead>\n",
       "  <tbody>\n",
       "    <tr>\n",
       "      <th>2013-01-01</th>\n",
       "      <td>-1.249903</td>\n",
       "      <td>0.969349</td>\n",
       "      <td>0.247641</td>\n",
       "      <td>1.412217</td>\n",
       "    </tr>\n",
       "  </tbody>\n",
       "</table>\n",
       "</div>"
      ],
      "text/plain": [
       "                   A         B         C         D\n",
       "2013-01-01 -1.249903  0.969349  0.247641  1.412217"
      ]
     },
     "execution_count": 68,
     "metadata": {},
     "output_type": "execute_result"
    }
   ],
   "source": [
    "df[:1]"
   ]
  },
  {
   "cell_type": "code",
   "execution_count": 85,
   "id": "bc6da24c-b40b-4674-8a8e-ddba64980d14",
   "metadata": {
    "tags": []
   },
   "outputs": [
    {
     "name": "stdout",
     "output_type": "stream",
     "text": [
      "A   -1.249903\n",
      "B    0.969349\n",
      "C    0.247641\n",
      "D    1.412217\n",
      "Name: 2013-01-01 00:00:00, dtype: float64\n"
     ]
    },
    {
     "data": {
      "text/html": [
       "<div>\n",
       "<style scoped>\n",
       "    .dataframe tbody tr th:only-of-type {\n",
       "        vertical-align: middle;\n",
       "    }\n",
       "\n",
       "    .dataframe tbody tr th {\n",
       "        vertical-align: top;\n",
       "    }\n",
       "\n",
       "    .dataframe thead th {\n",
       "        text-align: right;\n",
       "    }\n",
       "</style>\n",
       "<table border=\"1\" class=\"dataframe\">\n",
       "  <thead>\n",
       "    <tr style=\"text-align: right;\">\n",
       "      <th></th>\n",
       "      <th>A</th>\n",
       "      <th>B</th>\n",
       "      <th>C</th>\n",
       "      <th>D</th>\n",
       "    </tr>\n",
       "  </thead>\n",
       "  <tbody>\n",
       "    <tr>\n",
       "      <th>2013-01-01</th>\n",
       "      <td>-1.249903</td>\n",
       "      <td>0.969349</td>\n",
       "      <td>0.247641</td>\n",
       "      <td>1.412217</td>\n",
       "    </tr>\n",
       "    <tr>\n",
       "      <th>2013-01-02</th>\n",
       "      <td>-0.130585</td>\n",
       "      <td>-0.913925</td>\n",
       "      <td>-1.218588</td>\n",
       "      <td>-0.215834</td>\n",
       "    </tr>\n",
       "    <tr>\n",
       "      <th>2013-01-03</th>\n",
       "      <td>-0.004108</td>\n",
       "      <td>0.202386</td>\n",
       "      <td>-0.058036</td>\n",
       "      <td>0.258611</td>\n",
       "    </tr>\n",
       "  </tbody>\n",
       "</table>\n",
       "</div>"
      ],
      "text/plain": [
       "                   A         B         C         D\n",
       "2013-01-01 -1.249903  0.969349  0.247641  1.412217\n",
       "2013-01-02 -0.130585 -0.913925 -1.218588 -0.215834\n",
       "2013-01-03 -0.004108  0.202386 -0.058036  0.258611"
      ]
     },
     "execution_count": 85,
     "metadata": {},
     "output_type": "execute_result"
    }
   ],
   "source": [
    "# seleting a single raw -> return:\n",
    "'''\n",
    "    a series: given a single index\n",
    "    a DataFrame given multiple indcies\n",
    "'''\n",
    "indcies = df.index\n",
    "print(df.loc[indcies[0]]) # a Series\n",
    "df.loc[indcies[0:3]] # a DataFrame"
   ]
  },
  {
   "cell_type": "code",
   "execution_count": 87,
   "id": "f21d0371-9f2c-435b-aba9-8e23581cacc6",
   "metadata": {
    "tags": []
   },
   "outputs": [
    {
     "data": {
      "text/html": [
       "<div>\n",
       "<style scoped>\n",
       "    .dataframe tbody tr th:only-of-type {\n",
       "        vertical-align: middle;\n",
       "    }\n",
       "\n",
       "    .dataframe tbody tr th {\n",
       "        vertical-align: top;\n",
       "    }\n",
       "\n",
       "    .dataframe thead th {\n",
       "        text-align: right;\n",
       "    }\n",
       "</style>\n",
       "<table border=\"1\" class=\"dataframe\">\n",
       "  <thead>\n",
       "    <tr style=\"text-align: right;\">\n",
       "      <th></th>\n",
       "      <th>A</th>\n",
       "      <th>B</th>\n",
       "    </tr>\n",
       "  </thead>\n",
       "  <tbody>\n",
       "    <tr>\n",
       "      <th>2013-01-01</th>\n",
       "      <td>-1.249903</td>\n",
       "      <td>0.969349</td>\n",
       "    </tr>\n",
       "    <tr>\n",
       "      <th>2013-01-02</th>\n",
       "      <td>-0.130585</td>\n",
       "      <td>-0.913925</td>\n",
       "    </tr>\n",
       "    <tr>\n",
       "      <th>2013-01-03</th>\n",
       "      <td>-0.004108</td>\n",
       "      <td>0.202386</td>\n",
       "    </tr>\n",
       "    <tr>\n",
       "      <th>2013-01-04</th>\n",
       "      <td>-0.485900</td>\n",
       "      <td>0.377014</td>\n",
       "    </tr>\n",
       "    <tr>\n",
       "      <th>2013-01-05</th>\n",
       "      <td>-0.760518</td>\n",
       "      <td>0.042109</td>\n",
       "    </tr>\n",
       "    <tr>\n",
       "      <th>2013-01-06</th>\n",
       "      <td>0.228507</td>\n",
       "      <td>-0.115093</td>\n",
       "    </tr>\n",
       "  </tbody>\n",
       "</table>\n",
       "</div>"
      ],
      "text/plain": [
       "                   A         B\n",
       "2013-01-01 -1.249903  0.969349\n",
       "2013-01-02 -0.130585 -0.913925\n",
       "2013-01-03 -0.004108  0.202386\n",
       "2013-01-04 -0.485900  0.377014\n",
       "2013-01-05 -0.760518  0.042109\n",
       "2013-01-06  0.228507 -0.115093"
      ]
     },
     "execution_count": 87,
     "metadata": {},
     "output_type": "execute_result"
    }
   ],
   "source": [
    "# slecting multiple axis by label (column)\n",
    "df.loc[:,['A', 'B']] # input is (index, columns list)"
   ]
  },
  {
   "cell_type": "code",
   "execution_count": 96,
   "id": "018f484b-517f-45e7-97f3-0ff911796e39",
   "metadata": {
    "tags": []
   },
   "outputs": [
    {
     "data": {
      "text/html": [
       "<div>\n",
       "<style scoped>\n",
       "    .dataframe tbody tr th:only-of-type {\n",
       "        vertical-align: middle;\n",
       "    }\n",
       "\n",
       "    .dataframe tbody tr th {\n",
       "        vertical-align: top;\n",
       "    }\n",
       "\n",
       "    .dataframe thead th {\n",
       "        text-align: right;\n",
       "    }\n",
       "</style>\n",
       "<table border=\"1\" class=\"dataframe\">\n",
       "  <thead>\n",
       "    <tr style=\"text-align: right;\">\n",
       "      <th></th>\n",
       "      <th>A</th>\n",
       "      <th>B</th>\n",
       "    </tr>\n",
       "  </thead>\n",
       "  <tbody>\n",
       "    <tr>\n",
       "      <th>2013-01-01</th>\n",
       "      <td>-1.249903</td>\n",
       "      <td>0.969349</td>\n",
       "    </tr>\n",
       "    <tr>\n",
       "      <th>2013-01-02</th>\n",
       "      <td>-0.130585</td>\n",
       "      <td>-0.913925</td>\n",
       "    </tr>\n",
       "    <tr>\n",
       "      <th>2013-01-03</th>\n",
       "      <td>-0.004108</td>\n",
       "      <td>0.202386</td>\n",
       "    </tr>\n",
       "  </tbody>\n",
       "</table>\n",
       "</div>"
      ],
      "text/plain": [
       "                   A         B\n",
       "2013-01-01 -1.249903  0.969349\n",
       "2013-01-02 -0.130585 -0.913925\n",
       "2013-01-03 -0.004108  0.202386"
      ]
     },
     "execution_count": 96,
     "metadata": {},
     "output_type": "execute_result"
    }
   ],
   "source": [
    "# selecting by index and columns\n",
    "df.loc['20130101': '20130103',['A', 'B']] # input is (index, columns list)"
   ]
  },
  {
   "cell_type": "code",
   "execution_count": null,
   "id": "af52ffee-9207-45be-b128-048cce3074c1",
   "metadata": {},
   "outputs": [],
   "source": []
  }
 ],
 "metadata": {
  "kernelspec": {
   "display_name": "Python 3 (ipykernel)",
   "language": "python",
   "name": "python3"
  },
  "language_info": {
   "codemirror_mode": {
    "name": "ipython",
    "version": 3
   },
   "file_extension": ".py",
   "mimetype": "text/x-python",
   "name": "python",
   "nbconvert_exporter": "python",
   "pygments_lexer": "ipython3",
   "version": "3.10.6"
  }
 },
 "nbformat": 4,
 "nbformat_minor": 5
}
