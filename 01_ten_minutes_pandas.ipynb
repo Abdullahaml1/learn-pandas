{
 "cells": [
  {
   "cell_type": "markdown",
   "id": "a3395d13-7871-413e-8249-e403f522bbce",
   "metadata": {},
   "source": [
    "# 10 Minutes Pandas [link](https://pandas.pydata.org/docs/user_guide/10min.html#min)"
   ]
  },
  {
   "cell_type": "code",
   "execution_count": 1,
   "id": "eeb4246a-9ed5-4184-bffd-3cbc86adc63a",
   "metadata": {
    "tags": []
   },
   "outputs": [],
   "source": [
    "import pandas as pd\n",
    "import numpy as np"
   ]
  },
  {
   "cell_type": "code",
   "execution_count": 2,
   "id": "9fb91b2c-f0d9-4782-99a8-27cf72fe90e6",
   "metadata": {
    "tags": []
   },
   "outputs": [
    {
     "name": "stdout",
     "output_type": "stream",
     "text": [
      "0    1.0\n",
      "1    3.0\n",
      "2    5.0\n",
      "3    NaN\n",
      "4    6.0\n",
      "5    8.0\n",
      "dtype: float64\n"
     ]
    }
   ],
   "source": [
    "# series\n",
    "s = pd.Series([1, 3, 5, np.nan, 6, 8])\n",
    "print(s)"
   ]
  },
  {
   "cell_type": "code",
   "execution_count": 3,
   "id": "09dec82c-dd16-4f0b-b6e7-c903671e67bc",
   "metadata": {
    "tags": []
   },
   "outputs": [
    {
     "name": "stdout",
     "output_type": "stream",
     "text": [
      "DatetimeIndex(['2013-01-01', '2013-01-02', '2013-01-03', '2013-01-04',\n",
      "               '2013-01-05', '2013-01-06'],\n",
      "              dtype='datetime64[ns]', freq='D')\n",
      "\n"
     ]
    },
    {
     "data": {
      "text/html": [
       "<div>\n",
       "<style scoped>\n",
       "    .dataframe tbody tr th:only-of-type {\n",
       "        vertical-align: middle;\n",
       "    }\n",
       "\n",
       "    .dataframe tbody tr th {\n",
       "        vertical-align: top;\n",
       "    }\n",
       "\n",
       "    .dataframe thead th {\n",
       "        text-align: right;\n",
       "    }\n",
       "</style>\n",
       "<table border=\"1\" class=\"dataframe\">\n",
       "  <thead>\n",
       "    <tr style=\"text-align: right;\">\n",
       "      <th></th>\n",
       "      <th>A</th>\n",
       "      <th>B</th>\n",
       "      <th>C</th>\n",
       "      <th>D</th>\n",
       "    </tr>\n",
       "  </thead>\n",
       "  <tbody>\n",
       "    <tr>\n",
       "      <th>2013-01-01</th>\n",
       "      <td>-0.425257</td>\n",
       "      <td>1.073839</td>\n",
       "      <td>-1.190426</td>\n",
       "      <td>-1.590534</td>\n",
       "    </tr>\n",
       "    <tr>\n",
       "      <th>2013-01-02</th>\n",
       "      <td>-0.632742</td>\n",
       "      <td>0.864489</td>\n",
       "      <td>-1.904211</td>\n",
       "      <td>1.991019</td>\n",
       "    </tr>\n",
       "    <tr>\n",
       "      <th>2013-01-03</th>\n",
       "      <td>0.069413</td>\n",
       "      <td>-0.134840</td>\n",
       "      <td>-1.160587</td>\n",
       "      <td>0.983197</td>\n",
       "    </tr>\n",
       "    <tr>\n",
       "      <th>2013-01-04</th>\n",
       "      <td>-0.138401</td>\n",
       "      <td>-1.368630</td>\n",
       "      <td>-0.422709</td>\n",
       "      <td>-0.293634</td>\n",
       "    </tr>\n",
       "    <tr>\n",
       "      <th>2013-01-05</th>\n",
       "      <td>-0.866339</td>\n",
       "      <td>-0.810588</td>\n",
       "      <td>-0.017718</td>\n",
       "      <td>-0.665597</td>\n",
       "    </tr>\n",
       "    <tr>\n",
       "      <th>2013-01-06</th>\n",
       "      <td>-0.870676</td>\n",
       "      <td>-0.928153</td>\n",
       "      <td>-1.347181</td>\n",
       "      <td>1.330785</td>\n",
       "    </tr>\n",
       "  </tbody>\n",
       "</table>\n",
       "</div>"
      ],
      "text/plain": [
       "                   A         B         C         D\n",
       "2013-01-01 -0.425257  1.073839 -1.190426 -1.590534\n",
       "2013-01-02 -0.632742  0.864489 -1.904211  1.991019\n",
       "2013-01-03  0.069413 -0.134840 -1.160587  0.983197\n",
       "2013-01-04 -0.138401 -1.368630 -0.422709 -0.293634\n",
       "2013-01-05 -0.866339 -0.810588 -0.017718 -0.665597\n",
       "2013-01-06 -0.870676 -0.928153 -1.347181  1.330785"
      ]
     },
     "execution_count": 3,
     "metadata": {},
     "output_type": "execute_result"
    }
   ],
   "source": [
    "# dataframs (index are the keyes)  (columns are the titles)\n",
    "dates = pd.date_range('20130101', periods=6) #year-month-day\n",
    "print(dates)\n",
    "\n",
    "print()\n",
    "df = pd.DataFrame(np.random.randn(6, 4), index=dates, columns=['A', 'B', 'C', 'D'])\n",
    "df"
   ]
  },
  {
   "cell_type": "code",
   "execution_count": 4,
   "id": "06d77dee-e3b9-46ec-897c-d75e774f5b2a",
   "metadata": {
    "tags": []
   },
   "outputs": [
    {
     "name": "stdout",
     "output_type": "stream",
     "text": [
      "A           float64\n",
      "B    datetime64[ns]\n",
      "C           float32\n",
      "D             int32\n",
      "E          category\n",
      "F            object\n",
      "dtype: object\n"
     ]
    },
    {
     "data": {
      "text/html": [
       "<div>\n",
       "<style scoped>\n",
       "    .dataframe tbody tr th:only-of-type {\n",
       "        vertical-align: middle;\n",
       "    }\n",
       "\n",
       "    .dataframe tbody tr th {\n",
       "        vertical-align: top;\n",
       "    }\n",
       "\n",
       "    .dataframe thead th {\n",
       "        text-align: right;\n",
       "    }\n",
       "</style>\n",
       "<table border=\"1\" class=\"dataframe\">\n",
       "  <thead>\n",
       "    <tr style=\"text-align: right;\">\n",
       "      <th></th>\n",
       "      <th>A</th>\n",
       "      <th>B</th>\n",
       "      <th>C</th>\n",
       "      <th>D</th>\n",
       "      <th>E</th>\n",
       "      <th>F</th>\n",
       "    </tr>\n",
       "  </thead>\n",
       "  <tbody>\n",
       "    <tr>\n",
       "      <th>0</th>\n",
       "      <td>1.0</td>\n",
       "      <td>2013-01-02</td>\n",
       "      <td>1.0</td>\n",
       "      <td>3</td>\n",
       "      <td>test</td>\n",
       "      <td>foo</td>\n",
       "    </tr>\n",
       "    <tr>\n",
       "      <th>1</th>\n",
       "      <td>1.0</td>\n",
       "      <td>2013-01-02</td>\n",
       "      <td>1.0</td>\n",
       "      <td>3</td>\n",
       "      <td>train</td>\n",
       "      <td>foo</td>\n",
       "    </tr>\n",
       "    <tr>\n",
       "      <th>2</th>\n",
       "      <td>1.0</td>\n",
       "      <td>2013-01-02</td>\n",
       "      <td>1.0</td>\n",
       "      <td>3</td>\n",
       "      <td>test</td>\n",
       "      <td>foo</td>\n",
       "    </tr>\n",
       "    <tr>\n",
       "      <th>3</th>\n",
       "      <td>1.0</td>\n",
       "      <td>2013-01-02</td>\n",
       "      <td>1.0</td>\n",
       "      <td>3</td>\n",
       "      <td>train</td>\n",
       "      <td>foo</td>\n",
       "    </tr>\n",
       "  </tbody>\n",
       "</table>\n",
       "</div>"
      ],
      "text/plain": [
       "     A          B    C  D      E    F\n",
       "0  1.0 2013-01-02  1.0  3   test  foo\n",
       "1  1.0 2013-01-02  1.0  3  train  foo\n",
       "2  1.0 2013-01-02  1.0  3   test  foo\n",
       "3  1.0 2013-01-02  1.0  3  train  foo"
      ]
     },
     "execution_count": 4,
     "metadata": {},
     "output_type": "execute_result"
    }
   ],
   "source": [
    "# creating data frame form dictionary\n",
    "df2 = pd.DataFrame(\n",
    "    {\n",
    "        'A': 1.0,\n",
    "        'B': pd.Timestamp('20130102'),\n",
    "        'C': pd.Series(1, index=list(range(4)), dtype='float32'),\n",
    "        'D': np.array([3]*4, dtype=np.int32),\n",
    "        'E': pd.Categorical(['test', 'train', 'test', 'train']),\n",
    "        'F': 'foo'\n",
    "    }\n",
    ")\n",
    "#datafram columns type\n",
    "print(df2.dtypes)\n",
    "df2"
   ]
  },
  {
   "cell_type": "code",
   "execution_count": 5,
   "id": "12665ff7-42a0-457b-b1a9-99e7c8c31ae0",
   "metadata": {
    "tags": []
   },
   "outputs": [
    {
     "name": "stdout",
     "output_type": "stream",
     "text": [
      "0    1.0\n",
      "1    1.0\n",
      "2    1.0\n",
      "3    1.0\n",
      "Name: C, dtype: float32\n",
      "0    1.0\n",
      "1    1.0\n",
      "2    1.0\n",
      "3    1.0\n",
      "Name: C, dtype: float32\n",
      "\n",
      " Int64Index([0, 1, 2, 3], dtype='int64')\n",
      "[0, 1, 2, 3]\n",
      "\n",
      " Index(['A', 'B', 'C', 'D', 'E', 'F'], dtype='object')\n",
      "['A', 'B', 'C', 'D', 'E', 'F']\n"
     ]
    }
   ],
   "source": [
    "# accessing a column returning a series\n",
    "print(df2.C)\n",
    "print(df2['C'])\n",
    "\n",
    "#displaying index (keys)\n",
    "print('\\n', df2.index)\n",
    "print(list(df2.index))\n",
    "\n",
    "#displaying columns\n",
    "print('\\n', df2.columns)\n",
    "print(list(df2.columns))"
   ]
  },
  {
   "cell_type": "code",
   "execution_count": 6,
   "id": "0475ba43-a10d-4846-a09d-c6cca2de0091",
   "metadata": {
    "tags": []
   },
   "outputs": [
    {
     "data": {
      "text/html": [
       "<div>\n",
       "<style scoped>\n",
       "    .dataframe tbody tr th:only-of-type {\n",
       "        vertical-align: middle;\n",
       "    }\n",
       "\n",
       "    .dataframe tbody tr th {\n",
       "        vertical-align: top;\n",
       "    }\n",
       "\n",
       "    .dataframe thead th {\n",
       "        text-align: right;\n",
       "    }\n",
       "</style>\n",
       "<table border=\"1\" class=\"dataframe\">\n",
       "  <thead>\n",
       "    <tr style=\"text-align: right;\">\n",
       "      <th></th>\n",
       "      <th>A</th>\n",
       "      <th>B</th>\n",
       "      <th>C</th>\n",
       "      <th>D</th>\n",
       "    </tr>\n",
       "  </thead>\n",
       "  <tbody>\n",
       "    <tr>\n",
       "      <th>2013-01-01</th>\n",
       "      <td>-0.425257</td>\n",
       "      <td>1.073839</td>\n",
       "      <td>-1.190426</td>\n",
       "      <td>-1.590534</td>\n",
       "    </tr>\n",
       "    <tr>\n",
       "      <th>2013-01-02</th>\n",
       "      <td>-0.632742</td>\n",
       "      <td>0.864489</td>\n",
       "      <td>-1.904211</td>\n",
       "      <td>1.991019</td>\n",
       "    </tr>\n",
       "    <tr>\n",
       "      <th>2013-01-03</th>\n",
       "      <td>0.069413</td>\n",
       "      <td>-0.134840</td>\n",
       "      <td>-1.160587</td>\n",
       "      <td>0.983197</td>\n",
       "    </tr>\n",
       "  </tbody>\n",
       "</table>\n",
       "</div>"
      ],
      "text/plain": [
       "                   A         B         C         D\n",
       "2013-01-01 -0.425257  1.073839 -1.190426 -1.590534\n",
       "2013-01-02 -0.632742  0.864489 -1.904211  1.991019\n",
       "2013-01-03  0.069413 -0.134840 -1.160587  0.983197"
      ]
     },
     "execution_count": 6,
     "metadata": {},
     "output_type": "execute_result"
    }
   ],
   "source": [
    "# accessing raws\n",
    "df[:3]"
   ]
  },
  {
   "cell_type": "code",
   "execution_count": 7,
   "id": "695b16de-4026-44ac-aa53-b07f0490e88c",
   "metadata": {
    "tags": []
   },
   "outputs": [
    {
     "name": "stdout",
     "output_type": "stream",
     "text": [
      "[[-0.4252571   1.07383932 -1.19042563 -1.59053408]\n",
      " [-0.63274158  0.86448894 -1.90421127  1.99101857]\n",
      " [ 0.06941321 -0.13483968 -1.16058725  0.98319707]\n",
      " [-0.13840122 -1.3686299  -0.42270887 -0.29363373]\n",
      " [-0.86633935 -0.81058793 -0.01771842 -0.66559657]\n",
      " [-0.87067626 -0.92815317 -1.34718116  1.3307846 ]]\n"
     ]
    },
    {
     "data": {
      "text/plain": [
       "pandas._libs.tslibs.timestamps.Timestamp"
      ]
     },
     "execution_count": 7,
     "metadata": {},
     "output_type": "execute_result"
    }
   ],
   "source": [
    "# converting data frame to numpy\n",
    "'''\n",
    "    if all data types are the same pandas will return a numpy array with the save datatype\n",
    "    if columns are not the same datatype will return them as object and we nedd to cast every column in order to use it\n",
    "        in addition it is heavy operatoin\n",
    "'''\n",
    "print(df.to_numpy())\n",
    "np_object = df2.to_numpy() # array of objects\n",
    "type(np_object[0][1])"
   ]
  },
  {
   "cell_type": "code",
   "execution_count": 8,
   "id": "0ee4767d-4113-42b4-ae39-612bf342a5d0",
   "metadata": {
    "tags": []
   },
   "outputs": [
    {
     "data": {
      "text/html": [
       "<div>\n",
       "<style scoped>\n",
       "    .dataframe tbody tr th:only-of-type {\n",
       "        vertical-align: middle;\n",
       "    }\n",
       "\n",
       "    .dataframe tbody tr th {\n",
       "        vertical-align: top;\n",
       "    }\n",
       "\n",
       "    .dataframe thead th {\n",
       "        text-align: right;\n",
       "    }\n",
       "</style>\n",
       "<table border=\"1\" class=\"dataframe\">\n",
       "  <thead>\n",
       "    <tr style=\"text-align: right;\">\n",
       "      <th></th>\n",
       "      <th>A</th>\n",
       "      <th>B</th>\n",
       "      <th>C</th>\n",
       "      <th>D</th>\n",
       "    </tr>\n",
       "  </thead>\n",
       "  <tbody>\n",
       "    <tr>\n",
       "      <th>count</th>\n",
       "      <td>6.000000</td>\n",
       "      <td>6.000000</td>\n",
       "      <td>6.000000</td>\n",
       "      <td>6.000000</td>\n",
       "    </tr>\n",
       "    <tr>\n",
       "      <th>mean</th>\n",
       "      <td>-0.477334</td>\n",
       "      <td>-0.217314</td>\n",
       "      <td>-1.007139</td>\n",
       "      <td>0.292539</td>\n",
       "    </tr>\n",
       "    <tr>\n",
       "      <th>std</th>\n",
       "      <td>0.386449</td>\n",
       "      <td>1.002693</td>\n",
       "      <td>0.677941</td>\n",
       "      <td>1.359955</td>\n",
       "    </tr>\n",
       "    <tr>\n",
       "      <th>min</th>\n",
       "      <td>-0.870676</td>\n",
       "      <td>-1.368630</td>\n",
       "      <td>-1.904211</td>\n",
       "      <td>-1.590534</td>\n",
       "    </tr>\n",
       "    <tr>\n",
       "      <th>25%</th>\n",
       "      <td>-0.807940</td>\n",
       "      <td>-0.898762</td>\n",
       "      <td>-1.307992</td>\n",
       "      <td>-0.572606</td>\n",
       "    </tr>\n",
       "    <tr>\n",
       "      <th>50%</th>\n",
       "      <td>-0.528999</td>\n",
       "      <td>-0.472714</td>\n",
       "      <td>-1.175506</td>\n",
       "      <td>0.344782</td>\n",
       "    </tr>\n",
       "    <tr>\n",
       "      <th>75%</th>\n",
       "      <td>-0.210115</td>\n",
       "      <td>0.614657</td>\n",
       "      <td>-0.607178</td>\n",
       "      <td>1.243888</td>\n",
       "    </tr>\n",
       "    <tr>\n",
       "      <th>max</th>\n",
       "      <td>0.069413</td>\n",
       "      <td>1.073839</td>\n",
       "      <td>-0.017718</td>\n",
       "      <td>1.991019</td>\n",
       "    </tr>\n",
       "  </tbody>\n",
       "</table>\n",
       "</div>"
      ],
      "text/plain": [
       "              A         B         C         D\n",
       "count  6.000000  6.000000  6.000000  6.000000\n",
       "mean  -0.477334 -0.217314 -1.007139  0.292539\n",
       "std    0.386449  1.002693  0.677941  1.359955\n",
       "min   -0.870676 -1.368630 -1.904211 -1.590534\n",
       "25%   -0.807940 -0.898762 -1.307992 -0.572606\n",
       "50%   -0.528999 -0.472714 -1.175506  0.344782\n",
       "75%   -0.210115  0.614657 -0.607178  1.243888\n",
       "max    0.069413  1.073839 -0.017718  1.991019"
      ]
     },
     "execution_count": 8,
     "metadata": {},
     "output_type": "execute_result"
    }
   ],
   "source": [
    "# describing the data\n",
    "df.describe()"
   ]
  },
  {
   "cell_type": "code",
   "execution_count": 9,
   "id": "cf5746f5-6df1-417d-acb1-d11788edc6ee",
   "metadata": {
    "tags": []
   },
   "outputs": [
    {
     "data": {
      "text/html": [
       "<div>\n",
       "<style scoped>\n",
       "    .dataframe tbody tr th:only-of-type {\n",
       "        vertical-align: middle;\n",
       "    }\n",
       "\n",
       "    .dataframe tbody tr th {\n",
       "        vertical-align: top;\n",
       "    }\n",
       "\n",
       "    .dataframe thead th {\n",
       "        text-align: right;\n",
       "    }\n",
       "</style>\n",
       "<table border=\"1\" class=\"dataframe\">\n",
       "  <thead>\n",
       "    <tr style=\"text-align: right;\">\n",
       "      <th></th>\n",
       "      <th>2013-01-01</th>\n",
       "      <th>2013-01-02</th>\n",
       "      <th>2013-01-03</th>\n",
       "      <th>2013-01-04</th>\n",
       "      <th>2013-01-05</th>\n",
       "      <th>2013-01-06</th>\n",
       "    </tr>\n",
       "  </thead>\n",
       "  <tbody>\n",
       "    <tr>\n",
       "      <th>A</th>\n",
       "      <td>-0.425257</td>\n",
       "      <td>-0.632742</td>\n",
       "      <td>0.069413</td>\n",
       "      <td>-0.138401</td>\n",
       "      <td>-0.866339</td>\n",
       "      <td>-0.870676</td>\n",
       "    </tr>\n",
       "    <tr>\n",
       "      <th>B</th>\n",
       "      <td>1.073839</td>\n",
       "      <td>0.864489</td>\n",
       "      <td>-0.134840</td>\n",
       "      <td>-1.368630</td>\n",
       "      <td>-0.810588</td>\n",
       "      <td>-0.928153</td>\n",
       "    </tr>\n",
       "    <tr>\n",
       "      <th>C</th>\n",
       "      <td>-1.190426</td>\n",
       "      <td>-1.904211</td>\n",
       "      <td>-1.160587</td>\n",
       "      <td>-0.422709</td>\n",
       "      <td>-0.017718</td>\n",
       "      <td>-1.347181</td>\n",
       "    </tr>\n",
       "    <tr>\n",
       "      <th>D</th>\n",
       "      <td>-1.590534</td>\n",
       "      <td>1.991019</td>\n",
       "      <td>0.983197</td>\n",
       "      <td>-0.293634</td>\n",
       "      <td>-0.665597</td>\n",
       "      <td>1.330785</td>\n",
       "    </tr>\n",
       "  </tbody>\n",
       "</table>\n",
       "</div>"
      ],
      "text/plain": [
       "   2013-01-01  2013-01-02  2013-01-03  2013-01-04  2013-01-05  2013-01-06\n",
       "A   -0.425257   -0.632742    0.069413   -0.138401   -0.866339   -0.870676\n",
       "B    1.073839    0.864489   -0.134840   -1.368630   -0.810588   -0.928153\n",
       "C   -1.190426   -1.904211   -1.160587   -0.422709   -0.017718   -1.347181\n",
       "D   -1.590534    1.991019    0.983197   -0.293634   -0.665597    1.330785"
      ]
     },
     "execution_count": 9,
     "metadata": {},
     "output_type": "execute_result"
    }
   ],
   "source": [
    "# transposing\n",
    "df.T"
   ]
  },
  {
   "cell_type": "code",
   "execution_count": 10,
   "id": "f1de89a3-8f74-4f20-acb2-4786e16639a5",
   "metadata": {
    "tags": []
   },
   "outputs": [
    {
     "data": {
      "text/html": [
       "<div>\n",
       "<style scoped>\n",
       "    .dataframe tbody tr th:only-of-type {\n",
       "        vertical-align: middle;\n",
       "    }\n",
       "\n",
       "    .dataframe tbody tr th {\n",
       "        vertical-align: top;\n",
       "    }\n",
       "\n",
       "    .dataframe thead th {\n",
       "        text-align: right;\n",
       "    }\n",
       "</style>\n",
       "<table border=\"1\" class=\"dataframe\">\n",
       "  <thead>\n",
       "    <tr style=\"text-align: right;\">\n",
       "      <th></th>\n",
       "      <th>D</th>\n",
       "      <th>C</th>\n",
       "      <th>B</th>\n",
       "      <th>A</th>\n",
       "    </tr>\n",
       "  </thead>\n",
       "  <tbody>\n",
       "    <tr>\n",
       "      <th>2013-01-01</th>\n",
       "      <td>-1.590534</td>\n",
       "      <td>-1.190426</td>\n",
       "      <td>1.073839</td>\n",
       "      <td>-0.425257</td>\n",
       "    </tr>\n",
       "    <tr>\n",
       "      <th>2013-01-02</th>\n",
       "      <td>1.991019</td>\n",
       "      <td>-1.904211</td>\n",
       "      <td>0.864489</td>\n",
       "      <td>-0.632742</td>\n",
       "    </tr>\n",
       "    <tr>\n",
       "      <th>2013-01-03</th>\n",
       "      <td>0.983197</td>\n",
       "      <td>-1.160587</td>\n",
       "      <td>-0.134840</td>\n",
       "      <td>0.069413</td>\n",
       "    </tr>\n",
       "    <tr>\n",
       "      <th>2013-01-04</th>\n",
       "      <td>-0.293634</td>\n",
       "      <td>-0.422709</td>\n",
       "      <td>-1.368630</td>\n",
       "      <td>-0.138401</td>\n",
       "    </tr>\n",
       "    <tr>\n",
       "      <th>2013-01-05</th>\n",
       "      <td>-0.665597</td>\n",
       "      <td>-0.017718</td>\n",
       "      <td>-0.810588</td>\n",
       "      <td>-0.866339</td>\n",
       "    </tr>\n",
       "    <tr>\n",
       "      <th>2013-01-06</th>\n",
       "      <td>1.330785</td>\n",
       "      <td>-1.347181</td>\n",
       "      <td>-0.928153</td>\n",
       "      <td>-0.870676</td>\n",
       "    </tr>\n",
       "  </tbody>\n",
       "</table>\n",
       "</div>"
      ],
      "text/plain": [
       "                   D         C         B         A\n",
       "2013-01-01 -1.590534 -1.190426  1.073839 -0.425257\n",
       "2013-01-02  1.991019 -1.904211  0.864489 -0.632742\n",
       "2013-01-03  0.983197 -1.160587 -0.134840  0.069413\n",
       "2013-01-04 -0.293634 -0.422709 -1.368630 -0.138401\n",
       "2013-01-05 -0.665597 -0.017718 -0.810588 -0.866339\n",
       "2013-01-06  1.330785 -1.347181 -0.928153 -0.870676"
      ]
     },
     "execution_count": 10,
     "metadata": {},
     "output_type": "execute_result"
    }
   ],
   "source": [
    "# sort by index of column\n",
    "'''\n",
    "axis=0 sort raws by index(keys)\n",
    "axis=1 sort columns by column's mean value\n",
    "'''\n",
    "df.sort_index(axis=1, ascending=False)"
   ]
  },
  {
   "cell_type": "code",
   "execution_count": 11,
   "id": "3e4ed753-aaa3-4882-9746-ed0a87333362",
   "metadata": {
    "tags": []
   },
   "outputs": [
    {
     "data": {
      "text/html": [
       "<div>\n",
       "<style scoped>\n",
       "    .dataframe tbody tr th:only-of-type {\n",
       "        vertical-align: middle;\n",
       "    }\n",
       "\n",
       "    .dataframe tbody tr th {\n",
       "        vertical-align: top;\n",
       "    }\n",
       "\n",
       "    .dataframe thead th {\n",
       "        text-align: right;\n",
       "    }\n",
       "</style>\n",
       "<table border=\"1\" class=\"dataframe\">\n",
       "  <thead>\n",
       "    <tr style=\"text-align: right;\">\n",
       "      <th></th>\n",
       "      <th>A</th>\n",
       "      <th>B</th>\n",
       "      <th>C</th>\n",
       "      <th>D</th>\n",
       "    </tr>\n",
       "  </thead>\n",
       "  <tbody>\n",
       "    <tr>\n",
       "      <th>2013-01-04</th>\n",
       "      <td>-0.138401</td>\n",
       "      <td>-1.368630</td>\n",
       "      <td>-0.422709</td>\n",
       "      <td>-0.293634</td>\n",
       "    </tr>\n",
       "    <tr>\n",
       "      <th>2013-01-06</th>\n",
       "      <td>-0.870676</td>\n",
       "      <td>-0.928153</td>\n",
       "      <td>-1.347181</td>\n",
       "      <td>1.330785</td>\n",
       "    </tr>\n",
       "    <tr>\n",
       "      <th>2013-01-05</th>\n",
       "      <td>-0.866339</td>\n",
       "      <td>-0.810588</td>\n",
       "      <td>-0.017718</td>\n",
       "      <td>-0.665597</td>\n",
       "    </tr>\n",
       "    <tr>\n",
       "      <th>2013-01-03</th>\n",
       "      <td>0.069413</td>\n",
       "      <td>-0.134840</td>\n",
       "      <td>-1.160587</td>\n",
       "      <td>0.983197</td>\n",
       "    </tr>\n",
       "    <tr>\n",
       "      <th>2013-01-02</th>\n",
       "      <td>-0.632742</td>\n",
       "      <td>0.864489</td>\n",
       "      <td>-1.904211</td>\n",
       "      <td>1.991019</td>\n",
       "    </tr>\n",
       "    <tr>\n",
       "      <th>2013-01-01</th>\n",
       "      <td>-0.425257</td>\n",
       "      <td>1.073839</td>\n",
       "      <td>-1.190426</td>\n",
       "      <td>-1.590534</td>\n",
       "    </tr>\n",
       "  </tbody>\n",
       "</table>\n",
       "</div>"
      ],
      "text/plain": [
       "                   A         B         C         D\n",
       "2013-01-04 -0.138401 -1.368630 -0.422709 -0.293634\n",
       "2013-01-06 -0.870676 -0.928153 -1.347181  1.330785\n",
       "2013-01-05 -0.866339 -0.810588 -0.017718 -0.665597\n",
       "2013-01-03  0.069413 -0.134840 -1.160587  0.983197\n",
       "2013-01-02 -0.632742  0.864489 -1.904211  1.991019\n",
       "2013-01-01 -0.425257  1.073839 -1.190426 -1.590534"
      ]
     },
     "execution_count": 11,
     "metadata": {},
     "output_type": "execute_result"
    }
   ],
   "source": [
    "# sort by a specific columns\n",
    "df.sort_values(by='B')"
   ]
  },
  {
   "cell_type": "markdown",
   "id": "b4f421e9-9789-47d9-80ce-04f56d0e3667",
   "metadata": {},
   "source": [
    "# Selection"
   ]
  },
  {
   "cell_type": "markdown",
   "id": "f71d379e-7311-4b45-87b4-87dab4fcaf94",
   "metadata": {},
   "source": [
    "## Selection by label \n",
    "### (i.e: index_name\\s, or column_name\\s)  = `df.loc['20130101', 'A']`\n",
    "### using: `DataFrame.loc[]` or, `DataFrame.at[]`"
   ]
  },
  {
   "cell_type": "code",
   "execution_count": 12,
   "id": "ae3fc9fe-4b3a-4e1f-86b7-5e2c3c4f4104",
   "metadata": {
    "tags": []
   },
   "outputs": [
    {
     "name": "stdout",
     "output_type": "stream",
     "text": [
      "2013-01-01   -0.425257\n",
      "2013-01-02   -0.632742\n",
      "2013-01-03    0.069413\n",
      "2013-01-04   -0.138401\n",
      "2013-01-05   -0.866339\n",
      "2013-01-06   -0.870676\n",
      "Freq: D, Name: A, dtype: float64\n",
      "2013-01-01   -0.425257\n",
      "2013-01-02   -0.632742\n",
      "2013-01-03    0.069413\n",
      "2013-01-04   -0.138401\n",
      "2013-01-05   -0.866339\n",
      "2013-01-06   -0.870676\n",
      "Freq: D, Name: A, dtype: float64\n"
     ]
    }
   ],
   "source": [
    "# get a column -> return a series\n",
    "print(df['A'])\n",
    "print(df.A)"
   ]
  },
  {
   "cell_type": "code",
   "execution_count": 13,
   "id": "f802d913-2887-45c4-b8d8-051bc2f6d299",
   "metadata": {
    "tags": []
   },
   "outputs": [
    {
     "data": {
      "text/html": [
       "<div>\n",
       "<style scoped>\n",
       "    .dataframe tbody tr th:only-of-type {\n",
       "        vertical-align: middle;\n",
       "    }\n",
       "\n",
       "    .dataframe tbody tr th {\n",
       "        vertical-align: top;\n",
       "    }\n",
       "\n",
       "    .dataframe thead th {\n",
       "        text-align: right;\n",
       "    }\n",
       "</style>\n",
       "<table border=\"1\" class=\"dataframe\">\n",
       "  <thead>\n",
       "    <tr style=\"text-align: right;\">\n",
       "      <th></th>\n",
       "      <th>A</th>\n",
       "      <th>B</th>\n",
       "      <th>C</th>\n",
       "      <th>D</th>\n",
       "    </tr>\n",
       "  </thead>\n",
       "  <tbody>\n",
       "    <tr>\n",
       "      <th>2013-01-01</th>\n",
       "      <td>-0.425257</td>\n",
       "      <td>1.073839</td>\n",
       "      <td>-1.190426</td>\n",
       "      <td>-1.590534</td>\n",
       "    </tr>\n",
       "    <tr>\n",
       "      <th>2013-01-02</th>\n",
       "      <td>-0.632742</td>\n",
       "      <td>0.864489</td>\n",
       "      <td>-1.904211</td>\n",
       "      <td>1.991019</td>\n",
       "    </tr>\n",
       "    <tr>\n",
       "      <th>2013-01-03</th>\n",
       "      <td>0.069413</td>\n",
       "      <td>-0.134840</td>\n",
       "      <td>-1.160587</td>\n",
       "      <td>0.983197</td>\n",
       "    </tr>\n",
       "  </tbody>\n",
       "</table>\n",
       "</div>"
      ],
      "text/plain": [
       "                   A         B         C         D\n",
       "2013-01-01 -0.425257  1.073839 -1.190426 -1.590534\n",
       "2013-01-02 -0.632742  0.864489 -1.904211  1.991019\n",
       "2013-01-03  0.069413 -0.134840 -1.160587  0.983197"
      ]
     },
     "execution_count": 13,
     "metadata": {},
     "output_type": "execute_result"
    }
   ],
   "source": [
    "# selection of raws -> return a Dataframe NOTE df[0] is not allowed use df.loc\n",
    "df[0:3] #using normal python indexing (end=3 is not includes)\n",
    "df['20130101':'20130103'] #from start until end (end in includes unlike python indexing)"
   ]
  },
  {
   "cell_type": "code",
   "execution_count": 14,
   "id": "8ce96f40-9944-4d9c-9345-b44c0572b903",
   "metadata": {
    "tags": []
   },
   "outputs": [
    {
     "data": {
      "text/html": [
       "<div>\n",
       "<style scoped>\n",
       "    .dataframe tbody tr th:only-of-type {\n",
       "        vertical-align: middle;\n",
       "    }\n",
       "\n",
       "    .dataframe tbody tr th {\n",
       "        vertical-align: top;\n",
       "    }\n",
       "\n",
       "    .dataframe thead th {\n",
       "        text-align: right;\n",
       "    }\n",
       "</style>\n",
       "<table border=\"1\" class=\"dataframe\">\n",
       "  <thead>\n",
       "    <tr style=\"text-align: right;\">\n",
       "      <th></th>\n",
       "      <th>A</th>\n",
       "      <th>B</th>\n",
       "      <th>C</th>\n",
       "      <th>D</th>\n",
       "    </tr>\n",
       "  </thead>\n",
       "  <tbody>\n",
       "    <tr>\n",
       "      <th>2013-01-01</th>\n",
       "      <td>-0.425257</td>\n",
       "      <td>1.073839</td>\n",
       "      <td>-1.190426</td>\n",
       "      <td>-1.590534</td>\n",
       "    </tr>\n",
       "  </tbody>\n",
       "</table>\n",
       "</div>"
      ],
      "text/plain": [
       "                   A         B         C         D\n",
       "2013-01-01 -0.425257  1.073839 -1.190426 -1.590534"
      ]
     },
     "execution_count": 14,
     "metadata": {},
     "output_type": "execute_result"
    }
   ],
   "source": [
    "df[:1]"
   ]
  },
  {
   "cell_type": "code",
   "execution_count": 15,
   "id": "bc6da24c-b40b-4674-8a8e-ddba64980d14",
   "metadata": {
    "tags": []
   },
   "outputs": [
    {
     "name": "stdout",
     "output_type": "stream",
     "text": [
      "A   -0.425257\n",
      "B    1.073839\n",
      "C   -1.190426\n",
      "D   -1.590534\n",
      "Name: 2013-01-01 00:00:00, dtype: float64\n"
     ]
    },
    {
     "data": {
      "text/html": [
       "<div>\n",
       "<style scoped>\n",
       "    .dataframe tbody tr th:only-of-type {\n",
       "        vertical-align: middle;\n",
       "    }\n",
       "\n",
       "    .dataframe tbody tr th {\n",
       "        vertical-align: top;\n",
       "    }\n",
       "\n",
       "    .dataframe thead th {\n",
       "        text-align: right;\n",
       "    }\n",
       "</style>\n",
       "<table border=\"1\" class=\"dataframe\">\n",
       "  <thead>\n",
       "    <tr style=\"text-align: right;\">\n",
       "      <th></th>\n",
       "      <th>A</th>\n",
       "      <th>B</th>\n",
       "      <th>C</th>\n",
       "      <th>D</th>\n",
       "    </tr>\n",
       "  </thead>\n",
       "  <tbody>\n",
       "    <tr>\n",
       "      <th>2013-01-01</th>\n",
       "      <td>-0.425257</td>\n",
       "      <td>1.073839</td>\n",
       "      <td>-1.190426</td>\n",
       "      <td>-1.590534</td>\n",
       "    </tr>\n",
       "    <tr>\n",
       "      <th>2013-01-02</th>\n",
       "      <td>-0.632742</td>\n",
       "      <td>0.864489</td>\n",
       "      <td>-1.904211</td>\n",
       "      <td>1.991019</td>\n",
       "    </tr>\n",
       "    <tr>\n",
       "      <th>2013-01-03</th>\n",
       "      <td>0.069413</td>\n",
       "      <td>-0.134840</td>\n",
       "      <td>-1.160587</td>\n",
       "      <td>0.983197</td>\n",
       "    </tr>\n",
       "  </tbody>\n",
       "</table>\n",
       "</div>"
      ],
      "text/plain": [
       "                   A         B         C         D\n",
       "2013-01-01 -0.425257  1.073839 -1.190426 -1.590534\n",
       "2013-01-02 -0.632742  0.864489 -1.904211  1.991019\n",
       "2013-01-03  0.069413 -0.134840 -1.160587  0.983197"
      ]
     },
     "execution_count": 15,
     "metadata": {},
     "output_type": "execute_result"
    }
   ],
   "source": [
    "# seleting a single raw -> return:\n",
    "'''\n",
    "    a series: given a single index\n",
    "    a DataFrame given multiple indcies\n",
    "'''\n",
    "indcies = df.index\n",
    "print(df.loc[indcies[0]]) # a Series\n",
    "df.loc[indcies[0:3]] # a DataFrame"
   ]
  },
  {
   "cell_type": "code",
   "execution_count": 16,
   "id": "f21d0371-9f2c-435b-aba9-8e23581cacc6",
   "metadata": {
    "tags": []
   },
   "outputs": [
    {
     "data": {
      "text/html": [
       "<div>\n",
       "<style scoped>\n",
       "    .dataframe tbody tr th:only-of-type {\n",
       "        vertical-align: middle;\n",
       "    }\n",
       "\n",
       "    .dataframe tbody tr th {\n",
       "        vertical-align: top;\n",
       "    }\n",
       "\n",
       "    .dataframe thead th {\n",
       "        text-align: right;\n",
       "    }\n",
       "</style>\n",
       "<table border=\"1\" class=\"dataframe\">\n",
       "  <thead>\n",
       "    <tr style=\"text-align: right;\">\n",
       "      <th></th>\n",
       "      <th>A</th>\n",
       "      <th>B</th>\n",
       "    </tr>\n",
       "  </thead>\n",
       "  <tbody>\n",
       "    <tr>\n",
       "      <th>2013-01-01</th>\n",
       "      <td>-0.425257</td>\n",
       "      <td>1.073839</td>\n",
       "    </tr>\n",
       "    <tr>\n",
       "      <th>2013-01-02</th>\n",
       "      <td>-0.632742</td>\n",
       "      <td>0.864489</td>\n",
       "    </tr>\n",
       "    <tr>\n",
       "      <th>2013-01-03</th>\n",
       "      <td>0.069413</td>\n",
       "      <td>-0.134840</td>\n",
       "    </tr>\n",
       "    <tr>\n",
       "      <th>2013-01-04</th>\n",
       "      <td>-0.138401</td>\n",
       "      <td>-1.368630</td>\n",
       "    </tr>\n",
       "    <tr>\n",
       "      <th>2013-01-05</th>\n",
       "      <td>-0.866339</td>\n",
       "      <td>-0.810588</td>\n",
       "    </tr>\n",
       "    <tr>\n",
       "      <th>2013-01-06</th>\n",
       "      <td>-0.870676</td>\n",
       "      <td>-0.928153</td>\n",
       "    </tr>\n",
       "  </tbody>\n",
       "</table>\n",
       "</div>"
      ],
      "text/plain": [
       "                   A         B\n",
       "2013-01-01 -0.425257  1.073839\n",
       "2013-01-02 -0.632742  0.864489\n",
       "2013-01-03  0.069413 -0.134840\n",
       "2013-01-04 -0.138401 -1.368630\n",
       "2013-01-05 -0.866339 -0.810588\n",
       "2013-01-06 -0.870676 -0.928153"
      ]
     },
     "execution_count": 16,
     "metadata": {},
     "output_type": "execute_result"
    }
   ],
   "source": [
    "# slecting multiple axis by label (column)\n",
    "df.loc[:,['A', 'B']] # input is (index, columns list)"
   ]
  },
  {
   "cell_type": "code",
   "execution_count": 17,
   "id": "018f484b-517f-45e7-97f3-0ff911796e39",
   "metadata": {
    "tags": []
   },
   "outputs": [
    {
     "data": {
      "text/html": [
       "<div>\n",
       "<style scoped>\n",
       "    .dataframe tbody tr th:only-of-type {\n",
       "        vertical-align: middle;\n",
       "    }\n",
       "\n",
       "    .dataframe tbody tr th {\n",
       "        vertical-align: top;\n",
       "    }\n",
       "\n",
       "    .dataframe thead th {\n",
       "        text-align: right;\n",
       "    }\n",
       "</style>\n",
       "<table border=\"1\" class=\"dataframe\">\n",
       "  <thead>\n",
       "    <tr style=\"text-align: right;\">\n",
       "      <th></th>\n",
       "      <th>A</th>\n",
       "      <th>B</th>\n",
       "    </tr>\n",
       "  </thead>\n",
       "  <tbody>\n",
       "    <tr>\n",
       "      <th>2013-01-01</th>\n",
       "      <td>-0.425257</td>\n",
       "      <td>1.073839</td>\n",
       "    </tr>\n",
       "    <tr>\n",
       "      <th>2013-01-02</th>\n",
       "      <td>-0.632742</td>\n",
       "      <td>0.864489</td>\n",
       "    </tr>\n",
       "    <tr>\n",
       "      <th>2013-01-03</th>\n",
       "      <td>0.069413</td>\n",
       "      <td>-0.134840</td>\n",
       "    </tr>\n",
       "    <tr>\n",
       "      <th>2013-01-04</th>\n",
       "      <td>-0.138401</td>\n",
       "      <td>-1.368630</td>\n",
       "    </tr>\n",
       "  </tbody>\n",
       "</table>\n",
       "</div>"
      ],
      "text/plain": [
       "                   A         B\n",
       "2013-01-01 -0.425257  1.073839\n",
       "2013-01-02 -0.632742  0.864489\n",
       "2013-01-03  0.069413 -0.134840\n",
       "2013-01-04 -0.138401 -1.368630"
      ]
     },
     "execution_count": 17,
     "metadata": {},
     "output_type": "execute_result"
    }
   ],
   "source": [
    "# selecting by index and columns\n",
    "df.loc['20130101': '20130104',['A', 'B']] # input is (index, columns list)"
   ]
  },
  {
   "cell_type": "code",
   "execution_count": 18,
   "id": "af52ffee-9207-45be-b128-048cce3074c1",
   "metadata": {},
   "outputs": [
    {
     "data": {
      "text/html": [
       "<div>\n",
       "<style scoped>\n",
       "    .dataframe tbody tr th:only-of-type {\n",
       "        vertical-align: middle;\n",
       "    }\n",
       "\n",
       "    .dataframe tbody tr th {\n",
       "        vertical-align: top;\n",
       "    }\n",
       "\n",
       "    .dataframe thead th {\n",
       "        text-align: right;\n",
       "    }\n",
       "</style>\n",
       "<table border=\"1\" class=\"dataframe\">\n",
       "  <thead>\n",
       "    <tr style=\"text-align: right;\">\n",
       "      <th></th>\n",
       "      <th>A</th>\n",
       "      <th>B</th>\n",
       "    </tr>\n",
       "  </thead>\n",
       "  <tbody>\n",
       "    <tr>\n",
       "      <th>2013-01-01</th>\n",
       "      <td>-0.425257</td>\n",
       "      <td>1.073839</td>\n",
       "    </tr>\n",
       "    <tr>\n",
       "      <th>2013-01-04</th>\n",
       "      <td>-0.138401</td>\n",
       "      <td>-1.368630</td>\n",
       "    </tr>\n",
       "  </tbody>\n",
       "</table>\n",
       "</div>"
      ],
      "text/plain": [
       "                   A         B\n",
       "2013-01-01 -0.425257  1.073839\n",
       "2013-01-04 -0.138401 -1.368630"
      ]
     },
     "execution_count": 18,
     "metadata": {},
     "output_type": "execute_result"
    }
   ],
   "source": [
    "#selecting specifc set of raws\n",
    "df.loc[['20130101', '20130104'],['A', 'B']] # input is (index, columns list)"
   ]
  },
  {
   "cell_type": "code",
   "execution_count": 19,
   "id": "4ed4eb6c-bb63-4d75-bd32-7cc06d658c9c",
   "metadata": {
    "tags": []
   },
   "outputs": [
    {
     "name": "stdout",
     "output_type": "stream",
     "text": [
      "<class 'numpy.float64'>\n"
     ]
    },
    {
     "data": {
      "text/plain": [
       "-0.4252571044445993"
      ]
     },
     "execution_count": 19,
     "metadata": {},
     "output_type": "execute_result"
    }
   ],
   "source": [
    "# getting a cell \n",
    "val = df.loc['20130101', 'A']\n",
    "print(type(val))\n",
    "val"
   ]
  },
  {
   "cell_type": "code",
   "execution_count": 20,
   "id": "ff41e2f7-55ba-4e18-bbc6-0222aacfd501",
   "metadata": {
    "tags": []
   },
   "outputs": [
    {
     "data": {
      "text/plain": [
       "-0.4252571044445993"
      ]
     },
     "execution_count": 20,
     "metadata": {},
     "output_type": "execute_result"
    }
   ],
   "source": [
    "# fast access similar to the above \n",
    "df.at['20130101', 'A']"
   ]
  },
  {
   "cell_type": "markdown",
   "id": "3b0d1a58-9653-4f6e-96d7-b3408f290c85",
   "metadata": {},
   "source": [
    "## Selecting by position \n",
    "## (i.e: index of index(key)\\s, and index of column\\s) = `df.iloc[0, 0]`\n",
    "### `DataFrame.iloc[]`, or `DataFrame.iat[]`"
   ]
  },
  {
   "cell_type": "code",
   "execution_count": 21,
   "id": "5dd07e99-1681-41c2-b314-d37942e11733",
   "metadata": {
    "tags": []
   },
   "outputs": [
    {
     "data": {
      "text/plain": [
       "A   -0.138401\n",
       "B   -1.368630\n",
       "C   -0.422709\n",
       "D   -0.293634\n",
       "Name: 2013-01-04 00:00:00, dtype: float64"
      ]
     },
     "execution_count": 21,
     "metadata": {},
     "output_type": "execute_result"
    }
   ],
   "source": [
    "# selecting a row\n",
    "'''\n",
    "return: \n",
    "    a Series if selecting a single raw\n",
    "    a DataFrame if selecting multiple raws, or columns\n",
    "'''\n",
    "df.iloc[3] # forth raw"
   ]
  },
  {
   "cell_type": "code",
   "execution_count": 22,
   "id": "08d222d2-ba18-4b7a-9560-6d13efeb9640",
   "metadata": {
    "tags": []
   },
   "outputs": [
    {
     "data": {
      "text/html": [
       "<div>\n",
       "<style scoped>\n",
       "    .dataframe tbody tr th:only-of-type {\n",
       "        vertical-align: middle;\n",
       "    }\n",
       "\n",
       "    .dataframe tbody tr th {\n",
       "        vertical-align: top;\n",
       "    }\n",
       "\n",
       "    .dataframe thead th {\n",
       "        text-align: right;\n",
       "    }\n",
       "</style>\n",
       "<table border=\"1\" class=\"dataframe\">\n",
       "  <thead>\n",
       "    <tr style=\"text-align: right;\">\n",
       "      <th></th>\n",
       "      <th>A</th>\n",
       "      <th>B</th>\n",
       "      <th>C</th>\n",
       "    </tr>\n",
       "  </thead>\n",
       "  <tbody>\n",
       "    <tr>\n",
       "      <th>2013-01-01</th>\n",
       "      <td>-0.425257</td>\n",
       "      <td>1.073839</td>\n",
       "      <td>-1.190426</td>\n",
       "    </tr>\n",
       "    <tr>\n",
       "      <th>2013-01-02</th>\n",
       "      <td>-0.632742</td>\n",
       "      <td>0.864489</td>\n",
       "      <td>-1.904211</td>\n",
       "    </tr>\n",
       "    <tr>\n",
       "      <th>2013-01-03</th>\n",
       "      <td>0.069413</td>\n",
       "      <td>-0.134840</td>\n",
       "      <td>-1.160587</td>\n",
       "    </tr>\n",
       "    <tr>\n",
       "      <th>2013-01-04</th>\n",
       "      <td>-0.138401</td>\n",
       "      <td>-1.368630</td>\n",
       "      <td>-0.422709</td>\n",
       "    </tr>\n",
       "  </tbody>\n",
       "</table>\n",
       "</div>"
      ],
      "text/plain": [
       "                   A         B         C\n",
       "2013-01-01 -0.425257  1.073839 -1.190426\n",
       "2013-01-02 -0.632742  0.864489 -1.904211\n",
       "2013-01-03  0.069413 -0.134840 -1.160587\n",
       "2013-01-04 -0.138401 -1.368630 -0.422709"
      ]
     },
     "execution_count": 22,
     "metadata": {},
     "output_type": "execute_result"
    }
   ],
   "source": [
    "#selecting multiple raws and columns using interger slicing\n",
    "df.iloc[0:4, 0: 3]"
   ]
  },
  {
   "cell_type": "code",
   "execution_count": 23,
   "id": "00c8182a-44d6-45fe-ad5d-244ba99c8b23",
   "metadata": {
    "tags": []
   },
   "outputs": [
    {
     "data": {
      "text/html": [
       "<div>\n",
       "<style scoped>\n",
       "    .dataframe tbody tr th:only-of-type {\n",
       "        vertical-align: middle;\n",
       "    }\n",
       "\n",
       "    .dataframe tbody tr th {\n",
       "        vertical-align: top;\n",
       "    }\n",
       "\n",
       "    .dataframe thead th {\n",
       "        text-align: right;\n",
       "    }\n",
       "</style>\n",
       "<table border=\"1\" class=\"dataframe\">\n",
       "  <thead>\n",
       "    <tr style=\"text-align: right;\">\n",
       "      <th></th>\n",
       "      <th>A</th>\n",
       "      <th>D</th>\n",
       "    </tr>\n",
       "  </thead>\n",
       "  <tbody>\n",
       "    <tr>\n",
       "      <th>2013-01-01</th>\n",
       "      <td>-0.425257</td>\n",
       "      <td>-1.590534</td>\n",
       "    </tr>\n",
       "    <tr>\n",
       "      <th>2013-01-05</th>\n",
       "      <td>-0.866339</td>\n",
       "      <td>-0.665597</td>\n",
       "    </tr>\n",
       "  </tbody>\n",
       "</table>\n",
       "</div>"
      ],
      "text/plain": [
       "                   A         D\n",
       "2013-01-01 -0.425257 -1.590534\n",
       "2013-01-05 -0.866339 -0.665597"
      ]
     },
     "execution_count": 23,
     "metadata": {},
     "output_type": "execute_result"
    }
   ],
   "source": [
    "# specific raws and columns\n",
    "df.iloc[[0, 4], [0, 3]]"
   ]
  },
  {
   "cell_type": "code",
   "execution_count": 24,
   "id": "c65d91d0-6093-480b-aeea-debd3489069f",
   "metadata": {
    "tags": []
   },
   "outputs": [
    {
     "data": {
      "text/html": [
       "<div>\n",
       "<style scoped>\n",
       "    .dataframe tbody tr th:only-of-type {\n",
       "        vertical-align: middle;\n",
       "    }\n",
       "\n",
       "    .dataframe tbody tr th {\n",
       "        vertical-align: top;\n",
       "    }\n",
       "\n",
       "    .dataframe thead th {\n",
       "        text-align: right;\n",
       "    }\n",
       "</style>\n",
       "<table border=\"1\" class=\"dataframe\">\n",
       "  <thead>\n",
       "    <tr style=\"text-align: right;\">\n",
       "      <th></th>\n",
       "      <th>A</th>\n",
       "      <th>B</th>\n",
       "      <th>C</th>\n",
       "      <th>D</th>\n",
       "    </tr>\n",
       "  </thead>\n",
       "  <tbody>\n",
       "    <tr>\n",
       "      <th>2013-01-01</th>\n",
       "      <td>-0.425257</td>\n",
       "      <td>1.073839</td>\n",
       "      <td>-1.190426</td>\n",
       "      <td>-1.590534</td>\n",
       "    </tr>\n",
       "    <tr>\n",
       "      <th>2013-01-05</th>\n",
       "      <td>-0.866339</td>\n",
       "      <td>-0.810588</td>\n",
       "      <td>-0.017718</td>\n",
       "      <td>-0.665597</td>\n",
       "    </tr>\n",
       "  </tbody>\n",
       "</table>\n",
       "</div>"
      ],
      "text/plain": [
       "                   A         B         C         D\n",
       "2013-01-01 -0.425257  1.073839 -1.190426 -1.590534\n",
       "2013-01-05 -0.866339 -0.810588 -0.017718 -0.665597"
      ]
     },
     "execution_count": 24,
     "metadata": {},
     "output_type": "execute_result"
    }
   ],
   "source": [
    "# specifc raws and all columns\n",
    "df.iloc[[0, 4], :]"
   ]
  },
  {
   "cell_type": "code",
   "execution_count": 25,
   "id": "ec7f5c9a-4542-4e23-acf4-2e6c589143a8",
   "metadata": {
    "tags": []
   },
   "outputs": [
    {
     "data": {
      "text/html": [
       "<div>\n",
       "<style scoped>\n",
       "    .dataframe tbody tr th:only-of-type {\n",
       "        vertical-align: middle;\n",
       "    }\n",
       "\n",
       "    .dataframe tbody tr th {\n",
       "        vertical-align: top;\n",
       "    }\n",
       "\n",
       "    .dataframe thead th {\n",
       "        text-align: right;\n",
       "    }\n",
       "</style>\n",
       "<table border=\"1\" class=\"dataframe\">\n",
       "  <thead>\n",
       "    <tr style=\"text-align: right;\">\n",
       "      <th></th>\n",
       "      <th>A</th>\n",
       "      <th>D</th>\n",
       "    </tr>\n",
       "  </thead>\n",
       "  <tbody>\n",
       "    <tr>\n",
       "      <th>2013-01-01</th>\n",
       "      <td>-0.425257</td>\n",
       "      <td>-1.590534</td>\n",
       "    </tr>\n",
       "    <tr>\n",
       "      <th>2013-01-02</th>\n",
       "      <td>-0.632742</td>\n",
       "      <td>1.991019</td>\n",
       "    </tr>\n",
       "    <tr>\n",
       "      <th>2013-01-03</th>\n",
       "      <td>0.069413</td>\n",
       "      <td>0.983197</td>\n",
       "    </tr>\n",
       "    <tr>\n",
       "      <th>2013-01-04</th>\n",
       "      <td>-0.138401</td>\n",
       "      <td>-0.293634</td>\n",
       "    </tr>\n",
       "    <tr>\n",
       "      <th>2013-01-05</th>\n",
       "      <td>-0.866339</td>\n",
       "      <td>-0.665597</td>\n",
       "    </tr>\n",
       "    <tr>\n",
       "      <th>2013-01-06</th>\n",
       "      <td>-0.870676</td>\n",
       "      <td>1.330785</td>\n",
       "    </tr>\n",
       "  </tbody>\n",
       "</table>\n",
       "</div>"
      ],
      "text/plain": [
       "                   A         D\n",
       "2013-01-01 -0.425257 -1.590534\n",
       "2013-01-02 -0.632742  1.991019\n",
       "2013-01-03  0.069413  0.983197\n",
       "2013-01-04 -0.138401 -0.293634\n",
       "2013-01-05 -0.866339 -0.665597\n",
       "2013-01-06 -0.870676  1.330785"
      ]
     },
     "execution_count": 25,
     "metadata": {},
     "output_type": "execute_result"
    }
   ],
   "source": [
    "# all raws and specifc columns\n",
    "df.iloc[:, [0, 3]]"
   ]
  },
  {
   "cell_type": "code",
   "execution_count": 26,
   "id": "5b311f43-d81d-4db3-b506-8f766bed0293",
   "metadata": {
    "tags": []
   },
   "outputs": [
    {
     "data": {
      "text/plain": [
       "-0.4252571044445993"
      ]
     },
     "execution_count": 26,
     "metadata": {},
     "output_type": "execute_result"
    }
   ],
   "source": [
    "# access a cell i.e: scaler\n",
    "df.iloc[0, 0]"
   ]
  },
  {
   "cell_type": "code",
   "execution_count": 27,
   "id": "c9405093-5b20-4e58-84bd-006a16a07006",
   "metadata": {
    "tags": []
   },
   "outputs": [
    {
     "data": {
      "text/plain": [
       "-0.4252571044445993"
      ]
     },
     "execution_count": 27,
     "metadata": {},
     "output_type": "execute_result"
    }
   ],
   "source": [
    "# fast access to scaler\n",
    "df.iat[0, 0]"
   ]
  },
  {
   "cell_type": "markdown",
   "id": "136be68d-cb6f-4a2f-8ad8-716157532aec",
   "metadata": {},
   "source": [
    "## Boolean Indexing (same as numpy)"
   ]
  },
  {
   "cell_type": "code",
   "execution_count": 28,
   "id": "5441053c-19bc-44a5-b973-8bf81de22113",
   "metadata": {
    "tags": []
   },
   "outputs": [
    {
     "name": "stdout",
     "output_type": "stream",
     "text": [
      "[[[0.47927662 0.28809368 0.82244339]\n",
      "  [0.51659374 0.64435418 0.87809397]\n",
      "  [0.73366659 0.19584986 0.70529866]\n",
      "  [0.56878748 0.30013406 0.83171619]]\n",
      "\n",
      " [[0.79383201 0.75270092 0.69241547]\n",
      "  [0.90926306 0.98399996 0.51344855]\n",
      "  [0.40011565 0.59755785 0.96892875]\n",
      "  [0.39419945 0.68501253 0.37418332]]\n",
      "\n",
      " [[0.92098424 0.23363662 0.21261749]\n",
      "  [0.42072292 0.66415914 0.96975108]\n",
      "  [0.21831981 0.82182894 0.25385664]\n",
      "  [0.98368396 0.5976792  0.31495908]]\n",
      "\n",
      " [[0.32948508 0.73802704 0.15285024]\n",
      "  [0.94299142 0.19427269 0.28303086]\n",
      "  [0.93562908 0.7001414  0.56528329]\n",
      "  [0.60958029 0.01499147 0.00126431]]]\n"
     ]
    },
    {
     "data": {
      "text/plain": [
       "array([0.90926306, 0.98399996, 0.96892875, 0.92098424, 0.96975108,\n",
       "       0.98368396, 0.94299142, 0.93562908])"
      ]
     },
     "execution_count": 28,
     "metadata": {},
     "output_type": "execute_result"
    }
   ],
   "source": [
    "x = np.random.rand(4, 4, 3)\n",
    "print(x)\n",
    "x[x>.9]"
   ]
  },
  {
   "cell_type": "code",
   "execution_count": 29,
   "id": "f9a4434c-8595-41b4-bbc1-e529eb9ceeb5",
   "metadata": {
    "tags": []
   },
   "outputs": [
    {
     "name": "stdout",
     "output_type": "stream",
     "text": [
      "2013-01-01    False\n",
      "2013-01-02    False\n",
      "2013-01-03     True\n",
      "2013-01-04    False\n",
      "2013-01-05    False\n",
      "2013-01-06    False\n",
      "Freq: D, Name: A, dtype: bool\n",
      "\n"
     ]
    },
    {
     "data": {
      "text/html": [
       "<div>\n",
       "<style scoped>\n",
       "    .dataframe tbody tr th:only-of-type {\n",
       "        vertical-align: middle;\n",
       "    }\n",
       "\n",
       "    .dataframe tbody tr th {\n",
       "        vertical-align: top;\n",
       "    }\n",
       "\n",
       "    .dataframe thead th {\n",
       "        text-align: right;\n",
       "    }\n",
       "</style>\n",
       "<table border=\"1\" class=\"dataframe\">\n",
       "  <thead>\n",
       "    <tr style=\"text-align: right;\">\n",
       "      <th></th>\n",
       "      <th>A</th>\n",
       "      <th>B</th>\n",
       "      <th>C</th>\n",
       "      <th>D</th>\n",
       "    </tr>\n",
       "  </thead>\n",
       "  <tbody>\n",
       "    <tr>\n",
       "      <th>2013-01-03</th>\n",
       "      <td>0.069413</td>\n",
       "      <td>-0.13484</td>\n",
       "      <td>-1.160587</td>\n",
       "      <td>0.983197</td>\n",
       "    </tr>\n",
       "  </tbody>\n",
       "</table>\n",
       "</div>"
      ],
      "text/plain": [
       "                   A        B         C         D\n",
       "2013-01-03  0.069413 -0.13484 -1.160587  0.983197"
      ]
     },
     "execution_count": 29,
     "metadata": {},
     "output_type": "execute_result"
    }
   ],
   "source": [
    "# boolean indexng \n",
    "print(df.loc[:,'A']>0)\n",
    "print()\n",
    "df[df.loc[:, 'A']>0]"
   ]
  },
  {
   "cell_type": "code",
   "execution_count": 30,
   "id": "6196285a-bbd7-482a-9083-47827c7165f5",
   "metadata": {
    "tags": []
   },
   "outputs": [
    {
     "name": "stdout",
     "output_type": "stream",
     "text": [
      "                A      B      C\n",
      "2013-01-01  False   True  False\n",
      "2013-01-02  False   True  False\n",
      "2013-01-03   True  False  False\n",
      "2013-01-04  False  False  False\n",
      "2013-01-05  False  False  False\n",
      "2013-01-06  False  False  False\n",
      "                   A         B   C   D\n",
      "2013-01-01       NaN  1.073839 NaN NaN\n",
      "2013-01-02       NaN  0.864489 NaN NaN\n",
      "2013-01-03  0.069413       NaN NaN NaN\n",
      "2013-01-04       NaN       NaN NaN NaN\n",
      "2013-01-05       NaN       NaN NaN NaN\n",
      "2013-01-06       NaN       NaN NaN NaN\n"
     ]
    },
    {
     "name": "stderr",
     "output_type": "stream",
     "text": [
      "/tmp/ipykernel_7964/2630552352.py:6: UserWarning: Boolean Series key will be reindexed to match DataFrame index.\n",
      "  df[df['A']>0][df['B']>0]\n"
     ]
    },
    {
     "data": {
      "text/html": [
       "<div>\n",
       "<style scoped>\n",
       "    .dataframe tbody tr th:only-of-type {\n",
       "        vertical-align: middle;\n",
       "    }\n",
       "\n",
       "    .dataframe tbody tr th {\n",
       "        vertical-align: top;\n",
       "    }\n",
       "\n",
       "    .dataframe thead th {\n",
       "        text-align: right;\n",
       "    }\n",
       "</style>\n",
       "<table border=\"1\" class=\"dataframe\">\n",
       "  <thead>\n",
       "    <tr style=\"text-align: right;\">\n",
       "      <th></th>\n",
       "      <th>A</th>\n",
       "      <th>B</th>\n",
       "      <th>C</th>\n",
       "      <th>D</th>\n",
       "    </tr>\n",
       "  </thead>\n",
       "  <tbody>\n",
       "  </tbody>\n",
       "</table>\n",
       "</div>"
      ],
      "text/plain": [
       "Empty DataFrame\n",
       "Columns: [A, B, C, D]\n",
       "Index: []"
      ]
     },
     "execution_count": 30,
     "metadata": {},
     "output_type": "execute_result"
    }
   ],
   "source": [
    "# boolean indexing\n",
    "print(df.loc[:,'A':'C'] >0)\n",
    "print(df[df.loc[:,'A':'C'] >0])\n",
    "\n",
    "# correct way\n",
    "df[df['A']>0][df['B']>0]"
   ]
  },
  {
   "cell_type": "code",
   "execution_count": 31,
   "id": "d60a128b-d10b-44c2-858e-bbbf182f2456",
   "metadata": {
    "tags": []
   },
   "outputs": [
    {
     "data": {
      "text/html": [
       "<div>\n",
       "<style scoped>\n",
       "    .dataframe tbody tr th:only-of-type {\n",
       "        vertical-align: middle;\n",
       "    }\n",
       "\n",
       "    .dataframe tbody tr th {\n",
       "        vertical-align: top;\n",
       "    }\n",
       "\n",
       "    .dataframe thead th {\n",
       "        text-align: right;\n",
       "    }\n",
       "</style>\n",
       "<table border=\"1\" class=\"dataframe\">\n",
       "  <thead>\n",
       "    <tr style=\"text-align: right;\">\n",
       "      <th></th>\n",
       "      <th>A</th>\n",
       "      <th>B</th>\n",
       "      <th>C</th>\n",
       "      <th>D</th>\n",
       "      <th>E</th>\n",
       "    </tr>\n",
       "  </thead>\n",
       "  <tbody>\n",
       "    <tr>\n",
       "      <th>2013-01-01</th>\n",
       "      <td>-0.425257</td>\n",
       "      <td>1.073839</td>\n",
       "      <td>-1.190426</td>\n",
       "      <td>-1.590534</td>\n",
       "      <td>one</td>\n",
       "    </tr>\n",
       "    <tr>\n",
       "      <th>2013-01-02</th>\n",
       "      <td>-0.632742</td>\n",
       "      <td>0.864489</td>\n",
       "      <td>-1.904211</td>\n",
       "      <td>1.991019</td>\n",
       "      <td>one</td>\n",
       "    </tr>\n",
       "    <tr>\n",
       "      <th>2013-01-03</th>\n",
       "      <td>0.069413</td>\n",
       "      <td>-0.134840</td>\n",
       "      <td>-1.160587</td>\n",
       "      <td>0.983197</td>\n",
       "      <td>two</td>\n",
       "    </tr>\n",
       "    <tr>\n",
       "      <th>2013-01-04</th>\n",
       "      <td>-0.138401</td>\n",
       "      <td>-1.368630</td>\n",
       "      <td>-0.422709</td>\n",
       "      <td>-0.293634</td>\n",
       "      <td>three</td>\n",
       "    </tr>\n",
       "    <tr>\n",
       "      <th>2013-01-05</th>\n",
       "      <td>-0.866339</td>\n",
       "      <td>-0.810588</td>\n",
       "      <td>-0.017718</td>\n",
       "      <td>-0.665597</td>\n",
       "      <td>four</td>\n",
       "    </tr>\n",
       "    <tr>\n",
       "      <th>2013-01-06</th>\n",
       "      <td>-0.870676</td>\n",
       "      <td>-0.928153</td>\n",
       "      <td>-1.347181</td>\n",
       "      <td>1.330785</td>\n",
       "      <td>three</td>\n",
       "    </tr>\n",
       "  </tbody>\n",
       "</table>\n",
       "</div>"
      ],
      "text/plain": [
       "                   A         B         C         D      E\n",
       "2013-01-01 -0.425257  1.073839 -1.190426 -1.590534    one\n",
       "2013-01-02 -0.632742  0.864489 -1.904211  1.991019    one\n",
       "2013-01-03  0.069413 -0.134840 -1.160587  0.983197    two\n",
       "2013-01-04 -0.138401 -1.368630 -0.422709 -0.293634  three\n",
       "2013-01-05 -0.866339 -0.810588 -0.017718 -0.665597   four\n",
       "2013-01-06 -0.870676 -0.928153 -1.347181  1.330785  three"
      ]
     },
     "execution_count": 31,
     "metadata": {},
     "output_type": "execute_result"
    }
   ],
   "source": [
    "# using isin\n",
    "df2 = df.copy()\n",
    "df2['E'] = [\"one\", \"one\", \"two\", \"three\", \"four\", \"three\"]\n",
    "df2"
   ]
  },
  {
   "cell_type": "code",
   "execution_count": 32,
   "id": "fae13546-a4f6-41f3-8025-b07f01ed247d",
   "metadata": {
    "tags": []
   },
   "outputs": [
    {
     "name": "stdout",
     "output_type": "stream",
     "text": [
      "2013-01-01     True\n",
      "2013-01-02     True\n",
      "2013-01-03    False\n",
      "2013-01-04    False\n",
      "2013-01-05     True\n",
      "2013-01-06    False\n",
      "Freq: D, Name: E, dtype: bool\n"
     ]
    },
    {
     "data": {
      "text/html": [
       "<div>\n",
       "<style scoped>\n",
       "    .dataframe tbody tr th:only-of-type {\n",
       "        vertical-align: middle;\n",
       "    }\n",
       "\n",
       "    .dataframe tbody tr th {\n",
       "        vertical-align: top;\n",
       "    }\n",
       "\n",
       "    .dataframe thead th {\n",
       "        text-align: right;\n",
       "    }\n",
       "</style>\n",
       "<table border=\"1\" class=\"dataframe\">\n",
       "  <thead>\n",
       "    <tr style=\"text-align: right;\">\n",
       "      <th></th>\n",
       "      <th>A</th>\n",
       "      <th>B</th>\n",
       "      <th>C</th>\n",
       "      <th>D</th>\n",
       "      <th>E</th>\n",
       "    </tr>\n",
       "  </thead>\n",
       "  <tbody>\n",
       "    <tr>\n",
       "      <th>2013-01-01</th>\n",
       "      <td>-0.425257</td>\n",
       "      <td>1.073839</td>\n",
       "      <td>-1.190426</td>\n",
       "      <td>-1.590534</td>\n",
       "      <td>one</td>\n",
       "    </tr>\n",
       "    <tr>\n",
       "      <th>2013-01-02</th>\n",
       "      <td>-0.632742</td>\n",
       "      <td>0.864489</td>\n",
       "      <td>-1.904211</td>\n",
       "      <td>1.991019</td>\n",
       "      <td>one</td>\n",
       "    </tr>\n",
       "    <tr>\n",
       "      <th>2013-01-05</th>\n",
       "      <td>-0.866339</td>\n",
       "      <td>-0.810588</td>\n",
       "      <td>-0.017718</td>\n",
       "      <td>-0.665597</td>\n",
       "      <td>four</td>\n",
       "    </tr>\n",
       "  </tbody>\n",
       "</table>\n",
       "</div>"
      ],
      "text/plain": [
       "                   A         B         C         D     E\n",
       "2013-01-01 -0.425257  1.073839 -1.190426 -1.590534   one\n",
       "2013-01-02 -0.632742  0.864489 -1.904211  1.991019   one\n",
       "2013-01-05 -0.866339 -0.810588 -0.017718 -0.665597  four"
      ]
     },
     "execution_count": 32,
     "metadata": {},
     "output_type": "execute_result"
    }
   ],
   "source": [
    "print(df2['E'].isin(['one', 'four']))\n",
    "df2[df2['E'].isin(['one', 'four'])]"
   ]
  },
  {
   "cell_type": "markdown",
   "id": "8bb44ebf-9df7-4729-91eb-a4b9b90c8e3e",
   "metadata": {},
   "source": [
    "## Setting"
   ]
  },
  {
   "cell_type": "markdown",
   "id": "3a39fbbf-0b8e-4e17-983c-10dd8b0e9494",
   "metadata": {
    "tags": []
   },
   "source": [
    "### by label using: `DataFrame.loc[] = new_value`, `DataFrame.at[]= new_value`\n",
    "### by value  using: `DataFrame.iloc[] = new_value`, `DataFrame.iat[]= new_value`"
   ]
  },
  {
   "cell_type": "code",
   "execution_count": 33,
   "id": "01f8b7e3-6d78-4293-85c2-5c23730ccc69",
   "metadata": {
    "tags": []
   },
   "outputs": [
    {
     "name": "stdout",
     "output_type": "stream",
     "text": [
      "2013-01-02    1\n",
      "2013-01-03    2\n",
      "2013-01-04    3\n",
      "2013-01-05    4\n",
      "2013-01-06    5\n",
      "2013-01-07    6\n",
      "Freq: D, dtype: int32\n"
     ]
    },
    {
     "data": {
      "text/html": [
       "<div>\n",
       "<style scoped>\n",
       "    .dataframe tbody tr th:only-of-type {\n",
       "        vertical-align: middle;\n",
       "    }\n",
       "\n",
       "    .dataframe tbody tr th {\n",
       "        vertical-align: top;\n",
       "    }\n",
       "\n",
       "    .dataframe thead th {\n",
       "        text-align: right;\n",
       "    }\n",
       "</style>\n",
       "<table border=\"1\" class=\"dataframe\">\n",
       "  <thead>\n",
       "    <tr style=\"text-align: right;\">\n",
       "      <th></th>\n",
       "      <th>A</th>\n",
       "      <th>B</th>\n",
       "      <th>C</th>\n",
       "      <th>D</th>\n",
       "      <th>F</th>\n",
       "    </tr>\n",
       "  </thead>\n",
       "  <tbody>\n",
       "    <tr>\n",
       "      <th>2013-01-01</th>\n",
       "      <td>-0.425257</td>\n",
       "      <td>1.073839</td>\n",
       "      <td>-1.190426</td>\n",
       "      <td>-1.590534</td>\n",
       "      <td>NaN</td>\n",
       "    </tr>\n",
       "    <tr>\n",
       "      <th>2013-01-02</th>\n",
       "      <td>-0.632742</td>\n",
       "      <td>0.864489</td>\n",
       "      <td>-1.904211</td>\n",
       "      <td>1.991019</td>\n",
       "      <td>1.0</td>\n",
       "    </tr>\n",
       "    <tr>\n",
       "      <th>2013-01-03</th>\n",
       "      <td>0.069413</td>\n",
       "      <td>-0.134840</td>\n",
       "      <td>-1.160587</td>\n",
       "      <td>0.983197</td>\n",
       "      <td>2.0</td>\n",
       "    </tr>\n",
       "    <tr>\n",
       "      <th>2013-01-04</th>\n",
       "      <td>-0.138401</td>\n",
       "      <td>-1.368630</td>\n",
       "      <td>-0.422709</td>\n",
       "      <td>-0.293634</td>\n",
       "      <td>3.0</td>\n",
       "    </tr>\n",
       "    <tr>\n",
       "      <th>2013-01-05</th>\n",
       "      <td>-0.866339</td>\n",
       "      <td>-0.810588</td>\n",
       "      <td>-0.017718</td>\n",
       "      <td>-0.665597</td>\n",
       "      <td>4.0</td>\n",
       "    </tr>\n",
       "    <tr>\n",
       "      <th>2013-01-06</th>\n",
       "      <td>-0.870676</td>\n",
       "      <td>-0.928153</td>\n",
       "      <td>-1.347181</td>\n",
       "      <td>1.330785</td>\n",
       "      <td>5.0</td>\n",
       "    </tr>\n",
       "  </tbody>\n",
       "</table>\n",
       "</div>"
      ],
      "text/plain": [
       "                   A         B         C         D    F\n",
       "2013-01-01 -0.425257  1.073839 -1.190426 -1.590534  NaN\n",
       "2013-01-02 -0.632742  0.864489 -1.904211  1.991019  1.0\n",
       "2013-01-03  0.069413 -0.134840 -1.160587  0.983197  2.0\n",
       "2013-01-04 -0.138401 -1.368630 -0.422709 -0.293634  3.0\n",
       "2013-01-05 -0.866339 -0.810588 -0.017718 -0.665597  4.0\n",
       "2013-01-06 -0.870676 -0.928153 -1.347181  1.330785  5.0"
      ]
     },
     "execution_count": 33,
     "metadata": {},
     "output_type": "execute_result"
    }
   ],
   "source": [
    "# setting an elemnt in a series\n",
    "s1 = pd.Series(np.arange(1, 7, dtype=np.int32), index=pd.date_range('20130102', periods=6))\n",
    "print(s1)\n",
    "df['F'] = s1\n",
    "df"
   ]
  },
  {
   "cell_type": "code",
   "execution_count": 34,
   "id": "23114e2e-86fd-4d01-afb1-c048bbb2053b",
   "metadata": {
    "tags": []
   },
   "outputs": [
    {
     "data": {
      "text/html": [
       "<div>\n",
       "<style scoped>\n",
       "    .dataframe tbody tr th:only-of-type {\n",
       "        vertical-align: middle;\n",
       "    }\n",
       "\n",
       "    .dataframe tbody tr th {\n",
       "        vertical-align: top;\n",
       "    }\n",
       "\n",
       "    .dataframe thead th {\n",
       "        text-align: right;\n",
       "    }\n",
       "</style>\n",
       "<table border=\"1\" class=\"dataframe\">\n",
       "  <thead>\n",
       "    <tr style=\"text-align: right;\">\n",
       "      <th></th>\n",
       "      <th>A</th>\n",
       "      <th>B</th>\n",
       "      <th>C</th>\n",
       "      <th>D</th>\n",
       "      <th>F</th>\n",
       "    </tr>\n",
       "  </thead>\n",
       "  <tbody>\n",
       "    <tr>\n",
       "      <th>2013-01-01</th>\n",
       "      <td>-0.425257</td>\n",
       "      <td>1.073839</td>\n",
       "      <td>-1.190426</td>\n",
       "      <td>-1.590534</td>\n",
       "      <td>NaN</td>\n",
       "    </tr>\n",
       "    <tr>\n",
       "      <th>2013-01-02</th>\n",
       "      <td>0.000000</td>\n",
       "      <td>0.864489</td>\n",
       "      <td>-1.904211</td>\n",
       "      <td>1.991019</td>\n",
       "      <td>1.0</td>\n",
       "    </tr>\n",
       "    <tr>\n",
       "      <th>2013-01-03</th>\n",
       "      <td>0.069413</td>\n",
       "      <td>-0.134840</td>\n",
       "      <td>-1.160587</td>\n",
       "      <td>0.983197</td>\n",
       "      <td>2.0</td>\n",
       "    </tr>\n",
       "    <tr>\n",
       "      <th>2013-01-04</th>\n",
       "      <td>-0.138401</td>\n",
       "      <td>-1.368630</td>\n",
       "      <td>-0.422709</td>\n",
       "      <td>-0.293634</td>\n",
       "      <td>3.0</td>\n",
       "    </tr>\n",
       "    <tr>\n",
       "      <th>2013-01-05</th>\n",
       "      <td>-0.866339</td>\n",
       "      <td>-0.810588</td>\n",
       "      <td>-0.017718</td>\n",
       "      <td>-0.665597</td>\n",
       "      <td>4.0</td>\n",
       "    </tr>\n",
       "    <tr>\n",
       "      <th>2013-01-06</th>\n",
       "      <td>-0.870676</td>\n",
       "      <td>-0.928153</td>\n",
       "      <td>-1.347181</td>\n",
       "      <td>1.330785</td>\n",
       "      <td>5.0</td>\n",
       "    </tr>\n",
       "  </tbody>\n",
       "</table>\n",
       "</div>"
      ],
      "text/plain": [
       "                   A         B         C         D    F\n",
       "2013-01-01 -0.425257  1.073839 -1.190426 -1.590534  NaN\n",
       "2013-01-02  0.000000  0.864489 -1.904211  1.991019  1.0\n",
       "2013-01-03  0.069413 -0.134840 -1.160587  0.983197  2.0\n",
       "2013-01-04 -0.138401 -1.368630 -0.422709 -0.293634  3.0\n",
       "2013-01-05 -0.866339 -0.810588 -0.017718 -0.665597  4.0\n",
       "2013-01-06 -0.870676 -0.928153 -1.347181  1.330785  5.0"
      ]
     },
     "execution_count": 34,
     "metadata": {},
     "output_type": "execute_result"
    }
   ],
   "source": [
    "# setting the second raw, 'A' by \"label\"\n",
    "indcies = df.index\n",
    "df.loc[indcies[1], 'A'] = 0 # same as 'at'\n",
    "df"
   ]
  },
  {
   "cell_type": "code",
   "execution_count": 35,
   "id": "fd74f2e4-6115-48c7-a83a-6cba50566bea",
   "metadata": {
    "tags": []
   },
   "outputs": [
    {
     "data": {
      "text/html": [
       "<div>\n",
       "<style scoped>\n",
       "    .dataframe tbody tr th:only-of-type {\n",
       "        vertical-align: middle;\n",
       "    }\n",
       "\n",
       "    .dataframe tbody tr th {\n",
       "        vertical-align: top;\n",
       "    }\n",
       "\n",
       "    .dataframe thead th {\n",
       "        text-align: right;\n",
       "    }\n",
       "</style>\n",
       "<table border=\"1\" class=\"dataframe\">\n",
       "  <thead>\n",
       "    <tr style=\"text-align: right;\">\n",
       "      <th></th>\n",
       "      <th>A</th>\n",
       "      <th>B</th>\n",
       "      <th>C</th>\n",
       "      <th>D</th>\n",
       "      <th>F</th>\n",
       "    </tr>\n",
       "  </thead>\n",
       "  <tbody>\n",
       "    <tr>\n",
       "      <th>2013-01-01</th>\n",
       "      <td>-0.425257</td>\n",
       "      <td>1.073839</td>\n",
       "      <td>-1.190426</td>\n",
       "      <td>-1.590534</td>\n",
       "      <td>NaN</td>\n",
       "    </tr>\n",
       "    <tr>\n",
       "      <th>2013-01-02</th>\n",
       "      <td>0.000000</td>\n",
       "      <td>11.000000</td>\n",
       "      <td>-1.904211</td>\n",
       "      <td>1.991019</td>\n",
       "      <td>1.0</td>\n",
       "    </tr>\n",
       "    <tr>\n",
       "      <th>2013-01-03</th>\n",
       "      <td>0.069413</td>\n",
       "      <td>-0.134840</td>\n",
       "      <td>-1.160587</td>\n",
       "      <td>0.983197</td>\n",
       "      <td>2.0</td>\n",
       "    </tr>\n",
       "    <tr>\n",
       "      <th>2013-01-04</th>\n",
       "      <td>-0.138401</td>\n",
       "      <td>-1.368630</td>\n",
       "      <td>-0.422709</td>\n",
       "      <td>-0.293634</td>\n",
       "      <td>3.0</td>\n",
       "    </tr>\n",
       "    <tr>\n",
       "      <th>2013-01-05</th>\n",
       "      <td>-0.866339</td>\n",
       "      <td>-0.810588</td>\n",
       "      <td>-0.017718</td>\n",
       "      <td>-0.665597</td>\n",
       "      <td>4.0</td>\n",
       "    </tr>\n",
       "    <tr>\n",
       "      <th>2013-01-06</th>\n",
       "      <td>-0.870676</td>\n",
       "      <td>-0.928153</td>\n",
       "      <td>-1.347181</td>\n",
       "      <td>1.330785</td>\n",
       "      <td>5.0</td>\n",
       "    </tr>\n",
       "  </tbody>\n",
       "</table>\n",
       "</div>"
      ],
      "text/plain": [
       "                   A          B         C         D    F\n",
       "2013-01-01 -0.425257   1.073839 -1.190426 -1.590534  NaN\n",
       "2013-01-02  0.000000  11.000000 -1.904211  1.991019  1.0\n",
       "2013-01-03  0.069413  -0.134840 -1.160587  0.983197  2.0\n",
       "2013-01-04 -0.138401  -1.368630 -0.422709 -0.293634  3.0\n",
       "2013-01-05 -0.866339  -0.810588 -0.017718 -0.665597  4.0\n",
       "2013-01-06 -0.870676  -0.928153 -1.347181  1.330785  5.0"
      ]
     },
     "execution_count": 35,
     "metadata": {},
     "output_type": "execute_result"
    }
   ],
   "source": [
    "# setting second raw and second columns by \"value => index\"\n",
    "df.iloc[1, 1] = 11\n",
    "df"
   ]
  },
  {
   "cell_type": "code",
   "execution_count": 36,
   "id": "506dfc73-7a16-4aba-9b2d-db0392ed26d8",
   "metadata": {
    "tags": []
   },
   "outputs": [
    {
     "name": "stderr",
     "output_type": "stream",
     "text": [
      "/tmp/ipykernel_7964/3768638159.py:2: DeprecationWarning: In a future version, `df.iloc[:, i] = newvals` will attempt to set the values inplace instead of always setting a new array. To retain the old behavior, use either `df[df.columns[i]] = newvals` or, if columns are non-unique, `df.isetitem(i, newvals)`\n",
      "  df.loc[:, 'D'] = np.arange(len(df))\n"
     ]
    },
    {
     "data": {
      "text/html": [
       "<div>\n",
       "<style scoped>\n",
       "    .dataframe tbody tr th:only-of-type {\n",
       "        vertical-align: middle;\n",
       "    }\n",
       "\n",
       "    .dataframe tbody tr th {\n",
       "        vertical-align: top;\n",
       "    }\n",
       "\n",
       "    .dataframe thead th {\n",
       "        text-align: right;\n",
       "    }\n",
       "</style>\n",
       "<table border=\"1\" class=\"dataframe\">\n",
       "  <thead>\n",
       "    <tr style=\"text-align: right;\">\n",
       "      <th></th>\n",
       "      <th>A</th>\n",
       "      <th>B</th>\n",
       "      <th>C</th>\n",
       "      <th>D</th>\n",
       "      <th>F</th>\n",
       "    </tr>\n",
       "  </thead>\n",
       "  <tbody>\n",
       "    <tr>\n",
       "      <th>2013-01-01</th>\n",
       "      <td>-0.425257</td>\n",
       "      <td>1.073839</td>\n",
       "      <td>-1.190426</td>\n",
       "      <td>0</td>\n",
       "      <td>NaN</td>\n",
       "    </tr>\n",
       "    <tr>\n",
       "      <th>2013-01-02</th>\n",
       "      <td>0.000000</td>\n",
       "      <td>11.000000</td>\n",
       "      <td>-1.904211</td>\n",
       "      <td>1</td>\n",
       "      <td>1.0</td>\n",
       "    </tr>\n",
       "    <tr>\n",
       "      <th>2013-01-03</th>\n",
       "      <td>0.069413</td>\n",
       "      <td>-0.134840</td>\n",
       "      <td>-1.160587</td>\n",
       "      <td>2</td>\n",
       "      <td>2.0</td>\n",
       "    </tr>\n",
       "    <tr>\n",
       "      <th>2013-01-04</th>\n",
       "      <td>-0.138401</td>\n",
       "      <td>-1.368630</td>\n",
       "      <td>-0.422709</td>\n",
       "      <td>3</td>\n",
       "      <td>3.0</td>\n",
       "    </tr>\n",
       "    <tr>\n",
       "      <th>2013-01-05</th>\n",
       "      <td>-0.866339</td>\n",
       "      <td>-0.810588</td>\n",
       "      <td>-0.017718</td>\n",
       "      <td>4</td>\n",
       "      <td>4.0</td>\n",
       "    </tr>\n",
       "    <tr>\n",
       "      <th>2013-01-06</th>\n",
       "      <td>-0.870676</td>\n",
       "      <td>-0.928153</td>\n",
       "      <td>-1.347181</td>\n",
       "      <td>5</td>\n",
       "      <td>5.0</td>\n",
       "    </tr>\n",
       "  </tbody>\n",
       "</table>\n",
       "</div>"
      ],
      "text/plain": [
       "                   A          B         C  D    F\n",
       "2013-01-01 -0.425257   1.073839 -1.190426  0  NaN\n",
       "2013-01-02  0.000000  11.000000 -1.904211  1  1.0\n",
       "2013-01-03  0.069413  -0.134840 -1.160587  2  2.0\n",
       "2013-01-04 -0.138401  -1.368630 -0.422709  3  3.0\n",
       "2013-01-05 -0.866339  -0.810588 -0.017718  4  4.0\n",
       "2013-01-06 -0.870676  -0.928153 -1.347181  5  5.0"
      ]
     },
     "execution_count": 36,
     "metadata": {},
     "output_type": "execute_result"
    }
   ],
   "source": [
    "# setting a whole column\n",
    "df.loc[:, 'D'] = np.arange(len(df))\n",
    "df"
   ]
  },
  {
   "cell_type": "code",
   "execution_count": 37,
   "id": "74950725-cca3-42e1-92be-84e754bf7bfc",
   "metadata": {
    "tags": []
   },
   "outputs": [
    {
     "name": "stdout",
     "output_type": "stream",
     "text": [
      "LAST ELEMENT: \n",
      "                   A         B         C  D    F\n",
      "2013-01-05 -0.866339 -0.810588 -0.017718  4  4.0\n",
      "\n",
      "A   -0.870676\n",
      "B   -0.928153\n",
      "C   -1.347181\n",
      "D    5.000000\n",
      "F    5.000000\n",
      "Name: 2013-01-06 00:00:00, dtype: float64\n",
      "\n",
      "A   -0.870676\n",
      "B   -0.928153\n",
      "C   -1.347181\n",
      "D    5.000000\n",
      "F    5.000000\n",
      "Name: 2013-01-06 00:00:00, dtype: float64\n",
      "APPENDING ELEMENT: \n",
      "A    1.0\n",
      "B    2.0\n",
      "C    3.0\n",
      "D    4.0\n",
      "F    NaN\n",
      "Name: 2013-01-07 00:00:00, dtype: float64\n"
     ]
    }
   ],
   "source": [
    "# adding new raw\n",
    "\n",
    "#last elemnt\n",
    "print(f'LAST ELEMENT: \\n{df[-2:-1]}')\n",
    "print(f'\\n{df.iloc[-1]}')\n",
    "print(f'\\n{df.loc[df.index[-1]]}')\n",
    "\n",
    "#appending element\n",
    "l = df.index[-1]\n",
    "new_day = pd.Timestamp(year=l.year, month=l.month, day=l.day+1)\n",
    "df.loc[new_day] = {'A': 1, 'B': 2, 'C': 3, 'D':4}\n",
    "print(f'APPENDING ELEMENT: \\n{df.iloc[-1]}')\n",
    "\n",
    "\n",
    "#removing last raw\n",
    "df = df[:-1]"
   ]
  },
  {
   "cell_type": "code",
   "execution_count": 38,
   "id": "23d8381e-0cc2-473f-990b-5048ce6ee12e",
   "metadata": {
    "tags": []
   },
   "outputs": [
    {
     "data": {
      "text/html": [
       "<div>\n",
       "<style scoped>\n",
       "    .dataframe tbody tr th:only-of-type {\n",
       "        vertical-align: middle;\n",
       "    }\n",
       "\n",
       "    .dataframe tbody tr th {\n",
       "        vertical-align: top;\n",
       "    }\n",
       "\n",
       "    .dataframe thead th {\n",
       "        text-align: right;\n",
       "    }\n",
       "</style>\n",
       "<table border=\"1\" class=\"dataframe\">\n",
       "  <thead>\n",
       "    <tr style=\"text-align: right;\">\n",
       "      <th></th>\n",
       "      <th>A</th>\n",
       "      <th>B</th>\n",
       "      <th>C</th>\n",
       "      <th>D</th>\n",
       "      <th>F</th>\n",
       "    </tr>\n",
       "  </thead>\n",
       "  <tbody>\n",
       "    <tr>\n",
       "      <th>2013-01-01</th>\n",
       "      <td>-0.425257</td>\n",
       "      <td>1000.073839</td>\n",
       "      <td>-1.190426</td>\n",
       "      <td>0</td>\n",
       "      <td>NaN</td>\n",
       "    </tr>\n",
       "    <tr>\n",
       "      <th>2013-01-02</th>\n",
       "      <td>0.000000</td>\n",
       "      <td>1010.000000</td>\n",
       "      <td>-1.904211</td>\n",
       "      <td>1000</td>\n",
       "      <td>1000.0</td>\n",
       "    </tr>\n",
       "    <tr>\n",
       "      <th>2013-01-03</th>\n",
       "      <td>999.069413</td>\n",
       "      <td>-0.134840</td>\n",
       "      <td>-1.160587</td>\n",
       "      <td>1001</td>\n",
       "      <td>1001.0</td>\n",
       "    </tr>\n",
       "    <tr>\n",
       "      <th>2013-01-04</th>\n",
       "      <td>-0.138401</td>\n",
       "      <td>-1.368630</td>\n",
       "      <td>-0.422709</td>\n",
       "      <td>1002</td>\n",
       "      <td>1002.0</td>\n",
       "    </tr>\n",
       "    <tr>\n",
       "      <th>2013-01-05</th>\n",
       "      <td>-0.866339</td>\n",
       "      <td>-0.810588</td>\n",
       "      <td>-0.017718</td>\n",
       "      <td>1003</td>\n",
       "      <td>1003.0</td>\n",
       "    </tr>\n",
       "    <tr>\n",
       "      <th>2013-01-06</th>\n",
       "      <td>-0.870676</td>\n",
       "      <td>-0.928153</td>\n",
       "      <td>-1.347181</td>\n",
       "      <td>1004</td>\n",
       "      <td>1004.0</td>\n",
       "    </tr>\n",
       "  </tbody>\n",
       "</table>\n",
       "</div>"
      ],
      "text/plain": [
       "                     A            B         C     D       F\n",
       "2013-01-01   -0.425257  1000.073839 -1.190426     0     NaN\n",
       "2013-01-02    0.000000  1010.000000 -1.904211  1000  1000.0\n",
       "2013-01-03  999.069413    -0.134840 -1.160587  1001  1001.0\n",
       "2013-01-04   -0.138401    -1.368630 -0.422709  1002  1002.0\n",
       "2013-01-05   -0.866339    -0.810588 -0.017718  1003  1003.0\n",
       "2013-01-06   -0.870676    -0.928153 -1.347181  1004  1004.0"
      ]
     },
     "execution_count": 38,
     "metadata": {},
     "output_type": "execute_result"
    }
   ],
   "source": [
    "# usig 'where' operation\n",
    "df2 = df.copy()\n",
    "df2[df2 >0 ] = df2 + 999\n",
    "df2"
   ]
  },
  {
   "cell_type": "markdown",
   "id": "bac24550-1438-458c-bdd7-40334b28b630",
   "metadata": {},
   "source": [
    "## missing data"
   ]
  },
  {
   "cell_type": "code",
   "execution_count": 39,
   "id": "7124e1ec-bcf7-4e4b-8496-27cc7ecc14b7",
   "metadata": {
    "tags": []
   },
   "outputs": [
    {
     "data": {
      "text/html": [
       "<div>\n",
       "<style scoped>\n",
       "    .dataframe tbody tr th:only-of-type {\n",
       "        vertical-align: middle;\n",
       "    }\n",
       "\n",
       "    .dataframe tbody tr th {\n",
       "        vertical-align: top;\n",
       "    }\n",
       "\n",
       "    .dataframe thead th {\n",
       "        text-align: right;\n",
       "    }\n",
       "</style>\n",
       "<table border=\"1\" class=\"dataframe\">\n",
       "  <thead>\n",
       "    <tr style=\"text-align: right;\">\n",
       "      <th></th>\n",
       "      <th>A</th>\n",
       "      <th>B</th>\n",
       "      <th>C</th>\n",
       "      <th>D</th>\n",
       "      <th>F</th>\n",
       "      <th>E</th>\n",
       "    </tr>\n",
       "  </thead>\n",
       "  <tbody>\n",
       "    <tr>\n",
       "      <th>2013-01-01</th>\n",
       "      <td>-0.425257</td>\n",
       "      <td>1.073839</td>\n",
       "      <td>-1.190426</td>\n",
       "      <td>0</td>\n",
       "      <td>-1.0</td>\n",
       "      <td>1.0</td>\n",
       "    </tr>\n",
       "    <tr>\n",
       "      <th>2013-01-02</th>\n",
       "      <td>0.000000</td>\n",
       "      <td>11.000000</td>\n",
       "      <td>-1.904211</td>\n",
       "      <td>1</td>\n",
       "      <td>1.0</td>\n",
       "      <td>NaN</td>\n",
       "    </tr>\n",
       "    <tr>\n",
       "      <th>2013-01-03</th>\n",
       "      <td>0.069413</td>\n",
       "      <td>-0.134840</td>\n",
       "      <td>-1.160587</td>\n",
       "      <td>2</td>\n",
       "      <td>2.0</td>\n",
       "      <td>NaN</td>\n",
       "    </tr>\n",
       "    <tr>\n",
       "      <th>2013-01-04</th>\n",
       "      <td>-0.138401</td>\n",
       "      <td>-1.368630</td>\n",
       "      <td>-0.422709</td>\n",
       "      <td>3</td>\n",
       "      <td>3.0</td>\n",
       "      <td>NaN</td>\n",
       "    </tr>\n",
       "    <tr>\n",
       "      <th>2013-01-05</th>\n",
       "      <td>-0.866339</td>\n",
       "      <td>-0.810588</td>\n",
       "      <td>-0.017718</td>\n",
       "      <td>4</td>\n",
       "      <td>4.0</td>\n",
       "      <td>NaN</td>\n",
       "    </tr>\n",
       "    <tr>\n",
       "      <th>2013-01-06</th>\n",
       "      <td>-0.870676</td>\n",
       "      <td>-0.928153</td>\n",
       "      <td>-1.347181</td>\n",
       "      <td>5</td>\n",
       "      <td>5.0</td>\n",
       "      <td>NaN</td>\n",
       "    </tr>\n",
       "  </tbody>\n",
       "</table>\n",
       "</div>"
      ],
      "text/plain": [
       "                   A          B         C  D    F    E\n",
       "2013-01-01 -0.425257   1.073839 -1.190426  0 -1.0  1.0\n",
       "2013-01-02  0.000000  11.000000 -1.904211  1  1.0  NaN\n",
       "2013-01-03  0.069413  -0.134840 -1.160587  2  2.0  NaN\n",
       "2013-01-04 -0.138401  -1.368630 -0.422709  3  3.0  NaN\n",
       "2013-01-05 -0.866339  -0.810588 -0.017718  4  4.0  NaN\n",
       "2013-01-06 -0.870676  -0.928153 -1.347181  5  5.0  NaN"
      ]
     },
     "execution_count": 39,
     "metadata": {},
     "output_type": "execute_result"
    }
   ],
   "source": [
    "## reindex (i.e taking parts of the dataframe, or adding columns , or raws)\n",
    "df1 = df.reindex(index=df.index, columns=list(df.columns) + ['E'])\n",
    "df1.iloc[0, [-2, -1]] = [-1, 1]\n",
    "df1"
   ]
  },
  {
   "cell_type": "code",
   "execution_count": 40,
   "id": "8a639c46-cfd8-4fbf-acc9-8ff32e2c2e29",
   "metadata": {
    "tags": []
   },
   "outputs": [
    {
     "data": {
      "text/html": [
       "<div>\n",
       "<style scoped>\n",
       "    .dataframe tbody tr th:only-of-type {\n",
       "        vertical-align: middle;\n",
       "    }\n",
       "\n",
       "    .dataframe tbody tr th {\n",
       "        vertical-align: top;\n",
       "    }\n",
       "\n",
       "    .dataframe thead th {\n",
       "        text-align: right;\n",
       "    }\n",
       "</style>\n",
       "<table border=\"1\" class=\"dataframe\">\n",
       "  <thead>\n",
       "    <tr style=\"text-align: right;\">\n",
       "      <th></th>\n",
       "      <th>A</th>\n",
       "      <th>B</th>\n",
       "      <th>C</th>\n",
       "      <th>D</th>\n",
       "      <th>F</th>\n",
       "      <th>E</th>\n",
       "    </tr>\n",
       "  </thead>\n",
       "  <tbody>\n",
       "    <tr>\n",
       "      <th>2013-01-01</th>\n",
       "      <td>-0.425257</td>\n",
       "      <td>1.073839</td>\n",
       "      <td>-1.190426</td>\n",
       "      <td>0</td>\n",
       "      <td>-1.0</td>\n",
       "      <td>1.0</td>\n",
       "    </tr>\n",
       "  </tbody>\n",
       "</table>\n",
       "</div>"
      ],
      "text/plain": [
       "                   A         B         C  D    F    E\n",
       "2013-01-01 -0.425257  1.073839 -1.190426  0 -1.0  1.0"
      ]
     },
     "execution_count": 40,
     "metadata": {},
     "output_type": "execute_result"
    }
   ],
   "source": [
    "# dropiing np.nan values\n",
    "df1.dropna(how='any') # droping any raw that have no data"
   ]
  },
  {
   "cell_type": "code",
   "execution_count": 41,
   "id": "23fe2eea-579b-4268-a1ca-9e7bcbdc2ba3",
   "metadata": {
    "tags": []
   },
   "outputs": [
    {
     "name": "stdout",
     "output_type": "stream",
     "text": [
      "                   A          B         C    D    F    E\n",
      "2013-01-01 -0.425257   1.073839 -1.190426  0.0 -1.0  1.0\n",
      "2013-01-02  0.000000  11.000000 -1.904211  1.0  1.0  NaN\n",
      "2013-01-03  0.069413  -0.134840 -1.160587  2.0  2.0  NaN\n",
      "2013-01-04 -0.138401  -1.368630 -0.422709  3.0  3.0  NaN\n",
      "2013-01-05 -0.866339  -0.810588 -0.017718  4.0  4.0  NaN\n",
      "2013-01-06       NaN        NaN       NaN  NaN  NaN  NaN\n"
     ]
    },
    {
     "data": {
      "text/html": [
       "<div>\n",
       "<style scoped>\n",
       "    .dataframe tbody tr th:only-of-type {\n",
       "        vertical-align: middle;\n",
       "    }\n",
       "\n",
       "    .dataframe tbody tr th {\n",
       "        vertical-align: top;\n",
       "    }\n",
       "\n",
       "    .dataframe thead th {\n",
       "        text-align: right;\n",
       "    }\n",
       "</style>\n",
       "<table border=\"1\" class=\"dataframe\">\n",
       "  <thead>\n",
       "    <tr style=\"text-align: right;\">\n",
       "      <th></th>\n",
       "      <th>A</th>\n",
       "      <th>B</th>\n",
       "      <th>C</th>\n",
       "      <th>D</th>\n",
       "      <th>F</th>\n",
       "      <th>E</th>\n",
       "    </tr>\n",
       "  </thead>\n",
       "  <tbody>\n",
       "    <tr>\n",
       "      <th>2013-01-01</th>\n",
       "      <td>-0.425257</td>\n",
       "      <td>1.073839</td>\n",
       "      <td>-1.190426</td>\n",
       "      <td>0.0</td>\n",
       "      <td>-1.0</td>\n",
       "      <td>1.0</td>\n",
       "    </tr>\n",
       "    <tr>\n",
       "      <th>2013-01-02</th>\n",
       "      <td>0.000000</td>\n",
       "      <td>11.000000</td>\n",
       "      <td>-1.904211</td>\n",
       "      <td>1.0</td>\n",
       "      <td>1.0</td>\n",
       "      <td>NaN</td>\n",
       "    </tr>\n",
       "    <tr>\n",
       "      <th>2013-01-03</th>\n",
       "      <td>0.069413</td>\n",
       "      <td>-0.134840</td>\n",
       "      <td>-1.160587</td>\n",
       "      <td>2.0</td>\n",
       "      <td>2.0</td>\n",
       "      <td>NaN</td>\n",
       "    </tr>\n",
       "    <tr>\n",
       "      <th>2013-01-04</th>\n",
       "      <td>-0.138401</td>\n",
       "      <td>-1.368630</td>\n",
       "      <td>-0.422709</td>\n",
       "      <td>3.0</td>\n",
       "      <td>3.0</td>\n",
       "      <td>NaN</td>\n",
       "    </tr>\n",
       "    <tr>\n",
       "      <th>2013-01-05</th>\n",
       "      <td>-0.866339</td>\n",
       "      <td>-0.810588</td>\n",
       "      <td>-0.017718</td>\n",
       "      <td>4.0</td>\n",
       "      <td>4.0</td>\n",
       "      <td>NaN</td>\n",
       "    </tr>\n",
       "  </tbody>\n",
       "</table>\n",
       "</div>"
      ],
      "text/plain": [
       "                   A          B         C    D    F    E\n",
       "2013-01-01 -0.425257   1.073839 -1.190426  0.0 -1.0  1.0\n",
       "2013-01-02  0.000000  11.000000 -1.904211  1.0  1.0  NaN\n",
       "2013-01-03  0.069413  -0.134840 -1.160587  2.0  2.0  NaN\n",
       "2013-01-04 -0.138401  -1.368630 -0.422709  3.0  3.0  NaN\n",
       "2013-01-05 -0.866339  -0.810588 -0.017718  4.0  4.0  NaN"
      ]
     },
     "execution_count": 41,
     "metadata": {},
     "output_type": "execute_result"
    }
   ],
   "source": [
    "# drping a whole raw that have all columns have nan value\n",
    "df1.iloc[-1, :] = np.nan\n",
    "print(df1)\n",
    "df1.dropna(how='all')"
   ]
  },
  {
   "cell_type": "code",
   "execution_count": 42,
   "id": "7542a9e5-0c20-432a-82ca-4d7eb59627d9",
   "metadata": {
    "tags": []
   },
   "outputs": [
    {
     "data": {
      "text/html": [
       "<div>\n",
       "<style scoped>\n",
       "    .dataframe tbody tr th:only-of-type {\n",
       "        vertical-align: middle;\n",
       "    }\n",
       "\n",
       "    .dataframe tbody tr th {\n",
       "        vertical-align: top;\n",
       "    }\n",
       "\n",
       "    .dataframe thead th {\n",
       "        text-align: right;\n",
       "    }\n",
       "</style>\n",
       "<table border=\"1\" class=\"dataframe\">\n",
       "  <thead>\n",
       "    <tr style=\"text-align: right;\">\n",
       "      <th></th>\n",
       "      <th>A</th>\n",
       "      <th>B</th>\n",
       "      <th>C</th>\n",
       "      <th>D</th>\n",
       "      <th>F</th>\n",
       "      <th>E</th>\n",
       "    </tr>\n",
       "  </thead>\n",
       "  <tbody>\n",
       "    <tr>\n",
       "      <th>2013-01-01</th>\n",
       "      <td>-0.425257</td>\n",
       "      <td>1.073839</td>\n",
       "      <td>-1.190426</td>\n",
       "      <td>0.0</td>\n",
       "      <td>-1.0</td>\n",
       "      <td>1.0</td>\n",
       "    </tr>\n",
       "    <tr>\n",
       "      <th>2013-01-02</th>\n",
       "      <td>0.000000</td>\n",
       "      <td>11.000000</td>\n",
       "      <td>-1.904211</td>\n",
       "      <td>1.0</td>\n",
       "      <td>1.0</td>\n",
       "      <td>99.0</td>\n",
       "    </tr>\n",
       "    <tr>\n",
       "      <th>2013-01-03</th>\n",
       "      <td>0.069413</td>\n",
       "      <td>-0.134840</td>\n",
       "      <td>-1.160587</td>\n",
       "      <td>2.0</td>\n",
       "      <td>2.0</td>\n",
       "      <td>99.0</td>\n",
       "    </tr>\n",
       "    <tr>\n",
       "      <th>2013-01-04</th>\n",
       "      <td>-0.138401</td>\n",
       "      <td>-1.368630</td>\n",
       "      <td>-0.422709</td>\n",
       "      <td>3.0</td>\n",
       "      <td>3.0</td>\n",
       "      <td>99.0</td>\n",
       "    </tr>\n",
       "    <tr>\n",
       "      <th>2013-01-05</th>\n",
       "      <td>-0.866339</td>\n",
       "      <td>-0.810588</td>\n",
       "      <td>-0.017718</td>\n",
       "      <td>4.0</td>\n",
       "      <td>4.0</td>\n",
       "      <td>99.0</td>\n",
       "    </tr>\n",
       "    <tr>\n",
       "      <th>2013-01-06</th>\n",
       "      <td>99.000000</td>\n",
       "      <td>99.000000</td>\n",
       "      <td>99.000000</td>\n",
       "      <td>99.0</td>\n",
       "      <td>99.0</td>\n",
       "      <td>99.0</td>\n",
       "    </tr>\n",
       "  </tbody>\n",
       "</table>\n",
       "</div>"
      ],
      "text/plain": [
       "                    A          B          C     D     F     E\n",
       "2013-01-01  -0.425257   1.073839  -1.190426   0.0  -1.0   1.0\n",
       "2013-01-02   0.000000  11.000000  -1.904211   1.0   1.0  99.0\n",
       "2013-01-03   0.069413  -0.134840  -1.160587   2.0   2.0  99.0\n",
       "2013-01-04  -0.138401  -1.368630  -0.422709   3.0   3.0  99.0\n",
       "2013-01-05  -0.866339  -0.810588  -0.017718   4.0   4.0  99.0\n",
       "2013-01-06  99.000000  99.000000  99.000000  99.0  99.0  99.0"
      ]
     },
     "execution_count": 42,
     "metadata": {},
     "output_type": "execute_result"
    }
   ],
   "source": [
    "# filling NaN\n",
    "df1.fillna(value=99)"
   ]
  },
  {
   "cell_type": "code",
   "execution_count": 43,
   "id": "01c0e90c-23c8-4f4d-b89a-2501118d21e7",
   "metadata": {
    "tags": []
   },
   "outputs": [
    {
     "data": {
      "text/html": [
       "<div>\n",
       "<style scoped>\n",
       "    .dataframe tbody tr th:only-of-type {\n",
       "        vertical-align: middle;\n",
       "    }\n",
       "\n",
       "    .dataframe tbody tr th {\n",
       "        vertical-align: top;\n",
       "    }\n",
       "\n",
       "    .dataframe thead th {\n",
       "        text-align: right;\n",
       "    }\n",
       "</style>\n",
       "<table border=\"1\" class=\"dataframe\">\n",
       "  <thead>\n",
       "    <tr style=\"text-align: right;\">\n",
       "      <th></th>\n",
       "      <th>A</th>\n",
       "      <th>B</th>\n",
       "      <th>C</th>\n",
       "      <th>D</th>\n",
       "      <th>F</th>\n",
       "      <th>E</th>\n",
       "    </tr>\n",
       "  </thead>\n",
       "  <tbody>\n",
       "    <tr>\n",
       "      <th>2013-01-01</th>\n",
       "      <td>False</td>\n",
       "      <td>False</td>\n",
       "      <td>False</td>\n",
       "      <td>False</td>\n",
       "      <td>False</td>\n",
       "      <td>False</td>\n",
       "    </tr>\n",
       "    <tr>\n",
       "      <th>2013-01-02</th>\n",
       "      <td>False</td>\n",
       "      <td>False</td>\n",
       "      <td>False</td>\n",
       "      <td>False</td>\n",
       "      <td>False</td>\n",
       "      <td>True</td>\n",
       "    </tr>\n",
       "    <tr>\n",
       "      <th>2013-01-03</th>\n",
       "      <td>False</td>\n",
       "      <td>False</td>\n",
       "      <td>False</td>\n",
       "      <td>False</td>\n",
       "      <td>False</td>\n",
       "      <td>True</td>\n",
       "    </tr>\n",
       "    <tr>\n",
       "      <th>2013-01-04</th>\n",
       "      <td>False</td>\n",
       "      <td>False</td>\n",
       "      <td>False</td>\n",
       "      <td>False</td>\n",
       "      <td>False</td>\n",
       "      <td>True</td>\n",
       "    </tr>\n",
       "    <tr>\n",
       "      <th>2013-01-05</th>\n",
       "      <td>False</td>\n",
       "      <td>False</td>\n",
       "      <td>False</td>\n",
       "      <td>False</td>\n",
       "      <td>False</td>\n",
       "      <td>True</td>\n",
       "    </tr>\n",
       "    <tr>\n",
       "      <th>2013-01-06</th>\n",
       "      <td>True</td>\n",
       "      <td>True</td>\n",
       "      <td>True</td>\n",
       "      <td>True</td>\n",
       "      <td>True</td>\n",
       "      <td>True</td>\n",
       "    </tr>\n",
       "  </tbody>\n",
       "</table>\n",
       "</div>"
      ],
      "text/plain": [
       "                A      B      C      D      F      E\n",
       "2013-01-01  False  False  False  False  False  False\n",
       "2013-01-02  False  False  False  False  False   True\n",
       "2013-01-03  False  False  False  False  False   True\n",
       "2013-01-04  False  False  False  False  False   True\n",
       "2013-01-05  False  False  False  False  False   True\n",
       "2013-01-06   True   True   True   True   True   True"
      ]
     },
     "execution_count": 43,
     "metadata": {},
     "output_type": "execute_result"
    }
   ],
   "source": [
    "# isna\n",
    "df1.isna()"
   ]
  },
  {
   "cell_type": "code",
   "execution_count": 44,
   "id": "ce7236a4-029d-407e-b039-9e063e740c1f",
   "metadata": {
    "tags": []
   },
   "outputs": [
    {
     "data": {
      "text/html": [
       "<div>\n",
       "<style scoped>\n",
       "    .dataframe tbody tr th:only-of-type {\n",
       "        vertical-align: middle;\n",
       "    }\n",
       "\n",
       "    .dataframe tbody tr th {\n",
       "        vertical-align: top;\n",
       "    }\n",
       "\n",
       "    .dataframe thead th {\n",
       "        text-align: right;\n",
       "    }\n",
       "</style>\n",
       "<table border=\"1\" class=\"dataframe\">\n",
       "  <thead>\n",
       "    <tr style=\"text-align: right;\">\n",
       "      <th></th>\n",
       "      <th>A</th>\n",
       "      <th>B</th>\n",
       "      <th>C</th>\n",
       "      <th>D</th>\n",
       "      <th>F</th>\n",
       "      <th>E</th>\n",
       "    </tr>\n",
       "  </thead>\n",
       "  <tbody>\n",
       "    <tr>\n",
       "      <th>2013-01-01</th>\n",
       "      <td>-0.425257</td>\n",
       "      <td>1.073839</td>\n",
       "      <td>-1.190426</td>\n",
       "      <td>0.0</td>\n",
       "      <td>-1.0</td>\n",
       "      <td>1.0</td>\n",
       "    </tr>\n",
       "    <tr>\n",
       "      <th>2013-01-02</th>\n",
       "      <td>0.000000</td>\n",
       "      <td>11.000000</td>\n",
       "      <td>-1.904211</td>\n",
       "      <td>1.0</td>\n",
       "      <td>1.0</td>\n",
       "      <td>99.0</td>\n",
       "    </tr>\n",
       "    <tr>\n",
       "      <th>2013-01-03</th>\n",
       "      <td>0.069413</td>\n",
       "      <td>-0.134840</td>\n",
       "      <td>-1.160587</td>\n",
       "      <td>2.0</td>\n",
       "      <td>2.0</td>\n",
       "      <td>99.0</td>\n",
       "    </tr>\n",
       "    <tr>\n",
       "      <th>2013-01-04</th>\n",
       "      <td>-0.138401</td>\n",
       "      <td>-1.368630</td>\n",
       "      <td>-0.422709</td>\n",
       "      <td>3.0</td>\n",
       "      <td>3.0</td>\n",
       "      <td>99.0</td>\n",
       "    </tr>\n",
       "    <tr>\n",
       "      <th>2013-01-05</th>\n",
       "      <td>-0.866339</td>\n",
       "      <td>-0.810588</td>\n",
       "      <td>-0.017718</td>\n",
       "      <td>4.0</td>\n",
       "      <td>4.0</td>\n",
       "      <td>99.0</td>\n",
       "    </tr>\n",
       "    <tr>\n",
       "      <th>2013-01-06</th>\n",
       "      <td>99.000000</td>\n",
       "      <td>99.000000</td>\n",
       "      <td>99.000000</td>\n",
       "      <td>99.0</td>\n",
       "      <td>99.0</td>\n",
       "      <td>99.0</td>\n",
       "    </tr>\n",
       "  </tbody>\n",
       "</table>\n",
       "</div>"
      ],
      "text/plain": [
       "                    A          B          C     D     F     E\n",
       "2013-01-01  -0.425257   1.073839  -1.190426   0.0  -1.0   1.0\n",
       "2013-01-02   0.000000  11.000000  -1.904211   1.0   1.0  99.0\n",
       "2013-01-03   0.069413  -0.134840  -1.160587   2.0   2.0  99.0\n",
       "2013-01-04  -0.138401  -1.368630  -0.422709   3.0   3.0  99.0\n",
       "2013-01-05  -0.866339  -0.810588  -0.017718   4.0   4.0  99.0\n",
       "2013-01-06  99.000000  99.000000  99.000000  99.0  99.0  99.0"
      ]
     },
     "execution_count": 44,
     "metadata": {},
     "output_type": "execute_result"
    }
   ],
   "source": [
    "df1[df1.isna()] = 99\n",
    "df1"
   ]
  },
  {
   "cell_type": "markdown",
   "id": "199e735f-9cea-4b98-ad4e-a13cb2f3df7c",
   "metadata": {},
   "source": [
    "## Operations"
   ]
  },
  {
   "cell_type": "markdown",
   "id": "decda876-338c-4fb7-a6df-c1229dc87387",
   "metadata": {},
   "source": [
    "### opearation can be done in two ways:\n",
    "### `df + x`\n",
    "* + can be +, -, \\ ,* .....\n",
    "* x can be:\n",
    "    * df\n",
    "    * a series or 1D-array or 1D-list (having same lenth as the columns)\n",
    "### using the name of the opeation: `DataFrame.add(x, axis=)\n",
    "* the axis: raw:0, columns:1"
   ]
  },
  {
   "cell_type": "code",
   "execution_count": 45,
   "id": "ee3554f4-abfc-4da5-994b-d3a081a1e64a",
   "metadata": {
    "tags": []
   },
   "outputs": [
    {
     "name": "stdout",
     "output_type": "stream",
     "text": [
      "A   -0.371877\n",
      "B    1.471938\n",
      "C   -1.007139\n",
      "D    2.500000\n",
      "F    3.000000\n",
      "dtype: float64\n",
      "A   -0.371877\n",
      "B    1.471938\n",
      "C   -1.007139\n",
      "D    2.500000\n",
      "F    3.000000\n",
      "Name: mean, dtype: float64\n"
     ]
    },
    {
     "data": {
      "text/plain": [
       "2013-01-01   -0.135461\n",
       "2013-01-02    2.219158\n",
       "2013-01-03    0.554797\n",
       "2013-01-04    0.814052\n",
       "2013-01-05    1.261071\n",
       "2013-01-06    1.370798\n",
       "dtype: float64"
      ]
     },
     "execution_count": 45,
     "metadata": {},
     "output_type": "execute_result"
    }
   ],
   "source": [
    "# Statistcs: mean, std, count, ...\n",
    "print(df.mean(axis=0)) # axis=0 accross columns, axis=1 accross raws\n",
    "print(df.describe().loc['mean', :])\n",
    "\n",
    "# but we can not get the mean for raws\n",
    "df.mean(axis=1)"
   ]
  },
  {
   "cell_type": "code",
   "execution_count": 46,
   "id": "e41f74cc-0c5a-457e-b1fc-30c83bbb2d6b",
   "metadata": {
    "tags": []
   },
   "outputs": [
    {
     "data": {
      "text/plain": [
       "A   -0.371877\n",
       "B    1.471938\n",
       "C   -1.007139\n",
       "D    2.500000\n",
       "F    3.000000\n",
       "Name: mean, dtype: float64"
      ]
     },
     "execution_count": 46,
     "metadata": {},
     "output_type": "execute_result"
    }
   ],
   "source": [
    "df.describe().loc['mean',:]"
   ]
  },
  {
   "cell_type": "code",
   "execution_count": 47,
   "id": "8d5c4525-0577-4207-8cab-4772d5d203f6",
   "metadata": {
    "tags": []
   },
   "outputs": [
    {
     "name": "stdout",
     "output_type": "stream",
     "text": [
      "2013-01-01    1.0\n",
      "2013-01-02    3.0\n",
      "2013-01-03    5.0\n",
      "2013-01-04    NaN\n",
      "2013-01-05    8.0\n",
      "2013-01-06    8.0\n",
      "dtype: float64\n",
      "\n",
      "2013-01-01    NaN\n",
      "2013-01-02    NaN\n",
      "2013-01-03    1.0\n",
      "2013-01-04    3.0\n",
      "2013-01-05    5.0\n",
      "2013-01-06    NaN\n",
      "dtype: float64\n"
     ]
    },
    {
     "data": {
      "text/html": [
       "<div>\n",
       "<style scoped>\n",
       "    .dataframe tbody tr th:only-of-type {\n",
       "        vertical-align: middle;\n",
       "    }\n",
       "\n",
       "    .dataframe tbody tr th {\n",
       "        vertical-align: top;\n",
       "    }\n",
       "\n",
       "    .dataframe thead th {\n",
       "        text-align: right;\n",
       "    }\n",
       "</style>\n",
       "<table border=\"1\" class=\"dataframe\">\n",
       "  <thead>\n",
       "    <tr style=\"text-align: right;\">\n",
       "      <th></th>\n",
       "      <th>A</th>\n",
       "      <th>B</th>\n",
       "      <th>C</th>\n",
       "      <th>D</th>\n",
       "      <th>F</th>\n",
       "    </tr>\n",
       "  </thead>\n",
       "  <tbody>\n",
       "    <tr>\n",
       "      <th>2013-01-01</th>\n",
       "      <td>NaN</td>\n",
       "      <td>NaN</td>\n",
       "      <td>NaN</td>\n",
       "      <td>NaN</td>\n",
       "      <td>NaN</td>\n",
       "    </tr>\n",
       "    <tr>\n",
       "      <th>2013-01-02</th>\n",
       "      <td>NaN</td>\n",
       "      <td>NaN</td>\n",
       "      <td>NaN</td>\n",
       "      <td>NaN</td>\n",
       "      <td>NaN</td>\n",
       "    </tr>\n",
       "    <tr>\n",
       "      <th>2013-01-03</th>\n",
       "      <td>-0.930587</td>\n",
       "      <td>-1.134840</td>\n",
       "      <td>-2.160587</td>\n",
       "      <td>1.0</td>\n",
       "      <td>1.0</td>\n",
       "    </tr>\n",
       "    <tr>\n",
       "      <th>2013-01-04</th>\n",
       "      <td>-3.138401</td>\n",
       "      <td>-4.368630</td>\n",
       "      <td>-3.422709</td>\n",
       "      <td>0.0</td>\n",
       "      <td>0.0</td>\n",
       "    </tr>\n",
       "    <tr>\n",
       "      <th>2013-01-05</th>\n",
       "      <td>-5.866339</td>\n",
       "      <td>-5.810588</td>\n",
       "      <td>-5.017718</td>\n",
       "      <td>-1.0</td>\n",
       "      <td>-1.0</td>\n",
       "    </tr>\n",
       "    <tr>\n",
       "      <th>2013-01-06</th>\n",
       "      <td>NaN</td>\n",
       "      <td>NaN</td>\n",
       "      <td>NaN</td>\n",
       "      <td>NaN</td>\n",
       "      <td>NaN</td>\n",
       "    </tr>\n",
       "  </tbody>\n",
       "</table>\n",
       "</div>"
      ],
      "text/plain": [
       "                   A         B         C    D    F\n",
       "2013-01-01       NaN       NaN       NaN  NaN  NaN\n",
       "2013-01-02       NaN       NaN       NaN  NaN  NaN\n",
       "2013-01-03 -0.930587 -1.134840 -2.160587  1.0  1.0\n",
       "2013-01-04 -3.138401 -4.368630 -3.422709  0.0  0.0\n",
       "2013-01-05 -5.866339 -5.810588 -5.017718 -1.0 -1.0\n",
       "2013-01-06       NaN       NaN       NaN  NaN  NaN"
      ]
     },
     "execution_count": 47,
     "metadata": {},
     "output_type": "execute_result"
    }
   ],
   "source": [
    "s = pd.Series([1, 3, 5, np.nan, 8, 8], index=df.index)\n",
    "print(s)\n",
    "s = s.shift(2)\n",
    "print(f'\\n{s}')\n",
    "\n",
    "\n",
    "# subtracting s form each column\n",
    "df.sub(s, axis='index') # axis: index: 0, columns: 1"
   ]
  },
  {
   "cell_type": "code",
   "execution_count": 48,
   "id": "b95ba5df-0ff3-4a58-a613-9cc26f315c17",
   "metadata": {
    "tags": []
   },
   "outputs": [
    {
     "name": "stdout",
     "output_type": "stream",
     "text": [
      "                   A          B         C  D    F\n",
      "2013-01-01 -0.425257   0.073839 -3.190426 -3  NaN\n",
      "2013-01-02  0.000000  10.000000 -3.904211 -2 -3.0\n",
      "2013-01-03  0.069413  -1.134840 -3.160587 -1 -2.0\n",
      "2013-01-04 -0.138401  -2.368630 -2.422709  0 -1.0\n",
      "2013-01-05 -0.866339  -1.810588 -2.017718  1  0.0\n",
      "2013-01-06 -0.870676  -1.928153 -3.347181  2  1.0\n"
     ]
    },
    {
     "data": {
      "text/html": [
       "<div>\n",
       "<style scoped>\n",
       "    .dataframe tbody tr th:only-of-type {\n",
       "        vertical-align: middle;\n",
       "    }\n",
       "\n",
       "    .dataframe tbody tr th {\n",
       "        vertical-align: top;\n",
       "    }\n",
       "\n",
       "    .dataframe thead th {\n",
       "        text-align: right;\n",
       "    }\n",
       "</style>\n",
       "<table border=\"1\" class=\"dataframe\">\n",
       "  <thead>\n",
       "    <tr style=\"text-align: right;\">\n",
       "      <th></th>\n",
       "      <th>A</th>\n",
       "      <th>B</th>\n",
       "      <th>C</th>\n",
       "      <th>D</th>\n",
       "      <th>F</th>\n",
       "    </tr>\n",
       "  </thead>\n",
       "  <tbody>\n",
       "    <tr>\n",
       "      <th>2013-01-01</th>\n",
       "      <td>True</td>\n",
       "      <td>True</td>\n",
       "      <td>True</td>\n",
       "      <td>True</td>\n",
       "      <td>False</td>\n",
       "    </tr>\n",
       "    <tr>\n",
       "      <th>2013-01-02</th>\n",
       "      <td>True</td>\n",
       "      <td>True</td>\n",
       "      <td>True</td>\n",
       "      <td>True</td>\n",
       "      <td>True</td>\n",
       "    </tr>\n",
       "    <tr>\n",
       "      <th>2013-01-03</th>\n",
       "      <td>True</td>\n",
       "      <td>True</td>\n",
       "      <td>True</td>\n",
       "      <td>True</td>\n",
       "      <td>True</td>\n",
       "    </tr>\n",
       "    <tr>\n",
       "      <th>2013-01-04</th>\n",
       "      <td>True</td>\n",
       "      <td>True</td>\n",
       "      <td>True</td>\n",
       "      <td>True</td>\n",
       "      <td>True</td>\n",
       "    </tr>\n",
       "    <tr>\n",
       "      <th>2013-01-05</th>\n",
       "      <td>True</td>\n",
       "      <td>True</td>\n",
       "      <td>True</td>\n",
       "      <td>True</td>\n",
       "      <td>True</td>\n",
       "    </tr>\n",
       "    <tr>\n",
       "      <th>2013-01-06</th>\n",
       "      <td>True</td>\n",
       "      <td>True</td>\n",
       "      <td>True</td>\n",
       "      <td>True</td>\n",
       "      <td>True</td>\n",
       "    </tr>\n",
       "  </tbody>\n",
       "</table>\n",
       "</div>"
      ],
      "text/plain": [
       "               A     B     C     D      F\n",
       "2013-01-01  True  True  True  True  False\n",
       "2013-01-02  True  True  True  True   True\n",
       "2013-01-03  True  True  True  True   True\n",
       "2013-01-04  True  True  True  True   True\n",
       "2013-01-05  True  True  True  True   True\n",
       "2013-01-06  True  True  True  True   True"
      ]
     },
     "execution_count": 48,
     "metadata": {},
     "output_type": "execute_result"
    }
   ],
   "source": [
    "# applying operating in diffrent way:\n",
    "sub = df - np.arange(df.shape[1])\n",
    "print(sub)\n",
    "# broad casting\n",
    "sub2 = df.sub(np.arange(df.shape[1]), axis=1)\n",
    "sub2 == sub"
   ]
  },
  {
   "cell_type": "code",
   "execution_count": 49,
   "id": "0f15fd69-87bb-426e-99c1-1bd3790134bc",
   "metadata": {
    "tags": []
   },
   "outputs": [
    {
     "data": {
      "text/html": [
       "<div>\n",
       "<style scoped>\n",
       "    .dataframe tbody tr th:only-of-type {\n",
       "        vertical-align: middle;\n",
       "    }\n",
       "\n",
       "    .dataframe tbody tr th {\n",
       "        vertical-align: top;\n",
       "    }\n",
       "\n",
       "    .dataframe thead th {\n",
       "        text-align: right;\n",
       "    }\n",
       "</style>\n",
       "<table border=\"1\" class=\"dataframe\">\n",
       "  <thead>\n",
       "    <tr style=\"text-align: right;\">\n",
       "      <th></th>\n",
       "      <th>A</th>\n",
       "      <th>B</th>\n",
       "      <th>C</th>\n",
       "      <th>D</th>\n",
       "      <th>F</th>\n",
       "    </tr>\n",
       "  </thead>\n",
       "  <tbody>\n",
       "    <tr>\n",
       "      <th>2013-01-01</th>\n",
       "      <td>0.0</td>\n",
       "      <td>0.0</td>\n",
       "      <td>0.0</td>\n",
       "      <td>0</td>\n",
       "      <td>NaN</td>\n",
       "    </tr>\n",
       "    <tr>\n",
       "      <th>2013-01-02</th>\n",
       "      <td>0.0</td>\n",
       "      <td>0.0</td>\n",
       "      <td>0.0</td>\n",
       "      <td>0</td>\n",
       "      <td>0.0</td>\n",
       "    </tr>\n",
       "    <tr>\n",
       "      <th>2013-01-03</th>\n",
       "      <td>0.0</td>\n",
       "      <td>0.0</td>\n",
       "      <td>0.0</td>\n",
       "      <td>0</td>\n",
       "      <td>0.0</td>\n",
       "    </tr>\n",
       "    <tr>\n",
       "      <th>2013-01-04</th>\n",
       "      <td>0.0</td>\n",
       "      <td>0.0</td>\n",
       "      <td>0.0</td>\n",
       "      <td>0</td>\n",
       "      <td>0.0</td>\n",
       "    </tr>\n",
       "    <tr>\n",
       "      <th>2013-01-05</th>\n",
       "      <td>0.0</td>\n",
       "      <td>0.0</td>\n",
       "      <td>0.0</td>\n",
       "      <td>0</td>\n",
       "      <td>0.0</td>\n",
       "    </tr>\n",
       "    <tr>\n",
       "      <th>2013-01-06</th>\n",
       "      <td>0.0</td>\n",
       "      <td>0.0</td>\n",
       "      <td>0.0</td>\n",
       "      <td>0</td>\n",
       "      <td>0.0</td>\n",
       "    </tr>\n",
       "  </tbody>\n",
       "</table>\n",
       "</div>"
      ],
      "text/plain": [
       "              A    B    C  D    F\n",
       "2013-01-01  0.0  0.0  0.0  0  NaN\n",
       "2013-01-02  0.0  0.0  0.0  0  0.0\n",
       "2013-01-03  0.0  0.0  0.0  0  0.0\n",
       "2013-01-04  0.0  0.0  0.0  0  0.0\n",
       "2013-01-05  0.0  0.0  0.0  0  0.0\n",
       "2013-01-06  0.0  0.0  0.0  0  0.0"
      ]
     },
     "execution_count": 49,
     "metadata": {},
     "output_type": "execute_result"
    }
   ],
   "source": [
    "# data frame\n",
    "df2 = df.copy()\n",
    "df - df2"
   ]
  },
  {
   "cell_type": "markdown",
   "id": "a2b921b9-879f-49d0-9b5c-775f9c74bb9c",
   "metadata": {
    "tags": []
   },
   "source": [
    "## Apply `DataFrame.apply(func, axis=0, raw=False, result_type=None, args=(), **kwargs)` [link](https://pandas.pydata.org/pandas-docs/stable/reference/api/pandas.DataFrame.apply.html)\n",
    "* args: tuple input to the func\n"
   ]
  },
  {
   "cell_type": "code",
   "execution_count": 50,
   "id": "64f1dd99-6424-483b-a5f6-cea736ace548",
   "metadata": {
    "tags": []
   },
   "outputs": [
    {
     "data": {
      "text/plain": [
       "A     0.940089\n",
       "B    12.368630\n",
       "C     1.886493\n",
       "D     5.000000\n",
       "F     4.000000\n",
       "dtype: float64"
      ]
     },
     "execution_count": 50,
     "metadata": {},
     "output_type": "execute_result"
    }
   ],
   "source": [
    "df.apply(lambda x: x.max() - x.min(), axis=0)"
   ]
  },
  {
   "cell_type": "code",
   "execution_count": 51,
   "id": "aad6bcd3-b87d-4ee3-8f97-be8df5be76fb",
   "metadata": {
    "tags": []
   },
   "outputs": [
    {
     "data": {
      "text/plain": [
       "2013-01-01     2.264265\n",
       "2013-01-02    12.904211\n",
       "2013-01-03     3.160587\n",
       "2013-01-04     4.368630\n",
       "2013-01-05     4.866339\n",
       "2013-01-06     6.347181\n",
       "dtype: float64"
      ]
     },
     "execution_count": 51,
     "metadata": {},
     "output_type": "execute_result"
    }
   ],
   "source": [
    "df.apply(lambda x: x.max() - x.min(), axis=1)"
   ]
  },
  {
   "cell_type": "code",
   "execution_count": 52,
   "id": "9677441b-b717-49ed-bf94-a326d41a03ec",
   "metadata": {
    "tags": []
   },
   "outputs": [
    {
     "name": "stdout",
     "output_type": "stream",
     "text": [
      "                   A          B         C  D    F\n",
      "2013-01-01 -0.425257   1.073839 -1.190426  0  NaN\n",
      "2013-01-02  0.000000  11.000000 -1.904211  1  1.0\n",
      "2013-01-03  0.069413  -0.134840 -1.160587  2  2.0\n",
      "2013-01-04 -0.138401  -1.368630 -0.422709  3  3.0\n",
      "2013-01-05 -0.866339  -0.810588 -0.017718  4  4.0\n",
      "2013-01-06 -0.870676  -0.928153 -1.347181  5  5.0\n"
     ]
    },
    {
     "data": {
      "text/html": [
       "<div>\n",
       "<style scoped>\n",
       "    .dataframe tbody tr th:only-of-type {\n",
       "        vertical-align: middle;\n",
       "    }\n",
       "\n",
       "    .dataframe tbody tr th {\n",
       "        vertical-align: top;\n",
       "    }\n",
       "\n",
       "    .dataframe thead th {\n",
       "        text-align: right;\n",
       "    }\n",
       "</style>\n",
       "<table border=\"1\" class=\"dataframe\">\n",
       "  <thead>\n",
       "    <tr style=\"text-align: right;\">\n",
       "      <th></th>\n",
       "      <th>A</th>\n",
       "      <th>B</th>\n",
       "      <th>C</th>\n",
       "      <th>D</th>\n",
       "      <th>F</th>\n",
       "    </tr>\n",
       "  </thead>\n",
       "  <tbody>\n",
       "    <tr>\n",
       "      <th>2013-01-01</th>\n",
       "      <td>NaN</td>\n",
       "      <td>1.036262</td>\n",
       "      <td>NaN</td>\n",
       "      <td>0.000000</td>\n",
       "      <td>NaN</td>\n",
       "    </tr>\n",
       "    <tr>\n",
       "      <th>2013-01-02</th>\n",
       "      <td>0.000000</td>\n",
       "      <td>3.316625</td>\n",
       "      <td>NaN</td>\n",
       "      <td>1.000000</td>\n",
       "      <td>1.000000</td>\n",
       "    </tr>\n",
       "    <tr>\n",
       "      <th>2013-01-03</th>\n",
       "      <td>0.263464</td>\n",
       "      <td>NaN</td>\n",
       "      <td>NaN</td>\n",
       "      <td>1.414214</td>\n",
       "      <td>1.414214</td>\n",
       "    </tr>\n",
       "    <tr>\n",
       "      <th>2013-01-04</th>\n",
       "      <td>NaN</td>\n",
       "      <td>NaN</td>\n",
       "      <td>NaN</td>\n",
       "      <td>1.732051</td>\n",
       "      <td>1.732051</td>\n",
       "    </tr>\n",
       "    <tr>\n",
       "      <th>2013-01-05</th>\n",
       "      <td>NaN</td>\n",
       "      <td>NaN</td>\n",
       "      <td>NaN</td>\n",
       "      <td>2.000000</td>\n",
       "      <td>2.000000</td>\n",
       "    </tr>\n",
       "    <tr>\n",
       "      <th>2013-01-06</th>\n",
       "      <td>NaN</td>\n",
       "      <td>NaN</td>\n",
       "      <td>NaN</td>\n",
       "      <td>2.236068</td>\n",
       "      <td>2.236068</td>\n",
       "    </tr>\n",
       "  </tbody>\n",
       "</table>\n",
       "</div>"
      ],
      "text/plain": [
       "                   A         B   C         D         F\n",
       "2013-01-01       NaN  1.036262 NaN  0.000000       NaN\n",
       "2013-01-02  0.000000  3.316625 NaN  1.000000  1.000000\n",
       "2013-01-03  0.263464       NaN NaN  1.414214  1.414214\n",
       "2013-01-04       NaN       NaN NaN  1.732051  1.732051\n",
       "2013-01-05       NaN       NaN NaN  2.000000  2.000000\n",
       "2013-01-06       NaN       NaN NaN  2.236068  2.236068"
      ]
     },
     "execution_count": 52,
     "metadata": {},
     "output_type": "execute_result"
    }
   ],
   "source": [
    "print(df)\n",
    "df.apply(np.sqrt)"
   ]
  },
  {
   "cell_type": "code",
   "execution_count": 53,
   "id": "72621062-75bf-4484-8217-25622048d290",
   "metadata": {
    "tags": []
   },
   "outputs": [
    {
     "data": {
      "text/plain": [
       "A    -2.231261\n",
       "B     8.831629\n",
       "C    -6.042833\n",
       "D    15.000000\n",
       "F    15.000000\n",
       "dtype: float64"
      ]
     },
     "execution_count": 53,
     "metadata": {},
     "output_type": "execute_result"
    }
   ],
   "source": [
    "df.apply(np.sum, axis=0)"
   ]
  },
  {
   "cell_type": "code",
   "execution_count": 54,
   "id": "0d6a7949-bc37-4dcb-aac6-abebf5a369c5",
   "metadata": {
    "tags": []
   },
   "outputs": [
    {
     "data": {
      "text/plain": [
       "A    0.009401\n",
       "B    0.123686\n",
       "C    0.018865\n",
       "D    0.050000\n",
       "F    0.040000\n",
       "dtype: float64"
      ]
     },
     "execution_count": 54,
     "metadata": {},
     "output_type": "execute_result"
    }
   ],
   "source": [
    "def apply_func(raw, norm=1):\n",
    "    return (raw.max() - raw.min())/norm\n",
    "\n",
    "df.apply(func=apply_func, args=(100,), axis=0)"
   ]
  },
  {
   "cell_type": "markdown",
   "id": "5eaf3f23-9c15-49ed-8c6e-a507de679886",
   "metadata": {
    "tags": []
   },
   "source": [
    "### histogram `Datagrame/Series.values_count()`"
   ]
  },
  {
   "cell_type": "code",
   "execution_count": 55,
   "id": "ea1021a2-b1a8-437b-93c6-e84a3402574f",
   "metadata": {
    "tags": []
   },
   "outputs": [
    {
     "name": "stdout",
     "output_type": "stream",
     "text": [
      "0    4\n",
      "1    0\n",
      "2    6\n",
      "3    4\n",
      "4    6\n",
      "5    6\n",
      "6    4\n",
      "7    2\n",
      "8    2\n",
      "9    4\n",
      "dtype: int64\n"
     ]
    },
    {
     "data": {
      "text/plain": [
       "4    4\n",
       "6    3\n",
       "2    2\n",
       "0    1\n",
       "dtype: int64"
      ]
     },
     "execution_count": 55,
     "metadata": {},
     "output_type": "execute_result"
    }
   ],
   "source": [
    "s = pd.Series(np.random.randint(0, 7, size=10))\n",
    "print(s)\n",
    "s.value_counts()"
   ]
  },
  {
   "cell_type": "markdown",
   "id": "2dc64d4c-291f-46fb-b5a9-2d7a28553ecf",
   "metadata": {},
   "source": [
    "## Strings [link](https://pandas.pydata.org/docs/user_guide/text.html#text-string-methods)\n",
    "All the string methos is under `Dataframe/Series.str.opeation`"
   ]
  },
  {
   "cell_type": "code",
   "execution_count": 56,
   "id": "e720d1d7-ecf8-47ed-8d61-54b36db8c3b0",
   "metadata": {
    "tags": []
   },
   "outputs": [
    {
     "data": {
      "text/plain": [
       "0       a\n",
       "1       b\n",
       "2       c\n",
       "3    aaba\n",
       "4    baca\n",
       "5     NaN\n",
       "6    caba\n",
       "7     dog\n",
       "8     cat\n",
       "dtype: object"
      ]
     },
     "execution_count": 56,
     "metadata": {},
     "output_type": "execute_result"
    }
   ],
   "source": [
    "s = pd.Series([\"A\", \"B\", \"C\", \"Aaba\", \"Baca\", np.nan, \"CABA\", \"dog\", \"cat\"])\n",
    "s.str.lower()\n"
   ]
  },
  {
   "cell_type": "markdown",
   "id": "d81f749b-5bff-427a-8be7-52353741b1ac",
   "metadata": {
    "tags": []
   },
   "source": [
    "## Merging"
   ]
  },
  {
   "cell_type": "markdown",
   "id": "b637e053-2313-4d0b-81a1-56194249b8f8",
   "metadata": {},
   "source": [
    "### `pandas.concat(objs, *, axis=0, join='outer', ignore_index=False, keys=None, levels=None, names=None, verify_integrity=False, sort=False, copy=True)`[link](https://pandas.pydata.org/pandas-docs/stable/reference/api/pandas.concat.html?highlight=concate)\n",
    "\n",
    "Adding columns to Dataframe is fast,but adding raws it typically slow so they recommnet donig this outsied pandas"
   ]
  },
  {
   "cell_type": "code",
   "execution_count": 57,
   "id": "f7b86e37-ebb8-444c-b98e-17460c340118",
   "metadata": {
    "tags": []
   },
   "outputs": [
    {
     "name": "stdout",
     "output_type": "stream",
     "text": [
      "          a         b         c         d\n",
      "0 -0.408607  1.054289  0.661450 -0.200488\n",
      "1 -0.309663  1.143868 -0.136029  1.004096\n",
      "2  0.855865 -0.713300 -0.245034 -0.430730\n",
      "3  1.444833 -1.627208 -0.723739 -0.123298\n",
      "4 -1.163698 -1.498641  0.196549  0.555421\n",
      "5 -0.186559 -0.041125  0.395136  0.424093\n",
      "6  1.246717  0.136085 -0.572998 -0.017136\n",
      "7 -0.122110  1.877894 -0.689002 -1.326687\n",
      "8  0.506550  1.838176  0.609289  0.785389\n",
      "9  0.758354  1.131296  0.486824 -0.777377\n"
     ]
    },
    {
     "data": {
      "text/html": [
       "<div>\n",
       "<style scoped>\n",
       "    .dataframe tbody tr th:only-of-type {\n",
       "        vertical-align: middle;\n",
       "    }\n",
       "\n",
       "    .dataframe tbody tr th {\n",
       "        vertical-align: top;\n",
       "    }\n",
       "\n",
       "    .dataframe thead th {\n",
       "        text-align: right;\n",
       "    }\n",
       "</style>\n",
       "<table border=\"1\" class=\"dataframe\">\n",
       "  <thead>\n",
       "    <tr style=\"text-align: right;\">\n",
       "      <th></th>\n",
       "      <th>a</th>\n",
       "      <th>b</th>\n",
       "      <th>c</th>\n",
       "      <th>d</th>\n",
       "    </tr>\n",
       "  </thead>\n",
       "  <tbody>\n",
       "    <tr>\n",
       "      <th>0</th>\n",
       "      <td>-0.408607</td>\n",
       "      <td>1.054289</td>\n",
       "      <td>0.661450</td>\n",
       "      <td>-0.200488</td>\n",
       "    </tr>\n",
       "    <tr>\n",
       "      <th>1</th>\n",
       "      <td>-0.309663</td>\n",
       "      <td>1.143868</td>\n",
       "      <td>-0.136029</td>\n",
       "      <td>1.004096</td>\n",
       "    </tr>\n",
       "    <tr>\n",
       "      <th>2</th>\n",
       "      <td>0.855865</td>\n",
       "      <td>-0.713300</td>\n",
       "      <td>-0.245034</td>\n",
       "      <td>-0.430730</td>\n",
       "    </tr>\n",
       "    <tr>\n",
       "      <th>4</th>\n",
       "      <td>-1.163698</td>\n",
       "      <td>-1.498641</td>\n",
       "      <td>0.196549</td>\n",
       "      <td>0.555421</td>\n",
       "    </tr>\n",
       "  </tbody>\n",
       "</table>\n",
       "</div>"
      ],
      "text/plain": [
       "          a         b         c         d\n",
       "0 -0.408607  1.054289  0.661450 -0.200488\n",
       "1 -0.309663  1.143868 -0.136029  1.004096\n",
       "2  0.855865 -0.713300 -0.245034 -0.430730\n",
       "4 -1.163698 -1.498641  0.196549  0.555421"
      ]
     },
     "execution_count": 57,
     "metadata": {},
     "output_type": "execute_result"
    }
   ],
   "source": [
    "df = pd.DataFrame(np.random.randn(10, 4), columns=['a', 'b', 'c', 'd'])\n",
    "print(df)\n",
    "\n",
    "pieces = df[:1], df[1:3], df[4:5]\n",
    "pd.concat(list(pieces)) # list or tupple same"
   ]
  },
  {
   "cell_type": "code",
   "execution_count": 58,
   "id": "b6e0804f-29be-4b49-a55e-4cb9e680f1a2",
   "metadata": {
    "tags": []
   },
   "outputs": [
    {
     "data": {
      "text/html": [
       "<div>\n",
       "<style scoped>\n",
       "    .dataframe tbody tr th:only-of-type {\n",
       "        vertical-align: middle;\n",
       "    }\n",
       "\n",
       "    .dataframe tbody tr th {\n",
       "        vertical-align: top;\n",
       "    }\n",
       "\n",
       "    .dataframe thead th {\n",
       "        text-align: right;\n",
       "    }\n",
       "</style>\n",
       "<table border=\"1\" class=\"dataframe\">\n",
       "  <thead>\n",
       "    <tr style=\"text-align: right;\">\n",
       "      <th></th>\n",
       "      <th>a</th>\n",
       "      <th>d</th>\n",
       "    </tr>\n",
       "  </thead>\n",
       "  <tbody>\n",
       "    <tr>\n",
       "      <th>0</th>\n",
       "      <td>-0.408607</td>\n",
       "      <td>-0.200488</td>\n",
       "    </tr>\n",
       "    <tr>\n",
       "      <th>1</th>\n",
       "      <td>-0.309663</td>\n",
       "      <td>1.004096</td>\n",
       "    </tr>\n",
       "    <tr>\n",
       "      <th>2</th>\n",
       "      <td>0.855865</td>\n",
       "      <td>-0.430730</td>\n",
       "    </tr>\n",
       "    <tr>\n",
       "      <th>3</th>\n",
       "      <td>1.444833</td>\n",
       "      <td>-0.123298</td>\n",
       "    </tr>\n",
       "    <tr>\n",
       "      <th>4</th>\n",
       "      <td>-1.163698</td>\n",
       "      <td>0.555421</td>\n",
       "    </tr>\n",
       "    <tr>\n",
       "      <th>5</th>\n",
       "      <td>-0.186559</td>\n",
       "      <td>0.424093</td>\n",
       "    </tr>\n",
       "    <tr>\n",
       "      <th>6</th>\n",
       "      <td>1.246717</td>\n",
       "      <td>-0.017136</td>\n",
       "    </tr>\n",
       "    <tr>\n",
       "      <th>7</th>\n",
       "      <td>-0.122110</td>\n",
       "      <td>-1.326687</td>\n",
       "    </tr>\n",
       "    <tr>\n",
       "      <th>8</th>\n",
       "      <td>0.506550</td>\n",
       "      <td>0.785389</td>\n",
       "    </tr>\n",
       "    <tr>\n",
       "      <th>9</th>\n",
       "      <td>0.758354</td>\n",
       "      <td>-0.777377</td>\n",
       "    </tr>\n",
       "  </tbody>\n",
       "</table>\n",
       "</div>"
      ],
      "text/plain": [
       "          a         d\n",
       "0 -0.408607 -0.200488\n",
       "1 -0.309663  1.004096\n",
       "2  0.855865 -0.430730\n",
       "3  1.444833 -0.123298\n",
       "4 -1.163698  0.555421\n",
       "5 -0.186559  0.424093\n",
       "6  1.246717 -0.017136\n",
       "7 -0.122110 -1.326687\n",
       "8  0.506550  0.785389\n",
       "9  0.758354 -0.777377"
      ]
     },
     "execution_count": 58,
     "metadata": {},
     "output_type": "execute_result"
    }
   ],
   "source": [
    "cols = df.iloc[:, 0], df.iloc[:, -1]\n",
    "pd.concat(cols, axis=1)"
   ]
  },
  {
   "cell_type": "markdown",
   "id": "ff31932b-5e7f-466e-a0b1-49a294275aaa",
   "metadata": {},
   "source": [
    "### Joing two dataframs `pandas.merge(left, right, how='inner', on=None, left_on=None, right_on=None, left_index=False, right_index=False, sort=False, suffixes=('_x', '_y'), copy=True, indicator=False, validate=None)`  [link](https://pandas.pydata.org/docs/reference/api/pandas.merge.html#pandas.merge)\n",
    "\n",
    "Database joining style: applying a merging over same columns"
   ]
  },
  {
   "cell_type": "code",
   "execution_count": 59,
   "id": "36f8ded1-82f7-4d5b-b9e0-c8bebc491747",
   "metadata": {
    "tags": []
   },
   "outputs": [
    {
     "name": "stdout",
     "output_type": "stream",
     "text": [
      "  TheName  leftVal  RightVal\n",
      "0     foo        1         4\n",
      "1     foo        1         5\n",
      "2     foo        2         4\n",
      "3     foo        2         5\n"
     ]
    },
    {
     "data": {
      "text/html": [
       "<div>\n",
       "<style scoped>\n",
       "    .dataframe tbody tr th:only-of-type {\n",
       "        vertical-align: middle;\n",
       "    }\n",
       "\n",
       "    .dataframe tbody tr th {\n",
       "        vertical-align: top;\n",
       "    }\n",
       "\n",
       "    .dataframe thead th {\n",
       "        text-align: right;\n",
       "    }\n",
       "</style>\n",
       "<table border=\"1\" class=\"dataframe\">\n",
       "  <thead>\n",
       "    <tr style=\"text-align: right;\">\n",
       "      <th></th>\n",
       "      <th>TheName</th>\n",
       "      <th>leftVal</th>\n",
       "      <th>TheName</th>\n",
       "      <th>RightVal</th>\n",
       "    </tr>\n",
       "  </thead>\n",
       "  <tbody>\n",
       "    <tr>\n",
       "      <th>0</th>\n",
       "      <td>foo</td>\n",
       "      <td>1</td>\n",
       "      <td>foo</td>\n",
       "      <td>4</td>\n",
       "    </tr>\n",
       "    <tr>\n",
       "      <th>1</th>\n",
       "      <td>foo</td>\n",
       "      <td>2</td>\n",
       "      <td>foo</td>\n",
       "      <td>5</td>\n",
       "    </tr>\n",
       "  </tbody>\n",
       "</table>\n",
       "</div>"
      ],
      "text/plain": [
       "  TheName  leftVal TheName  RightVal\n",
       "0     foo        1     foo         4\n",
       "1     foo        2     foo         5"
      ]
     },
     "execution_count": 59,
     "metadata": {},
     "output_type": "execute_result"
    }
   ],
   "source": [
    "left = pd.DataFrame({\"TheName\": [\"foo\", \"foo\"], \"leftVal\": [1, 2]})\n",
    "right = pd.DataFrame({\"TheName\": [\"foo\", \"foo\"], \"RightVal\": [4, 5]})\n",
    "\n",
    "\n",
    "print(pd.merge(left, right, on=['TheName']))\n",
    "pd.concat([left, right], axis=1) \n",
    "# on= a list of indexNames, or columnsName (i.e: labels)"
   ]
  },
  {
   "cell_type": "code",
   "execution_count": 60,
   "id": "36a1c6f3-7f89-4fad-a7d2-d46de9d951ca",
   "metadata": {
    "tags": []
   },
   "outputs": [
    {
     "data": {
      "text/html": [
       "<div>\n",
       "<style scoped>\n",
       "    .dataframe tbody tr th:only-of-type {\n",
       "        vertical-align: middle;\n",
       "    }\n",
       "\n",
       "    .dataframe tbody tr th {\n",
       "        vertical-align: top;\n",
       "    }\n",
       "\n",
       "    .dataframe thead th {\n",
       "        text-align: right;\n",
       "    }\n",
       "</style>\n",
       "<table border=\"1\" class=\"dataframe\">\n",
       "  <thead>\n",
       "    <tr style=\"text-align: right;\">\n",
       "      <th></th>\n",
       "      <th>TheName</th>\n",
       "      <th>leftVal</th>\n",
       "      <th>RightVal</th>\n",
       "    </tr>\n",
       "  </thead>\n",
       "  <tbody>\n",
       "    <tr>\n",
       "      <th>0</th>\n",
       "      <td>foo</td>\n",
       "      <td>1</td>\n",
       "      <td>4</td>\n",
       "    </tr>\n",
       "    <tr>\n",
       "      <th>1</th>\n",
       "      <td>bar</td>\n",
       "      <td>2</td>\n",
       "      <td>5</td>\n",
       "    </tr>\n",
       "  </tbody>\n",
       "</table>\n",
       "</div>"
      ],
      "text/plain": [
       "  TheName  leftVal  RightVal\n",
       "0     foo        1         4\n",
       "1     bar        2         5"
      ]
     },
     "execution_count": 60,
     "metadata": {},
     "output_type": "execute_result"
    }
   ],
   "source": [
    "left = pd.DataFrame({\"TheName\": [\"foo\", \"bar\"], \"leftVal\": [1, 2]})\n",
    "right = pd.DataFrame({\"TheName\": [\"foo\", \"bar\"], \"RightVal\": [4, 5]})\n",
    "\n",
    "\n",
    "pd.merge(left, right, on=['TheName'])"
   ]
  },
  {
   "cell_type": "markdown",
   "id": "65baab3b-e2d1-4d85-af5e-2c08f0ea1d89",
   "metadata": {
    "tags": []
   },
   "source": [
    "## Grouping "
   ]
  },
  {
   "cell_type": "code",
   "execution_count": 61,
   "id": "636fe872-f88d-411c-8c14-d5da85b96ce9",
   "metadata": {
    "tags": []
   },
   "outputs": [
    {
     "data": {
      "text/html": [
       "<div>\n",
       "<style scoped>\n",
       "    .dataframe tbody tr th:only-of-type {\n",
       "        vertical-align: middle;\n",
       "    }\n",
       "\n",
       "    .dataframe tbody tr th {\n",
       "        vertical-align: top;\n",
       "    }\n",
       "\n",
       "    .dataframe thead th {\n",
       "        text-align: right;\n",
       "    }\n",
       "</style>\n",
       "<table border=\"1\" class=\"dataframe\">\n",
       "  <thead>\n",
       "    <tr style=\"text-align: right;\">\n",
       "      <th></th>\n",
       "      <th>A</th>\n",
       "      <th>B</th>\n",
       "      <th>C</th>\n",
       "      <th>D</th>\n",
       "    </tr>\n",
       "  </thead>\n",
       "  <tbody>\n",
       "    <tr>\n",
       "      <th>0</th>\n",
       "      <td>foo</td>\n",
       "      <td>one</td>\n",
       "      <td>0</td>\n",
       "      <td>0</td>\n",
       "    </tr>\n",
       "    <tr>\n",
       "      <th>1</th>\n",
       "      <td>bar</td>\n",
       "      <td>one</td>\n",
       "      <td>1</td>\n",
       "      <td>10</td>\n",
       "    </tr>\n",
       "    <tr>\n",
       "      <th>2</th>\n",
       "      <td>foo</td>\n",
       "      <td>two</td>\n",
       "      <td>2</td>\n",
       "      <td>20</td>\n",
       "    </tr>\n",
       "    <tr>\n",
       "      <th>3</th>\n",
       "      <td>bar</td>\n",
       "      <td>three</td>\n",
       "      <td>3</td>\n",
       "      <td>30</td>\n",
       "    </tr>\n",
       "    <tr>\n",
       "      <th>4</th>\n",
       "      <td>foo</td>\n",
       "      <td>two</td>\n",
       "      <td>4</td>\n",
       "      <td>40</td>\n",
       "    </tr>\n",
       "    <tr>\n",
       "      <th>5</th>\n",
       "      <td>bar</td>\n",
       "      <td>two</td>\n",
       "      <td>5</td>\n",
       "      <td>50</td>\n",
       "    </tr>\n",
       "    <tr>\n",
       "      <th>6</th>\n",
       "      <td>foo</td>\n",
       "      <td>one</td>\n",
       "      <td>6</td>\n",
       "      <td>60</td>\n",
       "    </tr>\n",
       "    <tr>\n",
       "      <th>7</th>\n",
       "      <td>foo</td>\n",
       "      <td>three</td>\n",
       "      <td>7</td>\n",
       "      <td>70</td>\n",
       "    </tr>\n",
       "  </tbody>\n",
       "</table>\n",
       "</div>"
      ],
      "text/plain": [
       "     A      B  C   D\n",
       "0  foo    one  0   0\n",
       "1  bar    one  1  10\n",
       "2  foo    two  2  20\n",
       "3  bar  three  3  30\n",
       "4  foo    two  4  40\n",
       "5  bar    two  5  50\n",
       "6  foo    one  6  60\n",
       "7  foo  three  7  70"
      ]
     },
     "execution_count": 61,
     "metadata": {},
     "output_type": "execute_result"
    }
   ],
   "source": [
    "df = pd.DataFrame(\n",
    "    {\n",
    "        \"A\": [\"foo\", \"bar\", \"foo\", \"bar\", \"foo\", \"bar\", \"foo\", \"foo\"],\n",
    "        \"B\": [\"one\", \"one\", \"two\", \"three\", \"two\", \"two\", \"one\", \"three\"],\n",
    "        \"C\": np.arange(8),\n",
    "        \"D\": np.arange(8)*10,\n",
    "    }\n",
    ")\n",
    "df"
   ]
  },
  {
   "cell_type": "code",
   "execution_count": 62,
   "id": "d6b74c02-b529-4a71-9031-dfd4304af76e",
   "metadata": {
    "tags": []
   },
   "outputs": [
    {
     "name": "stdout",
     "output_type": "stream",
     "text": [
      "<pandas.core.groupby.generic.DataFrameGroupBy object at 0x7f047a1ceec0>\n"
     ]
    },
    {
     "data": {
      "text/html": [
       "<div>\n",
       "<style scoped>\n",
       "    .dataframe tbody tr th:only-of-type {\n",
       "        vertical-align: middle;\n",
       "    }\n",
       "\n",
       "    .dataframe tbody tr th {\n",
       "        vertical-align: top;\n",
       "    }\n",
       "\n",
       "    .dataframe thead th {\n",
       "        text-align: right;\n",
       "    }\n",
       "</style>\n",
       "<table border=\"1\" class=\"dataframe\">\n",
       "  <thead>\n",
       "    <tr style=\"text-align: right;\">\n",
       "      <th></th>\n",
       "      <th>C</th>\n",
       "      <th>D</th>\n",
       "    </tr>\n",
       "    <tr>\n",
       "      <th>A</th>\n",
       "      <th></th>\n",
       "      <th></th>\n",
       "    </tr>\n",
       "  </thead>\n",
       "  <tbody>\n",
       "    <tr>\n",
       "      <th>bar</th>\n",
       "      <td>9</td>\n",
       "      <td>90</td>\n",
       "    </tr>\n",
       "    <tr>\n",
       "      <th>foo</th>\n",
       "      <td>19</td>\n",
       "      <td>190</td>\n",
       "    </tr>\n",
       "  </tbody>\n",
       "</table>\n",
       "</div>"
      ],
      "text/plain": [
       "      C    D\n",
       "A           \n",
       "bar   9   90\n",
       "foo  19  190"
      ]
     },
     "execution_count": 62,
     "metadata": {},
     "output_type": "execute_result"
    }
   ],
   "source": [
    "print(df.groupby('A'))\n",
    "df.groupby('A')[['C', 'D']].sum()\n",
    "# all sum of (raws['C']) == bar = 9"
   ]
  },
  {
   "cell_type": "code",
   "execution_count": 63,
   "id": "b3ffe284-67ea-4ab0-a61e-56ed52db9ad3",
   "metadata": {
    "tags": []
   },
   "outputs": [
    {
     "data": {
      "text/html": [
       "<div>\n",
       "<style scoped>\n",
       "    .dataframe tbody tr th:only-of-type {\n",
       "        vertical-align: middle;\n",
       "    }\n",
       "\n",
       "    .dataframe tbody tr th {\n",
       "        vertical-align: top;\n",
       "    }\n",
       "\n",
       "    .dataframe thead th {\n",
       "        text-align: right;\n",
       "    }\n",
       "</style>\n",
       "<table border=\"1\" class=\"dataframe\">\n",
       "  <thead>\n",
       "    <tr style=\"text-align: right;\">\n",
       "      <th></th>\n",
       "      <th></th>\n",
       "      <th>C</th>\n",
       "      <th>D</th>\n",
       "    </tr>\n",
       "    <tr>\n",
       "      <th>A</th>\n",
       "      <th>B</th>\n",
       "      <th></th>\n",
       "      <th></th>\n",
       "    </tr>\n",
       "  </thead>\n",
       "  <tbody>\n",
       "    <tr>\n",
       "      <th rowspan=\"3\" valign=\"top\">bar</th>\n",
       "      <th>one</th>\n",
       "      <td>1</td>\n",
       "      <td>10</td>\n",
       "    </tr>\n",
       "    <tr>\n",
       "      <th>three</th>\n",
       "      <td>3</td>\n",
       "      <td>30</td>\n",
       "    </tr>\n",
       "    <tr>\n",
       "      <th>two</th>\n",
       "      <td>5</td>\n",
       "      <td>50</td>\n",
       "    </tr>\n",
       "    <tr>\n",
       "      <th rowspan=\"3\" valign=\"top\">foo</th>\n",
       "      <th>one</th>\n",
       "      <td>6</td>\n",
       "      <td>60</td>\n",
       "    </tr>\n",
       "    <tr>\n",
       "      <th>three</th>\n",
       "      <td>7</td>\n",
       "      <td>70</td>\n",
       "    </tr>\n",
       "    <tr>\n",
       "      <th>two</th>\n",
       "      <td>6</td>\n",
       "      <td>60</td>\n",
       "    </tr>\n",
       "  </tbody>\n",
       "</table>\n",
       "</div>"
      ],
      "text/plain": [
       "           C   D\n",
       "A   B           \n",
       "bar one    1  10\n",
       "    three  3  30\n",
       "    two    5  50\n",
       "foo one    6  60\n",
       "    three  7  70\n",
       "    two    6  60"
      ]
     },
     "execution_count": 63,
     "metadata": {},
     "output_type": "execute_result"
    }
   ],
   "source": [
    "df.groupby(['A', 'B'])[['C', 'D']].sum()"
   ]
  },
  {
   "cell_type": "markdown",
   "id": "12b578ad-e466-4a33-93fd-daafc4ef7d28",
   "metadata": {},
   "source": [
    "## Reshaping\n",
    "### `DataFrame.stack()` retuns a multiple-index dataframe\n",
    "### `DsataFrame.unstack()` returns a multi-columns datafram (i.e: pivot table)"
   ]
  },
  {
   "cell_type": "code",
   "execution_count": 64,
   "id": "2d54cb20-c755-4186-8b60-0936528b9715",
   "metadata": {
    "tags": []
   },
   "outputs": [
    {
     "data": {
      "text/plain": [
       "[(1, 111), (2, 222)]"
      ]
     },
     "execution_count": 64,
     "metadata": {},
     "output_type": "execute_result"
    }
   ],
   "source": [
    "list(zip([1, 2], [111, 222]))"
   ]
  },
  {
   "cell_type": "code",
   "execution_count": 65,
   "id": "2e5a37f0-8962-40e2-b13c-9a36e3f06c13",
   "metadata": {
    "tags": []
   },
   "outputs": [
    {
     "data": {
      "text/html": [
       "<div>\n",
       "<style scoped>\n",
       "    .dataframe tbody tr th:only-of-type {\n",
       "        vertical-align: middle;\n",
       "    }\n",
       "\n",
       "    .dataframe tbody tr th {\n",
       "        vertical-align: top;\n",
       "    }\n",
       "\n",
       "    .dataframe thead th {\n",
       "        text-align: right;\n",
       "    }\n",
       "</style>\n",
       "<table border=\"1\" class=\"dataframe\">\n",
       "  <thead>\n",
       "    <tr style=\"text-align: right;\">\n",
       "      <th></th>\n",
       "      <th></th>\n",
       "      <th>A</th>\n",
       "      <th>B</th>\n",
       "    </tr>\n",
       "    <tr>\n",
       "      <th>first</th>\n",
       "      <th>second</th>\n",
       "      <th></th>\n",
       "      <th></th>\n",
       "    </tr>\n",
       "  </thead>\n",
       "  <tbody>\n",
       "    <tr>\n",
       "      <th rowspan=\"2\" valign=\"top\">bar</th>\n",
       "      <th>one</th>\n",
       "      <td>0.634626</td>\n",
       "      <td>-1.305864</td>\n",
       "    </tr>\n",
       "    <tr>\n",
       "      <th>two</th>\n",
       "      <td>-1.598620</td>\n",
       "      <td>1.235206</td>\n",
       "    </tr>\n",
       "    <tr>\n",
       "      <th rowspan=\"2\" valign=\"top\">baz</th>\n",
       "      <th>one</th>\n",
       "      <td>3.010008</td>\n",
       "      <td>-0.602944</td>\n",
       "    </tr>\n",
       "    <tr>\n",
       "      <th>two</th>\n",
       "      <td>0.492613</td>\n",
       "      <td>-1.535350</td>\n",
       "    </tr>\n",
       "    <tr>\n",
       "      <th rowspan=\"2\" valign=\"top\">foo</th>\n",
       "      <th>one</th>\n",
       "      <td>-0.582568</td>\n",
       "      <td>-0.632489</td>\n",
       "    </tr>\n",
       "    <tr>\n",
       "      <th>two</th>\n",
       "      <td>0.022840</td>\n",
       "      <td>-0.695927</td>\n",
       "    </tr>\n",
       "    <tr>\n",
       "      <th rowspan=\"2\" valign=\"top\">qux</th>\n",
       "      <th>one</th>\n",
       "      <td>-1.454153</td>\n",
       "      <td>0.407584</td>\n",
       "    </tr>\n",
       "    <tr>\n",
       "      <th>two</th>\n",
       "      <td>-1.541424</td>\n",
       "      <td>0.055940</td>\n",
       "    </tr>\n",
       "  </tbody>\n",
       "</table>\n",
       "</div>"
      ],
      "text/plain": [
       "                     A         B\n",
       "first second                    \n",
       "bar   one     0.634626 -1.305864\n",
       "      two    -1.598620  1.235206\n",
       "baz   one     3.010008 -0.602944\n",
       "      two     0.492613 -1.535350\n",
       "foo   one    -0.582568 -0.632489\n",
       "      two     0.022840 -0.695927\n",
       "qux   one    -1.454153  0.407584\n",
       "      two    -1.541424  0.055940"
      ]
     },
     "execution_count": 65,
     "metadata": {},
     "output_type": "execute_result"
    }
   ],
   "source": [
    "tuples = list(\n",
    "    zip(\n",
    "        [\"bar\", \"bar\", \"baz\", \"baz\", \"foo\", \"foo\", \"qux\", \"qux\"],\n",
    "        [\"one\", \"two\", \"one\", \"two\", \"one\", \"two\", \"one\", \"two\"],\n",
    "    )\n",
    ")\n",
    "'''\n",
    "tuples =\n",
    "[('bar', 'one'),\n",
    " ('bar', 'two'),\n",
    " ('baz', 'one'),\n",
    " ('baz', 'two'),\n",
    " ('foo', 'one'),\n",
    " ('foo', 'two'),\n",
    " ('qux', 'one'),\n",
    " ('qux', 'two')]\n",
    "'''\n",
    "\n",
    "index = pd.MultiIndex.from_tuples(tuples, names=['first', 'second'])\n",
    "'''\n",
    "index = \n",
    "MultiIndex([('bar', 'one'),\n",
    "            ('bar', 'two'),\n",
    "            ('baz', 'one'),\n",
    "            ('baz', 'two'),\n",
    "            ('foo', 'one'),\n",
    "            ('foo', 'two'),\n",
    "            ('qux', 'one'),\n",
    "            ('qux', 'two')],\n",
    "           names=['first', 'second'])\n",
    "'''\n",
    "df = pd.DataFrame(np.random.randn(8, 2), index = index, columns=['A', 'B'])\n",
    "df"
   ]
  },
  {
   "cell_type": "code",
   "execution_count": 66,
   "id": "cc49dd79-7021-4a8c-bbd8-b0a753c56034",
   "metadata": {
    "tags": []
   },
   "outputs": [
    {
     "name": "stdout",
     "output_type": "stream",
     "text": [
      "                     A         B\n",
      "first second                    \n",
      "bar   one     0.634626 -1.305864\n",
      "      two    -1.598620  1.235206\n",
      "baz   one     3.010008 -0.602944\n",
      "      two     0.492613 -1.535350\n"
     ]
    },
    {
     "data": {
      "text/plain": [
       "first  second   \n",
       "bar    one     A    0.634626\n",
       "               B   -1.305864\n",
       "       two     A   -1.598620\n",
       "               B    1.235206\n",
       "baz    one     A    3.010008\n",
       "               B   -0.602944\n",
       "       two     A    0.492613\n",
       "               B   -1.535350\n",
       "dtype: float64"
      ]
     },
     "execution_count": 66,
     "metadata": {},
     "output_type": "execute_result"
    }
   ],
   "source": [
    "# columns transformed to index\n",
    "df2 = df[:4]\n",
    "print(df2)\n",
    "stacked = df2.stack()\n",
    "stacked\n",
    "# indexing stacked['bar']['one']['A']"
   ]
  },
  {
   "cell_type": "code",
   "execution_count": 67,
   "id": "2f2e7af7-fba4-4b55-9968-5e11d49f9f5b",
   "metadata": {},
   "outputs": [
    {
     "data": {
      "text/html": [
       "<div>\n",
       "<style scoped>\n",
       "    .dataframe tbody tr th:only-of-type {\n",
       "        vertical-align: middle;\n",
       "    }\n",
       "\n",
       "    .dataframe tbody tr th {\n",
       "        vertical-align: top;\n",
       "    }\n",
       "\n",
       "    .dataframe thead th {\n",
       "        text-align: right;\n",
       "    }\n",
       "</style>\n",
       "<table border=\"1\" class=\"dataframe\">\n",
       "  <thead>\n",
       "    <tr style=\"text-align: right;\">\n",
       "      <th></th>\n",
       "      <th></th>\n",
       "      <th>A</th>\n",
       "      <th>B</th>\n",
       "    </tr>\n",
       "    <tr>\n",
       "      <th>first</th>\n",
       "      <th>second</th>\n",
       "      <th></th>\n",
       "      <th></th>\n",
       "    </tr>\n",
       "  </thead>\n",
       "  <tbody>\n",
       "    <tr>\n",
       "      <th rowspan=\"2\" valign=\"top\">bar</th>\n",
       "      <th>one</th>\n",
       "      <td>0.634626</td>\n",
       "      <td>-1.305864</td>\n",
       "    </tr>\n",
       "    <tr>\n",
       "      <th>two</th>\n",
       "      <td>-1.598620</td>\n",
       "      <td>1.235206</td>\n",
       "    </tr>\n",
       "    <tr>\n",
       "      <th rowspan=\"2\" valign=\"top\">baz</th>\n",
       "      <th>one</th>\n",
       "      <td>3.010008</td>\n",
       "      <td>-0.602944</td>\n",
       "    </tr>\n",
       "    <tr>\n",
       "      <th>two</th>\n",
       "      <td>0.492613</td>\n",
       "      <td>-1.535350</td>\n",
       "    </tr>\n",
       "  </tbody>\n",
       "</table>\n",
       "</div>"
      ],
      "text/plain": [
       "                     A         B\n",
       "first second                    \n",
       "bar   one     0.634626 -1.305864\n",
       "      two    -1.598620  1.235206\n",
       "baz   one     3.010008 -0.602944\n",
       "      two     0.492613 -1.535350"
      ]
     },
     "execution_count": 67,
     "metadata": {},
     "output_type": "execute_result"
    }
   ],
   "source": [
    "stacked.unstack()"
   ]
  },
  {
   "cell_type": "markdown",
   "id": "0c681393-39e0-4bae-8a31-34d62c3cad45",
   "metadata": {},
   "source": [
    "### pivot tables"
   ]
  },
  {
   "cell_type": "code",
   "execution_count": 68,
   "id": "ee3d4607-a91a-4f41-afd0-de43cf46c457",
   "metadata": {
    "tags": []
   },
   "outputs": [
    {
     "data": {
      "text/html": [
       "<div>\n",
       "<style scoped>\n",
       "    .dataframe tbody tr th:only-of-type {\n",
       "        vertical-align: middle;\n",
       "    }\n",
       "\n",
       "    .dataframe tbody tr th {\n",
       "        vertical-align: top;\n",
       "    }\n",
       "\n",
       "    .dataframe thead th {\n",
       "        text-align: right;\n",
       "    }\n",
       "</style>\n",
       "<table border=\"1\" class=\"dataframe\">\n",
       "  <thead>\n",
       "    <tr style=\"text-align: right;\">\n",
       "      <th></th>\n",
       "      <th>A</th>\n",
       "      <th>B</th>\n",
       "      <th>C</th>\n",
       "      <th>D</th>\n",
       "      <th>E</th>\n",
       "    </tr>\n",
       "  </thead>\n",
       "  <tbody>\n",
       "    <tr>\n",
       "      <th>0</th>\n",
       "      <td>one</td>\n",
       "      <td>A</td>\n",
       "      <td>foo</td>\n",
       "      <td>1.916297</td>\n",
       "      <td>1.842429</td>\n",
       "    </tr>\n",
       "    <tr>\n",
       "      <th>1</th>\n",
       "      <td>one</td>\n",
       "      <td>B</td>\n",
       "      <td>foo</td>\n",
       "      <td>0.110813</td>\n",
       "      <td>-0.588855</td>\n",
       "    </tr>\n",
       "    <tr>\n",
       "      <th>2</th>\n",
       "      <td>two</td>\n",
       "      <td>C</td>\n",
       "      <td>foo</td>\n",
       "      <td>0.950628</td>\n",
       "      <td>-1.615056</td>\n",
       "    </tr>\n",
       "    <tr>\n",
       "      <th>3</th>\n",
       "      <td>three</td>\n",
       "      <td>A</td>\n",
       "      <td>bar</td>\n",
       "      <td>0.478739</td>\n",
       "      <td>0.136339</td>\n",
       "    </tr>\n",
       "    <tr>\n",
       "      <th>4</th>\n",
       "      <td>one</td>\n",
       "      <td>B</td>\n",
       "      <td>bar</td>\n",
       "      <td>-2.816395</td>\n",
       "      <td>-0.574406</td>\n",
       "    </tr>\n",
       "    <tr>\n",
       "      <th>5</th>\n",
       "      <td>one</td>\n",
       "      <td>C</td>\n",
       "      <td>bar</td>\n",
       "      <td>-0.384799</td>\n",
       "      <td>-0.994096</td>\n",
       "    </tr>\n",
       "    <tr>\n",
       "      <th>6</th>\n",
       "      <td>two</td>\n",
       "      <td>A</td>\n",
       "      <td>foo</td>\n",
       "      <td>-1.049301</td>\n",
       "      <td>-0.997943</td>\n",
       "    </tr>\n",
       "    <tr>\n",
       "      <th>7</th>\n",
       "      <td>three</td>\n",
       "      <td>B</td>\n",
       "      <td>foo</td>\n",
       "      <td>-1.770815</td>\n",
       "      <td>0.229444</td>\n",
       "    </tr>\n",
       "    <tr>\n",
       "      <th>8</th>\n",
       "      <td>one</td>\n",
       "      <td>C</td>\n",
       "      <td>foo</td>\n",
       "      <td>-0.597723</td>\n",
       "      <td>-0.974010</td>\n",
       "    </tr>\n",
       "    <tr>\n",
       "      <th>9</th>\n",
       "      <td>one</td>\n",
       "      <td>A</td>\n",
       "      <td>bar</td>\n",
       "      <td>0.114912</td>\n",
       "      <td>0.993388</td>\n",
       "    </tr>\n",
       "    <tr>\n",
       "      <th>10</th>\n",
       "      <td>two</td>\n",
       "      <td>B</td>\n",
       "      <td>bar</td>\n",
       "      <td>0.053195</td>\n",
       "      <td>-0.021618</td>\n",
       "    </tr>\n",
       "    <tr>\n",
       "      <th>11</th>\n",
       "      <td>three</td>\n",
       "      <td>C</td>\n",
       "      <td>bar</td>\n",
       "      <td>0.028856</td>\n",
       "      <td>-0.896678</td>\n",
       "    </tr>\n",
       "  </tbody>\n",
       "</table>\n",
       "</div>"
      ],
      "text/plain": [
       "        A  B    C         D         E\n",
       "0     one  A  foo  1.916297  1.842429\n",
       "1     one  B  foo  0.110813 -0.588855\n",
       "2     two  C  foo  0.950628 -1.615056\n",
       "3   three  A  bar  0.478739  0.136339\n",
       "4     one  B  bar -2.816395 -0.574406\n",
       "5     one  C  bar -0.384799 -0.994096\n",
       "6     two  A  foo -1.049301 -0.997943\n",
       "7   three  B  foo -1.770815  0.229444\n",
       "8     one  C  foo -0.597723 -0.974010\n",
       "9     one  A  bar  0.114912  0.993388\n",
       "10    two  B  bar  0.053195 -0.021618\n",
       "11  three  C  bar  0.028856 -0.896678"
      ]
     },
     "execution_count": 68,
     "metadata": {},
     "output_type": "execute_result"
    }
   ],
   "source": [
    "df = pd.DataFrame(\n",
    "    {\n",
    "        \"A\": [\"one\", \"one\", \"two\", \"three\"] * 3,\n",
    "        \"B\": [\"A\", \"B\", \"C\"] * 4,\n",
    "        \"C\": [\"foo\", \"foo\", \"foo\", \"bar\", \"bar\", \"bar\"] * 2,\n",
    "        \"D\": np.random.randn(12),\n",
    "        \"E\": np.random.randn(12),\n",
    "    }\n",
    ")\n",
    "df"
   ]
  },
  {
   "cell_type": "code",
   "execution_count": 69,
   "id": "8d3931c1-882d-441a-b4fc-5946c9b18a64",
   "metadata": {
    "tags": []
   },
   "outputs": [
    {
     "name": "stdout",
     "output_type": "stream",
     "text": [
      "1.9162968708559585\n"
     ]
    },
    {
     "data": {
      "text/html": [
       "<div>\n",
       "<style scoped>\n",
       "    .dataframe tbody tr th:only-of-type {\n",
       "        vertical-align: middle;\n",
       "    }\n",
       "\n",
       "    .dataframe tbody tr th {\n",
       "        vertical-align: top;\n",
       "    }\n",
       "\n",
       "    .dataframe thead th {\n",
       "        text-align: right;\n",
       "    }\n",
       "</style>\n",
       "<table border=\"1\" class=\"dataframe\">\n",
       "  <thead>\n",
       "    <tr style=\"text-align: right;\">\n",
       "      <th></th>\n",
       "      <th>C</th>\n",
       "      <th>bar</th>\n",
       "      <th>foo</th>\n",
       "    </tr>\n",
       "    <tr>\n",
       "      <th>A</th>\n",
       "      <th>B</th>\n",
       "      <th></th>\n",
       "      <th></th>\n",
       "    </tr>\n",
       "  </thead>\n",
       "  <tbody>\n",
       "    <tr>\n",
       "      <th rowspan=\"3\" valign=\"top\">one</th>\n",
       "      <th>A</th>\n",
       "      <td>0.114912</td>\n",
       "      <td>1.916297</td>\n",
       "    </tr>\n",
       "    <tr>\n",
       "      <th>B</th>\n",
       "      <td>-2.816395</td>\n",
       "      <td>0.110813</td>\n",
       "    </tr>\n",
       "    <tr>\n",
       "      <th>C</th>\n",
       "      <td>-0.384799</td>\n",
       "      <td>-0.597723</td>\n",
       "    </tr>\n",
       "    <tr>\n",
       "      <th rowspan=\"3\" valign=\"top\">three</th>\n",
       "      <th>A</th>\n",
       "      <td>0.478739</td>\n",
       "      <td>NaN</td>\n",
       "    </tr>\n",
       "    <tr>\n",
       "      <th>B</th>\n",
       "      <td>NaN</td>\n",
       "      <td>-1.770815</td>\n",
       "    </tr>\n",
       "    <tr>\n",
       "      <th>C</th>\n",
       "      <td>0.028856</td>\n",
       "      <td>NaN</td>\n",
       "    </tr>\n",
       "    <tr>\n",
       "      <th rowspan=\"3\" valign=\"top\">two</th>\n",
       "      <th>A</th>\n",
       "      <td>NaN</td>\n",
       "      <td>-1.049301</td>\n",
       "    </tr>\n",
       "    <tr>\n",
       "      <th>B</th>\n",
       "      <td>0.053195</td>\n",
       "      <td>NaN</td>\n",
       "    </tr>\n",
       "    <tr>\n",
       "      <th>C</th>\n",
       "      <td>NaN</td>\n",
       "      <td>0.950628</td>\n",
       "    </tr>\n",
       "  </tbody>\n",
       "</table>\n",
       "</div>"
      ],
      "text/plain": [
       "C             bar       foo\n",
       "A     B                    \n",
       "one   A  0.114912  1.916297\n",
       "      B -2.816395  0.110813\n",
       "      C -0.384799 -0.597723\n",
       "three A  0.478739       NaN\n",
       "      B       NaN -1.770815\n",
       "      C  0.028856       NaN\n",
       "two   A       NaN -1.049301\n",
       "      B  0.053195       NaN\n",
       "      C       NaN  0.950628"
      ]
     },
     "execution_count": 69,
     "metadata": {},
     "output_type": "execute_result"
    }
   ],
   "source": [
    "pivot = pd.pivot_table(df, values='D', index=['A', 'B'], columns='C')\n",
    "#indexing \n",
    "print(pivot.loc['one', :].loc['A',:].loc['foo'])\n",
    "pivot"
   ]
  },
  {
   "cell_type": "markdown",
   "id": "4749afa4-1429-4d1b-8360-cfd0ae08f81c",
   "metadata": {},
   "source": [
    "## Time Series\n",
    "pandas has simple, powerful, and efficient functionality for performing resampling operations during frequency conversion (e.g., converting secondly data into 5-minutely data). This is extremely common in, but not limited to, financial applications\n",
    "* `DataFrame/Series.resample('5Min')` #down sampling on time series\n",
    "* `Series.tz_localize('UTC+2')` #setting time zone\n",
    "* `Series.tz_convert()` convert time zone\n",
    "*  `Series.to_period()` convert index to its period without (seconds, minutes,....)\n",
    "* `Series.to_timestamp()` convertin index to: year-month-day-h-M-s\n",
    "\n",
    "\n",
    "### Time functionlity in pandas [link](https://pandas.pydata.org/pandas-docs/stable/user_guide/timeseries.html#offset-aliases)"
   ]
  },
  {
   "cell_type": "code",
   "execution_count": 70,
   "id": "537edebc-eed4-4bdf-9760-99e25d9cff17",
   "metadata": {
    "tags": []
   },
   "outputs": [
    {
     "data": {
      "text/plain": [
       "DatetimeIndex(['2012-01-01 00:00:00', '2012-01-01 00:00:01',\n",
       "               '2012-01-01 00:00:02', '2012-01-01 00:00:03',\n",
       "               '2012-01-01 00:00:04', '2012-01-01 00:00:05',\n",
       "               '2012-01-01 00:00:06', '2012-01-01 00:00:07',\n",
       "               '2012-01-01 00:00:08', '2012-01-01 00:00:09',\n",
       "               '2012-01-01 00:00:10', '2012-01-01 00:00:11',\n",
       "               '2012-01-01 00:00:12', '2012-01-01 00:00:13',\n",
       "               '2012-01-01 00:00:14', '2012-01-01 00:00:15',\n",
       "               '2012-01-01 00:00:16', '2012-01-01 00:00:17',\n",
       "               '2012-01-01 00:00:18', '2012-01-01 00:00:19',\n",
       "               '2012-01-01 00:00:20', '2012-01-01 00:00:21',\n",
       "               '2012-01-01 00:00:22', '2012-01-01 00:00:23',\n",
       "               '2012-01-01 00:00:24', '2012-01-01 00:00:25',\n",
       "               '2012-01-01 00:00:26', '2012-01-01 00:00:27',\n",
       "               '2012-01-01 00:00:28', '2012-01-01 00:00:29',\n",
       "               '2012-01-01 00:00:30', '2012-01-01 00:00:31',\n",
       "               '2012-01-01 00:00:32', '2012-01-01 00:00:33',\n",
       "               '2012-01-01 00:00:34', '2012-01-01 00:00:35',\n",
       "               '2012-01-01 00:00:36', '2012-01-01 00:00:37',\n",
       "               '2012-01-01 00:00:38', '2012-01-01 00:00:39',\n",
       "               '2012-01-01 00:00:40', '2012-01-01 00:00:41',\n",
       "               '2012-01-01 00:00:42', '2012-01-01 00:00:43',\n",
       "               '2012-01-01 00:00:44', '2012-01-01 00:00:45',\n",
       "               '2012-01-01 00:00:46', '2012-01-01 00:00:47',\n",
       "               '2012-01-01 00:00:48', '2012-01-01 00:00:49'],\n",
       "              dtype='datetime64[ns]', freq='S')"
      ]
     },
     "execution_count": 70,
     "metadata": {},
     "output_type": "execute_result"
    }
   ],
   "source": [
    "rng = pd.date_range('1/1/2012', periods=50, freq='S') # increment in seconds\n",
    "rng"
   ]
  },
  {
   "cell_type": "code",
   "execution_count": 71,
   "id": "ed806745-5ee1-4fa7-9a4e-7e9f8d58c7f2",
   "metadata": {
    "tags": []
   },
   "outputs": [
    {
     "data": {
      "text/plain": [
       "2012-01-01 00:00:00     0\n",
       "2012-01-01 00:00:01     1\n",
       "2012-01-01 00:00:02     2\n",
       "2012-01-01 00:00:03     3\n",
       "2012-01-01 00:00:04     4\n",
       "2012-01-01 00:00:05     5\n",
       "2012-01-01 00:00:06     6\n",
       "2012-01-01 00:00:07     7\n",
       "2012-01-01 00:00:08     8\n",
       "2012-01-01 00:00:09     9\n",
       "2012-01-01 00:00:10    10\n",
       "2012-01-01 00:00:11    11\n",
       "2012-01-01 00:00:12    12\n",
       "2012-01-01 00:00:13    13\n",
       "2012-01-01 00:00:14    14\n",
       "2012-01-01 00:00:15    15\n",
       "2012-01-01 00:00:16    16\n",
       "2012-01-01 00:00:17    17\n",
       "2012-01-01 00:00:18    18\n",
       "2012-01-01 00:00:19    19\n",
       "2012-01-01 00:00:20    20\n",
       "2012-01-01 00:00:21    21\n",
       "2012-01-01 00:00:22    22\n",
       "2012-01-01 00:00:23    23\n",
       "2012-01-01 00:00:24    24\n",
       "2012-01-01 00:00:25    25\n",
       "2012-01-01 00:00:26    26\n",
       "2012-01-01 00:00:27    27\n",
       "2012-01-01 00:00:28    28\n",
       "2012-01-01 00:00:29    29\n",
       "2012-01-01 00:00:30    30\n",
       "2012-01-01 00:00:31    31\n",
       "2012-01-01 00:00:32    32\n",
       "2012-01-01 00:00:33    33\n",
       "2012-01-01 00:00:34    34\n",
       "2012-01-01 00:00:35    35\n",
       "2012-01-01 00:00:36    36\n",
       "2012-01-01 00:00:37    37\n",
       "2012-01-01 00:00:38    38\n",
       "2012-01-01 00:00:39    39\n",
       "2012-01-01 00:00:40    40\n",
       "2012-01-01 00:00:41    41\n",
       "2012-01-01 00:00:42    42\n",
       "2012-01-01 00:00:43    43\n",
       "2012-01-01 00:00:44    44\n",
       "2012-01-01 00:00:45    45\n",
       "2012-01-01 00:00:46    46\n",
       "2012-01-01 00:00:47    47\n",
       "2012-01-01 00:00:48    48\n",
       "2012-01-01 00:00:49    49\n",
       "Freq: S, dtype: int64"
      ]
     },
     "execution_count": 71,
     "metadata": {},
     "output_type": "execute_result"
    }
   ],
   "source": [
    "ts = pd.Series(range(len(rng)), index=rng)\n",
    "ts"
   ]
  },
  {
   "cell_type": "code",
   "execution_count": 72,
   "id": "fca0c1a0-cbd7-4897-a9c2-90a998ef9375",
   "metadata": {
    "tags": []
   },
   "outputs": [
    {
     "data": {
      "text/plain": [
       "2012-01-01 00:00:00     1\n",
       "2012-01-01 00:00:02     5\n",
       "2012-01-01 00:00:04     9\n",
       "2012-01-01 00:00:06    13\n",
       "2012-01-01 00:00:08    17\n",
       "2012-01-01 00:00:10    21\n",
       "2012-01-01 00:00:12    25\n",
       "2012-01-01 00:00:14    29\n",
       "2012-01-01 00:00:16    33\n",
       "2012-01-01 00:00:18    37\n",
       "2012-01-01 00:00:20    41\n",
       "2012-01-01 00:00:22    45\n",
       "2012-01-01 00:00:24    49\n",
       "2012-01-01 00:00:26    53\n",
       "2012-01-01 00:00:28    57\n",
       "2012-01-01 00:00:30    61\n",
       "2012-01-01 00:00:32    65\n",
       "2012-01-01 00:00:34    69\n",
       "2012-01-01 00:00:36    73\n",
       "2012-01-01 00:00:38    77\n",
       "2012-01-01 00:00:40    81\n",
       "2012-01-01 00:00:42    85\n",
       "2012-01-01 00:00:44    89\n",
       "2012-01-01 00:00:46    93\n",
       "2012-01-01 00:00:48    97\n",
       "Freq: 2S, dtype: int64"
      ]
     },
     "execution_count": 72,
     "metadata": {},
     "output_type": "execute_result"
    }
   ],
   "source": [
    "# Downsanpling and summing all values in '2 seconds' period\n",
    "ts.resample('2S').sum()"
   ]
  },
  {
   "cell_type": "code",
   "execution_count": 73,
   "id": "809720ed-150a-4fc5-b39d-4b7e9c83994f",
   "metadata": {
    "tags": []
   },
   "outputs": [
    {
     "data": {
      "text/plain": [
       "PeriodIndex(['1990Q1', '1990Q2', '1990Q3', '1990Q4', '1991Q1', '1991Q2',\n",
       "             '1991Q3', '1991Q4', '1992Q1', '1992Q2', '1992Q3', '1992Q4',\n",
       "             '1993Q1', '1993Q2', '1993Q3', '1993Q4', '1994Q1', '1994Q2',\n",
       "             '1994Q3', '1994Q4', '1995Q1', '1995Q2', '1995Q3', '1995Q4',\n",
       "             '1996Q1', '1996Q2', '1996Q3', '1996Q4', '1997Q1', '1997Q2',\n",
       "             '1997Q3', '1997Q4', '1998Q1', '1998Q2', '1998Q3', '1998Q4',\n",
       "             '1999Q1', '1999Q2', '1999Q3', '1999Q4', '2000Q1', '2000Q2',\n",
       "             '2000Q3', '2000Q4'],\n",
       "            dtype='period[Q-NOV]')"
      ]
     },
     "execution_count": 73,
     "metadata": {},
     "output_type": "execute_result"
    }
   ],
   "source": [
    "# playing with index (i.e:addin ranges subtracting, ...)\n",
    "rng = pd.period_range('1990Q1', '2000Q4', freq='Q-NOV')\n",
    "ts = pd.Series(range(len(rng)), index=rng)\n",
    "ts.head()\n",
    "rng"
   ]
  },
  {
   "cell_type": "code",
   "execution_count": 74,
   "id": "9c8cdf83-c4cd-40c3-9107-1ec3d01c028c",
   "metadata": {
    "tags": []
   },
   "outputs": [
    {
     "name": "stdout",
     "output_type": "stream",
     "text": [
      "before\n",
      "1990Q1    0\n",
      "1990Q2    1\n",
      "1990Q3    2\n",
      "1990Q4    3\n",
      "1991Q1    4\n",
      "Freq: Q-NOV, dtype: int64\n",
      "after\n",
      "1990-03-01 08:00    0\n",
      "1990-06-01 08:00    1\n",
      "1990-09-01 08:00    2\n",
      "1990-12-01 08:00    3\n",
      "1991-03-01 08:00    4\n",
      "Freq: H, dtype: int64\n"
     ]
    }
   ],
   "source": [
    "print('before')\n",
    "print(ts.head())\n",
    "ts.index = rng.asfreq(freq='H', how='e')+9 # e means end of period, s start of period\n",
    "print('after')\n",
    "print(ts.head())\n",
    "# end of minutes = 59\n",
    "#23 +9 = 08:00"
   ]
  },
  {
   "cell_type": "markdown",
   "id": "30311382-9d18-4d04-89e1-eb837d48fa3e",
   "metadata": {},
   "source": [
    "## Categrical"
   ]
  },
  {
   "cell_type": "code",
   "execution_count": 75,
   "id": "b91aef9b-8f46-4ae9-b163-db1d89d96e0f",
   "metadata": {
    "tags": []
   },
   "outputs": [
    {
     "data": {
      "text/html": [
       "<div>\n",
       "<style scoped>\n",
       "    .dataframe tbody tr th:only-of-type {\n",
       "        vertical-align: middle;\n",
       "    }\n",
       "\n",
       "    .dataframe tbody tr th {\n",
       "        vertical-align: top;\n",
       "    }\n",
       "\n",
       "    .dataframe thead th {\n",
       "        text-align: right;\n",
       "    }\n",
       "</style>\n",
       "<table border=\"1\" class=\"dataframe\">\n",
       "  <thead>\n",
       "    <tr style=\"text-align: right;\">\n",
       "      <th></th>\n",
       "      <th>id</th>\n",
       "      <th>raw_grade</th>\n",
       "      <th>grade</th>\n",
       "    </tr>\n",
       "  </thead>\n",
       "  <tbody>\n",
       "    <tr>\n",
       "      <th>0</th>\n",
       "      <td>1</td>\n",
       "      <td>a</td>\n",
       "      <td>a</td>\n",
       "    </tr>\n",
       "    <tr>\n",
       "      <th>1</th>\n",
       "      <td>2</td>\n",
       "      <td>b</td>\n",
       "      <td>b</td>\n",
       "    </tr>\n",
       "    <tr>\n",
       "      <th>2</th>\n",
       "      <td>3</td>\n",
       "      <td>b</td>\n",
       "      <td>b</td>\n",
       "    </tr>\n",
       "    <tr>\n",
       "      <th>3</th>\n",
       "      <td>4</td>\n",
       "      <td>a</td>\n",
       "      <td>a</td>\n",
       "    </tr>\n",
       "    <tr>\n",
       "      <th>4</th>\n",
       "      <td>5</td>\n",
       "      <td>a</td>\n",
       "      <td>a</td>\n",
       "    </tr>\n",
       "    <tr>\n",
       "      <th>5</th>\n",
       "      <td>6</td>\n",
       "      <td>e</td>\n",
       "      <td>e</td>\n",
       "    </tr>\n",
       "  </tbody>\n",
       "</table>\n",
       "</div>"
      ],
      "text/plain": [
       "   id raw_grade grade\n",
       "0   1         a     a\n",
       "1   2         b     b\n",
       "2   3         b     b\n",
       "3   4         a     a\n",
       "4   5         a     a\n",
       "5   6         e     e"
      ]
     },
     "execution_count": 75,
     "metadata": {},
     "output_type": "execute_result"
    }
   ],
   "source": [
    "df = pd.DataFrame(\n",
    "    {\"id\": [1, 2, 3, 4, 5, 6], \"raw_grade\": [\"a\", \"b\", \"b\", \"a\", \"a\", \"e\"]}\n",
    ")\n",
    "df['grade'] = df['raw_grade'].astype('category')\n",
    "df"
   ]
  },
  {
   "cell_type": "code",
   "execution_count": 76,
   "id": "c4298443-f197-48f2-907d-cd1cb16e284d",
   "metadata": {
    "tags": []
   },
   "outputs": [
    {
     "data": {
      "text/plain": [
       "0    very good\n",
       "1         good\n",
       "2         good\n",
       "3    very good\n",
       "4    very good\n",
       "5     very bad\n",
       "Name: grade, dtype: category\n",
       "Categories (3, object): ['very good', 'good', 'very bad']"
      ]
     },
     "execution_count": 76,
     "metadata": {},
     "output_type": "execute_result"
    }
   ],
   "source": [
    "# rename new categories\n",
    "new_categories = ['very good', 'good', 'very bad']\n",
    "df['grade'] = df['grade'].cat.rename_categories(new_categories)\n",
    "df['grade']"
   ]
  },
  {
   "cell_type": "code",
   "execution_count": 77,
   "id": "825df09b-d4f9-4db3-ab8f-0b2a261961da",
   "metadata": {
    "tags": []
   },
   "outputs": [
    {
     "data": {
      "text/plain": [
       "0    very good\n",
       "1         good\n",
       "2         good\n",
       "3    very good\n",
       "4    very good\n",
       "5     very bad\n",
       "Name: grade, dtype: category\n",
       "Categories (5, object): ['very bad', 'bad', 'medium', 'good', 'very good']"
      ]
     },
     "execution_count": 77,
     "metadata": {},
     "output_type": "execute_result"
    }
   ],
   "source": [
    "# adding new categories and reorder them\n",
    "df['grade'] = df['grade'].cat.set_categories(['very bad', 'bad', 'medium', 'good', 'very good'])\n",
    "df['grade']\n"
   ]
  },
  {
   "cell_type": "code",
   "execution_count": 78,
   "id": "5492b68e-d494-412b-9f6d-e96911b1fcd3",
   "metadata": {
    "tags": []
   },
   "outputs": [
    {
     "data": {
      "text/html": [
       "<div>\n",
       "<style scoped>\n",
       "    .dataframe tbody tr th:only-of-type {\n",
       "        vertical-align: middle;\n",
       "    }\n",
       "\n",
       "    .dataframe tbody tr th {\n",
       "        vertical-align: top;\n",
       "    }\n",
       "\n",
       "    .dataframe thead th {\n",
       "        text-align: right;\n",
       "    }\n",
       "</style>\n",
       "<table border=\"1\" class=\"dataframe\">\n",
       "  <thead>\n",
       "    <tr style=\"text-align: right;\">\n",
       "      <th></th>\n",
       "      <th>id</th>\n",
       "      <th>raw_grade</th>\n",
       "      <th>grade</th>\n",
       "    </tr>\n",
       "  </thead>\n",
       "  <tbody>\n",
       "    <tr>\n",
       "      <th>0</th>\n",
       "      <td>1</td>\n",
       "      <td>a</td>\n",
       "      <td>very good</td>\n",
       "    </tr>\n",
       "    <tr>\n",
       "      <th>1</th>\n",
       "      <td>2</td>\n",
       "      <td>b</td>\n",
       "      <td>good</td>\n",
       "    </tr>\n",
       "    <tr>\n",
       "      <th>2</th>\n",
       "      <td>3</td>\n",
       "      <td>b</td>\n",
       "      <td>good</td>\n",
       "    </tr>\n",
       "    <tr>\n",
       "      <th>3</th>\n",
       "      <td>4</td>\n",
       "      <td>a</td>\n",
       "      <td>very good</td>\n",
       "    </tr>\n",
       "    <tr>\n",
       "      <th>4</th>\n",
       "      <td>5</td>\n",
       "      <td>a</td>\n",
       "      <td>very good</td>\n",
       "    </tr>\n",
       "    <tr>\n",
       "      <th>5</th>\n",
       "      <td>6</td>\n",
       "      <td>e</td>\n",
       "      <td>very bad</td>\n",
       "    </tr>\n",
       "    <tr>\n",
       "      <th>6</th>\n",
       "      <td>7</td>\n",
       "      <td>NaN</td>\n",
       "      <td>medium</td>\n",
       "    </tr>\n",
       "  </tbody>\n",
       "</table>\n",
       "</div>"
      ],
      "text/plain": [
       "   id raw_grade      grade\n",
       "0   1         a  very good\n",
       "1   2         b       good\n",
       "2   3         b       good\n",
       "3   4         a  very good\n",
       "4   5         a  very good\n",
       "5   6         e   very bad\n",
       "6   7       NaN     medium"
      ]
     },
     "execution_count": 78,
     "metadata": {},
     "output_type": "execute_result"
    }
   ],
   "source": [
    "# appending new raw\n",
    "df.loc[len(df)] = {'id':7, 'grade':'medium'}\n",
    "df"
   ]
  },
  {
   "cell_type": "code",
   "execution_count": 79,
   "id": "175fcb96-a471-404f-b9b7-20e4f08b29db",
   "metadata": {
    "tags": []
   },
   "outputs": [
    {
     "data": {
      "text/html": [
       "<div>\n",
       "<style scoped>\n",
       "    .dataframe tbody tr th:only-of-type {\n",
       "        vertical-align: middle;\n",
       "    }\n",
       "\n",
       "    .dataframe tbody tr th {\n",
       "        vertical-align: top;\n",
       "    }\n",
       "\n",
       "    .dataframe thead th {\n",
       "        text-align: right;\n",
       "    }\n",
       "</style>\n",
       "<table border=\"1\" class=\"dataframe\">\n",
       "  <thead>\n",
       "    <tr style=\"text-align: right;\">\n",
       "      <th></th>\n",
       "      <th>id</th>\n",
       "      <th>raw_grade</th>\n",
       "      <th>grade</th>\n",
       "    </tr>\n",
       "  </thead>\n",
       "  <tbody>\n",
       "    <tr>\n",
       "      <th>1</th>\n",
       "      <td>2</td>\n",
       "      <td>b</td>\n",
       "      <td>good</td>\n",
       "    </tr>\n",
       "    <tr>\n",
       "      <th>2</th>\n",
       "      <td>3</td>\n",
       "      <td>b</td>\n",
       "      <td>good</td>\n",
       "    </tr>\n",
       "    <tr>\n",
       "      <th>6</th>\n",
       "      <td>7</td>\n",
       "      <td>NaN</td>\n",
       "      <td>medium</td>\n",
       "    </tr>\n",
       "    <tr>\n",
       "      <th>5</th>\n",
       "      <td>6</td>\n",
       "      <td>e</td>\n",
       "      <td>very bad</td>\n",
       "    </tr>\n",
       "    <tr>\n",
       "      <th>0</th>\n",
       "      <td>1</td>\n",
       "      <td>a</td>\n",
       "      <td>very good</td>\n",
       "    </tr>\n",
       "    <tr>\n",
       "      <th>3</th>\n",
       "      <td>4</td>\n",
       "      <td>a</td>\n",
       "      <td>very good</td>\n",
       "    </tr>\n",
       "    <tr>\n",
       "      <th>4</th>\n",
       "      <td>5</td>\n",
       "      <td>a</td>\n",
       "      <td>very good</td>\n",
       "    </tr>\n",
       "  </tbody>\n",
       "</table>\n",
       "</div>"
      ],
      "text/plain": [
       "   id raw_grade      grade\n",
       "1   2         b       good\n",
       "2   3         b       good\n",
       "6   7       NaN     medium\n",
       "5   6         e   very bad\n",
       "0   1         a  very good\n",
       "3   4         a  very good\n",
       "4   5         a  very good"
      ]
     },
     "execution_count": 79,
     "metadata": {},
     "output_type": "execute_result"
    }
   ],
   "source": [
    "# dorting by grade \n",
    "df.sort_values(by='grade')"
   ]
  },
  {
   "cell_type": "code",
   "execution_count": 80,
   "id": "5d763167-5bc3-4cdc-a52e-79916ba5be6c",
   "metadata": {},
   "outputs": [
    {
     "data": {
      "text/plain": [
       "grade\n",
       "good         2\n",
       "medium       1\n",
       "very bad     1\n",
       "very good    3\n",
       "dtype: int64"
      ]
     },
     "execution_count": 80,
     "metadata": {},
     "output_type": "execute_result"
    }
   ],
   "source": [
    "df.groupby(by='grade').size()"
   ]
  },
  {
   "cell_type": "markdown",
   "id": "f580cec9-8ac1-4f3e-a4e5-a4546a6e8c30",
   "metadata": {},
   "source": [
    "## Ploting usig `DataFrame/Series.plt()`"
   ]
  },
  {
   "cell_type": "code",
   "execution_count": 81,
   "id": "856155f2-781c-4aa3-af0d-5d1b0af7d59e",
   "metadata": {
    "tags": []
   },
   "outputs": [],
   "source": [
    "import matplotlib.pyplot as plt"
   ]
  },
  {
   "cell_type": "code",
   "execution_count": 86,
   "id": "cbfd735a-42aa-4e52-903c-067177c1803b",
   "metadata": {
    "tags": []
   },
   "outputs": [
    {
     "data": {
      "text/plain": [
       "<Axes: >"
      ]
     },
     "execution_count": 86,
     "metadata": {},
     "output_type": "execute_result"
    },
    {
     "data": {
      "image/png": "[encoded data removed]",
      "text/plain": [
       "<Figure size 640x480 with 1 Axes>"
      ]
     },
     "metadata": {},
     "output_type": "display_data"
    }
   ],
   "source": [
    "s = pd.Series(np.random.rand(1000), index=pd.date_range('1/1/2000', periods=1000))\n",
    "s.plot()"
   ]
  },
  {
   "cell_type": "code",
   "execution_count": 89,
   "id": "913e28e8-1b62-417b-8a06-db86efd2c90b",
   "metadata": {
    "tags": []
   },
   "outputs": [
    {
     "data": {
      "text/plain": [
       "<matplotlib.legend.Legend at 0x7f0470a5bb20>"
      ]
     },
     "execution_count": 89,
     "metadata": {},
     "output_type": "execute_result"
    },
    {
     "data": {
      "text/plain": [
       "<Figure size 640x480 with 0 Axes>"
      ]
     },
     "metadata": {},
     "output_type": "display_data"
    },
    {
     "data": {
      "image/png": "[encoded data removed]",
      "text/plain": [
       "<Figure size 640x480 with 1 Axes>"
      ]
     },
     "metadata": {},
     "output_type": "display_data"
    }
   ],
   "source": [
    "#plotng dataframe\n",
    "df = pd.DataFrame(\n",
    "    np.random.randn(1000, 4), index=s.index, columns=[\"A\", \"B\", \"C\", \"D\"]\n",
    ")\n",
    "df = df.cumsum()\n",
    "plt.figure()\n",
    "df.plot();\n",
    "plt.legend(loc='best')"
   ]
  },
  {
   "cell_type": "markdown",
   "id": "f0984c00-f8c9-4239-a634-0ca6f202981e",
   "metadata": {},
   "source": [
    "## CSV"
   ]
  },
  {
   "cell_type": "code",
   "execution_count": 93,
   "id": "4bd5d26c-53a8-4115-9e3e-640f5a1685a6",
   "metadata": {
    "tags": []
   },
   "outputs": [
    {
     "data": {
      "text/html": [
       "<div>\n",
       "<style scoped>\n",
       "    .dataframe tbody tr th:only-of-type {\n",
       "        vertical-align: middle;\n",
       "    }\n",
       "\n",
       "    .dataframe tbody tr th {\n",
       "        vertical-align: top;\n",
       "    }\n",
       "\n",
       "    .dataframe thead th {\n",
       "        text-align: right;\n",
       "    }\n",
       "</style>\n",
       "<table border=\"1\" class=\"dataframe\">\n",
       "  <thead>\n",
       "    <tr style=\"text-align: right;\">\n",
       "      <th></th>\n",
       "      <th>A</th>\n",
       "      <th>B</th>\n",
       "      <th>C</th>\n",
       "      <th>D</th>\n",
       "    </tr>\n",
       "  </thead>\n",
       "  <tbody>\n",
       "    <tr>\n",
       "      <th>2000-01-01</th>\n",
       "      <td>0.408471</td>\n",
       "      <td>0.824957</td>\n",
       "      <td>0.275831</td>\n",
       "      <td>1.461026</td>\n",
       "    </tr>\n",
       "    <tr>\n",
       "      <th>2000-01-02</th>\n",
       "      <td>-0.350295</td>\n",
       "      <td>1.993961</td>\n",
       "      <td>1.032723</td>\n",
       "      <td>2.887478</td>\n",
       "    </tr>\n",
       "    <tr>\n",
       "      <th>2000-01-03</th>\n",
       "      <td>1.984701</td>\n",
       "      <td>3.248250</td>\n",
       "      <td>3.029498</td>\n",
       "      <td>1.981671</td>\n",
       "    </tr>\n",
       "    <tr>\n",
       "      <th>2000-01-04</th>\n",
       "      <td>0.858051</td>\n",
       "      <td>2.863104</td>\n",
       "      <td>3.047453</td>\n",
       "      <td>3.237359</td>\n",
       "    </tr>\n",
       "    <tr>\n",
       "      <th>2000-01-05</th>\n",
       "      <td>1.370198</td>\n",
       "      <td>2.448037</td>\n",
       "      <td>3.034228</td>\n",
       "      <td>4.321159</td>\n",
       "    </tr>\n",
       "  </tbody>\n",
       "</table>\n",
       "</div>"
      ],
      "text/plain": [
       "                   A         B         C         D\n",
       "2000-01-01  0.408471  0.824957  0.275831  1.461026\n",
       "2000-01-02 -0.350295  1.993961  1.032723  2.887478\n",
       "2000-01-03  1.984701  3.248250  3.029498  1.981671\n",
       "2000-01-04  0.858051  2.863104  3.047453  3.237359\n",
       "2000-01-05  1.370198  2.448037  3.034228  4.321159"
      ]
     },
     "execution_count": 93,
     "metadata": {},
     "output_type": "execute_result"
    }
   ],
   "source": [
    "# saving to csv\n",
    "df.to_csv('foo.csv') # you can open it on jupter"
   ]
  },
  {
   "cell_type": "code",
   "execution_count": 110,
   "id": "d095fd03-74b8-4f03-a90c-2ee5abfca93f",
   "metadata": {
    "tags": []
   },
   "outputs": [
    {
     "data": {
      "text/html": [
       "<div>\n",
       "<style scoped>\n",
       "    .dataframe tbody tr th:only-of-type {\n",
       "        vertical-align: middle;\n",
       "    }\n",
       "\n",
       "    .dataframe tbody tr th {\n",
       "        vertical-align: top;\n",
       "    }\n",
       "\n",
       "    .dataframe thead th {\n",
       "        text-align: right;\n",
       "    }\n",
       "</style>\n",
       "<table border=\"1\" class=\"dataframe\">\n",
       "  <thead>\n",
       "    <tr style=\"text-align: right;\">\n",
       "      <th></th>\n",
       "      <th>Unnamed: 0</th>\n",
       "      <th>A</th>\n",
       "      <th>B</th>\n",
       "      <th>C</th>\n",
       "      <th>D</th>\n",
       "    </tr>\n",
       "  </thead>\n",
       "  <tbody>\n",
       "    <tr>\n",
       "      <th>0</th>\n",
       "      <td>2000-01-01</td>\n",
       "      <td>0.408471</td>\n",
       "      <td>0.824957</td>\n",
       "      <td>0.275831</td>\n",
       "      <td>1.461026</td>\n",
       "    </tr>\n",
       "    <tr>\n",
       "      <th>1</th>\n",
       "      <td>2000-01-02</td>\n",
       "      <td>-0.350295</td>\n",
       "      <td>1.993961</td>\n",
       "      <td>1.032723</td>\n",
       "      <td>2.887478</td>\n",
       "    </tr>\n",
       "    <tr>\n",
       "      <th>2</th>\n",
       "      <td>2000-01-03</td>\n",
       "      <td>1.984701</td>\n",
       "      <td>3.248250</td>\n",
       "      <td>3.029498</td>\n",
       "      <td>1.981671</td>\n",
       "    </tr>\n",
       "    <tr>\n",
       "      <th>3</th>\n",
       "      <td>2000-01-04</td>\n",
       "      <td>0.858051</td>\n",
       "      <td>2.863104</td>\n",
       "      <td>3.047453</td>\n",
       "      <td>3.237359</td>\n",
       "    </tr>\n",
       "    <tr>\n",
       "      <th>4</th>\n",
       "      <td>2000-01-05</td>\n",
       "      <td>1.370198</td>\n",
       "      <td>2.448037</td>\n",
       "      <td>3.034228</td>\n",
       "      <td>4.321159</td>\n",
       "    </tr>\n",
       "    <tr>\n",
       "      <th>...</th>\n",
       "      <td>...</td>\n",
       "      <td>...</td>\n",
       "      <td>...</td>\n",
       "      <td>...</td>\n",
       "      <td>...</td>\n",
       "    </tr>\n",
       "    <tr>\n",
       "      <th>995</th>\n",
       "      <td>2002-09-22</td>\n",
       "      <td>-22.172143</td>\n",
       "      <td>-36.471802</td>\n",
       "      <td>43.089409</td>\n",
       "      <td>36.100522</td>\n",
       "    </tr>\n",
       "    <tr>\n",
       "      <th>996</th>\n",
       "      <td>2002-09-23</td>\n",
       "      <td>-22.518276</td>\n",
       "      <td>-35.271346</td>\n",
       "      <td>42.143327</td>\n",
       "      <td>37.852563</td>\n",
       "    </tr>\n",
       "    <tr>\n",
       "      <th>997</th>\n",
       "      <td>2002-09-24</td>\n",
       "      <td>-21.489240</td>\n",
       "      <td>-35.345116</td>\n",
       "      <td>40.725205</td>\n",
       "      <td>37.645572</td>\n",
       "    </tr>\n",
       "    <tr>\n",
       "      <th>998</th>\n",
       "      <td>2002-09-25</td>\n",
       "      <td>-23.236274</td>\n",
       "      <td>-34.842774</td>\n",
       "      <td>38.237405</td>\n",
       "      <td>38.166297</td>\n",
       "    </tr>\n",
       "    <tr>\n",
       "      <th>999</th>\n",
       "      <td>2002-09-26</td>\n",
       "      <td>-24.104205</td>\n",
       "      <td>-36.249846</td>\n",
       "      <td>38.509444</td>\n",
       "      <td>36.640571</td>\n",
       "    </tr>\n",
       "  </tbody>\n",
       "</table>\n",
       "<p>1000 rows × 5 columns</p>\n",
       "</div>"
      ],
      "text/plain": [
       "     Unnamed: 0          A          B          C          D\n",
       "0    2000-01-01   0.408471   0.824957   0.275831   1.461026\n",
       "1    2000-01-02  -0.350295   1.993961   1.032723   2.887478\n",
       "2    2000-01-03   1.984701   3.248250   3.029498   1.981671\n",
       "3    2000-01-04   0.858051   2.863104   3.047453   3.237359\n",
       "4    2000-01-05   1.370198   2.448037   3.034228   4.321159\n",
       "..          ...        ...        ...        ...        ...\n",
       "995  2002-09-22 -22.172143 -36.471802  43.089409  36.100522\n",
       "996  2002-09-23 -22.518276 -35.271346  42.143327  37.852563\n",
       "997  2002-09-24 -21.489240 -35.345116  40.725205  37.645572\n",
       "998  2002-09-25 -23.236274 -34.842774  38.237405  38.166297\n",
       "999  2002-09-26 -24.104205 -36.249846  38.509444  36.640571\n",
       "\n",
       "[1000 rows x 5 columns]"
      ]
     },
     "execution_count": 110,
     "metadata": {},
     "output_type": "execute_result"
    }
   ],
   "source": [
    "#loading \n",
    "load_df = pd.read_csv('foo.csv')\n",
    "load_df"
   ]
  },
  {
   "cell_type": "code",
   "execution_count": 113,
   "id": "7428739b-a966-4ce6-a1b9-248416128d61",
   "metadata": {
    "tags": []
   },
   "outputs": [
    {
     "data": {
      "text/html": [
       "<div>\n",
       "<style scoped>\n",
       "    .dataframe tbody tr th:only-of-type {\n",
       "        vertical-align: middle;\n",
       "    }\n",
       "\n",
       "    .dataframe tbody tr th {\n",
       "        vertical-align: top;\n",
       "    }\n",
       "\n",
       "    .dataframe thead th {\n",
       "        text-align: right;\n",
       "    }\n",
       "</style>\n",
       "<table border=\"1\" class=\"dataframe\">\n",
       "  <thead>\n",
       "    <tr style=\"text-align: right;\">\n",
       "      <th></th>\n",
       "      <th>A</th>\n",
       "      <th>B</th>\n",
       "      <th>C</th>\n",
       "      <th>D</th>\n",
       "    </tr>\n",
       "  </thead>\n",
       "  <tbody>\n",
       "    <tr>\n",
       "      <th>2000-01-01</th>\n",
       "      <td>0.408471</td>\n",
       "      <td>0.824957</td>\n",
       "      <td>0.275831</td>\n",
       "      <td>1.461026</td>\n",
       "    </tr>\n",
       "    <tr>\n",
       "      <th>2000-01-02</th>\n",
       "      <td>-0.350295</td>\n",
       "      <td>1.993961</td>\n",
       "      <td>1.032723</td>\n",
       "      <td>2.887478</td>\n",
       "    </tr>\n",
       "    <tr>\n",
       "      <th>2000-01-03</th>\n",
       "      <td>1.984701</td>\n",
       "      <td>3.248250</td>\n",
       "      <td>3.029498</td>\n",
       "      <td>1.981671</td>\n",
       "    </tr>\n",
       "    <tr>\n",
       "      <th>2000-01-04</th>\n",
       "      <td>0.858051</td>\n",
       "      <td>2.863104</td>\n",
       "      <td>3.047453</td>\n",
       "      <td>3.237359</td>\n",
       "    </tr>\n",
       "    <tr>\n",
       "      <th>2000-01-05</th>\n",
       "      <td>1.370198</td>\n",
       "      <td>2.448037</td>\n",
       "      <td>3.034228</td>\n",
       "      <td>4.321159</td>\n",
       "    </tr>\n",
       "    <tr>\n",
       "      <th>...</th>\n",
       "      <td>...</td>\n",
       "      <td>...</td>\n",
       "      <td>...</td>\n",
       "      <td>...</td>\n",
       "    </tr>\n",
       "    <tr>\n",
       "      <th>2002-09-22</th>\n",
       "      <td>-22.172143</td>\n",
       "      <td>-36.471802</td>\n",
       "      <td>43.089409</td>\n",
       "      <td>36.100522</td>\n",
       "    </tr>\n",
       "    <tr>\n",
       "      <th>2002-09-23</th>\n",
       "      <td>-22.518276</td>\n",
       "      <td>-35.271346</td>\n",
       "      <td>42.143327</td>\n",
       "      <td>37.852563</td>\n",
       "    </tr>\n",
       "    <tr>\n",
       "      <th>2002-09-24</th>\n",
       "      <td>-21.489240</td>\n",
       "      <td>-35.345116</td>\n",
       "      <td>40.725205</td>\n",
       "      <td>37.645572</td>\n",
       "    </tr>\n",
       "    <tr>\n",
       "      <th>2002-09-25</th>\n",
       "      <td>-23.236274</td>\n",
       "      <td>-34.842774</td>\n",
       "      <td>38.237405</td>\n",
       "      <td>38.166297</td>\n",
       "    </tr>\n",
       "    <tr>\n",
       "      <th>2002-09-26</th>\n",
       "      <td>-24.104205</td>\n",
       "      <td>-36.249846</td>\n",
       "      <td>38.509444</td>\n",
       "      <td>36.640571</td>\n",
       "    </tr>\n",
       "  </tbody>\n",
       "</table>\n",
       "<p>1000 rows × 4 columns</p>\n",
       "</div>"
      ],
      "text/plain": [
       "                    A          B          C          D\n",
       "2000-01-01   0.408471   0.824957   0.275831   1.461026\n",
       "2000-01-02  -0.350295   1.993961   1.032723   2.887478\n",
       "2000-01-03   1.984701   3.248250   3.029498   1.981671\n",
       "2000-01-04   0.858051   2.863104   3.047453   3.237359\n",
       "2000-01-05   1.370198   2.448037   3.034228   4.321159\n",
       "...               ...        ...        ...        ...\n",
       "2002-09-22 -22.172143 -36.471802  43.089409  36.100522\n",
       "2002-09-23 -22.518276 -35.271346  42.143327  37.852563\n",
       "2002-09-24 -21.489240 -35.345116  40.725205  37.645572\n",
       "2002-09-25 -23.236274 -34.842774  38.237405  38.166297\n",
       "2002-09-26 -24.104205 -36.249846  38.509444  36.640571\n",
       "\n",
       "[1000 rows x 4 columns]"
      ]
     },
     "execution_count": 113,
     "metadata": {},
     "output_type": "execute_result"
    }
   ],
   "source": [
    "load_df.index = load_df.iloc[:,0]\n",
    "load_df = df.iloc[:, 0:]\n",
    "load_df"
   ]
  },
  {
   "cell_type": "markdown",
   "id": "eff8b701-00f1-4b7c-a9ba-28ea5e2cd439",
   "metadata": {},
   "source": [
    "## Excel"
   ]
  },
  {
   "cell_type": "code",
   "execution_count": 115,
   "id": "8175b0cf-ddb7-4910-adf5-f0aa2ab83887",
   "metadata": {
    "tags": []
   },
   "outputs": [],
   "source": [
    "df.to_excel(\"foo.xlsx\", sheet_name=\"Sheet1\")"
   ]
  },
  {
   "cell_type": "code",
   "execution_count": 116,
   "id": "387843fc-6c6d-42d1-a45f-689c402e0c14",
   "metadata": {
    "tags": []
   },
   "outputs": [],
   "source": [
    "load_df = pd.read_excel(\"foo.xlsx\", \"Sheet1\", index_col=None, na_values=[\"NA\"])"
   ]
  },
  {
   "cell_type": "code",
   "execution_count": 117,
   "id": "700a9831-66a1-4e50-9a87-5a40b2ebdbac",
   "metadata": {
    "tags": []
   },
   "outputs": [
    {
     "data": {
      "text/html": [
       "<div>\n",
       "<style scoped>\n",
       "    .dataframe tbody tr th:only-of-type {\n",
       "        vertical-align: middle;\n",
       "    }\n",
       "\n",
       "    .dataframe tbody tr th {\n",
       "        vertical-align: top;\n",
       "    }\n",
       "\n",
       "    .dataframe thead th {\n",
       "        text-align: right;\n",
       "    }\n",
       "</style>\n",
       "<table border=\"1\" class=\"dataframe\">\n",
       "  <thead>\n",
       "    <tr style=\"text-align: right;\">\n",
       "      <th></th>\n",
       "      <th>Unnamed: 0</th>\n",
       "      <th>A</th>\n",
       "      <th>B</th>\n",
       "      <th>C</th>\n",
       "      <th>D</th>\n",
       "    </tr>\n",
       "  </thead>\n",
       "  <tbody>\n",
       "    <tr>\n",
       "      <th>0</th>\n",
       "      <td>2000-01-01</td>\n",
       "      <td>0.408471</td>\n",
       "      <td>0.824957</td>\n",
       "      <td>0.275831</td>\n",
       "      <td>1.461026</td>\n",
       "    </tr>\n",
       "    <tr>\n",
       "      <th>1</th>\n",
       "      <td>2000-01-02</td>\n",
       "      <td>-0.350295</td>\n",
       "      <td>1.993961</td>\n",
       "      <td>1.032723</td>\n",
       "      <td>2.887478</td>\n",
       "    </tr>\n",
       "    <tr>\n",
       "      <th>2</th>\n",
       "      <td>2000-01-03</td>\n",
       "      <td>1.984701</td>\n",
       "      <td>3.248250</td>\n",
       "      <td>3.029498</td>\n",
       "      <td>1.981671</td>\n",
       "    </tr>\n",
       "    <tr>\n",
       "      <th>3</th>\n",
       "      <td>2000-01-04</td>\n",
       "      <td>0.858051</td>\n",
       "      <td>2.863104</td>\n",
       "      <td>3.047453</td>\n",
       "      <td>3.237359</td>\n",
       "    </tr>\n",
       "    <tr>\n",
       "      <th>4</th>\n",
       "      <td>2000-01-05</td>\n",
       "      <td>1.370198</td>\n",
       "      <td>2.448037</td>\n",
       "      <td>3.034228</td>\n",
       "      <td>4.321159</td>\n",
       "    </tr>\n",
       "    <tr>\n",
       "      <th>...</th>\n",
       "      <td>...</td>\n",
       "      <td>...</td>\n",
       "      <td>...</td>\n",
       "      <td>...</td>\n",
       "      <td>...</td>\n",
       "    </tr>\n",
       "    <tr>\n",
       "      <th>995</th>\n",
       "      <td>2002-09-22</td>\n",
       "      <td>-22.172143</td>\n",
       "      <td>-36.471802</td>\n",
       "      <td>43.089409</td>\n",
       "      <td>36.100522</td>\n",
       "    </tr>\n",
       "    <tr>\n",
       "      <th>996</th>\n",
       "      <td>2002-09-23</td>\n",
       "      <td>-22.518276</td>\n",
       "      <td>-35.271346</td>\n",
       "      <td>42.143327</td>\n",
       "      <td>37.852563</td>\n",
       "    </tr>\n",
       "    <tr>\n",
       "      <th>997</th>\n",
       "      <td>2002-09-24</td>\n",
       "      <td>-21.489240</td>\n",
       "      <td>-35.345116</td>\n",
       "      <td>40.725205</td>\n",
       "      <td>37.645572</td>\n",
       "    </tr>\n",
       "    <tr>\n",
       "      <th>998</th>\n",
       "      <td>2002-09-25</td>\n",
       "      <td>-23.236274</td>\n",
       "      <td>-34.842774</td>\n",
       "      <td>38.237405</td>\n",
       "      <td>38.166297</td>\n",
       "    </tr>\n",
       "    <tr>\n",
       "      <th>999</th>\n",
       "      <td>2002-09-26</td>\n",
       "      <td>-24.104205</td>\n",
       "      <td>-36.249846</td>\n",
       "      <td>38.509444</td>\n",
       "      <td>36.640571</td>\n",
       "    </tr>\n",
       "  </tbody>\n",
       "</table>\n",
       "<p>1000 rows × 5 columns</p>\n",
       "</div>"
      ],
      "text/plain": [
       "    Unnamed: 0          A          B          C          D\n",
       "0   2000-01-01   0.408471   0.824957   0.275831   1.461026\n",
       "1   2000-01-02  -0.350295   1.993961   1.032723   2.887478\n",
       "2   2000-01-03   1.984701   3.248250   3.029498   1.981671\n",
       "3   2000-01-04   0.858051   2.863104   3.047453   3.237359\n",
       "4   2000-01-05   1.370198   2.448037   3.034228   4.321159\n",
       "..         ...        ...        ...        ...        ...\n",
       "995 2002-09-22 -22.172143 -36.471802  43.089409  36.100522\n",
       "996 2002-09-23 -22.518276 -35.271346  42.143327  37.852563\n",
       "997 2002-09-24 -21.489240 -35.345116  40.725205  37.645572\n",
       "998 2002-09-25 -23.236274 -34.842774  38.237405  38.166297\n",
       "999 2002-09-26 -24.104205 -36.249846  38.509444  36.640571\n",
       "\n",
       "[1000 rows x 5 columns]"
      ]
     },
     "execution_count": 117,
     "metadata": {},
     "output_type": "execute_result"
    }
   ],
   "source": [
    "load_df"
   ]
  },
  {
   "cell_type": "code",
   "execution_count": 118,
   "id": "5a73f90c-7215-4f2f-ac54-a19d67e49259",
   "metadata": {
    "tags": []
   },
   "outputs": [
    {
     "data": {
      "text/html": [
       "<div>\n",
       "<style scoped>\n",
       "    .dataframe tbody tr th:only-of-type {\n",
       "        vertical-align: middle;\n",
       "    }\n",
       "\n",
       "    .dataframe tbody tr th {\n",
       "        vertical-align: top;\n",
       "    }\n",
       "\n",
       "    .dataframe thead th {\n",
       "        text-align: right;\n",
       "    }\n",
       "</style>\n",
       "<table border=\"1\" class=\"dataframe\">\n",
       "  <thead>\n",
       "    <tr style=\"text-align: right;\">\n",
       "      <th></th>\n",
       "      <th>A</th>\n",
       "      <th>B</th>\n",
       "      <th>C</th>\n",
       "      <th>D</th>\n",
       "    </tr>\n",
       "  </thead>\n",
       "  <tbody>\n",
       "    <tr>\n",
       "      <th>2000-01-01</th>\n",
       "      <td>0.408471</td>\n",
       "      <td>0.824957</td>\n",
       "      <td>0.275831</td>\n",
       "      <td>1.461026</td>\n",
       "    </tr>\n",
       "    <tr>\n",
       "      <th>2000-01-02</th>\n",
       "      <td>-0.350295</td>\n",
       "      <td>1.993961</td>\n",
       "      <td>1.032723</td>\n",
       "      <td>2.887478</td>\n",
       "    </tr>\n",
       "    <tr>\n",
       "      <th>2000-01-03</th>\n",
       "      <td>1.984701</td>\n",
       "      <td>3.248250</td>\n",
       "      <td>3.029498</td>\n",
       "      <td>1.981671</td>\n",
       "    </tr>\n",
       "    <tr>\n",
       "      <th>2000-01-04</th>\n",
       "      <td>0.858051</td>\n",
       "      <td>2.863104</td>\n",
       "      <td>3.047453</td>\n",
       "      <td>3.237359</td>\n",
       "    </tr>\n",
       "    <tr>\n",
       "      <th>2000-01-05</th>\n",
       "      <td>1.370198</td>\n",
       "      <td>2.448037</td>\n",
       "      <td>3.034228</td>\n",
       "      <td>4.321159</td>\n",
       "    </tr>\n",
       "    <tr>\n",
       "      <th>...</th>\n",
       "      <td>...</td>\n",
       "      <td>...</td>\n",
       "      <td>...</td>\n",
       "      <td>...</td>\n",
       "    </tr>\n",
       "    <tr>\n",
       "      <th>2002-09-22</th>\n",
       "      <td>-22.172143</td>\n",
       "      <td>-36.471802</td>\n",
       "      <td>43.089409</td>\n",
       "      <td>36.100522</td>\n",
       "    </tr>\n",
       "    <tr>\n",
       "      <th>2002-09-23</th>\n",
       "      <td>-22.518276</td>\n",
       "      <td>-35.271346</td>\n",
       "      <td>42.143327</td>\n",
       "      <td>37.852563</td>\n",
       "    </tr>\n",
       "    <tr>\n",
       "      <th>2002-09-24</th>\n",
       "      <td>-21.489240</td>\n",
       "      <td>-35.345116</td>\n",
       "      <td>40.725205</td>\n",
       "      <td>37.645572</td>\n",
       "    </tr>\n",
       "    <tr>\n",
       "      <th>2002-09-25</th>\n",
       "      <td>-23.236274</td>\n",
       "      <td>-34.842774</td>\n",
       "      <td>38.237405</td>\n",
       "      <td>38.166297</td>\n",
       "    </tr>\n",
       "    <tr>\n",
       "      <th>2002-09-26</th>\n",
       "      <td>-24.104205</td>\n",
       "      <td>-36.249846</td>\n",
       "      <td>38.509444</td>\n",
       "      <td>36.640571</td>\n",
       "    </tr>\n",
       "  </tbody>\n",
       "</table>\n",
       "<p>1000 rows × 4 columns</p>\n",
       "</div>"
      ],
      "text/plain": [
       "                    A          B          C          D\n",
       "2000-01-01   0.408471   0.824957   0.275831   1.461026\n",
       "2000-01-02  -0.350295   1.993961   1.032723   2.887478\n",
       "2000-01-03   1.984701   3.248250   3.029498   1.981671\n",
       "2000-01-04   0.858051   2.863104   3.047453   3.237359\n",
       "2000-01-05   1.370198   2.448037   3.034228   4.321159\n",
       "...               ...        ...        ...        ...\n",
       "2002-09-22 -22.172143 -36.471802  43.089409  36.100522\n",
       "2002-09-23 -22.518276 -35.271346  42.143327  37.852563\n",
       "2002-09-24 -21.489240 -35.345116  40.725205  37.645572\n",
       "2002-09-25 -23.236274 -34.842774  38.237405  38.166297\n",
       "2002-09-26 -24.104205 -36.249846  38.509444  36.640571\n",
       "\n",
       "[1000 rows x 4 columns]"
      ]
     },
     "execution_count": 118,
     "metadata": {},
     "output_type": "execute_result"
    }
   ],
   "source": [
    "load_df.index = load_df.iloc[:,0]\n",
    "load_df = df.iloc[:, 0:]\n",
    "load_df"
   ]
  },
  {
   "cell_type": "code",
   "execution_count": null,
   "id": "0e46ad15-55bc-43e1-9fb5-9891978c86f2",
   "metadata": {},
   "outputs": [],
   "source": []
  }
 ],
 "metadata": {
  "kernelspec": {
   "display_name": "Python 3 (ipykernel)",
   "language": "python",
   "name": "python3"
  },
  "language_info": {
   "codemirror_mode": {
    "name": "ipython",
    "version": 3
   },
   "file_extension": ".py",
   "mimetype": "text/x-python",
   "name": "python",
   "nbconvert_exporter": "python",
   "pygments_lexer": "ipython3",
   "version": "3.10.6"
  }
 },
 "nbformat": 4,
 "nbformat_minor": 5
}
