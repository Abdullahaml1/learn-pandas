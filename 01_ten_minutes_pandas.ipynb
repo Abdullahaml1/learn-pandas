{
 "cells": [
  {
   "cell_type": "markdown",
   "id": "a3395d13-7871-413e-8249-e403f522bbce",
   "metadata": {},
   "source": [
    "# 10 Minutes Pandas [link](https://pandas.pydata.org/docs/user_guide/10min.html#min)"
   ]
  },
  {
   "cell_type": "code",
   "execution_count": 1,
   "id": "eeb4246a-9ed5-4184-bffd-3cbc86adc63a",
   "metadata": {
    "tags": []
   },
   "outputs": [],
   "source": [
    "import pandas as pd\n",
    "import numpy as np"
   ]
  },
  {
   "cell_type": "code",
   "execution_count": 2,
   "id": "9fb91b2c-f0d9-4782-99a8-27cf72fe90e6",
   "metadata": {
    "tags": []
   },
   "outputs": [
    {
     "name": "stdout",
     "output_type": "stream",
     "text": [
      "0    1.0\n",
      "1    3.0\n",
      "2    5.0\n",
      "3    NaN\n",
      "4    6.0\n",
      "5    8.0\n",
      "dtype: float64\n"
     ]
    }
   ],
   "source": [
    "# series\n",
    "s = pd.Series([1, 3, 5, np.nan, 6, 8])\n",
    "print(s)"
   ]
  },
  {
   "cell_type": "code",
   "execution_count": 3,
   "id": "09dec82c-dd16-4f0b-b6e7-c903671e67bc",
   "metadata": {
    "tags": []
   },
   "outputs": [
    {
     "name": "stdout",
     "output_type": "stream",
     "text": [
      "DatetimeIndex(['2013-01-01', '2013-01-02', '2013-01-03', '2013-01-04',\n",
      "               '2013-01-05', '2013-01-06'],\n",
      "              dtype='datetime64[ns]', freq='D')\n",
      "\n"
     ]
    },
    {
     "data": {
      "text/html": [
       "<div>\n",
       "<style scoped>\n",
       "    .dataframe tbody tr th:only-of-type {\n",
       "        vertical-align: middle;\n",
       "    }\n",
       "\n",
       "    .dataframe tbody tr th {\n",
       "        vertical-align: top;\n",
       "    }\n",
       "\n",
       "    .dataframe thead th {\n",
       "        text-align: right;\n",
       "    }\n",
       "</style>\n",
       "<table border=\"1\" class=\"dataframe\">\n",
       "  <thead>\n",
       "    <tr style=\"text-align: right;\">\n",
       "      <th></th>\n",
       "      <th>A</th>\n",
       "      <th>B</th>\n",
       "      <th>C</th>\n",
       "      <th>D</th>\n",
       "    </tr>\n",
       "  </thead>\n",
       "  <tbody>\n",
       "    <tr>\n",
       "      <th>2013-01-01</th>\n",
       "      <td>0.368141</td>\n",
       "      <td>0.050987</td>\n",
       "      <td>0.283732</td>\n",
       "      <td>0.024102</td>\n",
       "    </tr>\n",
       "    <tr>\n",
       "      <th>2013-01-02</th>\n",
       "      <td>1.453156</td>\n",
       "      <td>-0.303845</td>\n",
       "      <td>-0.325767</td>\n",
       "      <td>-0.091905</td>\n",
       "    </tr>\n",
       "    <tr>\n",
       "      <th>2013-01-03</th>\n",
       "      <td>-0.489373</td>\n",
       "      <td>1.959238</td>\n",
       "      <td>0.287920</td>\n",
       "      <td>0.834300</td>\n",
       "    </tr>\n",
       "    <tr>\n",
       "      <th>2013-01-04</th>\n",
       "      <td>0.775866</td>\n",
       "      <td>-1.087637</td>\n",
       "      <td>-0.134552</td>\n",
       "      <td>-0.105819</td>\n",
       "    </tr>\n",
       "    <tr>\n",
       "      <th>2013-01-05</th>\n",
       "      <td>-0.436288</td>\n",
       "      <td>-0.913931</td>\n",
       "      <td>0.205661</td>\n",
       "      <td>1.943312</td>\n",
       "    </tr>\n",
       "    <tr>\n",
       "      <th>2013-01-06</th>\n",
       "      <td>-1.056582</td>\n",
       "      <td>-0.936091</td>\n",
       "      <td>0.494788</td>\n",
       "      <td>-1.429302</td>\n",
       "    </tr>\n",
       "  </tbody>\n",
       "</table>\n",
       "</div>"
      ],
      "text/plain": [
       "                   A         B         C         D\n",
       "2013-01-01  0.368141  0.050987  0.283732  0.024102\n",
       "2013-01-02  1.453156 -0.303845 -0.325767 -0.091905\n",
       "2013-01-03 -0.489373  1.959238  0.287920  0.834300\n",
       "2013-01-04  0.775866 -1.087637 -0.134552 -0.105819\n",
       "2013-01-05 -0.436288 -0.913931  0.205661  1.943312\n",
       "2013-01-06 -1.056582 -0.936091  0.494788 -1.429302"
      ]
     },
     "execution_count": 3,
     "metadata": {},
     "output_type": "execute_result"
    }
   ],
   "source": [
    "# dataframs (index are the keyes)  (columns are the titles)\n",
    "dates = pd.date_range('20130101', periods=6) #year-month-day\n",
    "print(dates)\n",
    "\n",
    "print()\n",
    "df = pd.DataFrame(np.random.randn(6, 4), index=dates, columns=['A', 'B', 'C', 'D'])\n",
    "df"
   ]
  },
  {
   "cell_type": "code",
   "execution_count": 4,
   "id": "06d77dee-e3b9-46ec-897c-d75e774f5b2a",
   "metadata": {
    "tags": []
   },
   "outputs": [
    {
     "name": "stdout",
     "output_type": "stream",
     "text": [
      "A           float64\n",
      "B    datetime64[ns]\n",
      "C           float32\n",
      "D             int32\n",
      "E          category\n",
      "F            object\n",
      "dtype: object\n"
     ]
    },
    {
     "data": {
      "text/html": [
       "<div>\n",
       "<style scoped>\n",
       "    .dataframe tbody tr th:only-of-type {\n",
       "        vertical-align: middle;\n",
       "    }\n",
       "\n",
       "    .dataframe tbody tr th {\n",
       "        vertical-align: top;\n",
       "    }\n",
       "\n",
       "    .dataframe thead th {\n",
       "        text-align: right;\n",
       "    }\n",
       "</style>\n",
       "<table border=\"1\" class=\"dataframe\">\n",
       "  <thead>\n",
       "    <tr style=\"text-align: right;\">\n",
       "      <th></th>\n",
       "      <th>A</th>\n",
       "      <th>B</th>\n",
       "      <th>C</th>\n",
       "      <th>D</th>\n",
       "      <th>E</th>\n",
       "      <th>F</th>\n",
       "    </tr>\n",
       "  </thead>\n",
       "  <tbody>\n",
       "    <tr>\n",
       "      <th>0</th>\n",
       "      <td>1.0</td>\n",
       "      <td>2013-01-02</td>\n",
       "      <td>1.0</td>\n",
       "      <td>3</td>\n",
       "      <td>test</td>\n",
       "      <td>foo</td>\n",
       "    </tr>\n",
       "    <tr>\n",
       "      <th>1</th>\n",
       "      <td>1.0</td>\n",
       "      <td>2013-01-02</td>\n",
       "      <td>1.0</td>\n",
       "      <td>3</td>\n",
       "      <td>train</td>\n",
       "      <td>foo</td>\n",
       "    </tr>\n",
       "    <tr>\n",
       "      <th>2</th>\n",
       "      <td>1.0</td>\n",
       "      <td>2013-01-02</td>\n",
       "      <td>1.0</td>\n",
       "      <td>3</td>\n",
       "      <td>test</td>\n",
       "      <td>foo</td>\n",
       "    </tr>\n",
       "    <tr>\n",
       "      <th>3</th>\n",
       "      <td>1.0</td>\n",
       "      <td>2013-01-02</td>\n",
       "      <td>1.0</td>\n",
       "      <td>3</td>\n",
       "      <td>train</td>\n",
       "      <td>foo</td>\n",
       "    </tr>\n",
       "  </tbody>\n",
       "</table>\n",
       "</div>"
      ],
      "text/plain": [
       "     A          B    C  D      E    F\n",
       "0  1.0 2013-01-02  1.0  3   test  foo\n",
       "1  1.0 2013-01-02  1.0  3  train  foo\n",
       "2  1.0 2013-01-02  1.0  3   test  foo\n",
       "3  1.0 2013-01-02  1.0  3  train  foo"
      ]
     },
     "execution_count": 4,
     "metadata": {},
     "output_type": "execute_result"
    }
   ],
   "source": [
    "# creating data frame form dictionary\n",
    "df2 = pd.DataFrame(\n",
    "    {\n",
    "        'A': 1.0,\n",
    "        'B': pd.Timestamp('20130102'),\n",
    "        'C': pd.Series(1, index=list(range(4)), dtype='float32'),\n",
    "        'D': np.array([3]*4, dtype=np.int32),\n",
    "        'E': pd.Categorical(['test', 'train', 'test', 'train']),\n",
    "        'F': 'foo'\n",
    "    }\n",
    ")\n",
    "#datafram columns type\n",
    "print(df2.dtypes)\n",
    "df2"
   ]
  },
  {
   "cell_type": "code",
   "execution_count": 5,
   "id": "12665ff7-42a0-457b-b1a9-99e7c8c31ae0",
   "metadata": {
    "tags": []
   },
   "outputs": [
    {
     "name": "stdout",
     "output_type": "stream",
     "text": [
      "0    1.0\n",
      "1    1.0\n",
      "2    1.0\n",
      "3    1.0\n",
      "Name: C, dtype: float32\n",
      "0    1.0\n",
      "1    1.0\n",
      "2    1.0\n",
      "3    1.0\n",
      "Name: C, dtype: float32\n",
      "\n",
      " Int64Index([0, 1, 2, 3], dtype='int64')\n",
      "[0, 1, 2, 3]\n",
      "\n",
      " Index(['A', 'B', 'C', 'D', 'E', 'F'], dtype='object')\n",
      "['A', 'B', 'C', 'D', 'E', 'F']\n"
     ]
    }
   ],
   "source": [
    "# accessing a column returning a series\n",
    "print(df2.C)\n",
    "print(df2['C'])\n",
    "\n",
    "#displaying index (keys)\n",
    "print('\\n', df2.index)\n",
    "print(list(df2.index))\n",
    "\n",
    "#displaying columns\n",
    "print('\\n', df2.columns)\n",
    "print(list(df2.columns))"
   ]
  },
  {
   "cell_type": "code",
   "execution_count": 6,
   "id": "695b16de-4026-44ac-aa53-b07f0490e88c",
   "metadata": {
    "tags": []
   },
   "outputs": [
    {
     "name": "stdout",
     "output_type": "stream",
     "text": [
      "[[ 0.36814091  0.05098719  0.28373174  0.02410217]\n",
      " [ 1.45315637 -0.30384482 -0.32576748 -0.09190474]\n",
      " [-0.4893726   1.95923781  0.2879202   0.83429992]\n",
      " [ 0.77586633 -1.08763723 -0.13455157 -0.10581946]\n",
      " [-0.43628811 -0.9139313   0.20566055  1.94331158]\n",
      " [-1.05658184 -0.93609149  0.49478791 -1.4293016 ]]\n"
     ]
    },
    {
     "data": {
      "text/plain": [
       "pandas._libs.tslibs.timestamps.Timestamp"
      ]
     },
     "execution_count": 6,
     "metadata": {},
     "output_type": "execute_result"
    }
   ],
   "source": [
    "# converting data frame to numpy\n",
    "'''\n",
    "    if all data types are the same pandas will return a numpy array with the save datatype\n",
    "    if columns are not the same datatype will return them as object and we nedd to cast every column in order to use it\n",
    "        in addition it is heavy operatoin\n",
    "'''\n",
    "print(df.to_numpy())\n",
    "np_object = df2.to_numpy() # array of objects\n",
    "type(np_object[0][1])"
   ]
  },
  {
   "cell_type": "code",
   "execution_count": 7,
   "id": "0ee4767d-4113-42b4-ae39-612bf342a5d0",
   "metadata": {
    "tags": []
   },
   "outputs": [
    {
     "data": {
      "text/html": [
       "<div>\n",
       "<style scoped>\n",
       "    .dataframe tbody tr th:only-of-type {\n",
       "        vertical-align: middle;\n",
       "    }\n",
       "\n",
       "    .dataframe tbody tr th {\n",
       "        vertical-align: top;\n",
       "    }\n",
       "\n",
       "    .dataframe thead th {\n",
       "        text-align: right;\n",
       "    }\n",
       "</style>\n",
       "<table border=\"1\" class=\"dataframe\">\n",
       "  <thead>\n",
       "    <tr style=\"text-align: right;\">\n",
       "      <th></th>\n",
       "      <th>A</th>\n",
       "      <th>B</th>\n",
       "      <th>C</th>\n",
       "      <th>D</th>\n",
       "    </tr>\n",
       "  </thead>\n",
       "  <tbody>\n",
       "    <tr>\n",
       "      <th>count</th>\n",
       "      <td>6.000000</td>\n",
       "      <td>6.000000</td>\n",
       "      <td>6.000000</td>\n",
       "      <td>6.000000</td>\n",
       "    </tr>\n",
       "    <tr>\n",
       "      <th>mean</th>\n",
       "      <td>0.102487</td>\n",
       "      <td>-0.205213</td>\n",
       "      <td>0.135297</td>\n",
       "      <td>0.195781</td>\n",
       "    </tr>\n",
       "    <tr>\n",
       "      <th>std</th>\n",
       "      <td>0.930842</td>\n",
       "      <td>1.146765</td>\n",
       "      <td>0.304930</td>\n",
       "      <td>1.123002</td>\n",
       "    </tr>\n",
       "    <tr>\n",
       "      <th>min</th>\n",
       "      <td>-1.056582</td>\n",
       "      <td>-1.087637</td>\n",
       "      <td>-0.325767</td>\n",
       "      <td>-1.429302</td>\n",
       "    </tr>\n",
       "    <tr>\n",
       "      <th>25%</th>\n",
       "      <td>-0.476101</td>\n",
       "      <td>-0.930551</td>\n",
       "      <td>-0.049499</td>\n",
       "      <td>-0.102341</td>\n",
       "    </tr>\n",
       "    <tr>\n",
       "      <th>50%</th>\n",
       "      <td>-0.034074</td>\n",
       "      <td>-0.608888</td>\n",
       "      <td>0.244696</td>\n",
       "      <td>-0.033901</td>\n",
       "    </tr>\n",
       "    <tr>\n",
       "      <th>75%</th>\n",
       "      <td>0.673935</td>\n",
       "      <td>-0.037721</td>\n",
       "      <td>0.286873</td>\n",
       "      <td>0.631750</td>\n",
       "    </tr>\n",
       "    <tr>\n",
       "      <th>max</th>\n",
       "      <td>1.453156</td>\n",
       "      <td>1.959238</td>\n",
       "      <td>0.494788</td>\n",
       "      <td>1.943312</td>\n",
       "    </tr>\n",
       "  </tbody>\n",
       "</table>\n",
       "</div>"
      ],
      "text/plain": [
       "              A         B         C         D\n",
       "count  6.000000  6.000000  6.000000  6.000000\n",
       "mean   0.102487 -0.205213  0.135297  0.195781\n",
       "std    0.930842  1.146765  0.304930  1.123002\n",
       "min   -1.056582 -1.087637 -0.325767 -1.429302\n",
       "25%   -0.476101 -0.930551 -0.049499 -0.102341\n",
       "50%   -0.034074 -0.608888  0.244696 -0.033901\n",
       "75%    0.673935 -0.037721  0.286873  0.631750\n",
       "max    1.453156  1.959238  0.494788  1.943312"
      ]
     },
     "execution_count": 7,
     "metadata": {},
     "output_type": "execute_result"
    }
   ],
   "source": [
    "# describing the data\n",
    "df.describe()"
   ]
  },
  {
   "cell_type": "code",
   "execution_count": 8,
   "id": "cf5746f5-6df1-417d-acb1-d11788edc6ee",
   "metadata": {
    "tags": []
   },
   "outputs": [
    {
     "data": {
      "text/html": [
       "<div>\n",
       "<style scoped>\n",
       "    .dataframe tbody tr th:only-of-type {\n",
       "        vertical-align: middle;\n",
       "    }\n",
       "\n",
       "    .dataframe tbody tr th {\n",
       "        vertical-align: top;\n",
       "    }\n",
       "\n",
       "    .dataframe thead th {\n",
       "        text-align: right;\n",
       "    }\n",
       "</style>\n",
       "<table border=\"1\" class=\"dataframe\">\n",
       "  <thead>\n",
       "    <tr style=\"text-align: right;\">\n",
       "      <th></th>\n",
       "      <th>2013-01-01</th>\n",
       "      <th>2013-01-02</th>\n",
       "      <th>2013-01-03</th>\n",
       "      <th>2013-01-04</th>\n",
       "      <th>2013-01-05</th>\n",
       "      <th>2013-01-06</th>\n",
       "    </tr>\n",
       "  </thead>\n",
       "  <tbody>\n",
       "    <tr>\n",
       "      <th>A</th>\n",
       "      <td>0.368141</td>\n",
       "      <td>1.453156</td>\n",
       "      <td>-0.489373</td>\n",
       "      <td>0.775866</td>\n",
       "      <td>-0.436288</td>\n",
       "      <td>-1.056582</td>\n",
       "    </tr>\n",
       "    <tr>\n",
       "      <th>B</th>\n",
       "      <td>0.050987</td>\n",
       "      <td>-0.303845</td>\n",
       "      <td>1.959238</td>\n",
       "      <td>-1.087637</td>\n",
       "      <td>-0.913931</td>\n",
       "      <td>-0.936091</td>\n",
       "    </tr>\n",
       "    <tr>\n",
       "      <th>C</th>\n",
       "      <td>0.283732</td>\n",
       "      <td>-0.325767</td>\n",
       "      <td>0.287920</td>\n",
       "      <td>-0.134552</td>\n",
       "      <td>0.205661</td>\n",
       "      <td>0.494788</td>\n",
       "    </tr>\n",
       "    <tr>\n",
       "      <th>D</th>\n",
       "      <td>0.024102</td>\n",
       "      <td>-0.091905</td>\n",
       "      <td>0.834300</td>\n",
       "      <td>-0.105819</td>\n",
       "      <td>1.943312</td>\n",
       "      <td>-1.429302</td>\n",
       "    </tr>\n",
       "  </tbody>\n",
       "</table>\n",
       "</div>"
      ],
      "text/plain": [
       "   2013-01-01  2013-01-02  2013-01-03  2013-01-04  2013-01-05  2013-01-06\n",
       "A    0.368141    1.453156   -0.489373    0.775866   -0.436288   -1.056582\n",
       "B    0.050987   -0.303845    1.959238   -1.087637   -0.913931   -0.936091\n",
       "C    0.283732   -0.325767    0.287920   -0.134552    0.205661    0.494788\n",
       "D    0.024102   -0.091905    0.834300   -0.105819    1.943312   -1.429302"
      ]
     },
     "execution_count": 8,
     "metadata": {},
     "output_type": "execute_result"
    }
   ],
   "source": [
    "# transposing\n",
    "df.T"
   ]
  },
  {
   "cell_type": "code",
   "execution_count": 9,
   "id": "f1de89a3-8f74-4f20-acb2-4786e16639a5",
   "metadata": {
    "tags": []
   },
   "outputs": [
    {
     "data": {
      "text/html": [
       "<div>\n",
       "<style scoped>\n",
       "    .dataframe tbody tr th:only-of-type {\n",
       "        vertical-align: middle;\n",
       "    }\n",
       "\n",
       "    .dataframe tbody tr th {\n",
       "        vertical-align: top;\n",
       "    }\n",
       "\n",
       "    .dataframe thead th {\n",
       "        text-align: right;\n",
       "    }\n",
       "</style>\n",
       "<table border=\"1\" class=\"dataframe\">\n",
       "  <thead>\n",
       "    <tr style=\"text-align: right;\">\n",
       "      <th></th>\n",
       "      <th>D</th>\n",
       "      <th>C</th>\n",
       "      <th>B</th>\n",
       "      <th>A</th>\n",
       "    </tr>\n",
       "  </thead>\n",
       "  <tbody>\n",
       "    <tr>\n",
       "      <th>2013-01-01</th>\n",
       "      <td>0.024102</td>\n",
       "      <td>0.283732</td>\n",
       "      <td>0.050987</td>\n",
       "      <td>0.368141</td>\n",
       "    </tr>\n",
       "    <tr>\n",
       "      <th>2013-01-02</th>\n",
       "      <td>-0.091905</td>\n",
       "      <td>-0.325767</td>\n",
       "      <td>-0.303845</td>\n",
       "      <td>1.453156</td>\n",
       "    </tr>\n",
       "    <tr>\n",
       "      <th>2013-01-03</th>\n",
       "      <td>0.834300</td>\n",
       "      <td>0.287920</td>\n",
       "      <td>1.959238</td>\n",
       "      <td>-0.489373</td>\n",
       "    </tr>\n",
       "    <tr>\n",
       "      <th>2013-01-04</th>\n",
       "      <td>-0.105819</td>\n",
       "      <td>-0.134552</td>\n",
       "      <td>-1.087637</td>\n",
       "      <td>0.775866</td>\n",
       "    </tr>\n",
       "    <tr>\n",
       "      <th>2013-01-05</th>\n",
       "      <td>1.943312</td>\n",
       "      <td>0.205661</td>\n",
       "      <td>-0.913931</td>\n",
       "      <td>-0.436288</td>\n",
       "    </tr>\n",
       "    <tr>\n",
       "      <th>2013-01-06</th>\n",
       "      <td>-1.429302</td>\n",
       "      <td>0.494788</td>\n",
       "      <td>-0.936091</td>\n",
       "      <td>-1.056582</td>\n",
       "    </tr>\n",
       "  </tbody>\n",
       "</table>\n",
       "</div>"
      ],
      "text/plain": [
       "                   D         C         B         A\n",
       "2013-01-01  0.024102  0.283732  0.050987  0.368141\n",
       "2013-01-02 -0.091905 -0.325767 -0.303845  1.453156\n",
       "2013-01-03  0.834300  0.287920  1.959238 -0.489373\n",
       "2013-01-04 -0.105819 -0.134552 -1.087637  0.775866\n",
       "2013-01-05  1.943312  0.205661 -0.913931 -0.436288\n",
       "2013-01-06 -1.429302  0.494788 -0.936091 -1.056582"
      ]
     },
     "execution_count": 9,
     "metadata": {},
     "output_type": "execute_result"
    }
   ],
   "source": [
    "# sort by index of column\n",
    "'''\n",
    "axis=0 sort raws by index(keys)\n",
    "axis=1 sort columns by column's mean value\n",
    "'''\n",
    "df.sort_index(axis=1, ascending=False)"
   ]
  },
  {
   "cell_type": "code",
   "execution_count": 10,
   "id": "3e4ed753-aaa3-4882-9746-ed0a87333362",
   "metadata": {
    "tags": []
   },
   "outputs": [
    {
     "data": {
      "text/html": [
       "<div>\n",
       "<style scoped>\n",
       "    .dataframe tbody tr th:only-of-type {\n",
       "        vertical-align: middle;\n",
       "    }\n",
       "\n",
       "    .dataframe tbody tr th {\n",
       "        vertical-align: top;\n",
       "    }\n",
       "\n",
       "    .dataframe thead th {\n",
       "        text-align: right;\n",
       "    }\n",
       "</style>\n",
       "<table border=\"1\" class=\"dataframe\">\n",
       "  <thead>\n",
       "    <tr style=\"text-align: right;\">\n",
       "      <th></th>\n",
       "      <th>A</th>\n",
       "      <th>B</th>\n",
       "      <th>C</th>\n",
       "      <th>D</th>\n",
       "    </tr>\n",
       "  </thead>\n",
       "  <tbody>\n",
       "    <tr>\n",
       "      <th>2013-01-04</th>\n",
       "      <td>0.775866</td>\n",
       "      <td>-1.087637</td>\n",
       "      <td>-0.134552</td>\n",
       "      <td>-0.105819</td>\n",
       "    </tr>\n",
       "    <tr>\n",
       "      <th>2013-01-06</th>\n",
       "      <td>-1.056582</td>\n",
       "      <td>-0.936091</td>\n",
       "      <td>0.494788</td>\n",
       "      <td>-1.429302</td>\n",
       "    </tr>\n",
       "    <tr>\n",
       "      <th>2013-01-05</th>\n",
       "      <td>-0.436288</td>\n",
       "      <td>-0.913931</td>\n",
       "      <td>0.205661</td>\n",
       "      <td>1.943312</td>\n",
       "    </tr>\n",
       "    <tr>\n",
       "      <th>2013-01-02</th>\n",
       "      <td>1.453156</td>\n",
       "      <td>-0.303845</td>\n",
       "      <td>-0.325767</td>\n",
       "      <td>-0.091905</td>\n",
       "    </tr>\n",
       "    <tr>\n",
       "      <th>2013-01-01</th>\n",
       "      <td>0.368141</td>\n",
       "      <td>0.050987</td>\n",
       "      <td>0.283732</td>\n",
       "      <td>0.024102</td>\n",
       "    </tr>\n",
       "    <tr>\n",
       "      <th>2013-01-03</th>\n",
       "      <td>-0.489373</td>\n",
       "      <td>1.959238</td>\n",
       "      <td>0.287920</td>\n",
       "      <td>0.834300</td>\n",
       "    </tr>\n",
       "  </tbody>\n",
       "</table>\n",
       "</div>"
      ],
      "text/plain": [
       "                   A         B         C         D\n",
       "2013-01-04  0.775866 -1.087637 -0.134552 -0.105819\n",
       "2013-01-06 -1.056582 -0.936091  0.494788 -1.429302\n",
       "2013-01-05 -0.436288 -0.913931  0.205661  1.943312\n",
       "2013-01-02  1.453156 -0.303845 -0.325767 -0.091905\n",
       "2013-01-01  0.368141  0.050987  0.283732  0.024102\n",
       "2013-01-03 -0.489373  1.959238  0.287920  0.834300"
      ]
     },
     "execution_count": 10,
     "metadata": {},
     "output_type": "execute_result"
    }
   ],
   "source": [
    "# sort by a specific columns\n",
    "df.sort_values(by='B')"
   ]
  },
  {
   "cell_type": "markdown",
   "id": "b4f421e9-9789-47d9-80ce-04f56d0e3667",
   "metadata": {},
   "source": [
    "# Selection"
   ]
  },
  {
   "cell_type": "markdown",
   "id": "f71d379e-7311-4b45-87b4-87dab4fcaf94",
   "metadata": {},
   "source": [
    "## Selection by label \n",
    "### (i.e: index_name\\s, or column_name\\s)  = `df.loc['20130101', 'A']`\n",
    "### using: `DataFrame.loc[]` or, `DataFrame.at[]`"
   ]
  },
  {
   "cell_type": "code",
   "execution_count": 11,
   "id": "ae3fc9fe-4b3a-4e1f-86b7-5e2c3c4f4104",
   "metadata": {
    "tags": []
   },
   "outputs": [
    {
     "name": "stdout",
     "output_type": "stream",
     "text": [
      "2013-01-01    0.368141\n",
      "2013-01-02    1.453156\n",
      "2013-01-03   -0.489373\n",
      "2013-01-04    0.775866\n",
      "2013-01-05   -0.436288\n",
      "2013-01-06   -1.056582\n",
      "Freq: D, Name: A, dtype: float64\n",
      "2013-01-01    0.368141\n",
      "2013-01-02    1.453156\n",
      "2013-01-03   -0.489373\n",
      "2013-01-04    0.775866\n",
      "2013-01-05   -0.436288\n",
      "2013-01-06   -1.056582\n",
      "Freq: D, Name: A, dtype: float64\n"
     ]
    }
   ],
   "source": [
    "# get a column -> return a series\n",
    "print(df['A'])\n",
    "print(df.A)"
   ]
  },
  {
   "cell_type": "code",
   "execution_count": 12,
   "id": "f802d913-2887-45c4-b8d8-051bc2f6d299",
   "metadata": {
    "tags": []
   },
   "outputs": [
    {
     "data": {
      "text/html": [
       "<div>\n",
       "<style scoped>\n",
       "    .dataframe tbody tr th:only-of-type {\n",
       "        vertical-align: middle;\n",
       "    }\n",
       "\n",
       "    .dataframe tbody tr th {\n",
       "        vertical-align: top;\n",
       "    }\n",
       "\n",
       "    .dataframe thead th {\n",
       "        text-align: right;\n",
       "    }\n",
       "</style>\n",
       "<table border=\"1\" class=\"dataframe\">\n",
       "  <thead>\n",
       "    <tr style=\"text-align: right;\">\n",
       "      <th></th>\n",
       "      <th>A</th>\n",
       "      <th>B</th>\n",
       "      <th>C</th>\n",
       "      <th>D</th>\n",
       "    </tr>\n",
       "  </thead>\n",
       "  <tbody>\n",
       "    <tr>\n",
       "      <th>2013-01-01</th>\n",
       "      <td>0.368141</td>\n",
       "      <td>0.050987</td>\n",
       "      <td>0.283732</td>\n",
       "      <td>0.024102</td>\n",
       "    </tr>\n",
       "    <tr>\n",
       "      <th>2013-01-02</th>\n",
       "      <td>1.453156</td>\n",
       "      <td>-0.303845</td>\n",
       "      <td>-0.325767</td>\n",
       "      <td>-0.091905</td>\n",
       "    </tr>\n",
       "    <tr>\n",
       "      <th>2013-01-03</th>\n",
       "      <td>-0.489373</td>\n",
       "      <td>1.959238</td>\n",
       "      <td>0.287920</td>\n",
       "      <td>0.834300</td>\n",
       "    </tr>\n",
       "  </tbody>\n",
       "</table>\n",
       "</div>"
      ],
      "text/plain": [
       "                   A         B         C         D\n",
       "2013-01-01  0.368141  0.050987  0.283732  0.024102\n",
       "2013-01-02  1.453156 -0.303845 -0.325767 -0.091905\n",
       "2013-01-03 -0.489373  1.959238  0.287920  0.834300"
      ]
     },
     "execution_count": 12,
     "metadata": {},
     "output_type": "execute_result"
    }
   ],
   "source": [
    "# selection of raws -> return a Dataframe NOTE df[0] is not allowed use df.loc\n",
    "df[0:3] #using normal python indexing (end=3 is not includes)\n",
    "df['20130101':'20130103'] #from start until end (end in includes unlike python indexing)"
   ]
  },
  {
   "cell_type": "code",
   "execution_count": 13,
   "id": "8ce96f40-9944-4d9c-9345-b44c0572b903",
   "metadata": {
    "tags": []
   },
   "outputs": [
    {
     "data": {
      "text/html": [
       "<div>\n",
       "<style scoped>\n",
       "    .dataframe tbody tr th:only-of-type {\n",
       "        vertical-align: middle;\n",
       "    }\n",
       "\n",
       "    .dataframe tbody tr th {\n",
       "        vertical-align: top;\n",
       "    }\n",
       "\n",
       "    .dataframe thead th {\n",
       "        text-align: right;\n",
       "    }\n",
       "</style>\n",
       "<table border=\"1\" class=\"dataframe\">\n",
       "  <thead>\n",
       "    <tr style=\"text-align: right;\">\n",
       "      <th></th>\n",
       "      <th>A</th>\n",
       "      <th>B</th>\n",
       "      <th>C</th>\n",
       "      <th>D</th>\n",
       "    </tr>\n",
       "  </thead>\n",
       "  <tbody>\n",
       "    <tr>\n",
       "      <th>2013-01-01</th>\n",
       "      <td>0.368141</td>\n",
       "      <td>0.050987</td>\n",
       "      <td>0.283732</td>\n",
       "      <td>0.024102</td>\n",
       "    </tr>\n",
       "  </tbody>\n",
       "</table>\n",
       "</div>"
      ],
      "text/plain": [
       "                   A         B         C         D\n",
       "2013-01-01  0.368141  0.050987  0.283732  0.024102"
      ]
     },
     "execution_count": 13,
     "metadata": {},
     "output_type": "execute_result"
    }
   ],
   "source": [
    "df[:1]"
   ]
  },
  {
   "cell_type": "code",
   "execution_count": 14,
   "id": "bc6da24c-b40b-4674-8a8e-ddba64980d14",
   "metadata": {
    "tags": []
   },
   "outputs": [
    {
     "name": "stdout",
     "output_type": "stream",
     "text": [
      "A    0.368141\n",
      "B    0.050987\n",
      "C    0.283732\n",
      "D    0.024102\n",
      "Name: 2013-01-01 00:00:00, dtype: float64\n"
     ]
    },
    {
     "data": {
      "text/html": [
       "<div>\n",
       "<style scoped>\n",
       "    .dataframe tbody tr th:only-of-type {\n",
       "        vertical-align: middle;\n",
       "    }\n",
       "\n",
       "    .dataframe tbody tr th {\n",
       "        vertical-align: top;\n",
       "    }\n",
       "\n",
       "    .dataframe thead th {\n",
       "        text-align: right;\n",
       "    }\n",
       "</style>\n",
       "<table border=\"1\" class=\"dataframe\">\n",
       "  <thead>\n",
       "    <tr style=\"text-align: right;\">\n",
       "      <th></th>\n",
       "      <th>A</th>\n",
       "      <th>B</th>\n",
       "      <th>C</th>\n",
       "      <th>D</th>\n",
       "    </tr>\n",
       "  </thead>\n",
       "  <tbody>\n",
       "    <tr>\n",
       "      <th>2013-01-01</th>\n",
       "      <td>0.368141</td>\n",
       "      <td>0.050987</td>\n",
       "      <td>0.283732</td>\n",
       "      <td>0.024102</td>\n",
       "    </tr>\n",
       "    <tr>\n",
       "      <th>2013-01-02</th>\n",
       "      <td>1.453156</td>\n",
       "      <td>-0.303845</td>\n",
       "      <td>-0.325767</td>\n",
       "      <td>-0.091905</td>\n",
       "    </tr>\n",
       "    <tr>\n",
       "      <th>2013-01-03</th>\n",
       "      <td>-0.489373</td>\n",
       "      <td>1.959238</td>\n",
       "      <td>0.287920</td>\n",
       "      <td>0.834300</td>\n",
       "    </tr>\n",
       "  </tbody>\n",
       "</table>\n",
       "</div>"
      ],
      "text/plain": [
       "                   A         B         C         D\n",
       "2013-01-01  0.368141  0.050987  0.283732  0.024102\n",
       "2013-01-02  1.453156 -0.303845 -0.325767 -0.091905\n",
       "2013-01-03 -0.489373  1.959238  0.287920  0.834300"
      ]
     },
     "execution_count": 14,
     "metadata": {},
     "output_type": "execute_result"
    }
   ],
   "source": [
    "# seleting a single raw -> return:\n",
    "'''\n",
    "    a series: given a single index\n",
    "    a DataFrame given multiple indcies\n",
    "'''\n",
    "indcies = df.index\n",
    "print(df.loc[indcies[0]]) # a Series\n",
    "df.loc[indcies[0:3]] # a DataFrame"
   ]
  },
  {
   "cell_type": "code",
   "execution_count": 15,
   "id": "f21d0371-9f2c-435b-aba9-8e23581cacc6",
   "metadata": {
    "tags": []
   },
   "outputs": [
    {
     "data": {
      "text/html": [
       "<div>\n",
       "<style scoped>\n",
       "    .dataframe tbody tr th:only-of-type {\n",
       "        vertical-align: middle;\n",
       "    }\n",
       "\n",
       "    .dataframe tbody tr th {\n",
       "        vertical-align: top;\n",
       "    }\n",
       "\n",
       "    .dataframe thead th {\n",
       "        text-align: right;\n",
       "    }\n",
       "</style>\n",
       "<table border=\"1\" class=\"dataframe\">\n",
       "  <thead>\n",
       "    <tr style=\"text-align: right;\">\n",
       "      <th></th>\n",
       "      <th>A</th>\n",
       "      <th>B</th>\n",
       "    </tr>\n",
       "  </thead>\n",
       "  <tbody>\n",
       "    <tr>\n",
       "      <th>2013-01-01</th>\n",
       "      <td>0.368141</td>\n",
       "      <td>0.050987</td>\n",
       "    </tr>\n",
       "    <tr>\n",
       "      <th>2013-01-02</th>\n",
       "      <td>1.453156</td>\n",
       "      <td>-0.303845</td>\n",
       "    </tr>\n",
       "    <tr>\n",
       "      <th>2013-01-03</th>\n",
       "      <td>-0.489373</td>\n",
       "      <td>1.959238</td>\n",
       "    </tr>\n",
       "    <tr>\n",
       "      <th>2013-01-04</th>\n",
       "      <td>0.775866</td>\n",
       "      <td>-1.087637</td>\n",
       "    </tr>\n",
       "    <tr>\n",
       "      <th>2013-01-05</th>\n",
       "      <td>-0.436288</td>\n",
       "      <td>-0.913931</td>\n",
       "    </tr>\n",
       "    <tr>\n",
       "      <th>2013-01-06</th>\n",
       "      <td>-1.056582</td>\n",
       "      <td>-0.936091</td>\n",
       "    </tr>\n",
       "  </tbody>\n",
       "</table>\n",
       "</div>"
      ],
      "text/plain": [
       "                   A         B\n",
       "2013-01-01  0.368141  0.050987\n",
       "2013-01-02  1.453156 -0.303845\n",
       "2013-01-03 -0.489373  1.959238\n",
       "2013-01-04  0.775866 -1.087637\n",
       "2013-01-05 -0.436288 -0.913931\n",
       "2013-01-06 -1.056582 -0.936091"
      ]
     },
     "execution_count": 15,
     "metadata": {},
     "output_type": "execute_result"
    }
   ],
   "source": [
    "# slecting multiple axis by label (column)\n",
    "df.loc[:,['A', 'B']] # input is (index, columns list)"
   ]
  },
  {
   "cell_type": "code",
   "execution_count": 18,
   "id": "018f484b-517f-45e7-97f3-0ff911796e39",
   "metadata": {
    "tags": []
   },
   "outputs": [
    {
     "data": {
      "text/html": [
       "<div>\n",
       "<style scoped>\n",
       "    .dataframe tbody tr th:only-of-type {\n",
       "        vertical-align: middle;\n",
       "    }\n",
       "\n",
       "    .dataframe tbody tr th {\n",
       "        vertical-align: top;\n",
       "    }\n",
       "\n",
       "    .dataframe thead th {\n",
       "        text-align: right;\n",
       "    }\n",
       "</style>\n",
       "<table border=\"1\" class=\"dataframe\">\n",
       "  <thead>\n",
       "    <tr style=\"text-align: right;\">\n",
       "      <th></th>\n",
       "      <th>A</th>\n",
       "      <th>B</th>\n",
       "    </tr>\n",
       "  </thead>\n",
       "  <tbody>\n",
       "    <tr>\n",
       "      <th>2013-01-01</th>\n",
       "      <td>0.368141</td>\n",
       "      <td>0.050987</td>\n",
       "    </tr>\n",
       "    <tr>\n",
       "      <th>2013-01-02</th>\n",
       "      <td>1.453156</td>\n",
       "      <td>-0.303845</td>\n",
       "    </tr>\n",
       "    <tr>\n",
       "      <th>2013-01-03</th>\n",
       "      <td>-0.489373</td>\n",
       "      <td>1.959238</td>\n",
       "    </tr>\n",
       "    <tr>\n",
       "      <th>2013-01-04</th>\n",
       "      <td>0.775866</td>\n",
       "      <td>-1.087637</td>\n",
       "    </tr>\n",
       "  </tbody>\n",
       "</table>\n",
       "</div>"
      ],
      "text/plain": [
       "                   A         B\n",
       "2013-01-01  0.368141  0.050987\n",
       "2013-01-02  1.453156 -0.303845\n",
       "2013-01-03 -0.489373  1.959238\n",
       "2013-01-04  0.775866 -1.087637"
      ]
     },
     "execution_count": 18,
     "metadata": {},
     "output_type": "execute_result"
    }
   ],
   "source": [
    "# selecting by index and columns\n",
    "df.loc['20130101': '20130104',['A', 'B']] # input is (index, columns list)"
   ]
  },
  {
   "cell_type": "code",
   "execution_count": 19,
   "id": "af52ffee-9207-45be-b128-048cce3074c1",
   "metadata": {},
   "outputs": [
    {
     "data": {
      "text/html": [
       "<div>\n",
       "<style scoped>\n",
       "    .dataframe tbody tr th:only-of-type {\n",
       "        vertical-align: middle;\n",
       "    }\n",
       "\n",
       "    .dataframe tbody tr th {\n",
       "        vertical-align: top;\n",
       "    }\n",
       "\n",
       "    .dataframe thead th {\n",
       "        text-align: right;\n",
       "    }\n",
       "</style>\n",
       "<table border=\"1\" class=\"dataframe\">\n",
       "  <thead>\n",
       "    <tr style=\"text-align: right;\">\n",
       "      <th></th>\n",
       "      <th>A</th>\n",
       "      <th>B</th>\n",
       "    </tr>\n",
       "  </thead>\n",
       "  <tbody>\n",
       "    <tr>\n",
       "      <th>2013-01-01</th>\n",
       "      <td>0.368141</td>\n",
       "      <td>0.050987</td>\n",
       "    </tr>\n",
       "    <tr>\n",
       "      <th>2013-01-04</th>\n",
       "      <td>0.775866</td>\n",
       "      <td>-1.087637</td>\n",
       "    </tr>\n",
       "  </tbody>\n",
       "</table>\n",
       "</div>"
      ],
      "text/plain": [
       "                   A         B\n",
       "2013-01-01  0.368141  0.050987\n",
       "2013-01-04  0.775866 -1.087637"
      ]
     },
     "execution_count": 19,
     "metadata": {},
     "output_type": "execute_result"
    }
   ],
   "source": [
    "#selecting specifc set of raws\n",
    "df.loc[['20130101', '20130104'],['A', 'B']] # input is (index, columns list)"
   ]
  },
  {
   "cell_type": "code",
   "execution_count": 21,
   "id": "4ed4eb6c-bb63-4d75-bd32-7cc06d658c9c",
   "metadata": {
    "tags": []
   },
   "outputs": [
    {
     "name": "stdout",
     "output_type": "stream",
     "text": [
      "<class 'numpy.float64'>\n"
     ]
    },
    {
     "data": {
      "text/plain": [
       "0.3681409078108381"
      ]
     },
     "execution_count": 21,
     "metadata": {},
     "output_type": "execute_result"
    }
   ],
   "source": [
    "# getting a cell \n",
    "val = df.loc['20130101', 'A']\n",
    "print(type(val))\n",
    "val"
   ]
  },
  {
   "cell_type": "code",
   "execution_count": 22,
   "id": "ff41e2f7-55ba-4e18-bbc6-0222aacfd501",
   "metadata": {
    "tags": []
   },
   "outputs": [
    {
     "data": {
      "text/plain": [
       "0.3681409078108381"
      ]
     },
     "execution_count": 22,
     "metadata": {},
     "output_type": "execute_result"
    }
   ],
   "source": [
    "# fast access similar to the above \n",
    "df.at['20130101', 'A']"
   ]
  },
  {
   "cell_type": "markdown",
   "id": "3b0d1a58-9653-4f6e-96d7-b3408f290c85",
   "metadata": {},
   "source": [
    "## Selecting by position \n",
    "## (i.e: index of index(key)\\s, and index of column\\s) = `df.iloc[0, 0]`\n",
    "### `DataFrame.iloc[]`, or `DataFrame.iat[]`"
   ]
  },
  {
   "cell_type": "code",
   "execution_count": 23,
   "id": "5dd07e99-1681-41c2-b314-d37942e11733",
   "metadata": {
    "tags": []
   },
   "outputs": [
    {
     "data": {
      "text/plain": [
       "A    0.775866\n",
       "B   -1.087637\n",
       "C   -0.134552\n",
       "D   -0.105819\n",
       "Name: 2013-01-04 00:00:00, dtype: float64"
      ]
     },
     "execution_count": 23,
     "metadata": {},
     "output_type": "execute_result"
    }
   ],
   "source": [
    "# selecting a row\n",
    "'''\n",
    "return: \n",
    "    a Series if selecting a single raw\n",
    "    a DataFrame if selecting multiple raws, or columns\n",
    "'''\n",
    "df.iloc[3] # forth raw"
   ]
  },
  {
   "cell_type": "code",
   "execution_count": 26,
   "id": "08d222d2-ba18-4b7a-9560-6d13efeb9640",
   "metadata": {
    "tags": []
   },
   "outputs": [
    {
     "data": {
      "text/html": [
       "<div>\n",
       "<style scoped>\n",
       "    .dataframe tbody tr th:only-of-type {\n",
       "        vertical-align: middle;\n",
       "    }\n",
       "\n",
       "    .dataframe tbody tr th {\n",
       "        vertical-align: top;\n",
       "    }\n",
       "\n",
       "    .dataframe thead th {\n",
       "        text-align: right;\n",
       "    }\n",
       "</style>\n",
       "<table border=\"1\" class=\"dataframe\">\n",
       "  <thead>\n",
       "    <tr style=\"text-align: right;\">\n",
       "      <th></th>\n",
       "      <th>A</th>\n",
       "      <th>B</th>\n",
       "      <th>C</th>\n",
       "    </tr>\n",
       "  </thead>\n",
       "  <tbody>\n",
       "    <tr>\n",
       "      <th>2013-01-01</th>\n",
       "      <td>0.368141</td>\n",
       "      <td>0.050987</td>\n",
       "      <td>0.283732</td>\n",
       "    </tr>\n",
       "    <tr>\n",
       "      <th>2013-01-02</th>\n",
       "      <td>1.453156</td>\n",
       "      <td>-0.303845</td>\n",
       "      <td>-0.325767</td>\n",
       "    </tr>\n",
       "    <tr>\n",
       "      <th>2013-01-03</th>\n",
       "      <td>-0.489373</td>\n",
       "      <td>1.959238</td>\n",
       "      <td>0.287920</td>\n",
       "    </tr>\n",
       "    <tr>\n",
       "      <th>2013-01-04</th>\n",
       "      <td>0.775866</td>\n",
       "      <td>-1.087637</td>\n",
       "      <td>-0.134552</td>\n",
       "    </tr>\n",
       "  </tbody>\n",
       "</table>\n",
       "</div>"
      ],
      "text/plain": [
       "                   A         B         C\n",
       "2013-01-01  0.368141  0.050987  0.283732\n",
       "2013-01-02  1.453156 -0.303845 -0.325767\n",
       "2013-01-03 -0.489373  1.959238  0.287920\n",
       "2013-01-04  0.775866 -1.087637 -0.134552"
      ]
     },
     "execution_count": 26,
     "metadata": {},
     "output_type": "execute_result"
    }
   ],
   "source": [
    "#selecting multiple raws and columns using interger slicing\n",
    "df.iloc[0:4, 0: 3]"
   ]
  },
  {
   "cell_type": "code",
   "execution_count": 27,
   "id": "00c8182a-44d6-45fe-ad5d-244ba99c8b23",
   "metadata": {
    "tags": []
   },
   "outputs": [
    {
     "data": {
      "text/html": [
       "<div>\n",
       "<style scoped>\n",
       "    .dataframe tbody tr th:only-of-type {\n",
       "        vertical-align: middle;\n",
       "    }\n",
       "\n",
       "    .dataframe tbody tr th {\n",
       "        vertical-align: top;\n",
       "    }\n",
       "\n",
       "    .dataframe thead th {\n",
       "        text-align: right;\n",
       "    }\n",
       "</style>\n",
       "<table border=\"1\" class=\"dataframe\">\n",
       "  <thead>\n",
       "    <tr style=\"text-align: right;\">\n",
       "      <th></th>\n",
       "      <th>A</th>\n",
       "      <th>D</th>\n",
       "    </tr>\n",
       "  </thead>\n",
       "  <tbody>\n",
       "    <tr>\n",
       "      <th>2013-01-01</th>\n",
       "      <td>0.368141</td>\n",
       "      <td>0.024102</td>\n",
       "    </tr>\n",
       "    <tr>\n",
       "      <th>2013-01-05</th>\n",
       "      <td>-0.436288</td>\n",
       "      <td>1.943312</td>\n",
       "    </tr>\n",
       "  </tbody>\n",
       "</table>\n",
       "</div>"
      ],
      "text/plain": [
       "                   A         D\n",
       "2013-01-01  0.368141  0.024102\n",
       "2013-01-05 -0.436288  1.943312"
      ]
     },
     "execution_count": 27,
     "metadata": {},
     "output_type": "execute_result"
    }
   ],
   "source": [
    "# specific raws and columns\n",
    "df.iloc[[0, 4], [0, 3]]"
   ]
  },
  {
   "cell_type": "code",
   "execution_count": 30,
   "id": "c65d91d0-6093-480b-aeea-debd3489069f",
   "metadata": {
    "tags": []
   },
   "outputs": [
    {
     "data": {
      "text/html": [
       "<div>\n",
       "<style scoped>\n",
       "    .dataframe tbody tr th:only-of-type {\n",
       "        vertical-align: middle;\n",
       "    }\n",
       "\n",
       "    .dataframe tbody tr th {\n",
       "        vertical-align: top;\n",
       "    }\n",
       "\n",
       "    .dataframe thead th {\n",
       "        text-align: right;\n",
       "    }\n",
       "</style>\n",
       "<table border=\"1\" class=\"dataframe\">\n",
       "  <thead>\n",
       "    <tr style=\"text-align: right;\">\n",
       "      <th></th>\n",
       "      <th>A</th>\n",
       "      <th>B</th>\n",
       "      <th>C</th>\n",
       "      <th>D</th>\n",
       "    </tr>\n",
       "  </thead>\n",
       "  <tbody>\n",
       "    <tr>\n",
       "      <th>2013-01-01</th>\n",
       "      <td>0.368141</td>\n",
       "      <td>0.050987</td>\n",
       "      <td>0.283732</td>\n",
       "      <td>0.024102</td>\n",
       "    </tr>\n",
       "    <tr>\n",
       "      <th>2013-01-05</th>\n",
       "      <td>-0.436288</td>\n",
       "      <td>-0.913931</td>\n",
       "      <td>0.205661</td>\n",
       "      <td>1.943312</td>\n",
       "    </tr>\n",
       "  </tbody>\n",
       "</table>\n",
       "</div>"
      ],
      "text/plain": [
       "                   A         B         C         D\n",
       "2013-01-01  0.368141  0.050987  0.283732  0.024102\n",
       "2013-01-05 -0.436288 -0.913931  0.205661  1.943312"
      ]
     },
     "execution_count": 30,
     "metadata": {},
     "output_type": "execute_result"
    }
   ],
   "source": [
    "# specifc raws and all columns\n",
    "df.iloc[[0, 4], :]"
   ]
  },
  {
   "cell_type": "code",
   "execution_count": 33,
   "id": "ec7f5c9a-4542-4e23-acf4-2e6c589143a8",
   "metadata": {
    "tags": []
   },
   "outputs": [
    {
     "data": {
      "text/html": [
       "<div>\n",
       "<style scoped>\n",
       "    .dataframe tbody tr th:only-of-type {\n",
       "        vertical-align: middle;\n",
       "    }\n",
       "\n",
       "    .dataframe tbody tr th {\n",
       "        vertical-align: top;\n",
       "    }\n",
       "\n",
       "    .dataframe thead th {\n",
       "        text-align: right;\n",
       "    }\n",
       "</style>\n",
       "<table border=\"1\" class=\"dataframe\">\n",
       "  <thead>\n",
       "    <tr style=\"text-align: right;\">\n",
       "      <th></th>\n",
       "      <th>A</th>\n",
       "      <th>D</th>\n",
       "    </tr>\n",
       "  </thead>\n",
       "  <tbody>\n",
       "    <tr>\n",
       "      <th>2013-01-01</th>\n",
       "      <td>0.368141</td>\n",
       "      <td>0.024102</td>\n",
       "    </tr>\n",
       "    <tr>\n",
       "      <th>2013-01-02</th>\n",
       "      <td>1.453156</td>\n",
       "      <td>-0.091905</td>\n",
       "    </tr>\n",
       "    <tr>\n",
       "      <th>2013-01-03</th>\n",
       "      <td>-0.489373</td>\n",
       "      <td>0.834300</td>\n",
       "    </tr>\n",
       "    <tr>\n",
       "      <th>2013-01-04</th>\n",
       "      <td>0.775866</td>\n",
       "      <td>-0.105819</td>\n",
       "    </tr>\n",
       "    <tr>\n",
       "      <th>2013-01-05</th>\n",
       "      <td>-0.436288</td>\n",
       "      <td>1.943312</td>\n",
       "    </tr>\n",
       "    <tr>\n",
       "      <th>2013-01-06</th>\n",
       "      <td>-1.056582</td>\n",
       "      <td>-1.429302</td>\n",
       "    </tr>\n",
       "  </tbody>\n",
       "</table>\n",
       "</div>"
      ],
      "text/plain": [
       "                   A         D\n",
       "2013-01-01  0.368141  0.024102\n",
       "2013-01-02  1.453156 -0.091905\n",
       "2013-01-03 -0.489373  0.834300\n",
       "2013-01-04  0.775866 -0.105819\n",
       "2013-01-05 -0.436288  1.943312\n",
       "2013-01-06 -1.056582 -1.429302"
      ]
     },
     "execution_count": 33,
     "metadata": {},
     "output_type": "execute_result"
    }
   ],
   "source": [
    "# all raws and specifc columns\n",
    "df.iloc[:, [0, 3]]"
   ]
  },
  {
   "cell_type": "code",
   "execution_count": 36,
   "id": "5b311f43-d81d-4db3-b506-8f766bed0293",
   "metadata": {
    "tags": []
   },
   "outputs": [
    {
     "data": {
      "text/plain": [
       "0.3681409078108381"
      ]
     },
     "execution_count": 36,
     "metadata": {},
     "output_type": "execute_result"
    }
   ],
   "source": [
    "# access a cell i.e: scaler\n",
    "df.iloc[0, 0]"
   ]
  },
  {
   "cell_type": "code",
   "execution_count": 37,
   "id": "c9405093-5b20-4e58-84bd-006a16a07006",
   "metadata": {
    "tags": []
   },
   "outputs": [
    {
     "data": {
      "text/plain": [
       "0.3681409078108381"
      ]
     },
     "execution_count": 37,
     "metadata": {},
     "output_type": "execute_result"
    }
   ],
   "source": [
    "# fast access to scaler\n",
    "df.iat[0, 0]"
   ]
  },
  {
   "cell_type": "markdown",
   "id": "136be68d-cb6f-4a2f-8ad8-716157532aec",
   "metadata": {},
   "source": [
    "## Boolean Indexing (same as numpy)"
   ]
  },
  {
   "cell_type": "code",
   "execution_count": 50,
   "id": "5441053c-19bc-44a5-b973-8bf81de22113",
   "metadata": {
    "tags": []
   },
   "outputs": [
    {
     "name": "stdout",
     "output_type": "stream",
     "text": [
      "[[[0.01304764 0.04824457 0.20301216]\n",
      "  [0.06254942 0.5453693  0.30290542]\n",
      "  [0.41711243 0.46400275 0.20920544]\n",
      "  [0.95085339 0.94742904 0.68949172]]\n",
      "\n",
      " [[0.74238752 0.1354469  0.783307  ]\n",
      "  [0.78105288 0.1814457  0.51661039]\n",
      "  [0.75502123 0.85303588 0.1865035 ]\n",
      "  [0.2685296  0.29158585 0.27267997]]\n",
      "\n",
      " [[0.96542622 0.19889912 0.61688856]\n",
      "  [0.83452814 0.9347268  0.24858218]\n",
      "  [0.65217638 0.23335866 0.51743565]\n",
      "  [0.59888006 0.60215339 0.71273818]]\n",
      "\n",
      " [[0.72222566 0.80660856 0.83924984]\n",
      "  [0.96910775 0.49223105 0.07403595]\n",
      "  [0.37179724 0.45649831 0.95658191]\n",
      "  [0.65061053 0.81759832 0.08772979]]]\n"
     ]
    },
    {
     "data": {
      "text/plain": [
       "array([0.95085339, 0.94742904, 0.96542622, 0.9347268 , 0.96910775,\n",
       "       0.95658191])"
      ]
     },
     "execution_count": 50,
     "metadata": {},
     "output_type": "execute_result"
    }
   ],
   "source": [
    "x = np.random.rand(4, 4, 3)\n",
    "print(x)\n",
    "x[x>.9]"
   ]
  }
 ],
 "metadata": {
  "kernelspec": {
   "display_name": "Python 3 (ipykernel)",
   "language": "python",
   "name": "python3"
  },
  "language_info": {
   "codemirror_mode": {
    "name": "ipython",
    "version": 3
   },
   "file_extension": ".py",
   "mimetype": "text/x-python",
   "name": "python",
   "nbconvert_exporter": "python",
   "pygments_lexer": "ipython3",
   "version": "3.10.6"
  }
 },
 "nbformat": 4,
 "nbformat_minor": 5
}
