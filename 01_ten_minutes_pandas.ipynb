{
 "cells": [
  {
   "cell_type": "markdown",
   "id": "a3395d13-7871-413e-8249-e403f522bbce",
   "metadata": {},
   "source": [
    "# 10 Minutes Pandas [link](https://pandas.pydata.org/docs/user_guide/10min.html#min)"
   ]
  },
  {
   "cell_type": "code",
   "execution_count": 1,
   "id": "eeb4246a-9ed5-4184-bffd-3cbc86adc63a",
   "metadata": {
    "tags": []
   },
   "outputs": [],
   "source": [
    "import pandas as pd\n",
    "import numpy as np"
   ]
  },
  {
   "cell_type": "code",
   "execution_count": 2,
   "id": "9fb91b2c-f0d9-4782-99a8-27cf72fe90e6",
   "metadata": {
    "tags": []
   },
   "outputs": [
    {
     "name": "stdout",
     "output_type": "stream",
     "text": [
      "0    1.0\n",
      "1    3.0\n",
      "2    5.0\n",
      "3    NaN\n",
      "4    6.0\n",
      "5    8.0\n",
      "dtype: float64\n"
     ]
    }
   ],
   "source": [
    "# series\n",
    "s = pd.Series([1, 3, 5, np.nan, 6, 8])\n",
    "print(s)"
   ]
  },
  {
   "cell_type": "code",
   "execution_count": 3,
   "id": "09dec82c-dd16-4f0b-b6e7-c903671e67bc",
   "metadata": {
    "tags": []
   },
   "outputs": [
    {
     "name": "stdout",
     "output_type": "stream",
     "text": [
      "DatetimeIndex(['2013-01-01', '2013-01-02', '2013-01-03', '2013-01-04',\n",
      "               '2013-01-05', '2013-01-06'],\n",
      "              dtype='datetime64[ns]', freq='D')\n",
      "\n"
     ]
    },
    {
     "data": {
      "text/html": [
       "<div>\n",
       "<style scoped>\n",
       "    .dataframe tbody tr th:only-of-type {\n",
       "        vertical-align: middle;\n",
       "    }\n",
       "\n",
       "    .dataframe tbody tr th {\n",
       "        vertical-align: top;\n",
       "    }\n",
       "\n",
       "    .dataframe thead th {\n",
       "        text-align: right;\n",
       "    }\n",
       "</style>\n",
       "<table border=\"1\" class=\"dataframe\">\n",
       "  <thead>\n",
       "    <tr style=\"text-align: right;\">\n",
       "      <th></th>\n",
       "      <th>A</th>\n",
       "      <th>B</th>\n",
       "      <th>C</th>\n",
       "      <th>D</th>\n",
       "    </tr>\n",
       "  </thead>\n",
       "  <tbody>\n",
       "    <tr>\n",
       "      <th>2013-01-01</th>\n",
       "      <td>-0.107059</td>\n",
       "      <td>0.123826</td>\n",
       "      <td>1.494973</td>\n",
       "      <td>0.694259</td>\n",
       "    </tr>\n",
       "    <tr>\n",
       "      <th>2013-01-02</th>\n",
       "      <td>0.489124</td>\n",
       "      <td>-1.584452</td>\n",
       "      <td>0.740508</td>\n",
       "      <td>-1.307688</td>\n",
       "    </tr>\n",
       "    <tr>\n",
       "      <th>2013-01-03</th>\n",
       "      <td>-0.917904</td>\n",
       "      <td>0.333546</td>\n",
       "      <td>0.345352</td>\n",
       "      <td>0.122169</td>\n",
       "    </tr>\n",
       "    <tr>\n",
       "      <th>2013-01-04</th>\n",
       "      <td>0.028661</td>\n",
       "      <td>1.251974</td>\n",
       "      <td>-0.201867</td>\n",
       "      <td>-0.767895</td>\n",
       "    </tr>\n",
       "    <tr>\n",
       "      <th>2013-01-05</th>\n",
       "      <td>0.866957</td>\n",
       "      <td>1.534359</td>\n",
       "      <td>0.834069</td>\n",
       "      <td>1.244963</td>\n",
       "    </tr>\n",
       "    <tr>\n",
       "      <th>2013-01-06</th>\n",
       "      <td>0.907876</td>\n",
       "      <td>1.136002</td>\n",
       "      <td>-1.794488</td>\n",
       "      <td>1.000856</td>\n",
       "    </tr>\n",
       "  </tbody>\n",
       "</table>\n",
       "</div>"
      ],
      "text/plain": [
       "                   A         B         C         D\n",
       "2013-01-01 -0.107059  0.123826  1.494973  0.694259\n",
       "2013-01-02  0.489124 -1.584452  0.740508 -1.307688\n",
       "2013-01-03 -0.917904  0.333546  0.345352  0.122169\n",
       "2013-01-04  0.028661  1.251974 -0.201867 -0.767895\n",
       "2013-01-05  0.866957  1.534359  0.834069  1.244963\n",
       "2013-01-06  0.907876  1.136002 -1.794488  1.000856"
      ]
     },
     "execution_count": 3,
     "metadata": {},
     "output_type": "execute_result"
    }
   ],
   "source": [
    "# dataframs (index are the keyes)  (columns are the titles)\n",
    "dates = pd.date_range('20130101', periods=6) #year-month-day\n",
    "print(dates)\n",
    "\n",
    "print()\n",
    "df = pd.DataFrame(np.random.randn(6, 4), index=dates, columns=['A', 'B', 'C', 'D'])\n",
    "df"
   ]
  },
  {
   "cell_type": "code",
   "execution_count": 4,
   "id": "06d77dee-e3b9-46ec-897c-d75e774f5b2a",
   "metadata": {
    "tags": []
   },
   "outputs": [
    {
     "name": "stdout",
     "output_type": "stream",
     "text": [
      "A           float64\n",
      "B    datetime64[ns]\n",
      "C           float32\n",
      "D             int32\n",
      "E          category\n",
      "F            object\n",
      "dtype: object\n"
     ]
    },
    {
     "data": {
      "text/html": [
       "<div>\n",
       "<style scoped>\n",
       "    .dataframe tbody tr th:only-of-type {\n",
       "        vertical-align: middle;\n",
       "    }\n",
       "\n",
       "    .dataframe tbody tr th {\n",
       "        vertical-align: top;\n",
       "    }\n",
       "\n",
       "    .dataframe thead th {\n",
       "        text-align: right;\n",
       "    }\n",
       "</style>\n",
       "<table border=\"1\" class=\"dataframe\">\n",
       "  <thead>\n",
       "    <tr style=\"text-align: right;\">\n",
       "      <th></th>\n",
       "      <th>A</th>\n",
       "      <th>B</th>\n",
       "      <th>C</th>\n",
       "      <th>D</th>\n",
       "      <th>E</th>\n",
       "      <th>F</th>\n",
       "    </tr>\n",
       "  </thead>\n",
       "  <tbody>\n",
       "    <tr>\n",
       "      <th>0</th>\n",
       "      <td>1.0</td>\n",
       "      <td>2013-01-02</td>\n",
       "      <td>1.0</td>\n",
       "      <td>3</td>\n",
       "      <td>test</td>\n",
       "      <td>foo</td>\n",
       "    </tr>\n",
       "    <tr>\n",
       "      <th>1</th>\n",
       "      <td>1.0</td>\n",
       "      <td>2013-01-02</td>\n",
       "      <td>1.0</td>\n",
       "      <td>3</td>\n",
       "      <td>train</td>\n",
       "      <td>foo</td>\n",
       "    </tr>\n",
       "    <tr>\n",
       "      <th>2</th>\n",
       "      <td>1.0</td>\n",
       "      <td>2013-01-02</td>\n",
       "      <td>1.0</td>\n",
       "      <td>3</td>\n",
       "      <td>test</td>\n",
       "      <td>foo</td>\n",
       "    </tr>\n",
       "    <tr>\n",
       "      <th>3</th>\n",
       "      <td>1.0</td>\n",
       "      <td>2013-01-02</td>\n",
       "      <td>1.0</td>\n",
       "      <td>3</td>\n",
       "      <td>train</td>\n",
       "      <td>foo</td>\n",
       "    </tr>\n",
       "  </tbody>\n",
       "</table>\n",
       "</div>"
      ],
      "text/plain": [
       "     A          B    C  D      E    F\n",
       "0  1.0 2013-01-02  1.0  3   test  foo\n",
       "1  1.0 2013-01-02  1.0  3  train  foo\n",
       "2  1.0 2013-01-02  1.0  3   test  foo\n",
       "3  1.0 2013-01-02  1.0  3  train  foo"
      ]
     },
     "execution_count": 4,
     "metadata": {},
     "output_type": "execute_result"
    }
   ],
   "source": [
    "# creating data frame form dictionary\n",
    "df2 = pd.DataFrame(\n",
    "    {\n",
    "        'A': 1.0,\n",
    "        'B': pd.Timestamp('20130102'),\n",
    "        'C': pd.Series(1, index=list(range(4)), dtype='float32'),\n",
    "        'D': np.array([3]*4, dtype=np.int32),\n",
    "        'E': pd.Categorical(['test', 'train', 'test', 'train']),\n",
    "        'F': 'foo'\n",
    "    }\n",
    ")\n",
    "#datafram columns type\n",
    "print(df2.dtypes)\n",
    "df2"
   ]
  },
  {
   "cell_type": "code",
   "execution_count": 5,
   "id": "12665ff7-42a0-457b-b1a9-99e7c8c31ae0",
   "metadata": {
    "tags": []
   },
   "outputs": [
    {
     "name": "stdout",
     "output_type": "stream",
     "text": [
      "0    1.0\n",
      "1    1.0\n",
      "2    1.0\n",
      "3    1.0\n",
      "Name: C, dtype: float32\n",
      "0    1.0\n",
      "1    1.0\n",
      "2    1.0\n",
      "3    1.0\n",
      "Name: C, dtype: float32\n",
      "\n",
      " Int64Index([0, 1, 2, 3], dtype='int64')\n",
      "[0, 1, 2, 3]\n",
      "\n",
      " Index(['A', 'B', 'C', 'D', 'E', 'F'], dtype='object')\n",
      "['A', 'B', 'C', 'D', 'E', 'F']\n"
     ]
    }
   ],
   "source": [
    "# accessing a column returning a series\n",
    "print(df2.C)\n",
    "print(df2['C'])\n",
    "\n",
    "#displaying index (keys)\n",
    "print('\\n', df2.index)\n",
    "print(list(df2.index))\n",
    "\n",
    "#displaying columns\n",
    "print('\\n', df2.columns)\n",
    "print(list(df2.columns))"
   ]
  },
  {
   "cell_type": "code",
   "execution_count": 151,
   "id": "0475ba43-a10d-4846-a09d-c6cca2de0091",
   "metadata": {
    "tags": []
   },
   "outputs": [
    {
     "data": {
      "text/html": [
       "<div>\n",
       "<style scoped>\n",
       "    .dataframe tbody tr th:only-of-type {\n",
       "        vertical-align: middle;\n",
       "    }\n",
       "\n",
       "    .dataframe tbody tr th {\n",
       "        vertical-align: top;\n",
       "    }\n",
       "\n",
       "    .dataframe thead th {\n",
       "        text-align: right;\n",
       "    }\n",
       "</style>\n",
       "<table border=\"1\" class=\"dataframe\">\n",
       "  <thead>\n",
       "    <tr style=\"text-align: right;\">\n",
       "      <th></th>\n",
       "      <th>A</th>\n",
       "      <th>B</th>\n",
       "      <th>C</th>\n",
       "      <th>D</th>\n",
       "      <th>F</th>\n",
       "    </tr>\n",
       "  </thead>\n",
       "  <tbody>\n",
       "    <tr>\n",
       "      <th>2013-01-01</th>\n",
       "      <td>-0.107059</td>\n",
       "      <td>0.123826</td>\n",
       "      <td>1.494973</td>\n",
       "      <td>0</td>\n",
       "      <td>NaN</td>\n",
       "    </tr>\n",
       "    <tr>\n",
       "      <th>2013-01-02</th>\n",
       "      <td>0.000000</td>\n",
       "      <td>11.000000</td>\n",
       "      <td>0.740508</td>\n",
       "      <td>1</td>\n",
       "      <td>1.0</td>\n",
       "    </tr>\n",
       "    <tr>\n",
       "      <th>2013-01-03</th>\n",
       "      <td>-0.917904</td>\n",
       "      <td>0.333546</td>\n",
       "      <td>0.345352</td>\n",
       "      <td>2</td>\n",
       "      <td>2.0</td>\n",
       "    </tr>\n",
       "  </tbody>\n",
       "</table>\n",
       "</div>"
      ],
      "text/plain": [
       "                   A          B         C  D    F\n",
       "2013-01-01 -0.107059   0.123826  1.494973  0  NaN\n",
       "2013-01-02  0.000000  11.000000  0.740508  1  1.0\n",
       "2013-01-03 -0.917904   0.333546  0.345352  2  2.0"
      ]
     },
     "execution_count": 151,
     "metadata": {},
     "output_type": "execute_result"
    }
   ],
   "source": [
    "# accessing raws\n",
    "df[:3]"
   ]
  },
  {
   "cell_type": "code",
   "execution_count": 6,
   "id": "695b16de-4026-44ac-aa53-b07f0490e88c",
   "metadata": {
    "tags": []
   },
   "outputs": [
    {
     "name": "stdout",
     "output_type": "stream",
     "text": [
      "[[-0.10705883  0.12382557  1.49497289  0.69425869]\n",
      " [ 0.48912352 -1.58445247  0.74050835 -1.30768761]\n",
      " [-0.91790385  0.33354598  0.34535176  0.12216904]\n",
      " [ 0.02866114  1.25197446 -0.20186709 -0.76789501]\n",
      " [ 0.86695746  1.53435857  0.83406895  1.24496265]\n",
      " [ 0.90787623  1.13600231 -1.79448845  1.00085557]]\n"
     ]
    },
    {
     "data": {
      "text/plain": [
       "pandas._libs.tslibs.timestamps.Timestamp"
      ]
     },
     "execution_count": 6,
     "metadata": {},
     "output_type": "execute_result"
    }
   ],
   "source": [
    "# converting data frame to numpy\n",
    "'''\n",
    "    if all data types are the same pandas will return a numpy array with the save datatype\n",
    "    if columns are not the same datatype will return them as object and we nedd to cast every column in order to use it\n",
    "        in addition it is heavy operatoin\n",
    "'''\n",
    "print(df.to_numpy())\n",
    "np_object = df2.to_numpy() # array of objects\n",
    "type(np_object[0][1])"
   ]
  },
  {
   "cell_type": "code",
   "execution_count": 7,
   "id": "0ee4767d-4113-42b4-ae39-612bf342a5d0",
   "metadata": {
    "tags": []
   },
   "outputs": [
    {
     "data": {
      "text/html": [
       "<div>\n",
       "<style scoped>\n",
       "    .dataframe tbody tr th:only-of-type {\n",
       "        vertical-align: middle;\n",
       "    }\n",
       "\n",
       "    .dataframe tbody tr th {\n",
       "        vertical-align: top;\n",
       "    }\n",
       "\n",
       "    .dataframe thead th {\n",
       "        text-align: right;\n",
       "    }\n",
       "</style>\n",
       "<table border=\"1\" class=\"dataframe\">\n",
       "  <thead>\n",
       "    <tr style=\"text-align: right;\">\n",
       "      <th></th>\n",
       "      <th>A</th>\n",
       "      <th>B</th>\n",
       "      <th>C</th>\n",
       "      <th>D</th>\n",
       "    </tr>\n",
       "  </thead>\n",
       "  <tbody>\n",
       "    <tr>\n",
       "      <th>count</th>\n",
       "      <td>6.000000</td>\n",
       "      <td>6.000000</td>\n",
       "      <td>6.000000</td>\n",
       "      <td>6.000000</td>\n",
       "    </tr>\n",
       "    <tr>\n",
       "      <th>mean</th>\n",
       "      <td>0.211276</td>\n",
       "      <td>0.465876</td>\n",
       "      <td>0.236424</td>\n",
       "      <td>0.164444</td>\n",
       "    </tr>\n",
       "    <tr>\n",
       "      <th>std</th>\n",
       "      <td>0.693124</td>\n",
       "      <td>1.144293</td>\n",
       "      <td>1.142261</td>\n",
       "      <td>1.018432</td>\n",
       "    </tr>\n",
       "    <tr>\n",
       "      <th>min</th>\n",
       "      <td>-0.917904</td>\n",
       "      <td>-1.584452</td>\n",
       "      <td>-1.794488</td>\n",
       "      <td>-1.307688</td>\n",
       "    </tr>\n",
       "    <tr>\n",
       "      <th>25%</th>\n",
       "      <td>-0.073129</td>\n",
       "      <td>0.176256</td>\n",
       "      <td>-0.065062</td>\n",
       "      <td>-0.545379</td>\n",
       "    </tr>\n",
       "    <tr>\n",
       "      <th>50%</th>\n",
       "      <td>0.258892</td>\n",
       "      <td>0.734774</td>\n",
       "      <td>0.542930</td>\n",
       "      <td>0.408214</td>\n",
       "    </tr>\n",
       "    <tr>\n",
       "      <th>75%</th>\n",
       "      <td>0.772499</td>\n",
       "      <td>1.222981</td>\n",
       "      <td>0.810679</td>\n",
       "      <td>0.924206</td>\n",
       "    </tr>\n",
       "    <tr>\n",
       "      <th>max</th>\n",
       "      <td>0.907876</td>\n",
       "      <td>1.534359</td>\n",
       "      <td>1.494973</td>\n",
       "      <td>1.244963</td>\n",
       "    </tr>\n",
       "  </tbody>\n",
       "</table>\n",
       "</div>"
      ],
      "text/plain": [
       "              A         B         C         D\n",
       "count  6.000000  6.000000  6.000000  6.000000\n",
       "mean   0.211276  0.465876  0.236424  0.164444\n",
       "std    0.693124  1.144293  1.142261  1.018432\n",
       "min   -0.917904 -1.584452 -1.794488 -1.307688\n",
       "25%   -0.073129  0.176256 -0.065062 -0.545379\n",
       "50%    0.258892  0.734774  0.542930  0.408214\n",
       "75%    0.772499  1.222981  0.810679  0.924206\n",
       "max    0.907876  1.534359  1.494973  1.244963"
      ]
     },
     "execution_count": 7,
     "metadata": {},
     "output_type": "execute_result"
    }
   ],
   "source": [
    "# describing the data\n",
    "df.describe()"
   ]
  },
  {
   "cell_type": "code",
   "execution_count": 8,
   "id": "cf5746f5-6df1-417d-acb1-d11788edc6ee",
   "metadata": {
    "tags": []
   },
   "outputs": [
    {
     "data": {
      "text/html": [
       "<div>\n",
       "<style scoped>\n",
       "    .dataframe tbody tr th:only-of-type {\n",
       "        vertical-align: middle;\n",
       "    }\n",
       "\n",
       "    .dataframe tbody tr th {\n",
       "        vertical-align: top;\n",
       "    }\n",
       "\n",
       "    .dataframe thead th {\n",
       "        text-align: right;\n",
       "    }\n",
       "</style>\n",
       "<table border=\"1\" class=\"dataframe\">\n",
       "  <thead>\n",
       "    <tr style=\"text-align: right;\">\n",
       "      <th></th>\n",
       "      <th>2013-01-01</th>\n",
       "      <th>2013-01-02</th>\n",
       "      <th>2013-01-03</th>\n",
       "      <th>2013-01-04</th>\n",
       "      <th>2013-01-05</th>\n",
       "      <th>2013-01-06</th>\n",
       "    </tr>\n",
       "  </thead>\n",
       "  <tbody>\n",
       "    <tr>\n",
       "      <th>A</th>\n",
       "      <td>-0.107059</td>\n",
       "      <td>0.489124</td>\n",
       "      <td>-0.917904</td>\n",
       "      <td>0.028661</td>\n",
       "      <td>0.866957</td>\n",
       "      <td>0.907876</td>\n",
       "    </tr>\n",
       "    <tr>\n",
       "      <th>B</th>\n",
       "      <td>0.123826</td>\n",
       "      <td>-1.584452</td>\n",
       "      <td>0.333546</td>\n",
       "      <td>1.251974</td>\n",
       "      <td>1.534359</td>\n",
       "      <td>1.136002</td>\n",
       "    </tr>\n",
       "    <tr>\n",
       "      <th>C</th>\n",
       "      <td>1.494973</td>\n",
       "      <td>0.740508</td>\n",
       "      <td>0.345352</td>\n",
       "      <td>-0.201867</td>\n",
       "      <td>0.834069</td>\n",
       "      <td>-1.794488</td>\n",
       "    </tr>\n",
       "    <tr>\n",
       "      <th>D</th>\n",
       "      <td>0.694259</td>\n",
       "      <td>-1.307688</td>\n",
       "      <td>0.122169</td>\n",
       "      <td>-0.767895</td>\n",
       "      <td>1.244963</td>\n",
       "      <td>1.000856</td>\n",
       "    </tr>\n",
       "  </tbody>\n",
       "</table>\n",
       "</div>"
      ],
      "text/plain": [
       "   2013-01-01  2013-01-02  2013-01-03  2013-01-04  2013-01-05  2013-01-06\n",
       "A   -0.107059    0.489124   -0.917904    0.028661    0.866957    0.907876\n",
       "B    0.123826   -1.584452    0.333546    1.251974    1.534359    1.136002\n",
       "C    1.494973    0.740508    0.345352   -0.201867    0.834069   -1.794488\n",
       "D    0.694259   -1.307688    0.122169   -0.767895    1.244963    1.000856"
      ]
     },
     "execution_count": 8,
     "metadata": {},
     "output_type": "execute_result"
    }
   ],
   "source": [
    "# transposing\n",
    "df.T"
   ]
  },
  {
   "cell_type": "code",
   "execution_count": 9,
   "id": "f1de89a3-8f74-4f20-acb2-4786e16639a5",
   "metadata": {
    "tags": []
   },
   "outputs": [
    {
     "data": {
      "text/html": [
       "<div>\n",
       "<style scoped>\n",
       "    .dataframe tbody tr th:only-of-type {\n",
       "        vertical-align: middle;\n",
       "    }\n",
       "\n",
       "    .dataframe tbody tr th {\n",
       "        vertical-align: top;\n",
       "    }\n",
       "\n",
       "    .dataframe thead th {\n",
       "        text-align: right;\n",
       "    }\n",
       "</style>\n",
       "<table border=\"1\" class=\"dataframe\">\n",
       "  <thead>\n",
       "    <tr style=\"text-align: right;\">\n",
       "      <th></th>\n",
       "      <th>D</th>\n",
       "      <th>C</th>\n",
       "      <th>B</th>\n",
       "      <th>A</th>\n",
       "    </tr>\n",
       "  </thead>\n",
       "  <tbody>\n",
       "    <tr>\n",
       "      <th>2013-01-01</th>\n",
       "      <td>0.694259</td>\n",
       "      <td>1.494973</td>\n",
       "      <td>0.123826</td>\n",
       "      <td>-0.107059</td>\n",
       "    </tr>\n",
       "    <tr>\n",
       "      <th>2013-01-02</th>\n",
       "      <td>-1.307688</td>\n",
       "      <td>0.740508</td>\n",
       "      <td>-1.584452</td>\n",
       "      <td>0.489124</td>\n",
       "    </tr>\n",
       "    <tr>\n",
       "      <th>2013-01-03</th>\n",
       "      <td>0.122169</td>\n",
       "      <td>0.345352</td>\n",
       "      <td>0.333546</td>\n",
       "      <td>-0.917904</td>\n",
       "    </tr>\n",
       "    <tr>\n",
       "      <th>2013-01-04</th>\n",
       "      <td>-0.767895</td>\n",
       "      <td>-0.201867</td>\n",
       "      <td>1.251974</td>\n",
       "      <td>0.028661</td>\n",
       "    </tr>\n",
       "    <tr>\n",
       "      <th>2013-01-05</th>\n",
       "      <td>1.244963</td>\n",
       "      <td>0.834069</td>\n",
       "      <td>1.534359</td>\n",
       "      <td>0.866957</td>\n",
       "    </tr>\n",
       "    <tr>\n",
       "      <th>2013-01-06</th>\n",
       "      <td>1.000856</td>\n",
       "      <td>-1.794488</td>\n",
       "      <td>1.136002</td>\n",
       "      <td>0.907876</td>\n",
       "    </tr>\n",
       "  </tbody>\n",
       "</table>\n",
       "</div>"
      ],
      "text/plain": [
       "                   D         C         B         A\n",
       "2013-01-01  0.694259  1.494973  0.123826 -0.107059\n",
       "2013-01-02 -1.307688  0.740508 -1.584452  0.489124\n",
       "2013-01-03  0.122169  0.345352  0.333546 -0.917904\n",
       "2013-01-04 -0.767895 -0.201867  1.251974  0.028661\n",
       "2013-01-05  1.244963  0.834069  1.534359  0.866957\n",
       "2013-01-06  1.000856 -1.794488  1.136002  0.907876"
      ]
     },
     "execution_count": 9,
     "metadata": {},
     "output_type": "execute_result"
    }
   ],
   "source": [
    "# sort by index of column\n",
    "'''\n",
    "axis=0 sort raws by index(keys)\n",
    "axis=1 sort columns by column's mean value\n",
    "'''\n",
    "df.sort_index(axis=1, ascending=False)"
   ]
  },
  {
   "cell_type": "code",
   "execution_count": 10,
   "id": "3e4ed753-aaa3-4882-9746-ed0a87333362",
   "metadata": {
    "tags": []
   },
   "outputs": [
    {
     "data": {
      "text/html": [
       "<div>\n",
       "<style scoped>\n",
       "    .dataframe tbody tr th:only-of-type {\n",
       "        vertical-align: middle;\n",
       "    }\n",
       "\n",
       "    .dataframe tbody tr th {\n",
       "        vertical-align: top;\n",
       "    }\n",
       "\n",
       "    .dataframe thead th {\n",
       "        text-align: right;\n",
       "    }\n",
       "</style>\n",
       "<table border=\"1\" class=\"dataframe\">\n",
       "  <thead>\n",
       "    <tr style=\"text-align: right;\">\n",
       "      <th></th>\n",
       "      <th>A</th>\n",
       "      <th>B</th>\n",
       "      <th>C</th>\n",
       "      <th>D</th>\n",
       "    </tr>\n",
       "  </thead>\n",
       "  <tbody>\n",
       "    <tr>\n",
       "      <th>2013-01-02</th>\n",
       "      <td>0.489124</td>\n",
       "      <td>-1.584452</td>\n",
       "      <td>0.740508</td>\n",
       "      <td>-1.307688</td>\n",
       "    </tr>\n",
       "    <tr>\n",
       "      <th>2013-01-01</th>\n",
       "      <td>-0.107059</td>\n",
       "      <td>0.123826</td>\n",
       "      <td>1.494973</td>\n",
       "      <td>0.694259</td>\n",
       "    </tr>\n",
       "    <tr>\n",
       "      <th>2013-01-03</th>\n",
       "      <td>-0.917904</td>\n",
       "      <td>0.333546</td>\n",
       "      <td>0.345352</td>\n",
       "      <td>0.122169</td>\n",
       "    </tr>\n",
       "    <tr>\n",
       "      <th>2013-01-06</th>\n",
       "      <td>0.907876</td>\n",
       "      <td>1.136002</td>\n",
       "      <td>-1.794488</td>\n",
       "      <td>1.000856</td>\n",
       "    </tr>\n",
       "    <tr>\n",
       "      <th>2013-01-04</th>\n",
       "      <td>0.028661</td>\n",
       "      <td>1.251974</td>\n",
       "      <td>-0.201867</td>\n",
       "      <td>-0.767895</td>\n",
       "    </tr>\n",
       "    <tr>\n",
       "      <th>2013-01-05</th>\n",
       "      <td>0.866957</td>\n",
       "      <td>1.534359</td>\n",
       "      <td>0.834069</td>\n",
       "      <td>1.244963</td>\n",
       "    </tr>\n",
       "  </tbody>\n",
       "</table>\n",
       "</div>"
      ],
      "text/plain": [
       "                   A         B         C         D\n",
       "2013-01-02  0.489124 -1.584452  0.740508 -1.307688\n",
       "2013-01-01 -0.107059  0.123826  1.494973  0.694259\n",
       "2013-01-03 -0.917904  0.333546  0.345352  0.122169\n",
       "2013-01-06  0.907876  1.136002 -1.794488  1.000856\n",
       "2013-01-04  0.028661  1.251974 -0.201867 -0.767895\n",
       "2013-01-05  0.866957  1.534359  0.834069  1.244963"
      ]
     },
     "execution_count": 10,
     "metadata": {},
     "output_type": "execute_result"
    }
   ],
   "source": [
    "# sort by a specific columns\n",
    "df.sort_values(by='B')"
   ]
  },
  {
   "cell_type": "markdown",
   "id": "b4f421e9-9789-47d9-80ce-04f56d0e3667",
   "metadata": {},
   "source": [
    "# Selection"
   ]
  },
  {
   "cell_type": "markdown",
   "id": "f71d379e-7311-4b45-87b4-87dab4fcaf94",
   "metadata": {},
   "source": [
    "## Selection by label \n",
    "### (i.e: index_name\\s, or column_name\\s)  = `df.loc['20130101', 'A']`\n",
    "### using: `DataFrame.loc[]` or, `DataFrame.at[]`"
   ]
  },
  {
   "cell_type": "code",
   "execution_count": 11,
   "id": "ae3fc9fe-4b3a-4e1f-86b7-5e2c3c4f4104",
   "metadata": {
    "tags": []
   },
   "outputs": [
    {
     "name": "stdout",
     "output_type": "stream",
     "text": [
      "2013-01-01   -0.107059\n",
      "2013-01-02    0.489124\n",
      "2013-01-03   -0.917904\n",
      "2013-01-04    0.028661\n",
      "2013-01-05    0.866957\n",
      "2013-01-06    0.907876\n",
      "Freq: D, Name: A, dtype: float64\n",
      "2013-01-01   -0.107059\n",
      "2013-01-02    0.489124\n",
      "2013-01-03   -0.917904\n",
      "2013-01-04    0.028661\n",
      "2013-01-05    0.866957\n",
      "2013-01-06    0.907876\n",
      "Freq: D, Name: A, dtype: float64\n"
     ]
    }
   ],
   "source": [
    "# get a column -> return a series\n",
    "print(df['A'])\n",
    "print(df.A)"
   ]
  },
  {
   "cell_type": "code",
   "execution_count": 12,
   "id": "f802d913-2887-45c4-b8d8-051bc2f6d299",
   "metadata": {
    "tags": []
   },
   "outputs": [
    {
     "data": {
      "text/html": [
       "<div>\n",
       "<style scoped>\n",
       "    .dataframe tbody tr th:only-of-type {\n",
       "        vertical-align: middle;\n",
       "    }\n",
       "\n",
       "    .dataframe tbody tr th {\n",
       "        vertical-align: top;\n",
       "    }\n",
       "\n",
       "    .dataframe thead th {\n",
       "        text-align: right;\n",
       "    }\n",
       "</style>\n",
       "<table border=\"1\" class=\"dataframe\">\n",
       "  <thead>\n",
       "    <tr style=\"text-align: right;\">\n",
       "      <th></th>\n",
       "      <th>A</th>\n",
       "      <th>B</th>\n",
       "      <th>C</th>\n",
       "      <th>D</th>\n",
       "    </tr>\n",
       "  </thead>\n",
       "  <tbody>\n",
       "    <tr>\n",
       "      <th>2013-01-01</th>\n",
       "      <td>-0.107059</td>\n",
       "      <td>0.123826</td>\n",
       "      <td>1.494973</td>\n",
       "      <td>0.694259</td>\n",
       "    </tr>\n",
       "    <tr>\n",
       "      <th>2013-01-02</th>\n",
       "      <td>0.489124</td>\n",
       "      <td>-1.584452</td>\n",
       "      <td>0.740508</td>\n",
       "      <td>-1.307688</td>\n",
       "    </tr>\n",
       "    <tr>\n",
       "      <th>2013-01-03</th>\n",
       "      <td>-0.917904</td>\n",
       "      <td>0.333546</td>\n",
       "      <td>0.345352</td>\n",
       "      <td>0.122169</td>\n",
       "    </tr>\n",
       "  </tbody>\n",
       "</table>\n",
       "</div>"
      ],
      "text/plain": [
       "                   A         B         C         D\n",
       "2013-01-01 -0.107059  0.123826  1.494973  0.694259\n",
       "2013-01-02  0.489124 -1.584452  0.740508 -1.307688\n",
       "2013-01-03 -0.917904  0.333546  0.345352  0.122169"
      ]
     },
     "execution_count": 12,
     "metadata": {},
     "output_type": "execute_result"
    }
   ],
   "source": [
    "# selection of raws -> return a Dataframe NOTE df[0] is not allowed use df.loc\n",
    "df[0:3] #using normal python indexing (end=3 is not includes)\n",
    "df['20130101':'20130103'] #from start until end (end in includes unlike python indexing)"
   ]
  },
  {
   "cell_type": "code",
   "execution_count": 13,
   "id": "8ce96f40-9944-4d9c-9345-b44c0572b903",
   "metadata": {
    "tags": []
   },
   "outputs": [
    {
     "data": {
      "text/html": [
       "<div>\n",
       "<style scoped>\n",
       "    .dataframe tbody tr th:only-of-type {\n",
       "        vertical-align: middle;\n",
       "    }\n",
       "\n",
       "    .dataframe tbody tr th {\n",
       "        vertical-align: top;\n",
       "    }\n",
       "\n",
       "    .dataframe thead th {\n",
       "        text-align: right;\n",
       "    }\n",
       "</style>\n",
       "<table border=\"1\" class=\"dataframe\">\n",
       "  <thead>\n",
       "    <tr style=\"text-align: right;\">\n",
       "      <th></th>\n",
       "      <th>A</th>\n",
       "      <th>B</th>\n",
       "      <th>C</th>\n",
       "      <th>D</th>\n",
       "    </tr>\n",
       "  </thead>\n",
       "  <tbody>\n",
       "    <tr>\n",
       "      <th>2013-01-01</th>\n",
       "      <td>-0.107059</td>\n",
       "      <td>0.123826</td>\n",
       "      <td>1.494973</td>\n",
       "      <td>0.694259</td>\n",
       "    </tr>\n",
       "  </tbody>\n",
       "</table>\n",
       "</div>"
      ],
      "text/plain": [
       "                   A         B         C         D\n",
       "2013-01-01 -0.107059  0.123826  1.494973  0.694259"
      ]
     },
     "execution_count": 13,
     "metadata": {},
     "output_type": "execute_result"
    }
   ],
   "source": [
    "df[:1]"
   ]
  },
  {
   "cell_type": "code",
   "execution_count": 14,
   "id": "bc6da24c-b40b-4674-8a8e-ddba64980d14",
   "metadata": {
    "tags": []
   },
   "outputs": [
    {
     "name": "stdout",
     "output_type": "stream",
     "text": [
      "A   -0.107059\n",
      "B    0.123826\n",
      "C    1.494973\n",
      "D    0.694259\n",
      "Name: 2013-01-01 00:00:00, dtype: float64\n"
     ]
    },
    {
     "data": {
      "text/html": [
       "<div>\n",
       "<style scoped>\n",
       "    .dataframe tbody tr th:only-of-type {\n",
       "        vertical-align: middle;\n",
       "    }\n",
       "\n",
       "    .dataframe tbody tr th {\n",
       "        vertical-align: top;\n",
       "    }\n",
       "\n",
       "    .dataframe thead th {\n",
       "        text-align: right;\n",
       "    }\n",
       "</style>\n",
       "<table border=\"1\" class=\"dataframe\">\n",
       "  <thead>\n",
       "    <tr style=\"text-align: right;\">\n",
       "      <th></th>\n",
       "      <th>A</th>\n",
       "      <th>B</th>\n",
       "      <th>C</th>\n",
       "      <th>D</th>\n",
       "    </tr>\n",
       "  </thead>\n",
       "  <tbody>\n",
       "    <tr>\n",
       "      <th>2013-01-01</th>\n",
       "      <td>-0.107059</td>\n",
       "      <td>0.123826</td>\n",
       "      <td>1.494973</td>\n",
       "      <td>0.694259</td>\n",
       "    </tr>\n",
       "    <tr>\n",
       "      <th>2013-01-02</th>\n",
       "      <td>0.489124</td>\n",
       "      <td>-1.584452</td>\n",
       "      <td>0.740508</td>\n",
       "      <td>-1.307688</td>\n",
       "    </tr>\n",
       "    <tr>\n",
       "      <th>2013-01-03</th>\n",
       "      <td>-0.917904</td>\n",
       "      <td>0.333546</td>\n",
       "      <td>0.345352</td>\n",
       "      <td>0.122169</td>\n",
       "    </tr>\n",
       "  </tbody>\n",
       "</table>\n",
       "</div>"
      ],
      "text/plain": [
       "                   A         B         C         D\n",
       "2013-01-01 -0.107059  0.123826  1.494973  0.694259\n",
       "2013-01-02  0.489124 -1.584452  0.740508 -1.307688\n",
       "2013-01-03 -0.917904  0.333546  0.345352  0.122169"
      ]
     },
     "execution_count": 14,
     "metadata": {},
     "output_type": "execute_result"
    }
   ],
   "source": [
    "# seleting a single raw -> return:\n",
    "'''\n",
    "    a series: given a single index\n",
    "    a DataFrame given multiple indcies\n",
    "'''\n",
    "indcies = df.index\n",
    "print(df.loc[indcies[0]]) # a Series\n",
    "df.loc[indcies[0:3]] # a DataFrame"
   ]
  },
  {
   "cell_type": "code",
   "execution_count": 15,
   "id": "f21d0371-9f2c-435b-aba9-8e23581cacc6",
   "metadata": {
    "tags": []
   },
   "outputs": [
    {
     "data": {
      "text/html": [
       "<div>\n",
       "<style scoped>\n",
       "    .dataframe tbody tr th:only-of-type {\n",
       "        vertical-align: middle;\n",
       "    }\n",
       "\n",
       "    .dataframe tbody tr th {\n",
       "        vertical-align: top;\n",
       "    }\n",
       "\n",
       "    .dataframe thead th {\n",
       "        text-align: right;\n",
       "    }\n",
       "</style>\n",
       "<table border=\"1\" class=\"dataframe\">\n",
       "  <thead>\n",
       "    <tr style=\"text-align: right;\">\n",
       "      <th></th>\n",
       "      <th>A</th>\n",
       "      <th>B</th>\n",
       "    </tr>\n",
       "  </thead>\n",
       "  <tbody>\n",
       "    <tr>\n",
       "      <th>2013-01-01</th>\n",
       "      <td>-0.107059</td>\n",
       "      <td>0.123826</td>\n",
       "    </tr>\n",
       "    <tr>\n",
       "      <th>2013-01-02</th>\n",
       "      <td>0.489124</td>\n",
       "      <td>-1.584452</td>\n",
       "    </tr>\n",
       "    <tr>\n",
       "      <th>2013-01-03</th>\n",
       "      <td>-0.917904</td>\n",
       "      <td>0.333546</td>\n",
       "    </tr>\n",
       "    <tr>\n",
       "      <th>2013-01-04</th>\n",
       "      <td>0.028661</td>\n",
       "      <td>1.251974</td>\n",
       "    </tr>\n",
       "    <tr>\n",
       "      <th>2013-01-05</th>\n",
       "      <td>0.866957</td>\n",
       "      <td>1.534359</td>\n",
       "    </tr>\n",
       "    <tr>\n",
       "      <th>2013-01-06</th>\n",
       "      <td>0.907876</td>\n",
       "      <td>1.136002</td>\n",
       "    </tr>\n",
       "  </tbody>\n",
       "</table>\n",
       "</div>"
      ],
      "text/plain": [
       "                   A         B\n",
       "2013-01-01 -0.107059  0.123826\n",
       "2013-01-02  0.489124 -1.584452\n",
       "2013-01-03 -0.917904  0.333546\n",
       "2013-01-04  0.028661  1.251974\n",
       "2013-01-05  0.866957  1.534359\n",
       "2013-01-06  0.907876  1.136002"
      ]
     },
     "execution_count": 15,
     "metadata": {},
     "output_type": "execute_result"
    }
   ],
   "source": [
    "# slecting multiple axis by label (column)\n",
    "df.loc[:,['A', 'B']] # input is (index, columns list)"
   ]
  },
  {
   "cell_type": "code",
   "execution_count": 16,
   "id": "018f484b-517f-45e7-97f3-0ff911796e39",
   "metadata": {
    "tags": []
   },
   "outputs": [
    {
     "data": {
      "text/html": [
       "<div>\n",
       "<style scoped>\n",
       "    .dataframe tbody tr th:only-of-type {\n",
       "        vertical-align: middle;\n",
       "    }\n",
       "\n",
       "    .dataframe tbody tr th {\n",
       "        vertical-align: top;\n",
       "    }\n",
       "\n",
       "    .dataframe thead th {\n",
       "        text-align: right;\n",
       "    }\n",
       "</style>\n",
       "<table border=\"1\" class=\"dataframe\">\n",
       "  <thead>\n",
       "    <tr style=\"text-align: right;\">\n",
       "      <th></th>\n",
       "      <th>A</th>\n",
       "      <th>B</th>\n",
       "    </tr>\n",
       "  </thead>\n",
       "  <tbody>\n",
       "    <tr>\n",
       "      <th>2013-01-01</th>\n",
       "      <td>-0.107059</td>\n",
       "      <td>0.123826</td>\n",
       "    </tr>\n",
       "    <tr>\n",
       "      <th>2013-01-02</th>\n",
       "      <td>0.489124</td>\n",
       "      <td>-1.584452</td>\n",
       "    </tr>\n",
       "    <tr>\n",
       "      <th>2013-01-03</th>\n",
       "      <td>-0.917904</td>\n",
       "      <td>0.333546</td>\n",
       "    </tr>\n",
       "    <tr>\n",
       "      <th>2013-01-04</th>\n",
       "      <td>0.028661</td>\n",
       "      <td>1.251974</td>\n",
       "    </tr>\n",
       "  </tbody>\n",
       "</table>\n",
       "</div>"
      ],
      "text/plain": [
       "                   A         B\n",
       "2013-01-01 -0.107059  0.123826\n",
       "2013-01-02  0.489124 -1.584452\n",
       "2013-01-03 -0.917904  0.333546\n",
       "2013-01-04  0.028661  1.251974"
      ]
     },
     "execution_count": 16,
     "metadata": {},
     "output_type": "execute_result"
    }
   ],
   "source": [
    "# selecting by index and columns\n",
    "df.loc['20130101': '20130104',['A', 'B']] # input is (index, columns list)"
   ]
  },
  {
   "cell_type": "code",
   "execution_count": 17,
   "id": "af52ffee-9207-45be-b128-048cce3074c1",
   "metadata": {},
   "outputs": [
    {
     "data": {
      "text/html": [
       "<div>\n",
       "<style scoped>\n",
       "    .dataframe tbody tr th:only-of-type {\n",
       "        vertical-align: middle;\n",
       "    }\n",
       "\n",
       "    .dataframe tbody tr th {\n",
       "        vertical-align: top;\n",
       "    }\n",
       "\n",
       "    .dataframe thead th {\n",
       "        text-align: right;\n",
       "    }\n",
       "</style>\n",
       "<table border=\"1\" class=\"dataframe\">\n",
       "  <thead>\n",
       "    <tr style=\"text-align: right;\">\n",
       "      <th></th>\n",
       "      <th>A</th>\n",
       "      <th>B</th>\n",
       "    </tr>\n",
       "  </thead>\n",
       "  <tbody>\n",
       "    <tr>\n",
       "      <th>2013-01-01</th>\n",
       "      <td>-0.107059</td>\n",
       "      <td>0.123826</td>\n",
       "    </tr>\n",
       "    <tr>\n",
       "      <th>2013-01-04</th>\n",
       "      <td>0.028661</td>\n",
       "      <td>1.251974</td>\n",
       "    </tr>\n",
       "  </tbody>\n",
       "</table>\n",
       "</div>"
      ],
      "text/plain": [
       "                   A         B\n",
       "2013-01-01 -0.107059  0.123826\n",
       "2013-01-04  0.028661  1.251974"
      ]
     },
     "execution_count": 17,
     "metadata": {},
     "output_type": "execute_result"
    }
   ],
   "source": [
    "#selecting specifc set of raws\n",
    "df.loc[['20130101', '20130104'],['A', 'B']] # input is (index, columns list)"
   ]
  },
  {
   "cell_type": "code",
   "execution_count": 18,
   "id": "4ed4eb6c-bb63-4d75-bd32-7cc06d658c9c",
   "metadata": {
    "tags": []
   },
   "outputs": [
    {
     "name": "stdout",
     "output_type": "stream",
     "text": [
      "<class 'numpy.float64'>\n"
     ]
    },
    {
     "data": {
      "text/plain": [
       "-0.10705882819512673"
      ]
     },
     "execution_count": 18,
     "metadata": {},
     "output_type": "execute_result"
    }
   ],
   "source": [
    "# getting a cell \n",
    "val = df.loc['20130101', 'A']\n",
    "print(type(val))\n",
    "val"
   ]
  },
  {
   "cell_type": "code",
   "execution_count": 19,
   "id": "ff41e2f7-55ba-4e18-bbc6-0222aacfd501",
   "metadata": {
    "tags": []
   },
   "outputs": [
    {
     "data": {
      "text/plain": [
       "-0.10705882819512673"
      ]
     },
     "execution_count": 19,
     "metadata": {},
     "output_type": "execute_result"
    }
   ],
   "source": [
    "# fast access similar to the above \n",
    "df.at['20130101', 'A']"
   ]
  },
  {
   "cell_type": "markdown",
   "id": "3b0d1a58-9653-4f6e-96d7-b3408f290c85",
   "metadata": {},
   "source": [
    "## Selecting by position \n",
    "## (i.e: index of index(key)\\s, and index of column\\s) = `df.iloc[0, 0]`\n",
    "### `DataFrame.iloc[]`, or `DataFrame.iat[]`"
   ]
  },
  {
   "cell_type": "code",
   "execution_count": 20,
   "id": "5dd07e99-1681-41c2-b314-d37942e11733",
   "metadata": {
    "tags": []
   },
   "outputs": [
    {
     "data": {
      "text/plain": [
       "A    0.028661\n",
       "B    1.251974\n",
       "C   -0.201867\n",
       "D   -0.767895\n",
       "Name: 2013-01-04 00:00:00, dtype: float64"
      ]
     },
     "execution_count": 20,
     "metadata": {},
     "output_type": "execute_result"
    }
   ],
   "source": [
    "# selecting a row\n",
    "'''\n",
    "return: \n",
    "    a Series if selecting a single raw\n",
    "    a DataFrame if selecting multiple raws, or columns\n",
    "'''\n",
    "df.iloc[3] # forth raw"
   ]
  },
  {
   "cell_type": "code",
   "execution_count": 21,
   "id": "08d222d2-ba18-4b7a-9560-6d13efeb9640",
   "metadata": {
    "tags": []
   },
   "outputs": [
    {
     "data": {
      "text/html": [
       "<div>\n",
       "<style scoped>\n",
       "    .dataframe tbody tr th:only-of-type {\n",
       "        vertical-align: middle;\n",
       "    }\n",
       "\n",
       "    .dataframe tbody tr th {\n",
       "        vertical-align: top;\n",
       "    }\n",
       "\n",
       "    .dataframe thead th {\n",
       "        text-align: right;\n",
       "    }\n",
       "</style>\n",
       "<table border=\"1\" class=\"dataframe\">\n",
       "  <thead>\n",
       "    <tr style=\"text-align: right;\">\n",
       "      <th></th>\n",
       "      <th>A</th>\n",
       "      <th>B</th>\n",
       "      <th>C</th>\n",
       "    </tr>\n",
       "  </thead>\n",
       "  <tbody>\n",
       "    <tr>\n",
       "      <th>2013-01-01</th>\n",
       "      <td>-0.107059</td>\n",
       "      <td>0.123826</td>\n",
       "      <td>1.494973</td>\n",
       "    </tr>\n",
       "    <tr>\n",
       "      <th>2013-01-02</th>\n",
       "      <td>0.489124</td>\n",
       "      <td>-1.584452</td>\n",
       "      <td>0.740508</td>\n",
       "    </tr>\n",
       "    <tr>\n",
       "      <th>2013-01-03</th>\n",
       "      <td>-0.917904</td>\n",
       "      <td>0.333546</td>\n",
       "      <td>0.345352</td>\n",
       "    </tr>\n",
       "    <tr>\n",
       "      <th>2013-01-04</th>\n",
       "      <td>0.028661</td>\n",
       "      <td>1.251974</td>\n",
       "      <td>-0.201867</td>\n",
       "    </tr>\n",
       "  </tbody>\n",
       "</table>\n",
       "</div>"
      ],
      "text/plain": [
       "                   A         B         C\n",
       "2013-01-01 -0.107059  0.123826  1.494973\n",
       "2013-01-02  0.489124 -1.584452  0.740508\n",
       "2013-01-03 -0.917904  0.333546  0.345352\n",
       "2013-01-04  0.028661  1.251974 -0.201867"
      ]
     },
     "execution_count": 21,
     "metadata": {},
     "output_type": "execute_result"
    }
   ],
   "source": [
    "#selecting multiple raws and columns using interger slicing\n",
    "df.iloc[0:4, 0: 3]"
   ]
  },
  {
   "cell_type": "code",
   "execution_count": 22,
   "id": "00c8182a-44d6-45fe-ad5d-244ba99c8b23",
   "metadata": {
    "tags": []
   },
   "outputs": [
    {
     "data": {
      "text/html": [
       "<div>\n",
       "<style scoped>\n",
       "    .dataframe tbody tr th:only-of-type {\n",
       "        vertical-align: middle;\n",
       "    }\n",
       "\n",
       "    .dataframe tbody tr th {\n",
       "        vertical-align: top;\n",
       "    }\n",
       "\n",
       "    .dataframe thead th {\n",
       "        text-align: right;\n",
       "    }\n",
       "</style>\n",
       "<table border=\"1\" class=\"dataframe\">\n",
       "  <thead>\n",
       "    <tr style=\"text-align: right;\">\n",
       "      <th></th>\n",
       "      <th>A</th>\n",
       "      <th>D</th>\n",
       "    </tr>\n",
       "  </thead>\n",
       "  <tbody>\n",
       "    <tr>\n",
       "      <th>2013-01-01</th>\n",
       "      <td>-0.107059</td>\n",
       "      <td>0.694259</td>\n",
       "    </tr>\n",
       "    <tr>\n",
       "      <th>2013-01-05</th>\n",
       "      <td>0.866957</td>\n",
       "      <td>1.244963</td>\n",
       "    </tr>\n",
       "  </tbody>\n",
       "</table>\n",
       "</div>"
      ],
      "text/plain": [
       "                   A         D\n",
       "2013-01-01 -0.107059  0.694259\n",
       "2013-01-05  0.866957  1.244963"
      ]
     },
     "execution_count": 22,
     "metadata": {},
     "output_type": "execute_result"
    }
   ],
   "source": [
    "# specific raws and columns\n",
    "df.iloc[[0, 4], [0, 3]]"
   ]
  },
  {
   "cell_type": "code",
   "execution_count": 23,
   "id": "c65d91d0-6093-480b-aeea-debd3489069f",
   "metadata": {
    "tags": []
   },
   "outputs": [
    {
     "data": {
      "text/html": [
       "<div>\n",
       "<style scoped>\n",
       "    .dataframe tbody tr th:only-of-type {\n",
       "        vertical-align: middle;\n",
       "    }\n",
       "\n",
       "    .dataframe tbody tr th {\n",
       "        vertical-align: top;\n",
       "    }\n",
       "\n",
       "    .dataframe thead th {\n",
       "        text-align: right;\n",
       "    }\n",
       "</style>\n",
       "<table border=\"1\" class=\"dataframe\">\n",
       "  <thead>\n",
       "    <tr style=\"text-align: right;\">\n",
       "      <th></th>\n",
       "      <th>A</th>\n",
       "      <th>B</th>\n",
       "      <th>C</th>\n",
       "      <th>D</th>\n",
       "    </tr>\n",
       "  </thead>\n",
       "  <tbody>\n",
       "    <tr>\n",
       "      <th>2013-01-01</th>\n",
       "      <td>-0.107059</td>\n",
       "      <td>0.123826</td>\n",
       "      <td>1.494973</td>\n",
       "      <td>0.694259</td>\n",
       "    </tr>\n",
       "    <tr>\n",
       "      <th>2013-01-05</th>\n",
       "      <td>0.866957</td>\n",
       "      <td>1.534359</td>\n",
       "      <td>0.834069</td>\n",
       "      <td>1.244963</td>\n",
       "    </tr>\n",
       "  </tbody>\n",
       "</table>\n",
       "</div>"
      ],
      "text/plain": [
       "                   A         B         C         D\n",
       "2013-01-01 -0.107059  0.123826  1.494973  0.694259\n",
       "2013-01-05  0.866957  1.534359  0.834069  1.244963"
      ]
     },
     "execution_count": 23,
     "metadata": {},
     "output_type": "execute_result"
    }
   ],
   "source": [
    "# specifc raws and all columns\n",
    "df.iloc[[0, 4], :]"
   ]
  },
  {
   "cell_type": "code",
   "execution_count": 24,
   "id": "ec7f5c9a-4542-4e23-acf4-2e6c589143a8",
   "metadata": {
    "tags": []
   },
   "outputs": [
    {
     "data": {
      "text/html": [
       "<div>\n",
       "<style scoped>\n",
       "    .dataframe tbody tr th:only-of-type {\n",
       "        vertical-align: middle;\n",
       "    }\n",
       "\n",
       "    .dataframe tbody tr th {\n",
       "        vertical-align: top;\n",
       "    }\n",
       "\n",
       "    .dataframe thead th {\n",
       "        text-align: right;\n",
       "    }\n",
       "</style>\n",
       "<table border=\"1\" class=\"dataframe\">\n",
       "  <thead>\n",
       "    <tr style=\"text-align: right;\">\n",
       "      <th></th>\n",
       "      <th>A</th>\n",
       "      <th>D</th>\n",
       "    </tr>\n",
       "  </thead>\n",
       "  <tbody>\n",
       "    <tr>\n",
       "      <th>2013-01-01</th>\n",
       "      <td>-0.107059</td>\n",
       "      <td>0.694259</td>\n",
       "    </tr>\n",
       "    <tr>\n",
       "      <th>2013-01-02</th>\n",
       "      <td>0.489124</td>\n",
       "      <td>-1.307688</td>\n",
       "    </tr>\n",
       "    <tr>\n",
       "      <th>2013-01-03</th>\n",
       "      <td>-0.917904</td>\n",
       "      <td>0.122169</td>\n",
       "    </tr>\n",
       "    <tr>\n",
       "      <th>2013-01-04</th>\n",
       "      <td>0.028661</td>\n",
       "      <td>-0.767895</td>\n",
       "    </tr>\n",
       "    <tr>\n",
       "      <th>2013-01-05</th>\n",
       "      <td>0.866957</td>\n",
       "      <td>1.244963</td>\n",
       "    </tr>\n",
       "    <tr>\n",
       "      <th>2013-01-06</th>\n",
       "      <td>0.907876</td>\n",
       "      <td>1.000856</td>\n",
       "    </tr>\n",
       "  </tbody>\n",
       "</table>\n",
       "</div>"
      ],
      "text/plain": [
       "                   A         D\n",
       "2013-01-01 -0.107059  0.694259\n",
       "2013-01-02  0.489124 -1.307688\n",
       "2013-01-03 -0.917904  0.122169\n",
       "2013-01-04  0.028661 -0.767895\n",
       "2013-01-05  0.866957  1.244963\n",
       "2013-01-06  0.907876  1.000856"
      ]
     },
     "execution_count": 24,
     "metadata": {},
     "output_type": "execute_result"
    }
   ],
   "source": [
    "# all raws and specifc columns\n",
    "df.iloc[:, [0, 3]]"
   ]
  },
  {
   "cell_type": "code",
   "execution_count": 25,
   "id": "5b311f43-d81d-4db3-b506-8f766bed0293",
   "metadata": {
    "tags": []
   },
   "outputs": [
    {
     "data": {
      "text/plain": [
       "-0.10705882819512673"
      ]
     },
     "execution_count": 25,
     "metadata": {},
     "output_type": "execute_result"
    }
   ],
   "source": [
    "# access a cell i.e: scaler\n",
    "df.iloc[0, 0]"
   ]
  },
  {
   "cell_type": "code",
   "execution_count": 26,
   "id": "c9405093-5b20-4e58-84bd-006a16a07006",
   "metadata": {
    "tags": []
   },
   "outputs": [
    {
     "data": {
      "text/plain": [
       "-0.10705882819512673"
      ]
     },
     "execution_count": 26,
     "metadata": {},
     "output_type": "execute_result"
    }
   ],
   "source": [
    "# fast access to scaler\n",
    "df.iat[0, 0]"
   ]
  },
  {
   "cell_type": "markdown",
   "id": "136be68d-cb6f-4a2f-8ad8-716157532aec",
   "metadata": {},
   "source": [
    "## Boolean Indexing (same as numpy)"
   ]
  },
  {
   "cell_type": "code",
   "execution_count": 27,
   "id": "5441053c-19bc-44a5-b973-8bf81de22113",
   "metadata": {
    "tags": []
   },
   "outputs": [
    {
     "name": "stdout",
     "output_type": "stream",
     "text": [
      "[[[0.97686495 0.01726837 0.98613432]\n",
      "  [0.61375338 0.55262301 0.96807709]\n",
      "  [0.29735726 0.96324898 0.17199886]\n",
      "  [0.54527341 0.00666131 0.47582935]]\n",
      "\n",
      " [[0.82675305 0.43822629 0.95914506]\n",
      "  [0.96575994 0.27588765 0.12798653]\n",
      "  [0.18660753 0.27789124 0.73808686]\n",
      "  [0.27956558 0.15161987 0.94077503]]\n",
      "\n",
      " [[0.02185915 0.76696153 0.83422711]\n",
      "  [0.2355105  0.54074147 0.30212928]\n",
      "  [0.80223693 0.73739798 0.86919298]\n",
      "  [0.55115328 0.06449159 0.62790111]]\n",
      "\n",
      " [[0.48530085 0.39106073 0.57144144]\n",
      "  [0.60980393 0.64172833 0.23793559]\n",
      "  [0.27297171 0.44262406 0.88810444]\n",
      "  [0.76789666 0.490309   0.69290301]]]\n"
     ]
    },
    {
     "data": {
      "text/plain": [
       "array([0.97686495, 0.98613432, 0.96807709, 0.96324898, 0.95914506,\n",
       "       0.96575994, 0.94077503])"
      ]
     },
     "execution_count": 27,
     "metadata": {},
     "output_type": "execute_result"
    }
   ],
   "source": [
    "x = np.random.rand(4, 4, 3)\n",
    "print(x)\n",
    "x[x>.9]"
   ]
  },
  {
   "cell_type": "code",
   "execution_count": 40,
   "id": "f9a4434c-8595-41b4-bbc1-e529eb9ceeb5",
   "metadata": {
    "tags": []
   },
   "outputs": [
    {
     "name": "stdout",
     "output_type": "stream",
     "text": [
      "2013-01-01    False\n",
      "2013-01-02     True\n",
      "2013-01-03    False\n",
      "2013-01-04     True\n",
      "2013-01-05     True\n",
      "2013-01-06     True\n",
      "Freq: D, Name: A, dtype: bool\n",
      "\n"
     ]
    },
    {
     "data": {
      "text/html": [
       "<div>\n",
       "<style scoped>\n",
       "    .dataframe tbody tr th:only-of-type {\n",
       "        vertical-align: middle;\n",
       "    }\n",
       "\n",
       "    .dataframe tbody tr th {\n",
       "        vertical-align: top;\n",
       "    }\n",
       "\n",
       "    .dataframe thead th {\n",
       "        text-align: right;\n",
       "    }\n",
       "</style>\n",
       "<table border=\"1\" class=\"dataframe\">\n",
       "  <thead>\n",
       "    <tr style=\"text-align: right;\">\n",
       "      <th></th>\n",
       "      <th>A</th>\n",
       "      <th>B</th>\n",
       "      <th>C</th>\n",
       "      <th>D</th>\n",
       "    </tr>\n",
       "  </thead>\n",
       "  <tbody>\n",
       "    <tr>\n",
       "      <th>2013-01-02</th>\n",
       "      <td>0.489124</td>\n",
       "      <td>-1.584452</td>\n",
       "      <td>0.740508</td>\n",
       "      <td>-1.307688</td>\n",
       "    </tr>\n",
       "    <tr>\n",
       "      <th>2013-01-04</th>\n",
       "      <td>0.028661</td>\n",
       "      <td>1.251974</td>\n",
       "      <td>-0.201867</td>\n",
       "      <td>-0.767895</td>\n",
       "    </tr>\n",
       "    <tr>\n",
       "      <th>2013-01-05</th>\n",
       "      <td>0.866957</td>\n",
       "      <td>1.534359</td>\n",
       "      <td>0.834069</td>\n",
       "      <td>1.244963</td>\n",
       "    </tr>\n",
       "    <tr>\n",
       "      <th>2013-01-06</th>\n",
       "      <td>0.907876</td>\n",
       "      <td>1.136002</td>\n",
       "      <td>-1.794488</td>\n",
       "      <td>1.000856</td>\n",
       "    </tr>\n",
       "  </tbody>\n",
       "</table>\n",
       "</div>"
      ],
      "text/plain": [
       "                   A         B         C         D\n",
       "2013-01-02  0.489124 -1.584452  0.740508 -1.307688\n",
       "2013-01-04  0.028661  1.251974 -0.201867 -0.767895\n",
       "2013-01-05  0.866957  1.534359  0.834069  1.244963\n",
       "2013-01-06  0.907876  1.136002 -1.794488  1.000856"
      ]
     },
     "execution_count": 40,
     "metadata": {},
     "output_type": "execute_result"
    }
   ],
   "source": [
    "# boolean indexng \n",
    "print(df.loc[:,'A']>0)\n",
    "print()\n",
    "df[df.loc[:, 'A']>0]"
   ]
  },
  {
   "cell_type": "code",
   "execution_count": 47,
   "id": "6196285a-bbd7-482a-9083-47827c7165f5",
   "metadata": {
    "tags": []
   },
   "outputs": [
    {
     "name": "stdout",
     "output_type": "stream",
     "text": [
      "                A      B      C\n",
      "2013-01-01  False   True   True\n",
      "2013-01-02   True  False   True\n",
      "2013-01-03  False   True   True\n",
      "2013-01-04   True   True  False\n",
      "2013-01-05   True   True   True\n",
      "2013-01-06   True   True  False\n",
      "                   A         B         C   D\n",
      "2013-01-01       NaN  0.123826  1.494973 NaN\n",
      "2013-01-02  0.489124       NaN  0.740508 NaN\n",
      "2013-01-03       NaN  0.333546  0.345352 NaN\n",
      "2013-01-04  0.028661  1.251974       NaN NaN\n",
      "2013-01-05  0.866957  1.534359  0.834069 NaN\n",
      "2013-01-06  0.907876  1.136002       NaN NaN\n"
     ]
    },
    {
     "name": "stderr",
     "output_type": "stream",
     "text": [
      "/tmp/ipykernel_6943/2630552352.py:6: UserWarning: Boolean Series key will be reindexed to match DataFrame index.\n",
      "  df[df['A']>0][df['B']>0]\n"
     ]
    },
    {
     "data": {
      "text/html": [
       "<div>\n",
       "<style scoped>\n",
       "    .dataframe tbody tr th:only-of-type {\n",
       "        vertical-align: middle;\n",
       "    }\n",
       "\n",
       "    .dataframe tbody tr th {\n",
       "        vertical-align: top;\n",
       "    }\n",
       "\n",
       "    .dataframe thead th {\n",
       "        text-align: right;\n",
       "    }\n",
       "</style>\n",
       "<table border=\"1\" class=\"dataframe\">\n",
       "  <thead>\n",
       "    <tr style=\"text-align: right;\">\n",
       "      <th></th>\n",
       "      <th>A</th>\n",
       "      <th>B</th>\n",
       "      <th>C</th>\n",
       "      <th>D</th>\n",
       "    </tr>\n",
       "  </thead>\n",
       "  <tbody>\n",
       "    <tr>\n",
       "      <th>2013-01-04</th>\n",
       "      <td>0.028661</td>\n",
       "      <td>1.251974</td>\n",
       "      <td>-0.201867</td>\n",
       "      <td>-0.767895</td>\n",
       "    </tr>\n",
       "    <tr>\n",
       "      <th>2013-01-05</th>\n",
       "      <td>0.866957</td>\n",
       "      <td>1.534359</td>\n",
       "      <td>0.834069</td>\n",
       "      <td>1.244963</td>\n",
       "    </tr>\n",
       "    <tr>\n",
       "      <th>2013-01-06</th>\n",
       "      <td>0.907876</td>\n",
       "      <td>1.136002</td>\n",
       "      <td>-1.794488</td>\n",
       "      <td>1.000856</td>\n",
       "    </tr>\n",
       "  </tbody>\n",
       "</table>\n",
       "</div>"
      ],
      "text/plain": [
       "                   A         B         C         D\n",
       "2013-01-04  0.028661  1.251974 -0.201867 -0.767895\n",
       "2013-01-05  0.866957  1.534359  0.834069  1.244963\n",
       "2013-01-06  0.907876  1.136002 -1.794488  1.000856"
      ]
     },
     "execution_count": 47,
     "metadata": {},
     "output_type": "execute_result"
    }
   ],
   "source": [
    "# boolean indexing\n",
    "print(df.loc[:,'A':'C'] >0)\n",
    "print(df[df.loc[:,'A':'C'] >0])\n",
    "\n",
    "# correct way\n",
    "df[df['A']>0][df['B']>0]"
   ]
  },
  {
   "cell_type": "code",
   "execution_count": 48,
   "id": "d60a128b-d10b-44c2-858e-bbbf182f2456",
   "metadata": {
    "tags": []
   },
   "outputs": [
    {
     "data": {
      "text/html": [
       "<div>\n",
       "<style scoped>\n",
       "    .dataframe tbody tr th:only-of-type {\n",
       "        vertical-align: middle;\n",
       "    }\n",
       "\n",
       "    .dataframe tbody tr th {\n",
       "        vertical-align: top;\n",
       "    }\n",
       "\n",
       "    .dataframe thead th {\n",
       "        text-align: right;\n",
       "    }\n",
       "</style>\n",
       "<table border=\"1\" class=\"dataframe\">\n",
       "  <thead>\n",
       "    <tr style=\"text-align: right;\">\n",
       "      <th></th>\n",
       "      <th>A</th>\n",
       "      <th>B</th>\n",
       "      <th>C</th>\n",
       "      <th>D</th>\n",
       "      <th>E</th>\n",
       "    </tr>\n",
       "  </thead>\n",
       "  <tbody>\n",
       "    <tr>\n",
       "      <th>2013-01-01</th>\n",
       "      <td>-0.107059</td>\n",
       "      <td>0.123826</td>\n",
       "      <td>1.494973</td>\n",
       "      <td>0.694259</td>\n",
       "      <td>one</td>\n",
       "    </tr>\n",
       "    <tr>\n",
       "      <th>2013-01-02</th>\n",
       "      <td>0.489124</td>\n",
       "      <td>-1.584452</td>\n",
       "      <td>0.740508</td>\n",
       "      <td>-1.307688</td>\n",
       "      <td>one</td>\n",
       "    </tr>\n",
       "    <tr>\n",
       "      <th>2013-01-03</th>\n",
       "      <td>-0.917904</td>\n",
       "      <td>0.333546</td>\n",
       "      <td>0.345352</td>\n",
       "      <td>0.122169</td>\n",
       "      <td>two</td>\n",
       "    </tr>\n",
       "    <tr>\n",
       "      <th>2013-01-04</th>\n",
       "      <td>0.028661</td>\n",
       "      <td>1.251974</td>\n",
       "      <td>-0.201867</td>\n",
       "      <td>-0.767895</td>\n",
       "      <td>three</td>\n",
       "    </tr>\n",
       "    <tr>\n",
       "      <th>2013-01-05</th>\n",
       "      <td>0.866957</td>\n",
       "      <td>1.534359</td>\n",
       "      <td>0.834069</td>\n",
       "      <td>1.244963</td>\n",
       "      <td>four</td>\n",
       "    </tr>\n",
       "    <tr>\n",
       "      <th>2013-01-06</th>\n",
       "      <td>0.907876</td>\n",
       "      <td>1.136002</td>\n",
       "      <td>-1.794488</td>\n",
       "      <td>1.000856</td>\n",
       "      <td>three</td>\n",
       "    </tr>\n",
       "  </tbody>\n",
       "</table>\n",
       "</div>"
      ],
      "text/plain": [
       "                   A         B         C         D      E\n",
       "2013-01-01 -0.107059  0.123826  1.494973  0.694259    one\n",
       "2013-01-02  0.489124 -1.584452  0.740508 -1.307688    one\n",
       "2013-01-03 -0.917904  0.333546  0.345352  0.122169    two\n",
       "2013-01-04  0.028661  1.251974 -0.201867 -0.767895  three\n",
       "2013-01-05  0.866957  1.534359  0.834069  1.244963   four\n",
       "2013-01-06  0.907876  1.136002 -1.794488  1.000856  three"
      ]
     },
     "execution_count": 48,
     "metadata": {},
     "output_type": "execute_result"
    }
   ],
   "source": [
    "# using isin\n",
    "df2 = df.copy()\n",
    "df2['E'] = [\"one\", \"one\", \"two\", \"three\", \"four\", \"three\"]\n",
    "df2"
   ]
  },
  {
   "cell_type": "code",
   "execution_count": 51,
   "id": "fae13546-a4f6-41f3-8025-b07f01ed247d",
   "metadata": {
    "tags": []
   },
   "outputs": [
    {
     "name": "stdout",
     "output_type": "stream",
     "text": [
      "2013-01-01     True\n",
      "2013-01-02     True\n",
      "2013-01-03    False\n",
      "2013-01-04    False\n",
      "2013-01-05     True\n",
      "2013-01-06    False\n",
      "Freq: D, Name: E, dtype: bool\n"
     ]
    },
    {
     "data": {
      "text/html": [
       "<div>\n",
       "<style scoped>\n",
       "    .dataframe tbody tr th:only-of-type {\n",
       "        vertical-align: middle;\n",
       "    }\n",
       "\n",
       "    .dataframe tbody tr th {\n",
       "        vertical-align: top;\n",
       "    }\n",
       "\n",
       "    .dataframe thead th {\n",
       "        text-align: right;\n",
       "    }\n",
       "</style>\n",
       "<table border=\"1\" class=\"dataframe\">\n",
       "  <thead>\n",
       "    <tr style=\"text-align: right;\">\n",
       "      <th></th>\n",
       "      <th>A</th>\n",
       "      <th>B</th>\n",
       "      <th>C</th>\n",
       "      <th>D</th>\n",
       "      <th>E</th>\n",
       "    </tr>\n",
       "  </thead>\n",
       "  <tbody>\n",
       "    <tr>\n",
       "      <th>2013-01-01</th>\n",
       "      <td>-0.107059</td>\n",
       "      <td>0.123826</td>\n",
       "      <td>1.494973</td>\n",
       "      <td>0.694259</td>\n",
       "      <td>one</td>\n",
       "    </tr>\n",
       "    <tr>\n",
       "      <th>2013-01-02</th>\n",
       "      <td>0.489124</td>\n",
       "      <td>-1.584452</td>\n",
       "      <td>0.740508</td>\n",
       "      <td>-1.307688</td>\n",
       "      <td>one</td>\n",
       "    </tr>\n",
       "    <tr>\n",
       "      <th>2013-01-05</th>\n",
       "      <td>0.866957</td>\n",
       "      <td>1.534359</td>\n",
       "      <td>0.834069</td>\n",
       "      <td>1.244963</td>\n",
       "      <td>four</td>\n",
       "    </tr>\n",
       "  </tbody>\n",
       "</table>\n",
       "</div>"
      ],
      "text/plain": [
       "                   A         B         C         D     E\n",
       "2013-01-01 -0.107059  0.123826  1.494973  0.694259   one\n",
       "2013-01-02  0.489124 -1.584452  0.740508 -1.307688   one\n",
       "2013-01-05  0.866957  1.534359  0.834069  1.244963  four"
      ]
     },
     "execution_count": 51,
     "metadata": {},
     "output_type": "execute_result"
    }
   ],
   "source": [
    "print(df2['E'].isin(['one', 'four']))\n",
    "df2[df2['E'].isin(['one', 'four'])]"
   ]
  },
  {
   "cell_type": "markdown",
   "id": "8bb44ebf-9df7-4729-91eb-a4b9b90c8e3e",
   "metadata": {},
   "source": [
    "## Setting"
   ]
  },
  {
   "cell_type": "markdown",
   "id": "3a39fbbf-0b8e-4e17-983c-10dd8b0e9494",
   "metadata": {
    "tags": []
   },
   "source": [
    "### by label using: `DataFrame.loc[] = new_value`, `DataFrame.at[]= new_value`\n",
    "### by value  using: `DataFrame.iloc[] = new_value`, `DataFrame.iat[]= new_value`"
   ]
  },
  {
   "cell_type": "code",
   "execution_count": 60,
   "id": "01f8b7e3-6d78-4293-85c2-5c23730ccc69",
   "metadata": {
    "tags": []
   },
   "outputs": [
    {
     "name": "stdout",
     "output_type": "stream",
     "text": [
      "2013-01-02    1\n",
      "2013-01-03    2\n",
      "2013-01-04    3\n",
      "2013-01-05    4\n",
      "2013-01-06    5\n",
      "2013-01-07    6\n",
      "Freq: D, dtype: int32\n"
     ]
    },
    {
     "data": {
      "text/html": [
       "<div>\n",
       "<style scoped>\n",
       "    .dataframe tbody tr th:only-of-type {\n",
       "        vertical-align: middle;\n",
       "    }\n",
       "\n",
       "    .dataframe tbody tr th {\n",
       "        vertical-align: top;\n",
       "    }\n",
       "\n",
       "    .dataframe thead th {\n",
       "        text-align: right;\n",
       "    }\n",
       "</style>\n",
       "<table border=\"1\" class=\"dataframe\">\n",
       "  <thead>\n",
       "    <tr style=\"text-align: right;\">\n",
       "      <th></th>\n",
       "      <th>A</th>\n",
       "      <th>B</th>\n",
       "      <th>C</th>\n",
       "      <th>D</th>\n",
       "      <th>F</th>\n",
       "    </tr>\n",
       "  </thead>\n",
       "  <tbody>\n",
       "    <tr>\n",
       "      <th>2013-01-01</th>\n",
       "      <td>-0.107059</td>\n",
       "      <td>0.123826</td>\n",
       "      <td>1.494973</td>\n",
       "      <td>0.694259</td>\n",
       "      <td>NaN</td>\n",
       "    </tr>\n",
       "    <tr>\n",
       "      <th>2013-01-02</th>\n",
       "      <td>0.489124</td>\n",
       "      <td>-1.584452</td>\n",
       "      <td>0.740508</td>\n",
       "      <td>-1.307688</td>\n",
       "      <td>1.0</td>\n",
       "    </tr>\n",
       "    <tr>\n",
       "      <th>2013-01-03</th>\n",
       "      <td>-0.917904</td>\n",
       "      <td>0.333546</td>\n",
       "      <td>0.345352</td>\n",
       "      <td>0.122169</td>\n",
       "      <td>2.0</td>\n",
       "    </tr>\n",
       "    <tr>\n",
       "      <th>2013-01-04</th>\n",
       "      <td>0.028661</td>\n",
       "      <td>1.251974</td>\n",
       "      <td>-0.201867</td>\n",
       "      <td>-0.767895</td>\n",
       "      <td>3.0</td>\n",
       "    </tr>\n",
       "    <tr>\n",
       "      <th>2013-01-05</th>\n",
       "      <td>0.866957</td>\n",
       "      <td>1.534359</td>\n",
       "      <td>0.834069</td>\n",
       "      <td>1.244963</td>\n",
       "      <td>4.0</td>\n",
       "    </tr>\n",
       "    <tr>\n",
       "      <th>2013-01-06</th>\n",
       "      <td>0.907876</td>\n",
       "      <td>1.136002</td>\n",
       "      <td>-1.794488</td>\n",
       "      <td>1.000856</td>\n",
       "      <td>5.0</td>\n",
       "    </tr>\n",
       "  </tbody>\n",
       "</table>\n",
       "</div>"
      ],
      "text/plain": [
       "                   A         B         C         D    F\n",
       "2013-01-01 -0.107059  0.123826  1.494973  0.694259  NaN\n",
       "2013-01-02  0.489124 -1.584452  0.740508 -1.307688  1.0\n",
       "2013-01-03 -0.917904  0.333546  0.345352  0.122169  2.0\n",
       "2013-01-04  0.028661  1.251974 -0.201867 -0.767895  3.0\n",
       "2013-01-05  0.866957  1.534359  0.834069  1.244963  4.0\n",
       "2013-01-06  0.907876  1.136002 -1.794488  1.000856  5.0"
      ]
     },
     "execution_count": 60,
     "metadata": {},
     "output_type": "execute_result"
    }
   ],
   "source": [
    "# setting an elemnt in a series\n",
    "s1 = pd.Series(np.arange(1, 7, dtype=np.int32), index=pd.date_range('20130102', periods=6))\n",
    "print(s1)\n",
    "df['F'] = s1\n",
    "df"
   ]
  },
  {
   "cell_type": "code",
   "execution_count": 62,
   "id": "23114e2e-86fd-4d01-afb1-c048bbb2053b",
   "metadata": {
    "tags": []
   },
   "outputs": [
    {
     "data": {
      "text/html": [
       "<div>\n",
       "<style scoped>\n",
       "    .dataframe tbody tr th:only-of-type {\n",
       "        vertical-align: middle;\n",
       "    }\n",
       "\n",
       "    .dataframe tbody tr th {\n",
       "        vertical-align: top;\n",
       "    }\n",
       "\n",
       "    .dataframe thead th {\n",
       "        text-align: right;\n",
       "    }\n",
       "</style>\n",
       "<table border=\"1\" class=\"dataframe\">\n",
       "  <thead>\n",
       "    <tr style=\"text-align: right;\">\n",
       "      <th></th>\n",
       "      <th>A</th>\n",
       "      <th>B</th>\n",
       "      <th>C</th>\n",
       "      <th>D</th>\n",
       "      <th>F</th>\n",
       "    </tr>\n",
       "  </thead>\n",
       "  <tbody>\n",
       "    <tr>\n",
       "      <th>2013-01-01</th>\n",
       "      <td>-0.107059</td>\n",
       "      <td>0.123826</td>\n",
       "      <td>1.494973</td>\n",
       "      <td>0.694259</td>\n",
       "      <td>NaN</td>\n",
       "    </tr>\n",
       "    <tr>\n",
       "      <th>2013-01-02</th>\n",
       "      <td>0.000000</td>\n",
       "      <td>-1.584452</td>\n",
       "      <td>0.740508</td>\n",
       "      <td>-1.307688</td>\n",
       "      <td>1.0</td>\n",
       "    </tr>\n",
       "    <tr>\n",
       "      <th>2013-01-03</th>\n",
       "      <td>-0.917904</td>\n",
       "      <td>0.333546</td>\n",
       "      <td>0.345352</td>\n",
       "      <td>0.122169</td>\n",
       "      <td>2.0</td>\n",
       "    </tr>\n",
       "    <tr>\n",
       "      <th>2013-01-04</th>\n",
       "      <td>0.028661</td>\n",
       "      <td>1.251974</td>\n",
       "      <td>-0.201867</td>\n",
       "      <td>-0.767895</td>\n",
       "      <td>3.0</td>\n",
       "    </tr>\n",
       "    <tr>\n",
       "      <th>2013-01-05</th>\n",
       "      <td>0.866957</td>\n",
       "      <td>1.534359</td>\n",
       "      <td>0.834069</td>\n",
       "      <td>1.244963</td>\n",
       "      <td>4.0</td>\n",
       "    </tr>\n",
       "    <tr>\n",
       "      <th>2013-01-06</th>\n",
       "      <td>0.907876</td>\n",
       "      <td>1.136002</td>\n",
       "      <td>-1.794488</td>\n",
       "      <td>1.000856</td>\n",
       "      <td>5.0</td>\n",
       "    </tr>\n",
       "  </tbody>\n",
       "</table>\n",
       "</div>"
      ],
      "text/plain": [
       "                   A         B         C         D    F\n",
       "2013-01-01 -0.107059  0.123826  1.494973  0.694259  NaN\n",
       "2013-01-02  0.000000 -1.584452  0.740508 -1.307688  1.0\n",
       "2013-01-03 -0.917904  0.333546  0.345352  0.122169  2.0\n",
       "2013-01-04  0.028661  1.251974 -0.201867 -0.767895  3.0\n",
       "2013-01-05  0.866957  1.534359  0.834069  1.244963  4.0\n",
       "2013-01-06  0.907876  1.136002 -1.794488  1.000856  5.0"
      ]
     },
     "execution_count": 62,
     "metadata": {},
     "output_type": "execute_result"
    }
   ],
   "source": [
    "# setting the second raw, 'A' by \"label\"\n",
    "indcies = df.index\n",
    "df.loc[indcies[1], 'A'] = 0 # same as 'at'\n",
    "df"
   ]
  },
  {
   "cell_type": "code",
   "execution_count": 63,
   "id": "fd74f2e4-6115-48c7-a83a-6cba50566bea",
   "metadata": {
    "tags": []
   },
   "outputs": [
    {
     "data": {
      "text/html": [
       "<div>\n",
       "<style scoped>\n",
       "    .dataframe tbody tr th:only-of-type {\n",
       "        vertical-align: middle;\n",
       "    }\n",
       "\n",
       "    .dataframe tbody tr th {\n",
       "        vertical-align: top;\n",
       "    }\n",
       "\n",
       "    .dataframe thead th {\n",
       "        text-align: right;\n",
       "    }\n",
       "</style>\n",
       "<table border=\"1\" class=\"dataframe\">\n",
       "  <thead>\n",
       "    <tr style=\"text-align: right;\">\n",
       "      <th></th>\n",
       "      <th>A</th>\n",
       "      <th>B</th>\n",
       "      <th>C</th>\n",
       "      <th>D</th>\n",
       "      <th>F</th>\n",
       "    </tr>\n",
       "  </thead>\n",
       "  <tbody>\n",
       "    <tr>\n",
       "      <th>2013-01-01</th>\n",
       "      <td>-0.107059</td>\n",
       "      <td>0.123826</td>\n",
       "      <td>1.494973</td>\n",
       "      <td>0.694259</td>\n",
       "      <td>NaN</td>\n",
       "    </tr>\n",
       "    <tr>\n",
       "      <th>2013-01-02</th>\n",
       "      <td>0.000000</td>\n",
       "      <td>11.000000</td>\n",
       "      <td>0.740508</td>\n",
       "      <td>-1.307688</td>\n",
       "      <td>1.0</td>\n",
       "    </tr>\n",
       "    <tr>\n",
       "      <th>2013-01-03</th>\n",
       "      <td>-0.917904</td>\n",
       "      <td>0.333546</td>\n",
       "      <td>0.345352</td>\n",
       "      <td>0.122169</td>\n",
       "      <td>2.0</td>\n",
       "    </tr>\n",
       "    <tr>\n",
       "      <th>2013-01-04</th>\n",
       "      <td>0.028661</td>\n",
       "      <td>1.251974</td>\n",
       "      <td>-0.201867</td>\n",
       "      <td>-0.767895</td>\n",
       "      <td>3.0</td>\n",
       "    </tr>\n",
       "    <tr>\n",
       "      <th>2013-01-05</th>\n",
       "      <td>0.866957</td>\n",
       "      <td>1.534359</td>\n",
       "      <td>0.834069</td>\n",
       "      <td>1.244963</td>\n",
       "      <td>4.0</td>\n",
       "    </tr>\n",
       "    <tr>\n",
       "      <th>2013-01-06</th>\n",
       "      <td>0.907876</td>\n",
       "      <td>1.136002</td>\n",
       "      <td>-1.794488</td>\n",
       "      <td>1.000856</td>\n",
       "      <td>5.0</td>\n",
       "    </tr>\n",
       "  </tbody>\n",
       "</table>\n",
       "</div>"
      ],
      "text/plain": [
       "                   A          B         C         D    F\n",
       "2013-01-01 -0.107059   0.123826  1.494973  0.694259  NaN\n",
       "2013-01-02  0.000000  11.000000  0.740508 -1.307688  1.0\n",
       "2013-01-03 -0.917904   0.333546  0.345352  0.122169  2.0\n",
       "2013-01-04  0.028661   1.251974 -0.201867 -0.767895  3.0\n",
       "2013-01-05  0.866957   1.534359  0.834069  1.244963  4.0\n",
       "2013-01-06  0.907876   1.136002 -1.794488  1.000856  5.0"
      ]
     },
     "execution_count": 63,
     "metadata": {},
     "output_type": "execute_result"
    }
   ],
   "source": [
    "# setting second raw and second columns by \"value => index\"\n",
    "df.iloc[1, 1] = 11\n",
    "df"
   ]
  },
  {
   "cell_type": "code",
   "execution_count": 64,
   "id": "506dfc73-7a16-4aba-9b2d-db0392ed26d8",
   "metadata": {
    "tags": []
   },
   "outputs": [
    {
     "name": "stderr",
     "output_type": "stream",
     "text": [
      "/tmp/ipykernel_6943/3768638159.py:2: DeprecationWarning: In a future version, `df.iloc[:, i] = newvals` will attempt to set the values inplace instead of always setting a new array. To retain the old behavior, use either `df[df.columns[i]] = newvals` or, if columns are non-unique, `df.isetitem(i, newvals)`\n",
      "  df.loc[:, 'D'] = np.arange(len(df))\n"
     ]
    },
    {
     "data": {
      "text/html": [
       "<div>\n",
       "<style scoped>\n",
       "    .dataframe tbody tr th:only-of-type {\n",
       "        vertical-align: middle;\n",
       "    }\n",
       "\n",
       "    .dataframe tbody tr th {\n",
       "        vertical-align: top;\n",
       "    }\n",
       "\n",
       "    .dataframe thead th {\n",
       "        text-align: right;\n",
       "    }\n",
       "</style>\n",
       "<table border=\"1\" class=\"dataframe\">\n",
       "  <thead>\n",
       "    <tr style=\"text-align: right;\">\n",
       "      <th></th>\n",
       "      <th>A</th>\n",
       "      <th>B</th>\n",
       "      <th>C</th>\n",
       "      <th>D</th>\n",
       "      <th>F</th>\n",
       "    </tr>\n",
       "  </thead>\n",
       "  <tbody>\n",
       "    <tr>\n",
       "      <th>2013-01-01</th>\n",
       "      <td>-0.107059</td>\n",
       "      <td>0.123826</td>\n",
       "      <td>1.494973</td>\n",
       "      <td>0</td>\n",
       "      <td>NaN</td>\n",
       "    </tr>\n",
       "    <tr>\n",
       "      <th>2013-01-02</th>\n",
       "      <td>0.000000</td>\n",
       "      <td>11.000000</td>\n",
       "      <td>0.740508</td>\n",
       "      <td>1</td>\n",
       "      <td>1.0</td>\n",
       "    </tr>\n",
       "    <tr>\n",
       "      <th>2013-01-03</th>\n",
       "      <td>-0.917904</td>\n",
       "      <td>0.333546</td>\n",
       "      <td>0.345352</td>\n",
       "      <td>2</td>\n",
       "      <td>2.0</td>\n",
       "    </tr>\n",
       "    <tr>\n",
       "      <th>2013-01-04</th>\n",
       "      <td>0.028661</td>\n",
       "      <td>1.251974</td>\n",
       "      <td>-0.201867</td>\n",
       "      <td>3</td>\n",
       "      <td>3.0</td>\n",
       "    </tr>\n",
       "    <tr>\n",
       "      <th>2013-01-05</th>\n",
       "      <td>0.866957</td>\n",
       "      <td>1.534359</td>\n",
       "      <td>0.834069</td>\n",
       "      <td>4</td>\n",
       "      <td>4.0</td>\n",
       "    </tr>\n",
       "    <tr>\n",
       "      <th>2013-01-06</th>\n",
       "      <td>0.907876</td>\n",
       "      <td>1.136002</td>\n",
       "      <td>-1.794488</td>\n",
       "      <td>5</td>\n",
       "      <td>5.0</td>\n",
       "    </tr>\n",
       "  </tbody>\n",
       "</table>\n",
       "</div>"
      ],
      "text/plain": [
       "                   A          B         C  D    F\n",
       "2013-01-01 -0.107059   0.123826  1.494973  0  NaN\n",
       "2013-01-02  0.000000  11.000000  0.740508  1  1.0\n",
       "2013-01-03 -0.917904   0.333546  0.345352  2  2.0\n",
       "2013-01-04  0.028661   1.251974 -0.201867  3  3.0\n",
       "2013-01-05  0.866957   1.534359  0.834069  4  4.0\n",
       "2013-01-06  0.907876   1.136002 -1.794488  5  5.0"
      ]
     },
     "execution_count": 64,
     "metadata": {},
     "output_type": "execute_result"
    }
   ],
   "source": [
    "# setting a whole column\n",
    "df.loc[:, 'D'] = np.arange(len(df))\n",
    "df"
   ]
  },
  {
   "cell_type": "code",
   "execution_count": 66,
   "id": "23d8381e-0cc2-473f-990b-5048ce6ee12e",
   "metadata": {
    "tags": []
   },
   "outputs": [
    {
     "data": {
      "text/html": [
       "<div>\n",
       "<style scoped>\n",
       "    .dataframe tbody tr th:only-of-type {\n",
       "        vertical-align: middle;\n",
       "    }\n",
       "\n",
       "    .dataframe tbody tr th {\n",
       "        vertical-align: top;\n",
       "    }\n",
       "\n",
       "    .dataframe thead th {\n",
       "        text-align: right;\n",
       "    }\n",
       "</style>\n",
       "<table border=\"1\" class=\"dataframe\">\n",
       "  <thead>\n",
       "    <tr style=\"text-align: right;\">\n",
       "      <th></th>\n",
       "      <th>A</th>\n",
       "      <th>B</th>\n",
       "      <th>C</th>\n",
       "      <th>D</th>\n",
       "      <th>F</th>\n",
       "    </tr>\n",
       "  </thead>\n",
       "  <tbody>\n",
       "    <tr>\n",
       "      <th>2013-01-01</th>\n",
       "      <td>-0.107059</td>\n",
       "      <td>999.123826</td>\n",
       "      <td>1000.494973</td>\n",
       "      <td>0</td>\n",
       "      <td>NaN</td>\n",
       "    </tr>\n",
       "    <tr>\n",
       "      <th>2013-01-02</th>\n",
       "      <td>0.000000</td>\n",
       "      <td>1010.000000</td>\n",
       "      <td>999.740508</td>\n",
       "      <td>1000</td>\n",
       "      <td>1000.0</td>\n",
       "    </tr>\n",
       "    <tr>\n",
       "      <th>2013-01-03</th>\n",
       "      <td>-0.917904</td>\n",
       "      <td>999.333546</td>\n",
       "      <td>999.345352</td>\n",
       "      <td>1001</td>\n",
       "      <td>1001.0</td>\n",
       "    </tr>\n",
       "    <tr>\n",
       "      <th>2013-01-04</th>\n",
       "      <td>999.028661</td>\n",
       "      <td>1000.251974</td>\n",
       "      <td>-0.201867</td>\n",
       "      <td>1002</td>\n",
       "      <td>1002.0</td>\n",
       "    </tr>\n",
       "    <tr>\n",
       "      <th>2013-01-05</th>\n",
       "      <td>999.866957</td>\n",
       "      <td>1000.534359</td>\n",
       "      <td>999.834069</td>\n",
       "      <td>1003</td>\n",
       "      <td>1003.0</td>\n",
       "    </tr>\n",
       "    <tr>\n",
       "      <th>2013-01-06</th>\n",
       "      <td>999.907876</td>\n",
       "      <td>1000.136002</td>\n",
       "      <td>-1.794488</td>\n",
       "      <td>1004</td>\n",
       "      <td>1004.0</td>\n",
       "    </tr>\n",
       "  </tbody>\n",
       "</table>\n",
       "</div>"
      ],
      "text/plain": [
       "                     A            B            C     D       F\n",
       "2013-01-01   -0.107059   999.123826  1000.494973     0     NaN\n",
       "2013-01-02    0.000000  1010.000000   999.740508  1000  1000.0\n",
       "2013-01-03   -0.917904   999.333546   999.345352  1001  1001.0\n",
       "2013-01-04  999.028661  1000.251974    -0.201867  1002  1002.0\n",
       "2013-01-05  999.866957  1000.534359   999.834069  1003  1003.0\n",
       "2013-01-06  999.907876  1000.136002    -1.794488  1004  1004.0"
      ]
     },
     "execution_count": 66,
     "metadata": {},
     "output_type": "execute_result"
    }
   ],
   "source": [
    "# usig 'where' operation\n",
    "df2 = df.copy()\n",
    "df2[df2 >0 ] = df2 + 999\n",
    "df2"
   ]
  },
  {
   "cell_type": "markdown",
   "id": "bac24550-1438-458c-bdd7-40334b28b630",
   "metadata": {},
   "source": [
    "## missing data"
   ]
  },
  {
   "cell_type": "code",
   "execution_count": 76,
   "id": "7124e1ec-bcf7-4e4b-8496-27cc7ecc14b7",
   "metadata": {
    "tags": []
   },
   "outputs": [
    {
     "data": {
      "text/html": [
       "<div>\n",
       "<style scoped>\n",
       "    .dataframe tbody tr th:only-of-type {\n",
       "        vertical-align: middle;\n",
       "    }\n",
       "\n",
       "    .dataframe tbody tr th {\n",
       "        vertical-align: top;\n",
       "    }\n",
       "\n",
       "    .dataframe thead th {\n",
       "        text-align: right;\n",
       "    }\n",
       "</style>\n",
       "<table border=\"1\" class=\"dataframe\">\n",
       "  <thead>\n",
       "    <tr style=\"text-align: right;\">\n",
       "      <th></th>\n",
       "      <th>A</th>\n",
       "      <th>B</th>\n",
       "      <th>C</th>\n",
       "      <th>D</th>\n",
       "      <th>F</th>\n",
       "      <th>E</th>\n",
       "    </tr>\n",
       "  </thead>\n",
       "  <tbody>\n",
       "    <tr>\n",
       "      <th>2013-01-01</th>\n",
       "      <td>-0.107059</td>\n",
       "      <td>0.123826</td>\n",
       "      <td>1.494973</td>\n",
       "      <td>0</td>\n",
       "      <td>-1.0</td>\n",
       "      <td>1.0</td>\n",
       "    </tr>\n",
       "    <tr>\n",
       "      <th>2013-01-02</th>\n",
       "      <td>0.000000</td>\n",
       "      <td>11.000000</td>\n",
       "      <td>0.740508</td>\n",
       "      <td>1</td>\n",
       "      <td>1.0</td>\n",
       "      <td>NaN</td>\n",
       "    </tr>\n",
       "    <tr>\n",
       "      <th>2013-01-03</th>\n",
       "      <td>-0.917904</td>\n",
       "      <td>0.333546</td>\n",
       "      <td>0.345352</td>\n",
       "      <td>2</td>\n",
       "      <td>2.0</td>\n",
       "      <td>NaN</td>\n",
       "    </tr>\n",
       "    <tr>\n",
       "      <th>2013-01-04</th>\n",
       "      <td>0.028661</td>\n",
       "      <td>1.251974</td>\n",
       "      <td>-0.201867</td>\n",
       "      <td>3</td>\n",
       "      <td>3.0</td>\n",
       "      <td>NaN</td>\n",
       "    </tr>\n",
       "    <tr>\n",
       "      <th>2013-01-05</th>\n",
       "      <td>0.866957</td>\n",
       "      <td>1.534359</td>\n",
       "      <td>0.834069</td>\n",
       "      <td>4</td>\n",
       "      <td>4.0</td>\n",
       "      <td>NaN</td>\n",
       "    </tr>\n",
       "    <tr>\n",
       "      <th>2013-01-06</th>\n",
       "      <td>0.907876</td>\n",
       "      <td>1.136002</td>\n",
       "      <td>-1.794488</td>\n",
       "      <td>5</td>\n",
       "      <td>5.0</td>\n",
       "      <td>NaN</td>\n",
       "    </tr>\n",
       "  </tbody>\n",
       "</table>\n",
       "</div>"
      ],
      "text/plain": [
       "                   A          B         C  D    F    E\n",
       "2013-01-01 -0.107059   0.123826  1.494973  0 -1.0  1.0\n",
       "2013-01-02  0.000000  11.000000  0.740508  1  1.0  NaN\n",
       "2013-01-03 -0.917904   0.333546  0.345352  2  2.0  NaN\n",
       "2013-01-04  0.028661   1.251974 -0.201867  3  3.0  NaN\n",
       "2013-01-05  0.866957   1.534359  0.834069  4  4.0  NaN\n",
       "2013-01-06  0.907876   1.136002 -1.794488  5  5.0  NaN"
      ]
     },
     "execution_count": 76,
     "metadata": {},
     "output_type": "execute_result"
    }
   ],
   "source": [
    "## reindex (i.e taking parts of the dataframe, or adding columns , or raws)\n",
    "df1 = df.reindex(index=df.index, columns=list(df.columns) + ['E'])\n",
    "df1.iloc[0, [-2, -1]] = [-1, 1]\n",
    "df1"
   ]
  },
  {
   "cell_type": "code",
   "execution_count": 77,
   "id": "8a639c46-cfd8-4fbf-acc9-8ff32e2c2e29",
   "metadata": {
    "tags": []
   },
   "outputs": [
    {
     "data": {
      "text/html": [
       "<div>\n",
       "<style scoped>\n",
       "    .dataframe tbody tr th:only-of-type {\n",
       "        vertical-align: middle;\n",
       "    }\n",
       "\n",
       "    .dataframe tbody tr th {\n",
       "        vertical-align: top;\n",
       "    }\n",
       "\n",
       "    .dataframe thead th {\n",
       "        text-align: right;\n",
       "    }\n",
       "</style>\n",
       "<table border=\"1\" class=\"dataframe\">\n",
       "  <thead>\n",
       "    <tr style=\"text-align: right;\">\n",
       "      <th></th>\n",
       "      <th>A</th>\n",
       "      <th>B</th>\n",
       "      <th>C</th>\n",
       "      <th>D</th>\n",
       "      <th>F</th>\n",
       "      <th>E</th>\n",
       "    </tr>\n",
       "  </thead>\n",
       "  <tbody>\n",
       "    <tr>\n",
       "      <th>2013-01-01</th>\n",
       "      <td>-0.107059</td>\n",
       "      <td>0.123826</td>\n",
       "      <td>1.494973</td>\n",
       "      <td>0</td>\n",
       "      <td>-1.0</td>\n",
       "      <td>1.0</td>\n",
       "    </tr>\n",
       "  </tbody>\n",
       "</table>\n",
       "</div>"
      ],
      "text/plain": [
       "                   A         B         C  D    F    E\n",
       "2013-01-01 -0.107059  0.123826  1.494973  0 -1.0  1.0"
      ]
     },
     "execution_count": 77,
     "metadata": {},
     "output_type": "execute_result"
    }
   ],
   "source": [
    "# dropiing np.nan values\n",
    "df1.dropna(how='any') # droping any raw that have no data"
   ]
  },
  {
   "cell_type": "code",
   "execution_count": 78,
   "id": "23fe2eea-579b-4268-a1ca-9e7bcbdc2ba3",
   "metadata": {
    "tags": []
   },
   "outputs": [
    {
     "name": "stdout",
     "output_type": "stream",
     "text": [
      "                   A          B         C    D    F    E\n",
      "2013-01-01 -0.107059   0.123826  1.494973  0.0 -1.0  1.0\n",
      "2013-01-02  0.000000  11.000000  0.740508  1.0  1.0  NaN\n",
      "2013-01-03 -0.917904   0.333546  0.345352  2.0  2.0  NaN\n",
      "2013-01-04  0.028661   1.251974 -0.201867  3.0  3.0  NaN\n",
      "2013-01-05  0.866957   1.534359  0.834069  4.0  4.0  NaN\n",
      "2013-01-06       NaN        NaN       NaN  NaN  NaN  NaN\n"
     ]
    },
    {
     "data": {
      "text/html": [
       "<div>\n",
       "<style scoped>\n",
       "    .dataframe tbody tr th:only-of-type {\n",
       "        vertical-align: middle;\n",
       "    }\n",
       "\n",
       "    .dataframe tbody tr th {\n",
       "        vertical-align: top;\n",
       "    }\n",
       "\n",
       "    .dataframe thead th {\n",
       "        text-align: right;\n",
       "    }\n",
       "</style>\n",
       "<table border=\"1\" class=\"dataframe\">\n",
       "  <thead>\n",
       "    <tr style=\"text-align: right;\">\n",
       "      <th></th>\n",
       "      <th>A</th>\n",
       "      <th>B</th>\n",
       "      <th>C</th>\n",
       "      <th>D</th>\n",
       "      <th>F</th>\n",
       "      <th>E</th>\n",
       "    </tr>\n",
       "  </thead>\n",
       "  <tbody>\n",
       "    <tr>\n",
       "      <th>2013-01-01</th>\n",
       "      <td>-0.107059</td>\n",
       "      <td>0.123826</td>\n",
       "      <td>1.494973</td>\n",
       "      <td>0.0</td>\n",
       "      <td>-1.0</td>\n",
       "      <td>1.0</td>\n",
       "    </tr>\n",
       "    <tr>\n",
       "      <th>2013-01-02</th>\n",
       "      <td>0.000000</td>\n",
       "      <td>11.000000</td>\n",
       "      <td>0.740508</td>\n",
       "      <td>1.0</td>\n",
       "      <td>1.0</td>\n",
       "      <td>NaN</td>\n",
       "    </tr>\n",
       "    <tr>\n",
       "      <th>2013-01-03</th>\n",
       "      <td>-0.917904</td>\n",
       "      <td>0.333546</td>\n",
       "      <td>0.345352</td>\n",
       "      <td>2.0</td>\n",
       "      <td>2.0</td>\n",
       "      <td>NaN</td>\n",
       "    </tr>\n",
       "    <tr>\n",
       "      <th>2013-01-04</th>\n",
       "      <td>0.028661</td>\n",
       "      <td>1.251974</td>\n",
       "      <td>-0.201867</td>\n",
       "      <td>3.0</td>\n",
       "      <td>3.0</td>\n",
       "      <td>NaN</td>\n",
       "    </tr>\n",
       "    <tr>\n",
       "      <th>2013-01-05</th>\n",
       "      <td>0.866957</td>\n",
       "      <td>1.534359</td>\n",
       "      <td>0.834069</td>\n",
       "      <td>4.0</td>\n",
       "      <td>4.0</td>\n",
       "      <td>NaN</td>\n",
       "    </tr>\n",
       "  </tbody>\n",
       "</table>\n",
       "</div>"
      ],
      "text/plain": [
       "                   A          B         C    D    F    E\n",
       "2013-01-01 -0.107059   0.123826  1.494973  0.0 -1.0  1.0\n",
       "2013-01-02  0.000000  11.000000  0.740508  1.0  1.0  NaN\n",
       "2013-01-03 -0.917904   0.333546  0.345352  2.0  2.0  NaN\n",
       "2013-01-04  0.028661   1.251974 -0.201867  3.0  3.0  NaN\n",
       "2013-01-05  0.866957   1.534359  0.834069  4.0  4.0  NaN"
      ]
     },
     "execution_count": 78,
     "metadata": {},
     "output_type": "execute_result"
    }
   ],
   "source": [
    "# drping a whole raw that have all columns have nan value\n",
    "df1.iloc[-1, :] = np.nan\n",
    "print(df1)\n",
    "df1.dropna(how='all')"
   ]
  },
  {
   "cell_type": "code",
   "execution_count": 79,
   "id": "7542a9e5-0c20-432a-82ca-4d7eb59627d9",
   "metadata": {
    "tags": []
   },
   "outputs": [
    {
     "data": {
      "text/html": [
       "<div>\n",
       "<style scoped>\n",
       "    .dataframe tbody tr th:only-of-type {\n",
       "        vertical-align: middle;\n",
       "    }\n",
       "\n",
       "    .dataframe tbody tr th {\n",
       "        vertical-align: top;\n",
       "    }\n",
       "\n",
       "    .dataframe thead th {\n",
       "        text-align: right;\n",
       "    }\n",
       "</style>\n",
       "<table border=\"1\" class=\"dataframe\">\n",
       "  <thead>\n",
       "    <tr style=\"text-align: right;\">\n",
       "      <th></th>\n",
       "      <th>A</th>\n",
       "      <th>B</th>\n",
       "      <th>C</th>\n",
       "      <th>D</th>\n",
       "      <th>F</th>\n",
       "      <th>E</th>\n",
       "    </tr>\n",
       "  </thead>\n",
       "  <tbody>\n",
       "    <tr>\n",
       "      <th>2013-01-01</th>\n",
       "      <td>-0.107059</td>\n",
       "      <td>0.123826</td>\n",
       "      <td>1.494973</td>\n",
       "      <td>0.0</td>\n",
       "      <td>-1.0</td>\n",
       "      <td>1.0</td>\n",
       "    </tr>\n",
       "    <tr>\n",
       "      <th>2013-01-02</th>\n",
       "      <td>0.000000</td>\n",
       "      <td>11.000000</td>\n",
       "      <td>0.740508</td>\n",
       "      <td>1.0</td>\n",
       "      <td>1.0</td>\n",
       "      <td>99.0</td>\n",
       "    </tr>\n",
       "    <tr>\n",
       "      <th>2013-01-03</th>\n",
       "      <td>-0.917904</td>\n",
       "      <td>0.333546</td>\n",
       "      <td>0.345352</td>\n",
       "      <td>2.0</td>\n",
       "      <td>2.0</td>\n",
       "      <td>99.0</td>\n",
       "    </tr>\n",
       "    <tr>\n",
       "      <th>2013-01-04</th>\n",
       "      <td>0.028661</td>\n",
       "      <td>1.251974</td>\n",
       "      <td>-0.201867</td>\n",
       "      <td>3.0</td>\n",
       "      <td>3.0</td>\n",
       "      <td>99.0</td>\n",
       "    </tr>\n",
       "    <tr>\n",
       "      <th>2013-01-05</th>\n",
       "      <td>0.866957</td>\n",
       "      <td>1.534359</td>\n",
       "      <td>0.834069</td>\n",
       "      <td>4.0</td>\n",
       "      <td>4.0</td>\n",
       "      <td>99.0</td>\n",
       "    </tr>\n",
       "    <tr>\n",
       "      <th>2013-01-06</th>\n",
       "      <td>99.000000</td>\n",
       "      <td>99.000000</td>\n",
       "      <td>99.000000</td>\n",
       "      <td>99.0</td>\n",
       "      <td>99.0</td>\n",
       "      <td>99.0</td>\n",
       "    </tr>\n",
       "  </tbody>\n",
       "</table>\n",
       "</div>"
      ],
      "text/plain": [
       "                    A          B          C     D     F     E\n",
       "2013-01-01  -0.107059   0.123826   1.494973   0.0  -1.0   1.0\n",
       "2013-01-02   0.000000  11.000000   0.740508   1.0   1.0  99.0\n",
       "2013-01-03  -0.917904   0.333546   0.345352   2.0   2.0  99.0\n",
       "2013-01-04   0.028661   1.251974  -0.201867   3.0   3.0  99.0\n",
       "2013-01-05   0.866957   1.534359   0.834069   4.0   4.0  99.0\n",
       "2013-01-06  99.000000  99.000000  99.000000  99.0  99.0  99.0"
      ]
     },
     "execution_count": 79,
     "metadata": {},
     "output_type": "execute_result"
    }
   ],
   "source": [
    "# filling NaN\n",
    "df1.fillna(value=99)"
   ]
  },
  {
   "cell_type": "code",
   "execution_count": 80,
   "id": "01c0e90c-23c8-4f4d-b89a-2501118d21e7",
   "metadata": {
    "tags": []
   },
   "outputs": [
    {
     "data": {
      "text/html": [
       "<div>\n",
       "<style scoped>\n",
       "    .dataframe tbody tr th:only-of-type {\n",
       "        vertical-align: middle;\n",
       "    }\n",
       "\n",
       "    .dataframe tbody tr th {\n",
       "        vertical-align: top;\n",
       "    }\n",
       "\n",
       "    .dataframe thead th {\n",
       "        text-align: right;\n",
       "    }\n",
       "</style>\n",
       "<table border=\"1\" class=\"dataframe\">\n",
       "  <thead>\n",
       "    <tr style=\"text-align: right;\">\n",
       "      <th></th>\n",
       "      <th>A</th>\n",
       "      <th>B</th>\n",
       "      <th>C</th>\n",
       "      <th>D</th>\n",
       "      <th>F</th>\n",
       "      <th>E</th>\n",
       "    </tr>\n",
       "  </thead>\n",
       "  <tbody>\n",
       "    <tr>\n",
       "      <th>2013-01-01</th>\n",
       "      <td>False</td>\n",
       "      <td>False</td>\n",
       "      <td>False</td>\n",
       "      <td>False</td>\n",
       "      <td>False</td>\n",
       "      <td>False</td>\n",
       "    </tr>\n",
       "    <tr>\n",
       "      <th>2013-01-02</th>\n",
       "      <td>False</td>\n",
       "      <td>False</td>\n",
       "      <td>False</td>\n",
       "      <td>False</td>\n",
       "      <td>False</td>\n",
       "      <td>True</td>\n",
       "    </tr>\n",
       "    <tr>\n",
       "      <th>2013-01-03</th>\n",
       "      <td>False</td>\n",
       "      <td>False</td>\n",
       "      <td>False</td>\n",
       "      <td>False</td>\n",
       "      <td>False</td>\n",
       "      <td>True</td>\n",
       "    </tr>\n",
       "    <tr>\n",
       "      <th>2013-01-04</th>\n",
       "      <td>False</td>\n",
       "      <td>False</td>\n",
       "      <td>False</td>\n",
       "      <td>False</td>\n",
       "      <td>False</td>\n",
       "      <td>True</td>\n",
       "    </tr>\n",
       "    <tr>\n",
       "      <th>2013-01-05</th>\n",
       "      <td>False</td>\n",
       "      <td>False</td>\n",
       "      <td>False</td>\n",
       "      <td>False</td>\n",
       "      <td>False</td>\n",
       "      <td>True</td>\n",
       "    </tr>\n",
       "    <tr>\n",
       "      <th>2013-01-06</th>\n",
       "      <td>True</td>\n",
       "      <td>True</td>\n",
       "      <td>True</td>\n",
       "      <td>True</td>\n",
       "      <td>True</td>\n",
       "      <td>True</td>\n",
       "    </tr>\n",
       "  </tbody>\n",
       "</table>\n",
       "</div>"
      ],
      "text/plain": [
       "                A      B      C      D      F      E\n",
       "2013-01-01  False  False  False  False  False  False\n",
       "2013-01-02  False  False  False  False  False   True\n",
       "2013-01-03  False  False  False  False  False   True\n",
       "2013-01-04  False  False  False  False  False   True\n",
       "2013-01-05  False  False  False  False  False   True\n",
       "2013-01-06   True   True   True   True   True   True"
      ]
     },
     "execution_count": 80,
     "metadata": {},
     "output_type": "execute_result"
    }
   ],
   "source": [
    "# isna\n",
    "df1.isna()"
   ]
  },
  {
   "cell_type": "code",
   "execution_count": 81,
   "id": "ce7236a4-029d-407e-b039-9e063e740c1f",
   "metadata": {
    "tags": []
   },
   "outputs": [
    {
     "data": {
      "text/html": [
       "<div>\n",
       "<style scoped>\n",
       "    .dataframe tbody tr th:only-of-type {\n",
       "        vertical-align: middle;\n",
       "    }\n",
       "\n",
       "    .dataframe tbody tr th {\n",
       "        vertical-align: top;\n",
       "    }\n",
       "\n",
       "    .dataframe thead th {\n",
       "        text-align: right;\n",
       "    }\n",
       "</style>\n",
       "<table border=\"1\" class=\"dataframe\">\n",
       "  <thead>\n",
       "    <tr style=\"text-align: right;\">\n",
       "      <th></th>\n",
       "      <th>A</th>\n",
       "      <th>B</th>\n",
       "      <th>C</th>\n",
       "      <th>D</th>\n",
       "      <th>F</th>\n",
       "      <th>E</th>\n",
       "    </tr>\n",
       "  </thead>\n",
       "  <tbody>\n",
       "    <tr>\n",
       "      <th>2013-01-01</th>\n",
       "      <td>-0.107059</td>\n",
       "      <td>0.123826</td>\n",
       "      <td>1.494973</td>\n",
       "      <td>0.0</td>\n",
       "      <td>-1.0</td>\n",
       "      <td>1.0</td>\n",
       "    </tr>\n",
       "    <tr>\n",
       "      <th>2013-01-02</th>\n",
       "      <td>0.000000</td>\n",
       "      <td>11.000000</td>\n",
       "      <td>0.740508</td>\n",
       "      <td>1.0</td>\n",
       "      <td>1.0</td>\n",
       "      <td>99.0</td>\n",
       "    </tr>\n",
       "    <tr>\n",
       "      <th>2013-01-03</th>\n",
       "      <td>-0.917904</td>\n",
       "      <td>0.333546</td>\n",
       "      <td>0.345352</td>\n",
       "      <td>2.0</td>\n",
       "      <td>2.0</td>\n",
       "      <td>99.0</td>\n",
       "    </tr>\n",
       "    <tr>\n",
       "      <th>2013-01-04</th>\n",
       "      <td>0.028661</td>\n",
       "      <td>1.251974</td>\n",
       "      <td>-0.201867</td>\n",
       "      <td>3.0</td>\n",
       "      <td>3.0</td>\n",
       "      <td>99.0</td>\n",
       "    </tr>\n",
       "    <tr>\n",
       "      <th>2013-01-05</th>\n",
       "      <td>0.866957</td>\n",
       "      <td>1.534359</td>\n",
       "      <td>0.834069</td>\n",
       "      <td>4.0</td>\n",
       "      <td>4.0</td>\n",
       "      <td>99.0</td>\n",
       "    </tr>\n",
       "    <tr>\n",
       "      <th>2013-01-06</th>\n",
       "      <td>99.000000</td>\n",
       "      <td>99.000000</td>\n",
       "      <td>99.000000</td>\n",
       "      <td>99.0</td>\n",
       "      <td>99.0</td>\n",
       "      <td>99.0</td>\n",
       "    </tr>\n",
       "  </tbody>\n",
       "</table>\n",
       "</div>"
      ],
      "text/plain": [
       "                    A          B          C     D     F     E\n",
       "2013-01-01  -0.107059   0.123826   1.494973   0.0  -1.0   1.0\n",
       "2013-01-02   0.000000  11.000000   0.740508   1.0   1.0  99.0\n",
       "2013-01-03  -0.917904   0.333546   0.345352   2.0   2.0  99.0\n",
       "2013-01-04   0.028661   1.251974  -0.201867   3.0   3.0  99.0\n",
       "2013-01-05   0.866957   1.534359   0.834069   4.0   4.0  99.0\n",
       "2013-01-06  99.000000  99.000000  99.000000  99.0  99.0  99.0"
      ]
     },
     "execution_count": 81,
     "metadata": {},
     "output_type": "execute_result"
    }
   ],
   "source": [
    "df1[df1.isna()] = 99\n",
    "df1"
   ]
  },
  {
   "cell_type": "markdown",
   "id": "199e735f-9cea-4b98-ad4e-a13cb2f3df7c",
   "metadata": {},
   "source": [
    "## Operations"
   ]
  },
  {
   "cell_type": "markdown",
   "id": "decda876-338c-4fb7-a6df-c1229dc87387",
   "metadata": {},
   "source": [
    "### opearation can be done in two ways:\n",
    "### `df + x`\n",
    "* + can be +, -, \\ ,* .....\n",
    "* x can be:\n",
    "    * df\n",
    "    * a series or 1D-array or 1D-list (having same lenth as the columns)\n",
    "### using the name of the opeation: `DataFrame.add(x, axis=)\n",
    "* the axis: raw:0, columns:1"
   ]
  },
  {
   "cell_type": "code",
   "execution_count": 116,
   "id": "ee3554f4-abfc-4da5-994b-d3a081a1e64a",
   "metadata": {
    "tags": []
   },
   "outputs": [
    {
     "name": "stdout",
     "output_type": "stream",
     "text": [
      "A    0.129755\n",
      "B    2.563284\n",
      "C    0.236424\n",
      "D    2.500000\n",
      "F    3.000000\n",
      "dtype: float64\n",
      "A    0.129755\n",
      "B    2.563284\n",
      "C    0.236424\n",
      "D    2.500000\n",
      "F    3.000000\n",
      "Name: mean, dtype: float64\n"
     ]
    },
    {
     "data": {
      "text/plain": [
       "2013-01-01    0.377935\n",
       "2013-01-02    2.748102\n",
       "2013-01-03    0.752199\n",
       "2013-01-04    1.415754\n",
       "2013-01-05    2.247077\n",
       "2013-01-06    2.049878\n",
       "Freq: D, dtype: float64"
      ]
     },
     "execution_count": 116,
     "metadata": {},
     "output_type": "execute_result"
    }
   ],
   "source": [
    "# Statistcs: mean, std, count, ...\n",
    "print(df.mean(axis=0)) # axis=0 accross columns, axis=1 accross raws\n",
    "print(df.describe().loc['mean', :])\n",
    "\n",
    "# but we can not get the mean for raws\n",
    "df.mean(axis=1)"
   ]
  },
  {
   "cell_type": "code",
   "execution_count": 117,
   "id": "e41f74cc-0c5a-457e-b1fc-30c83bbb2d6b",
   "metadata": {
    "tags": []
   },
   "outputs": [
    {
     "data": {
      "text/plain": [
       "A    0.129755\n",
       "B    2.563284\n",
       "C    0.236424\n",
       "D    2.500000\n",
       "F    3.000000\n",
       "Name: mean, dtype: float64"
      ]
     },
     "execution_count": 117,
     "metadata": {},
     "output_type": "execute_result"
    }
   ],
   "source": [
    "df.describe().loc['mean',:]"
   ]
  },
  {
   "cell_type": "code",
   "execution_count": 118,
   "id": "8d5c4525-0577-4207-8cab-4772d5d203f6",
   "metadata": {
    "tags": []
   },
   "outputs": [
    {
     "name": "stdout",
     "output_type": "stream",
     "text": [
      "2013-01-01    1.0\n",
      "2013-01-02    3.0\n",
      "2013-01-03    5.0\n",
      "2013-01-04    NaN\n",
      "2013-01-05    8.0\n",
      "2013-01-06    8.0\n",
      "Freq: D, dtype: float64\n",
      "\n",
      "2013-01-01    NaN\n",
      "2013-01-02    NaN\n",
      "2013-01-03    1.0\n",
      "2013-01-04    3.0\n",
      "2013-01-05    5.0\n",
      "2013-01-06    NaN\n",
      "Freq: D, dtype: float64\n"
     ]
    },
    {
     "data": {
      "text/html": [
       "<div>\n",
       "<style scoped>\n",
       "    .dataframe tbody tr th:only-of-type {\n",
       "        vertical-align: middle;\n",
       "    }\n",
       "\n",
       "    .dataframe tbody tr th {\n",
       "        vertical-align: top;\n",
       "    }\n",
       "\n",
       "    .dataframe thead th {\n",
       "        text-align: right;\n",
       "    }\n",
       "</style>\n",
       "<table border=\"1\" class=\"dataframe\">\n",
       "  <thead>\n",
       "    <tr style=\"text-align: right;\">\n",
       "      <th></th>\n",
       "      <th>A</th>\n",
       "      <th>B</th>\n",
       "      <th>C</th>\n",
       "      <th>D</th>\n",
       "      <th>F</th>\n",
       "    </tr>\n",
       "  </thead>\n",
       "  <tbody>\n",
       "    <tr>\n",
       "      <th>2013-01-01</th>\n",
       "      <td>NaN</td>\n",
       "      <td>NaN</td>\n",
       "      <td>NaN</td>\n",
       "      <td>NaN</td>\n",
       "      <td>NaN</td>\n",
       "    </tr>\n",
       "    <tr>\n",
       "      <th>2013-01-02</th>\n",
       "      <td>NaN</td>\n",
       "      <td>NaN</td>\n",
       "      <td>NaN</td>\n",
       "      <td>NaN</td>\n",
       "      <td>NaN</td>\n",
       "    </tr>\n",
       "    <tr>\n",
       "      <th>2013-01-03</th>\n",
       "      <td>-1.917904</td>\n",
       "      <td>-0.666454</td>\n",
       "      <td>-0.654648</td>\n",
       "      <td>1.0</td>\n",
       "      <td>1.0</td>\n",
       "    </tr>\n",
       "    <tr>\n",
       "      <th>2013-01-04</th>\n",
       "      <td>-2.971339</td>\n",
       "      <td>-1.748026</td>\n",
       "      <td>-3.201867</td>\n",
       "      <td>0.0</td>\n",
       "      <td>0.0</td>\n",
       "    </tr>\n",
       "    <tr>\n",
       "      <th>2013-01-05</th>\n",
       "      <td>-4.133043</td>\n",
       "      <td>-3.465641</td>\n",
       "      <td>-4.165931</td>\n",
       "      <td>-1.0</td>\n",
       "      <td>-1.0</td>\n",
       "    </tr>\n",
       "    <tr>\n",
       "      <th>2013-01-06</th>\n",
       "      <td>NaN</td>\n",
       "      <td>NaN</td>\n",
       "      <td>NaN</td>\n",
       "      <td>NaN</td>\n",
       "      <td>NaN</td>\n",
       "    </tr>\n",
       "  </tbody>\n",
       "</table>\n",
       "</div>"
      ],
      "text/plain": [
       "                   A         B         C    D    F\n",
       "2013-01-01       NaN       NaN       NaN  NaN  NaN\n",
       "2013-01-02       NaN       NaN       NaN  NaN  NaN\n",
       "2013-01-03 -1.917904 -0.666454 -0.654648  1.0  1.0\n",
       "2013-01-04 -2.971339 -1.748026 -3.201867  0.0  0.0\n",
       "2013-01-05 -4.133043 -3.465641 -4.165931 -1.0 -1.0\n",
       "2013-01-06       NaN       NaN       NaN  NaN  NaN"
      ]
     },
     "execution_count": 118,
     "metadata": {},
     "output_type": "execute_result"
    }
   ],
   "source": [
    "s = pd.Series([1, 3, 5, np.nan, 8, 8], index=df.index)\n",
    "print(s)\n",
    "s = s.shift(2)\n",
    "print(f'\\n{s}')\n",
    "\n",
    "\n",
    "# subtracting s form each column\n",
    "df.sub(s, axis='index') # axis: index: 0, columns: 1"
   ]
  },
  {
   "cell_type": "code",
   "execution_count": 119,
   "id": "b95ba5df-0ff3-4a58-a613-9cc26f315c17",
   "metadata": {
    "tags": []
   },
   "outputs": [
    {
     "name": "stdout",
     "output_type": "stream",
     "text": [
      "                   A          B         C  D    F\n",
      "2013-01-01 -0.107059  -0.876174 -0.505027 -3  NaN\n",
      "2013-01-02  0.000000  10.000000 -1.259492 -2 -3.0\n",
      "2013-01-03 -0.917904  -0.666454 -1.654648 -1 -2.0\n",
      "2013-01-04  0.028661   0.251974 -2.201867  0 -1.0\n",
      "2013-01-05  0.866957   0.534359 -1.165931  1  0.0\n",
      "2013-01-06  0.907876   0.136002 -3.794488  2  1.0\n"
     ]
    },
    {
     "data": {
      "text/html": [
       "<div>\n",
       "<style scoped>\n",
       "    .dataframe tbody tr th:only-of-type {\n",
       "        vertical-align: middle;\n",
       "    }\n",
       "\n",
       "    .dataframe tbody tr th {\n",
       "        vertical-align: top;\n",
       "    }\n",
       "\n",
       "    .dataframe thead th {\n",
       "        text-align: right;\n",
       "    }\n",
       "</style>\n",
       "<table border=\"1\" class=\"dataframe\">\n",
       "  <thead>\n",
       "    <tr style=\"text-align: right;\">\n",
       "      <th></th>\n",
       "      <th>A</th>\n",
       "      <th>B</th>\n",
       "      <th>C</th>\n",
       "      <th>D</th>\n",
       "      <th>F</th>\n",
       "    </tr>\n",
       "  </thead>\n",
       "  <tbody>\n",
       "    <tr>\n",
       "      <th>2013-01-01</th>\n",
       "      <td>True</td>\n",
       "      <td>True</td>\n",
       "      <td>True</td>\n",
       "      <td>True</td>\n",
       "      <td>False</td>\n",
       "    </tr>\n",
       "    <tr>\n",
       "      <th>2013-01-02</th>\n",
       "      <td>True</td>\n",
       "      <td>True</td>\n",
       "      <td>True</td>\n",
       "      <td>True</td>\n",
       "      <td>True</td>\n",
       "    </tr>\n",
       "    <tr>\n",
       "      <th>2013-01-03</th>\n",
       "      <td>True</td>\n",
       "      <td>True</td>\n",
       "      <td>True</td>\n",
       "      <td>True</td>\n",
       "      <td>True</td>\n",
       "    </tr>\n",
       "    <tr>\n",
       "      <th>2013-01-04</th>\n",
       "      <td>True</td>\n",
       "      <td>True</td>\n",
       "      <td>True</td>\n",
       "      <td>True</td>\n",
       "      <td>True</td>\n",
       "    </tr>\n",
       "    <tr>\n",
       "      <th>2013-01-05</th>\n",
       "      <td>True</td>\n",
       "      <td>True</td>\n",
       "      <td>True</td>\n",
       "      <td>True</td>\n",
       "      <td>True</td>\n",
       "    </tr>\n",
       "    <tr>\n",
       "      <th>2013-01-06</th>\n",
       "      <td>True</td>\n",
       "      <td>True</td>\n",
       "      <td>True</td>\n",
       "      <td>True</td>\n",
       "      <td>True</td>\n",
       "    </tr>\n",
       "  </tbody>\n",
       "</table>\n",
       "</div>"
      ],
      "text/plain": [
       "               A     B     C     D      F\n",
       "2013-01-01  True  True  True  True  False\n",
       "2013-01-02  True  True  True  True   True\n",
       "2013-01-03  True  True  True  True   True\n",
       "2013-01-04  True  True  True  True   True\n",
       "2013-01-05  True  True  True  True   True\n",
       "2013-01-06  True  True  True  True   True"
      ]
     },
     "execution_count": 119,
     "metadata": {},
     "output_type": "execute_result"
    }
   ],
   "source": [
    "# applying operating in diffrent way:\n",
    "sub = df - np.arange(df.shape[1])\n",
    "print(sub)\n",
    "# broad casting\n",
    "sub2 = df.sub(np.arange(df.shape[1]), axis=1)\n",
    "sub2 == sub"
   ]
  },
  {
   "cell_type": "code",
   "execution_count": 120,
   "id": "0f15fd69-87bb-426e-99c1-1bd3790134bc",
   "metadata": {
    "tags": []
   },
   "outputs": [
    {
     "data": {
      "text/html": [
       "<div>\n",
       "<style scoped>\n",
       "    .dataframe tbody tr th:only-of-type {\n",
       "        vertical-align: middle;\n",
       "    }\n",
       "\n",
       "    .dataframe tbody tr th {\n",
       "        vertical-align: top;\n",
       "    }\n",
       "\n",
       "    .dataframe thead th {\n",
       "        text-align: right;\n",
       "    }\n",
       "</style>\n",
       "<table border=\"1\" class=\"dataframe\">\n",
       "  <thead>\n",
       "    <tr style=\"text-align: right;\">\n",
       "      <th></th>\n",
       "      <th>A</th>\n",
       "      <th>B</th>\n",
       "      <th>C</th>\n",
       "      <th>D</th>\n",
       "      <th>F</th>\n",
       "    </tr>\n",
       "  </thead>\n",
       "  <tbody>\n",
       "    <tr>\n",
       "      <th>2013-01-01</th>\n",
       "      <td>0.0</td>\n",
       "      <td>0.0</td>\n",
       "      <td>0.0</td>\n",
       "      <td>0</td>\n",
       "      <td>NaN</td>\n",
       "    </tr>\n",
       "    <tr>\n",
       "      <th>2013-01-02</th>\n",
       "      <td>0.0</td>\n",
       "      <td>0.0</td>\n",
       "      <td>0.0</td>\n",
       "      <td>0</td>\n",
       "      <td>0.0</td>\n",
       "    </tr>\n",
       "    <tr>\n",
       "      <th>2013-01-03</th>\n",
       "      <td>0.0</td>\n",
       "      <td>0.0</td>\n",
       "      <td>0.0</td>\n",
       "      <td>0</td>\n",
       "      <td>0.0</td>\n",
       "    </tr>\n",
       "    <tr>\n",
       "      <th>2013-01-04</th>\n",
       "      <td>0.0</td>\n",
       "      <td>0.0</td>\n",
       "      <td>0.0</td>\n",
       "      <td>0</td>\n",
       "      <td>0.0</td>\n",
       "    </tr>\n",
       "    <tr>\n",
       "      <th>2013-01-05</th>\n",
       "      <td>0.0</td>\n",
       "      <td>0.0</td>\n",
       "      <td>0.0</td>\n",
       "      <td>0</td>\n",
       "      <td>0.0</td>\n",
       "    </tr>\n",
       "    <tr>\n",
       "      <th>2013-01-06</th>\n",
       "      <td>0.0</td>\n",
       "      <td>0.0</td>\n",
       "      <td>0.0</td>\n",
       "      <td>0</td>\n",
       "      <td>0.0</td>\n",
       "    </tr>\n",
       "  </tbody>\n",
       "</table>\n",
       "</div>"
      ],
      "text/plain": [
       "              A    B    C  D    F\n",
       "2013-01-01  0.0  0.0  0.0  0  NaN\n",
       "2013-01-02  0.0  0.0  0.0  0  0.0\n",
       "2013-01-03  0.0  0.0  0.0  0  0.0\n",
       "2013-01-04  0.0  0.0  0.0  0  0.0\n",
       "2013-01-05  0.0  0.0  0.0  0  0.0\n",
       "2013-01-06  0.0  0.0  0.0  0  0.0"
      ]
     },
     "execution_count": 120,
     "metadata": {},
     "output_type": "execute_result"
    }
   ],
   "source": [
    "# data frame\n",
    "df2 = df.copy()\n",
    "df - df2"
   ]
  },
  {
   "cell_type": "markdown",
   "id": "a2b921b9-879f-49d0-9b5c-775f9c74bb9c",
   "metadata": {
    "tags": []
   },
   "source": [
    "## Apply `DataFrame.apply(func, axis=0, raw=False, result_type=None, args=(), **kwargs)` [link](https://pandas.pydata.org/pandas-docs/stable/reference/api/pandas.DataFrame.apply.html)\n",
    "* args: tuple input to the func\n"
   ]
  },
  {
   "cell_type": "code",
   "execution_count": 123,
   "id": "64f1dd99-6424-483b-a5f6-cea736ace548",
   "metadata": {
    "tags": []
   },
   "outputs": [
    {
     "data": {
      "text/plain": [
       "A     1.825780\n",
       "B    10.876174\n",
       "C     3.289461\n",
       "D     5.000000\n",
       "F     4.000000\n",
       "dtype: float64"
      ]
     },
     "execution_count": 123,
     "metadata": {},
     "output_type": "execute_result"
    }
   ],
   "source": [
    "df.apply(lambda x: x.max() - x.min(), axis=0)"
   ]
  },
  {
   "cell_type": "code",
   "execution_count": 124,
   "id": "aad6bcd3-b87d-4ee3-8f97-be8df5be76fb",
   "metadata": {
    "tags": []
   },
   "outputs": [
    {
     "data": {
      "text/plain": [
       "2013-01-01     1.602032\n",
       "2013-01-02    11.000000\n",
       "2013-01-03     2.917904\n",
       "2013-01-04     3.201867\n",
       "2013-01-05     3.165931\n",
       "2013-01-06     6.794488\n",
       "Freq: D, dtype: float64"
      ]
     },
     "execution_count": 124,
     "metadata": {},
     "output_type": "execute_result"
    }
   ],
   "source": [
    "df.apply(lambda x: x.max() - x.min(), axis=1)"
   ]
  },
  {
   "cell_type": "code",
   "execution_count": 125,
   "id": "9677441b-b717-49ed-bf94-a326d41a03ec",
   "metadata": {
    "tags": []
   },
   "outputs": [
    {
     "name": "stdout",
     "output_type": "stream",
     "text": [
      "                   A          B         C  D    F\n",
      "2013-01-01 -0.107059   0.123826  1.494973  0  NaN\n",
      "2013-01-02  0.000000  11.000000  0.740508  1  1.0\n",
      "2013-01-03 -0.917904   0.333546  0.345352  2  2.0\n",
      "2013-01-04  0.028661   1.251974 -0.201867  3  3.0\n",
      "2013-01-05  0.866957   1.534359  0.834069  4  4.0\n",
      "2013-01-06  0.907876   1.136002 -1.794488  5  5.0\n"
     ]
    },
    {
     "data": {
      "text/html": [
       "<div>\n",
       "<style scoped>\n",
       "    .dataframe tbody tr th:only-of-type {\n",
       "        vertical-align: middle;\n",
       "    }\n",
       "\n",
       "    .dataframe tbody tr th {\n",
       "        vertical-align: top;\n",
       "    }\n",
       "\n",
       "    .dataframe thead th {\n",
       "        text-align: right;\n",
       "    }\n",
       "</style>\n",
       "<table border=\"1\" class=\"dataframe\">\n",
       "  <thead>\n",
       "    <tr style=\"text-align: right;\">\n",
       "      <th></th>\n",
       "      <th>A</th>\n",
       "      <th>B</th>\n",
       "      <th>C</th>\n",
       "      <th>D</th>\n",
       "      <th>F</th>\n",
       "    </tr>\n",
       "  </thead>\n",
       "  <tbody>\n",
       "    <tr>\n",
       "      <th>2013-01-01</th>\n",
       "      <td>NaN</td>\n",
       "      <td>0.351889</td>\n",
       "      <td>1.222691</td>\n",
       "      <td>0.000000</td>\n",
       "      <td>NaN</td>\n",
       "    </tr>\n",
       "    <tr>\n",
       "      <th>2013-01-02</th>\n",
       "      <td>0.000000</td>\n",
       "      <td>3.316625</td>\n",
       "      <td>0.860528</td>\n",
       "      <td>1.000000</td>\n",
       "      <td>1.000000</td>\n",
       "    </tr>\n",
       "    <tr>\n",
       "      <th>2013-01-03</th>\n",
       "      <td>NaN</td>\n",
       "      <td>0.577534</td>\n",
       "      <td>0.587666</td>\n",
       "      <td>1.414214</td>\n",
       "      <td>1.414214</td>\n",
       "    </tr>\n",
       "    <tr>\n",
       "      <th>2013-01-04</th>\n",
       "      <td>0.169296</td>\n",
       "      <td>1.118917</td>\n",
       "      <td>NaN</td>\n",
       "      <td>1.732051</td>\n",
       "      <td>1.732051</td>\n",
       "    </tr>\n",
       "    <tr>\n",
       "      <th>2013-01-05</th>\n",
       "      <td>0.931106</td>\n",
       "      <td>1.238692</td>\n",
       "      <td>0.913274</td>\n",
       "      <td>2.000000</td>\n",
       "      <td>2.000000</td>\n",
       "    </tr>\n",
       "    <tr>\n",
       "      <th>2013-01-06</th>\n",
       "      <td>0.952825</td>\n",
       "      <td>1.065834</td>\n",
       "      <td>NaN</td>\n",
       "      <td>2.236068</td>\n",
       "      <td>2.236068</td>\n",
       "    </tr>\n",
       "  </tbody>\n",
       "</table>\n",
       "</div>"
      ],
      "text/plain": [
       "                   A         B         C         D         F\n",
       "2013-01-01       NaN  0.351889  1.222691  0.000000       NaN\n",
       "2013-01-02  0.000000  3.316625  0.860528  1.000000  1.000000\n",
       "2013-01-03       NaN  0.577534  0.587666  1.414214  1.414214\n",
       "2013-01-04  0.169296  1.118917       NaN  1.732051  1.732051\n",
       "2013-01-05  0.931106  1.238692  0.913274  2.000000  2.000000\n",
       "2013-01-06  0.952825  1.065834       NaN  2.236068  2.236068"
      ]
     },
     "execution_count": 125,
     "metadata": {},
     "output_type": "execute_result"
    }
   ],
   "source": [
    "print(df)\n",
    "df.apply(np.sqrt)"
   ]
  },
  {
   "cell_type": "code",
   "execution_count": 126,
   "id": "72621062-75bf-4484-8217-25622048d290",
   "metadata": {
    "tags": []
   },
   "outputs": [
    {
     "data": {
      "text/plain": [
       "A     0.778532\n",
       "B    15.379707\n",
       "C     1.418546\n",
       "D    15.000000\n",
       "F    15.000000\n",
       "dtype: float64"
      ]
     },
     "execution_count": 126,
     "metadata": {},
     "output_type": "execute_result"
    }
   ],
   "source": [
    "df.apply(np.sum, axis=0)"
   ]
  },
  {
   "cell_type": "code",
   "execution_count": 142,
   "id": "0d6a7949-bc37-4dcb-aac6-abebf5a369c5",
   "metadata": {
    "tags": []
   },
   "outputs": [
    {
     "data": {
      "text/plain": [
       "A    0.018258\n",
       "B    0.108762\n",
       "C    0.032895\n",
       "D    0.050000\n",
       "F    0.040000\n",
       "dtype: float64"
      ]
     },
     "execution_count": 142,
     "metadata": {},
     "output_type": "execute_result"
    }
   ],
   "source": [
    "def apply_func(raw, norm=1):\n",
    "    return (raw.max() - raw.min())/norm\n",
    "\n",
    "df.apply(func=apply_func, args=(100,), axis=0)"
   ]
  },
  {
   "cell_type": "markdown",
   "id": "5eaf3f23-9c15-49ed-8c6e-a507de679886",
   "metadata": {
    "tags": []
   },
   "source": [
    "### histogram `Datagrame/Series.values_count()`"
   ]
  },
  {
   "cell_type": "code",
   "execution_count": 144,
   "id": "ea1021a2-b1a8-437b-93c6-e84a3402574f",
   "metadata": {
    "tags": []
   },
   "outputs": [
    {
     "name": "stdout",
     "output_type": "stream",
     "text": [
      "0    2\n",
      "1    5\n",
      "2    4\n",
      "3    0\n",
      "4    0\n",
      "5    2\n",
      "6    0\n",
      "7    5\n",
      "8    1\n",
      "9    2\n",
      "dtype: int64\n"
     ]
    },
    {
     "data": {
      "text/plain": [
       "2    3\n",
       "0    3\n",
       "5    2\n",
       "4    1\n",
       "1    1\n",
       "dtype: int64"
      ]
     },
     "execution_count": 144,
     "metadata": {},
     "output_type": "execute_result"
    }
   ],
   "source": [
    "s = pd.Series(np.random.randint(0, 7, size=10))\n",
    "print(s)\n",
    "s.value_counts()"
   ]
  },
  {
   "cell_type": "markdown",
   "id": "2dc64d4c-291f-46fb-b5a9-2d7a28553ecf",
   "metadata": {},
   "source": [
    "## Strings [link](https://pandas.pydata.org/docs/user_guide/text.html#text-string-methods)\n",
    "All the string methos is under `Dataframe/Series.str.opeation`"
   ]
  },
  {
   "cell_type": "code",
   "execution_count": 145,
   "id": "e720d1d7-ecf8-47ed-8d61-54b36db8c3b0",
   "metadata": {
    "tags": []
   },
   "outputs": [
    {
     "data": {
      "text/plain": [
       "0       a\n",
       "1       b\n",
       "2       c\n",
       "3    aaba\n",
       "4    baca\n",
       "5     NaN\n",
       "6    caba\n",
       "7     dog\n",
       "8     cat\n",
       "dtype: object"
      ]
     },
     "execution_count": 145,
     "metadata": {},
     "output_type": "execute_result"
    }
   ],
   "source": [
    "s = pd.Series([\"A\", \"B\", \"C\", \"Aaba\", \"Baca\", np.nan, \"CABA\", \"dog\", \"cat\"])\n",
    "s.str.lower()\n"
   ]
  },
  {
   "cell_type": "markdown",
   "id": "d81f749b-5bff-427a-8be7-52353741b1ac",
   "metadata": {
    "tags": []
   },
   "source": [
    "## Merging"
   ]
  },
  {
   "cell_type": "markdown",
   "id": "b637e053-2313-4d0b-81a1-56194249b8f8",
   "metadata": {},
   "source": [
    "### `pandas.concat(objs, *, axis=0, join='outer', ignore_index=False, keys=None, levels=None, names=None, verify_integrity=False, sort=False, copy=True)`[link](https://pandas.pydata.org/pandas-docs/stable/reference/api/pandas.concat.html?highlight=concate)\n",
    "\n",
    "Adding columns to Dataframe is fast,but adding raws it typically slow so they recommnet donig this outsied pandas"
   ]
  },
  {
   "cell_type": "code",
   "execution_count": 158,
   "id": "f7b86e37-ebb8-444c-b98e-17460c340118",
   "metadata": {
    "tags": []
   },
   "outputs": [
    {
     "name": "stdout",
     "output_type": "stream",
     "text": [
      "          a         b         c         d\n",
      "0 -0.790366 -1.725771  0.375939 -1.217748\n",
      "1  0.201314  0.542893  0.157019 -0.670727\n",
      "2 -1.311574  0.964253 -1.164238  1.032226\n",
      "3 -0.844743  1.497881  0.035496 -0.479168\n",
      "4  1.141810  0.587236 -0.100020  0.206632\n",
      "5 -0.720773  1.111387 -0.410293 -1.538744\n",
      "6 -1.253485  0.303893 -0.951926  0.072205\n",
      "7  0.228222  0.803235 -0.019661 -0.223734\n",
      "8  0.860534 -1.004568 -0.943798  0.632581\n",
      "9  0.485390  0.300724 -1.146221 -0.951485\n"
     ]
    },
    {
     "data": {
      "text/html": [
       "<div>\n",
       "<style scoped>\n",
       "    .dataframe tbody tr th:only-of-type {\n",
       "        vertical-align: middle;\n",
       "    }\n",
       "\n",
       "    .dataframe tbody tr th {\n",
       "        vertical-align: top;\n",
       "    }\n",
       "\n",
       "    .dataframe thead th {\n",
       "        text-align: right;\n",
       "    }\n",
       "</style>\n",
       "<table border=\"1\" class=\"dataframe\">\n",
       "  <thead>\n",
       "    <tr style=\"text-align: right;\">\n",
       "      <th></th>\n",
       "      <th>a</th>\n",
       "      <th>b</th>\n",
       "      <th>c</th>\n",
       "      <th>d</th>\n",
       "    </tr>\n",
       "  </thead>\n",
       "  <tbody>\n",
       "    <tr>\n",
       "      <th>0</th>\n",
       "      <td>-0.790366</td>\n",
       "      <td>-1.725771</td>\n",
       "      <td>0.375939</td>\n",
       "      <td>-1.217748</td>\n",
       "    </tr>\n",
       "    <tr>\n",
       "      <th>1</th>\n",
       "      <td>0.201314</td>\n",
       "      <td>0.542893</td>\n",
       "      <td>0.157019</td>\n",
       "      <td>-0.670727</td>\n",
       "    </tr>\n",
       "    <tr>\n",
       "      <th>2</th>\n",
       "      <td>-1.311574</td>\n",
       "      <td>0.964253</td>\n",
       "      <td>-1.164238</td>\n",
       "      <td>1.032226</td>\n",
       "    </tr>\n",
       "    <tr>\n",
       "      <th>4</th>\n",
       "      <td>1.141810</td>\n",
       "      <td>0.587236</td>\n",
       "      <td>-0.100020</td>\n",
       "      <td>0.206632</td>\n",
       "    </tr>\n",
       "  </tbody>\n",
       "</table>\n",
       "</div>"
      ],
      "text/plain": [
       "          a         b         c         d\n",
       "0 -0.790366 -1.725771  0.375939 -1.217748\n",
       "1  0.201314  0.542893  0.157019 -0.670727\n",
       "2 -1.311574  0.964253 -1.164238  1.032226\n",
       "4  1.141810  0.587236 -0.100020  0.206632"
      ]
     },
     "execution_count": 158,
     "metadata": {},
     "output_type": "execute_result"
    }
   ],
   "source": [
    "df = pd.DataFrame(np.random.randn(10, 4), columns=['a', 'b', 'c', 'd'])\n",
    "print(df)\n",
    "\n",
    "pieces = df[:1], df[1:3], df[4:5]\n",
    "pd.concat(list(pieces)) # list or tupple same"
   ]
  },
  {
   "cell_type": "code",
   "execution_count": 161,
   "id": "b6e0804f-29be-4b49-a55e-4cb9e680f1a2",
   "metadata": {
    "tags": []
   },
   "outputs": [
    {
     "data": {
      "text/html": [
       "<div>\n",
       "<style scoped>\n",
       "    .dataframe tbody tr th:only-of-type {\n",
       "        vertical-align: middle;\n",
       "    }\n",
       "\n",
       "    .dataframe tbody tr th {\n",
       "        vertical-align: top;\n",
       "    }\n",
       "\n",
       "    .dataframe thead th {\n",
       "        text-align: right;\n",
       "    }\n",
       "</style>\n",
       "<table border=\"1\" class=\"dataframe\">\n",
       "  <thead>\n",
       "    <tr style=\"text-align: right;\">\n",
       "      <th></th>\n",
       "      <th>a</th>\n",
       "      <th>d</th>\n",
       "    </tr>\n",
       "  </thead>\n",
       "  <tbody>\n",
       "    <tr>\n",
       "      <th>0</th>\n",
       "      <td>-0.790366</td>\n",
       "      <td>-1.217748</td>\n",
       "    </tr>\n",
       "    <tr>\n",
       "      <th>1</th>\n",
       "      <td>0.201314</td>\n",
       "      <td>-0.670727</td>\n",
       "    </tr>\n",
       "    <tr>\n",
       "      <th>2</th>\n",
       "      <td>-1.311574</td>\n",
       "      <td>1.032226</td>\n",
       "    </tr>\n",
       "    <tr>\n",
       "      <th>3</th>\n",
       "      <td>-0.844743</td>\n",
       "      <td>-0.479168</td>\n",
       "    </tr>\n",
       "    <tr>\n",
       "      <th>4</th>\n",
       "      <td>1.141810</td>\n",
       "      <td>0.206632</td>\n",
       "    </tr>\n",
       "    <tr>\n",
       "      <th>5</th>\n",
       "      <td>-0.720773</td>\n",
       "      <td>-1.538744</td>\n",
       "    </tr>\n",
       "    <tr>\n",
       "      <th>6</th>\n",
       "      <td>-1.253485</td>\n",
       "      <td>0.072205</td>\n",
       "    </tr>\n",
       "    <tr>\n",
       "      <th>7</th>\n",
       "      <td>0.228222</td>\n",
       "      <td>-0.223734</td>\n",
       "    </tr>\n",
       "    <tr>\n",
       "      <th>8</th>\n",
       "      <td>0.860534</td>\n",
       "      <td>0.632581</td>\n",
       "    </tr>\n",
       "    <tr>\n",
       "      <th>9</th>\n",
       "      <td>0.485390</td>\n",
       "      <td>-0.951485</td>\n",
       "    </tr>\n",
       "  </tbody>\n",
       "</table>\n",
       "</div>"
      ],
      "text/plain": [
       "          a         d\n",
       "0 -0.790366 -1.217748\n",
       "1  0.201314 -0.670727\n",
       "2 -1.311574  1.032226\n",
       "3 -0.844743 -0.479168\n",
       "4  1.141810  0.206632\n",
       "5 -0.720773 -1.538744\n",
       "6 -1.253485  0.072205\n",
       "7  0.228222 -0.223734\n",
       "8  0.860534  0.632581\n",
       "9  0.485390 -0.951485"
      ]
     },
     "execution_count": 161,
     "metadata": {},
     "output_type": "execute_result"
    }
   ],
   "source": [
    "cols = df.iloc[:, 0], df.iloc[:, -1]\n",
    "pd.concat(cols, axis=1)"
   ]
  },
  {
   "cell_type": "markdown",
   "id": "ff31932b-5e7f-466e-a0b1-49a294275aaa",
   "metadata": {},
   "source": [
    "### Joing two dataframs `pandas.merge(left, right, how='inner', on=None, left_on=None, right_on=None, left_index=False, right_index=False, sort=False, suffixes=('_x', '_y'), copy=True, indicator=False, validate=None)`  [link](https://pandas.pydata.org/docs/reference/api/pandas.merge.html#pandas.merge)\n",
    "\n",
    "Database joining style: applying a merging over same columns"
   ]
  },
  {
   "cell_type": "code",
   "execution_count": 175,
   "id": "36f8ded1-82f7-4d5b-b9e0-c8bebc491747",
   "metadata": {
    "tags": []
   },
   "outputs": [
    {
     "name": "stdout",
     "output_type": "stream",
     "text": [
      "  TheName  leftVal  RightVal\n",
      "0     foo        1         4\n",
      "1     foo        1         5\n",
      "2     foo        2         4\n",
      "3     foo        2         5\n"
     ]
    },
    {
     "data": {
      "text/html": [
       "<div>\n",
       "<style scoped>\n",
       "    .dataframe tbody tr th:only-of-type {\n",
       "        vertical-align: middle;\n",
       "    }\n",
       "\n",
       "    .dataframe tbody tr th {\n",
       "        vertical-align: top;\n",
       "    }\n",
       "\n",
       "    .dataframe thead th {\n",
       "        text-align: right;\n",
       "    }\n",
       "</style>\n",
       "<table border=\"1\" class=\"dataframe\">\n",
       "  <thead>\n",
       "    <tr style=\"text-align: right;\">\n",
       "      <th></th>\n",
       "      <th>TheName</th>\n",
       "      <th>leftVal</th>\n",
       "      <th>TheName</th>\n",
       "      <th>RightVal</th>\n",
       "    </tr>\n",
       "  </thead>\n",
       "  <tbody>\n",
       "    <tr>\n",
       "      <th>0</th>\n",
       "      <td>foo</td>\n",
       "      <td>1</td>\n",
       "      <td>foo</td>\n",
       "      <td>4</td>\n",
       "    </tr>\n",
       "    <tr>\n",
       "      <th>1</th>\n",
       "      <td>foo</td>\n",
       "      <td>2</td>\n",
       "      <td>foo</td>\n",
       "      <td>5</td>\n",
       "    </tr>\n",
       "  </tbody>\n",
       "</table>\n",
       "</div>"
      ],
      "text/plain": [
       "  TheName  leftVal TheName  RightVal\n",
       "0     foo        1     foo         4\n",
       "1     foo        2     foo         5"
      ]
     },
     "execution_count": 175,
     "metadata": {},
     "output_type": "execute_result"
    }
   ],
   "source": [
    "left = pd.DataFrame({\"TheName\": [\"foo\", \"foo\"], \"leftVal\": [1, 2]})\n",
    "right = pd.DataFrame({\"TheName\": [\"foo\", \"foo\"], \"RightVal\": [4, 5]})\n",
    "\n",
    "\n",
    "print(pd.merge(left, right, on=['TheName']))\n",
    "pd.concat([left, right], axis=1) \n",
    "# on= a list of indexNames, or columnsName (i.e: labels)"
   ]
  },
  {
   "cell_type": "code",
   "execution_count": 176,
   "id": "36a1c6f3-7f89-4fad-a7d2-d46de9d951ca",
   "metadata": {
    "tags": []
   },
   "outputs": [
    {
     "data": {
      "text/html": [
       "<div>\n",
       "<style scoped>\n",
       "    .dataframe tbody tr th:only-of-type {\n",
       "        vertical-align: middle;\n",
       "    }\n",
       "\n",
       "    .dataframe tbody tr th {\n",
       "        vertical-align: top;\n",
       "    }\n",
       "\n",
       "    .dataframe thead th {\n",
       "        text-align: right;\n",
       "    }\n",
       "</style>\n",
       "<table border=\"1\" class=\"dataframe\">\n",
       "  <thead>\n",
       "    <tr style=\"text-align: right;\">\n",
       "      <th></th>\n",
       "      <th>TheName</th>\n",
       "      <th>leftVal</th>\n",
       "      <th>RightVal</th>\n",
       "    </tr>\n",
       "  </thead>\n",
       "  <tbody>\n",
       "    <tr>\n",
       "      <th>0</th>\n",
       "      <td>foo</td>\n",
       "      <td>1</td>\n",
       "      <td>4</td>\n",
       "    </tr>\n",
       "    <tr>\n",
       "      <th>1</th>\n",
       "      <td>bar</td>\n",
       "      <td>2</td>\n",
       "      <td>5</td>\n",
       "    </tr>\n",
       "  </tbody>\n",
       "</table>\n",
       "</div>"
      ],
      "text/plain": [
       "  TheName  leftVal  RightVal\n",
       "0     foo        1         4\n",
       "1     bar        2         5"
      ]
     },
     "execution_count": 176,
     "metadata": {},
     "output_type": "execute_result"
    }
   ],
   "source": [
    "left = pd.DataFrame({\"TheName\": [\"foo\", \"bar\"], \"leftVal\": [1, 2]})\n",
    "right = pd.DataFrame({\"TheName\": [\"foo\", \"bar\"], \"RightVal\": [4, 5]})\n",
    "\n",
    "\n",
    "pd.merge(left, right, on=['TheName'])"
   ]
  },
  {
   "cell_type": "markdown",
   "id": "65baab3b-e2d1-4d85-af5e-2c08f0ea1d89",
   "metadata": {
    "tags": []
   },
   "source": [
    "## Grouping "
   ]
  },
  {
   "cell_type": "code",
   "execution_count": 189,
   "id": "636fe872-f88d-411c-8c14-d5da85b96ce9",
   "metadata": {
    "tags": []
   },
   "outputs": [
    {
     "data": {
      "text/html": [
       "<div>\n",
       "<style scoped>\n",
       "    .dataframe tbody tr th:only-of-type {\n",
       "        vertical-align: middle;\n",
       "    }\n",
       "\n",
       "    .dataframe tbody tr th {\n",
       "        vertical-align: top;\n",
       "    }\n",
       "\n",
       "    .dataframe thead th {\n",
       "        text-align: right;\n",
       "    }\n",
       "</style>\n",
       "<table border=\"1\" class=\"dataframe\">\n",
       "  <thead>\n",
       "    <tr style=\"text-align: right;\">\n",
       "      <th></th>\n",
       "      <th>A</th>\n",
       "      <th>B</th>\n",
       "      <th>C</th>\n",
       "      <th>D</th>\n",
       "    </tr>\n",
       "  </thead>\n",
       "  <tbody>\n",
       "    <tr>\n",
       "      <th>0</th>\n",
       "      <td>foo</td>\n",
       "      <td>one</td>\n",
       "      <td>0</td>\n",
       "      <td>0</td>\n",
       "    </tr>\n",
       "    <tr>\n",
       "      <th>1</th>\n",
       "      <td>bar</td>\n",
       "      <td>one</td>\n",
       "      <td>1</td>\n",
       "      <td>10</td>\n",
       "    </tr>\n",
       "    <tr>\n",
       "      <th>2</th>\n",
       "      <td>foo</td>\n",
       "      <td>two</td>\n",
       "      <td>2</td>\n",
       "      <td>20</td>\n",
       "    </tr>\n",
       "    <tr>\n",
       "      <th>3</th>\n",
       "      <td>bar</td>\n",
       "      <td>three</td>\n",
       "      <td>3</td>\n",
       "      <td>30</td>\n",
       "    </tr>\n",
       "    <tr>\n",
       "      <th>4</th>\n",
       "      <td>foo</td>\n",
       "      <td>two</td>\n",
       "      <td>4</td>\n",
       "      <td>40</td>\n",
       "    </tr>\n",
       "    <tr>\n",
       "      <th>5</th>\n",
       "      <td>bar</td>\n",
       "      <td>two</td>\n",
       "      <td>5</td>\n",
       "      <td>50</td>\n",
       "    </tr>\n",
       "    <tr>\n",
       "      <th>6</th>\n",
       "      <td>foo</td>\n",
       "      <td>one</td>\n",
       "      <td>6</td>\n",
       "      <td>60</td>\n",
       "    </tr>\n",
       "    <tr>\n",
       "      <th>7</th>\n",
       "      <td>foo</td>\n",
       "      <td>three</td>\n",
       "      <td>7</td>\n",
       "      <td>70</td>\n",
       "    </tr>\n",
       "  </tbody>\n",
       "</table>\n",
       "</div>"
      ],
      "text/plain": [
       "     A      B  C   D\n",
       "0  foo    one  0   0\n",
       "1  bar    one  1  10\n",
       "2  foo    two  2  20\n",
       "3  bar  three  3  30\n",
       "4  foo    two  4  40\n",
       "5  bar    two  5  50\n",
       "6  foo    one  6  60\n",
       "7  foo  three  7  70"
      ]
     },
     "execution_count": 189,
     "metadata": {},
     "output_type": "execute_result"
    }
   ],
   "source": [
    "df = pd.DataFrame(\n",
    "    {\n",
    "        \"A\": [\"foo\", \"bar\", \"foo\", \"bar\", \"foo\", \"bar\", \"foo\", \"foo\"],\n",
    "        \"B\": [\"one\", \"one\", \"two\", \"three\", \"two\", \"two\", \"one\", \"three\"],\n",
    "        \"C\": np.arange(8),\n",
    "        \"D\": np.arange(8)*10,\n",
    "    }\n",
    ")\n",
    "df"
   ]
  },
  {
   "cell_type": "code",
   "execution_count": 191,
   "id": "d6b74c02-b529-4a71-9031-dfd4304af76e",
   "metadata": {
    "tags": []
   },
   "outputs": [
    {
     "name": "stdout",
     "output_type": "stream",
     "text": [
      "<pandas.core.groupby.generic.DataFrameGroupBy object at 0x7fbd1021dd80>\n"
     ]
    },
    {
     "data": {
      "text/html": [
       "<div>\n",
       "<style scoped>\n",
       "    .dataframe tbody tr th:only-of-type {\n",
       "        vertical-align: middle;\n",
       "    }\n",
       "\n",
       "    .dataframe tbody tr th {\n",
       "        vertical-align: top;\n",
       "    }\n",
       "\n",
       "    .dataframe thead th {\n",
       "        text-align: right;\n",
       "    }\n",
       "</style>\n",
       "<table border=\"1\" class=\"dataframe\">\n",
       "  <thead>\n",
       "    <tr style=\"text-align: right;\">\n",
       "      <th></th>\n",
       "      <th>C</th>\n",
       "      <th>D</th>\n",
       "    </tr>\n",
       "    <tr>\n",
       "      <th>A</th>\n",
       "      <th></th>\n",
       "      <th></th>\n",
       "    </tr>\n",
       "  </thead>\n",
       "  <tbody>\n",
       "    <tr>\n",
       "      <th>bar</th>\n",
       "      <td>9</td>\n",
       "      <td>90</td>\n",
       "    </tr>\n",
       "    <tr>\n",
       "      <th>foo</th>\n",
       "      <td>19</td>\n",
       "      <td>190</td>\n",
       "    </tr>\n",
       "  </tbody>\n",
       "</table>\n",
       "</div>"
      ],
      "text/plain": [
       "      C    D\n",
       "A           \n",
       "bar   9   90\n",
       "foo  19  190"
      ]
     },
     "execution_count": 191,
     "metadata": {},
     "output_type": "execute_result"
    }
   ],
   "source": [
    "print(df.groupby('A'))\n",
    "df.groupby('A')[['C', 'D']].sum()\n",
    "# all sum of (raws['C']) == bar = 9"
   ]
  },
  {
   "cell_type": "code",
   "execution_count": 192,
   "id": "b3ffe284-67ea-4ab0-a61e-56ed52db9ad3",
   "metadata": {
    "tags": []
   },
   "outputs": [
    {
     "data": {
      "text/html": [
       "<div>\n",
       "<style scoped>\n",
       "    .dataframe tbody tr th:only-of-type {\n",
       "        vertical-align: middle;\n",
       "    }\n",
       "\n",
       "    .dataframe tbody tr th {\n",
       "        vertical-align: top;\n",
       "    }\n",
       "\n",
       "    .dataframe thead th {\n",
       "        text-align: right;\n",
       "    }\n",
       "</style>\n",
       "<table border=\"1\" class=\"dataframe\">\n",
       "  <thead>\n",
       "    <tr style=\"text-align: right;\">\n",
       "      <th></th>\n",
       "      <th></th>\n",
       "      <th>C</th>\n",
       "      <th>D</th>\n",
       "    </tr>\n",
       "    <tr>\n",
       "      <th>A</th>\n",
       "      <th>B</th>\n",
       "      <th></th>\n",
       "      <th></th>\n",
       "    </tr>\n",
       "  </thead>\n",
       "  <tbody>\n",
       "    <tr>\n",
       "      <th rowspan=\"3\" valign=\"top\">bar</th>\n",
       "      <th>one</th>\n",
       "      <td>1</td>\n",
       "      <td>10</td>\n",
       "    </tr>\n",
       "    <tr>\n",
       "      <th>three</th>\n",
       "      <td>3</td>\n",
       "      <td>30</td>\n",
       "    </tr>\n",
       "    <tr>\n",
       "      <th>two</th>\n",
       "      <td>5</td>\n",
       "      <td>50</td>\n",
       "    </tr>\n",
       "    <tr>\n",
       "      <th rowspan=\"3\" valign=\"top\">foo</th>\n",
       "      <th>one</th>\n",
       "      <td>6</td>\n",
       "      <td>60</td>\n",
       "    </tr>\n",
       "    <tr>\n",
       "      <th>three</th>\n",
       "      <td>7</td>\n",
       "      <td>70</td>\n",
       "    </tr>\n",
       "    <tr>\n",
       "      <th>two</th>\n",
       "      <td>6</td>\n",
       "      <td>60</td>\n",
       "    </tr>\n",
       "  </tbody>\n",
       "</table>\n",
       "</div>"
      ],
      "text/plain": [
       "           C   D\n",
       "A   B           \n",
       "bar one    1  10\n",
       "    three  3  30\n",
       "    two    5  50\n",
       "foo one    6  60\n",
       "    three  7  70\n",
       "    two    6  60"
      ]
     },
     "execution_count": 192,
     "metadata": {},
     "output_type": "execute_result"
    }
   ],
   "source": [
    "df.groupby(['A', 'B'])[['C', 'D']].sum()"
   ]
  },
  {
   "cell_type": "code",
   "execution_count": null,
   "id": "2a0e990c-347f-4806-8e16-06d3896456e2",
   "metadata": {},
   "outputs": [],
   "source": []
  }
 ],
 "metadata": {
  "kernelspec": {
   "display_name": "Python 3 (ipykernel)",
   "language": "python",
   "name": "python3"
  },
  "language_info": {
   "codemirror_mode": {
    "name": "ipython",
    "version": 3
   },
   "file_extension": ".py",
   "mimetype": "text/x-python",
   "name": "python",
   "nbconvert_exporter": "python",
   "pygments_lexer": "ipython3",
   "version": "3.10.6"
  }
 },
 "nbformat": 4,
 "nbformat_minor": 5
}
